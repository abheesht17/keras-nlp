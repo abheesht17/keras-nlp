{
  "cells": [
    {
      "cell_type": "code",
      "execution_count": 1,
      "metadata": {
        "colab": {
          "base_uri": "https://localhost:8080/"
        },
        "id": "gIF8YeATNEaM",
        "outputId": "de735977-aeef-4fa8-e0b9-9624b6cf95ce"
      },
      "outputs": [
        {
          "output_type": "stream",
          "name": "stdout",
          "text": [
            "\u001b[K     |████████████████████████████████| 4.9 MB 27.3 MB/s \n",
            "\u001b[K     |████████████████████████████████| 6.6 MB 46.1 MB/s \n",
            "\u001b[K     |████████████████████████████████| 120 kB 74.2 MB/s \n",
            "\u001b[K     |████████████████████████████████| 578.0 MB 19 kB/s \n",
            "\u001b[K     |████████████████████████████████| 5.9 MB 61.7 MB/s \n",
            "\u001b[K     |████████████████████████████████| 5.9 MB 51.8 MB/s \n",
            "\u001b[K     |████████████████████████████████| 1.7 MB 60.4 MB/s \n",
            "\u001b[K     |████████████████████████████████| 438 kB 66.6 MB/s \n",
            "\u001b[?25h  Building wheel for keras-nlp (setup.py) ... \u001b[?25l\u001b[?25hdone\n"
          ]
        }
      ],
      "source": [
        "!pip install transformers --quiet\n",
        "!pip install git+https://github.com/abheesht17/keras-nlp.git@gpt-2-weights tensorflow tensorflow-text --upgrade --quiet"
      ]
    },
    {
      "cell_type": "code",
      "execution_count": 2,
      "metadata": {
        "id": "J5CJo3HKHRKM",
        "colab": {
          "base_uri": "https://localhost:8080/"
        },
        "outputId": "87a6f6b0-2bc8-418f-e5e4-de59dee1e243"
      },
      "outputs": [
        {
          "output_type": "stream",
          "name": "stdout",
          "text": [
            "--2022-09-17 17:03:22--  https://raw.githubusercontent.com/keras-team/keras-nlp/66c013cee666874e06f05da37191d70d08840a90/keras_nlp/tokenizers/byte_pair_tokenizer.py\n",
            "Resolving raw.githubusercontent.com (raw.githubusercontent.com)... 185.199.109.133, 185.199.111.133, 185.199.108.133, ...\n",
            "Connecting to raw.githubusercontent.com (raw.githubusercontent.com)|185.199.109.133|:443... connected.\n",
            "HTTP request sent, awaiting response... 200 OK\n",
            "Length: 14600 (14K) [text/plain]\n",
            "Saving to: ‘byte_pair_tokenizer.py’\n",
            "\n",
            "\rbyte_pair_tokenizer   0%[                    ]       0  --.-KB/s               \rbyte_pair_tokenizer 100%[===================>]  14.26K  --.-KB/s    in 0s      \n",
            "\n",
            "2022-09-17 17:03:22 (122 MB/s) - ‘byte_pair_tokenizer.py’ saved [14600/14600]\n",
            "\n"
          ]
        }
      ],
      "source": [
        "# Let's fetch the BPE Tokenizer class from Jesse's branch.\n",
        "!wget https://raw.githubusercontent.com/keras-team/keras-nlp/66c013cee666874e06f05da37191d70d08840a90/keras_nlp/tokenizers/byte_pair_tokenizer.py"
      ]
    },
    {
      "cell_type": "code",
      "execution_count": 3,
      "metadata": {
        "id": "DIWeI2AJNFs7",
        "colab": {
          "base_uri": "https://localhost:8080/",
          "height": 122,
          "referenced_widgets": [
            "f0d924b2f1e040a6a8639854ba0ea165",
            "1b5570d9609a411989adee8e2b0f16fb",
            "403763d81927443e9faa4c45a1dd289c",
            "705e39c23d7446149c1384454d2697dc",
            "a1a31e361ccd434e9246887f31d17249",
            "c6461105ea2140cd955640564485905c",
            "968f0e25eaed499abfa5d4d681bed173",
            "c497e98288f84888a84e6d8e96281155",
            "7cb4fc90bd9e4907ba72b0236b7e40e4",
            "80cfe6e9dc14406b88ee672d7b9ace3c",
            "cae5e0b70c5e43918efac9e717a44587"
          ]
        },
        "outputId": "93869ab7-98d2-461d-c104-2ab3c200fcd6"
      },
      "outputs": [
        {
          "output_type": "execute_result",
          "data": {
            "text/plain": [
              "'2.10.0'"
            ],
            "application/vnd.google.colaboratory.intrinsic+json": {
              "type": "string"
            }
          },
          "metadata": {},
          "execution_count": 3
        }
      ],
      "source": [
        "import sys\n",
        "sys.path.append(\"./\")\n",
        "\n",
        "import json\n",
        "import os\n",
        "\n",
        "import keras_nlp\n",
        "import numpy as np\n",
        "\n",
        "import tensorflow as tf\n",
        "from tensorflow import keras\n",
        "\n",
        "import torch\n",
        "\n",
        "from transformers import AutoTokenizer, AutoModel\n",
        "\n",
        "from byte_pair_tokenizer import BytePairTokenizer\n",
        "\n",
        "tf.__version__"
      ]
    },
    {
      "cell_type": "code",
      "execution_count": 4,
      "metadata": {
        "id": "XC7yeZdLK1th"
      },
      "outputs": [],
      "source": [
        "# Variables.\n",
        "\n",
        "# Should be one of 124M, 355M, 774M, 1558M.\n",
        "NUM_PARAMS = \"124M\""
      ]
    },
    {
      "cell_type": "code",
      "execution_count": 5,
      "metadata": {
        "id": "AQbyZaazIE21",
        "colab": {
          "base_uri": "https://localhost:8080/"
        },
        "outputId": "c9ac29d5-ae5b-4302-9c09-337689673203"
      },
      "outputs": [
        {
          "output_type": "stream",
          "name": "stdout",
          "text": [
            "--2022-09-17 17:03:27--  https://raw.githubusercontent.com/openai/gpt-2/master/download_model.py\n",
            "Resolving raw.githubusercontent.com (raw.githubusercontent.com)... 185.199.108.133, 185.199.111.133, 185.199.109.133, ...\n",
            "Connecting to raw.githubusercontent.com (raw.githubusercontent.com)|185.199.108.133|:443... connected.\n",
            "HTTP request sent, awaiting response... 200 OK\n",
            "Length: 1075 (1.0K) [text/plain]\n",
            "Saving to: ‘download_model.py’\n",
            "\n",
            "\rdownload_model.py     0%[                    ]       0  --.-KB/s               \rdownload_model.py   100%[===================>]   1.05K  --.-KB/s    in 0s      \n",
            "\n",
            "2022-09-17 17:03:27 (62.7 MB/s) - ‘download_model.py’ saved [1075/1075]\n",
            "\n",
            "Fetching checkpoint: 1.00kit [00:00, 1.24Mit/s]                                                     \n",
            "Fetching encoder.json: 1.04Mit [00:00, 4.22Mit/s]                                                   \n",
            "Fetching hparams.json: 1.00kit [00:00, 1.04Mit/s]                                                   \n",
            "Fetching model.ckpt.data-00000-of-00001: 498Mit [00:15, 32.2Mit/s]                                  \n",
            "Fetching model.ckpt.index: 6.00kit [00:00, 3.60Mit/s]                                               \n",
            "Fetching model.ckpt.meta: 472kit [00:00, 1.76Mit/s]                                                 \n",
            "Fetching vocab.bpe: 457kit [00:00, 1.87Mit/s]                                                       \n"
          ]
        }
      ],
      "source": [
        "# Let's get the official OpenAI GPT-2 ckpt.\n",
        "\n",
        "!wget https://raw.githubusercontent.com/openai/gpt-2/master/download_model.py\n",
        "!python3 download_model.py $NUM_PARAMS"
      ]
    },
    {
      "cell_type": "code",
      "execution_count": 6,
      "metadata": {
        "id": "feEIST9cK_Q6"
      },
      "outputs": [],
      "source": [
        "# GPT-2 paths.\n",
        "extract_dir = f\"/content/models/{NUM_PARAMS}\"\n",
        "merges_path = os.path.join(extract_dir, \"vocab.bpe\")\n",
        "vocab_path = os.path.join(extract_dir, \"encoder.json\")\n",
        "checkpoint_path = os.path.join(extract_dir, \"model.ckpt\")\n",
        "config_path = os.path.join(extract_dir, \"hparams.json\")"
      ]
    },
    {
      "cell_type": "code",
      "execution_count": 7,
      "metadata": {
        "id": "BC4EVXfaLf0K",
        "colab": {
          "base_uri": "https://localhost:8080/"
        },
        "outputId": "fed3a916-7b45-460d-97c8-a94989685b20"
      },
      "outputs": [
        {
          "output_type": "execute_result",
          "data": {
            "text/plain": [
              "{'n_vocab': 50257, 'n_ctx': 1024, 'n_embd': 768, 'n_head': 12, 'n_layer': 12}"
            ]
          },
          "metadata": {},
          "execution_count": 7
        }
      ],
      "source": [
        "# n_vocab, n_ctx, n_embd, n_head, n_layer\n",
        "with open(config_path, \"r\") as f:\n",
        "    cfg = json.load(f)\n",
        "\n",
        "cfg"
      ]
    },
    {
      "cell_type": "code",
      "execution_count": 8,
      "metadata": {
        "id": "luhajF3a3_LX",
        "colab": {
          "base_uri": "https://localhost:8080/"
        },
        "outputId": "a833a324-1d94-4dbc-8b81-ee1e5d60db1e"
      },
      "outputs": [
        {
          "output_type": "stream",
          "name": "stdout",
          "text": [
            "model/h0/attn/c_attn/b [2304]\n",
            "model/h0/attn/c_attn/w [1, 768, 2304]\n",
            "model/h0/attn/c_proj/b [768]\n",
            "model/h0/attn/c_proj/w [1, 768, 768]\n",
            "model/h0/ln_1/b [768]\n",
            "model/h0/ln_1/g [768]\n",
            "model/h0/ln_2/b [768]\n",
            "model/h0/ln_2/g [768]\n",
            "model/h0/mlp/c_fc/b [3072]\n",
            "model/h0/mlp/c_fc/w [1, 768, 3072]\n",
            "model/h0/mlp/c_proj/b [768]\n",
            "model/h0/mlp/c_proj/w [1, 3072, 768]\n",
            "model/h1/attn/c_attn/b [2304]\n",
            "model/h1/attn/c_attn/w [1, 768, 2304]\n",
            "model/h1/attn/c_proj/b [768]\n",
            "model/h1/attn/c_proj/w [1, 768, 768]\n",
            "model/h1/ln_1/b [768]\n",
            "model/h1/ln_1/g [768]\n",
            "model/h1/ln_2/b [768]\n",
            "model/h1/ln_2/g [768]\n",
            "model/h1/mlp/c_fc/b [3072]\n",
            "model/h1/mlp/c_fc/w [1, 768, 3072]\n",
            "model/h1/mlp/c_proj/b [768]\n",
            "model/h1/mlp/c_proj/w [1, 3072, 768]\n",
            "model/h10/attn/c_attn/b [2304]\n",
            "model/h10/attn/c_attn/w [1, 768, 2304]\n",
            "model/h10/attn/c_proj/b [768]\n",
            "model/h10/attn/c_proj/w [1, 768, 768]\n",
            "model/h10/ln_1/b [768]\n",
            "model/h10/ln_1/g [768]\n",
            "model/h10/ln_2/b [768]\n",
            "model/h10/ln_2/g [768]\n",
            "model/h10/mlp/c_fc/b [3072]\n",
            "model/h10/mlp/c_fc/w [1, 768, 3072]\n",
            "model/h10/mlp/c_proj/b [768]\n",
            "model/h10/mlp/c_proj/w [1, 3072, 768]\n",
            "model/h11/attn/c_attn/b [2304]\n",
            "model/h11/attn/c_attn/w [1, 768, 2304]\n",
            "model/h11/attn/c_proj/b [768]\n",
            "model/h11/attn/c_proj/w [1, 768, 768]\n",
            "model/h11/ln_1/b [768]\n",
            "model/h11/ln_1/g [768]\n",
            "model/h11/ln_2/b [768]\n",
            "model/h11/ln_2/g [768]\n",
            "model/h11/mlp/c_fc/b [3072]\n",
            "model/h11/mlp/c_fc/w [1, 768, 3072]\n",
            "model/h11/mlp/c_proj/b [768]\n",
            "model/h11/mlp/c_proj/w [1, 3072, 768]\n",
            "model/h2/attn/c_attn/b [2304]\n",
            "model/h2/attn/c_attn/w [1, 768, 2304]\n",
            "model/h2/attn/c_proj/b [768]\n",
            "model/h2/attn/c_proj/w [1, 768, 768]\n",
            "model/h2/ln_1/b [768]\n",
            "model/h2/ln_1/g [768]\n",
            "model/h2/ln_2/b [768]\n",
            "model/h2/ln_2/g [768]\n",
            "model/h2/mlp/c_fc/b [3072]\n",
            "model/h2/mlp/c_fc/w [1, 768, 3072]\n",
            "model/h2/mlp/c_proj/b [768]\n",
            "model/h2/mlp/c_proj/w [1, 3072, 768]\n",
            "model/h3/attn/c_attn/b [2304]\n",
            "model/h3/attn/c_attn/w [1, 768, 2304]\n",
            "model/h3/attn/c_proj/b [768]\n",
            "model/h3/attn/c_proj/w [1, 768, 768]\n",
            "model/h3/ln_1/b [768]\n",
            "model/h3/ln_1/g [768]\n",
            "model/h3/ln_2/b [768]\n",
            "model/h3/ln_2/g [768]\n",
            "model/h3/mlp/c_fc/b [3072]\n",
            "model/h3/mlp/c_fc/w [1, 768, 3072]\n",
            "model/h3/mlp/c_proj/b [768]\n",
            "model/h3/mlp/c_proj/w [1, 3072, 768]\n",
            "model/h4/attn/c_attn/b [2304]\n",
            "model/h4/attn/c_attn/w [1, 768, 2304]\n",
            "model/h4/attn/c_proj/b [768]\n",
            "model/h4/attn/c_proj/w [1, 768, 768]\n",
            "model/h4/ln_1/b [768]\n",
            "model/h4/ln_1/g [768]\n",
            "model/h4/ln_2/b [768]\n",
            "model/h4/ln_2/g [768]\n",
            "model/h4/mlp/c_fc/b [3072]\n",
            "model/h4/mlp/c_fc/w [1, 768, 3072]\n",
            "model/h4/mlp/c_proj/b [768]\n",
            "model/h4/mlp/c_proj/w [1, 3072, 768]\n",
            "model/h5/attn/c_attn/b [2304]\n",
            "model/h5/attn/c_attn/w [1, 768, 2304]\n",
            "model/h5/attn/c_proj/b [768]\n",
            "model/h5/attn/c_proj/w [1, 768, 768]\n",
            "model/h5/ln_1/b [768]\n",
            "model/h5/ln_1/g [768]\n",
            "model/h5/ln_2/b [768]\n",
            "model/h5/ln_2/g [768]\n",
            "model/h5/mlp/c_fc/b [3072]\n",
            "model/h5/mlp/c_fc/w [1, 768, 3072]\n",
            "model/h5/mlp/c_proj/b [768]\n",
            "model/h5/mlp/c_proj/w [1, 3072, 768]\n",
            "model/h6/attn/c_attn/b [2304]\n",
            "model/h6/attn/c_attn/w [1, 768, 2304]\n",
            "model/h6/attn/c_proj/b [768]\n",
            "model/h6/attn/c_proj/w [1, 768, 768]\n",
            "model/h6/ln_1/b [768]\n",
            "model/h6/ln_1/g [768]\n",
            "model/h6/ln_2/b [768]\n",
            "model/h6/ln_2/g [768]\n",
            "model/h6/mlp/c_fc/b [3072]\n",
            "model/h6/mlp/c_fc/w [1, 768, 3072]\n",
            "model/h6/mlp/c_proj/b [768]\n",
            "model/h6/mlp/c_proj/w [1, 3072, 768]\n",
            "model/h7/attn/c_attn/b [2304]\n",
            "model/h7/attn/c_attn/w [1, 768, 2304]\n",
            "model/h7/attn/c_proj/b [768]\n",
            "model/h7/attn/c_proj/w [1, 768, 768]\n",
            "model/h7/ln_1/b [768]\n",
            "model/h7/ln_1/g [768]\n",
            "model/h7/ln_2/b [768]\n",
            "model/h7/ln_2/g [768]\n",
            "model/h7/mlp/c_fc/b [3072]\n",
            "model/h7/mlp/c_fc/w [1, 768, 3072]\n",
            "model/h7/mlp/c_proj/b [768]\n",
            "model/h7/mlp/c_proj/w [1, 3072, 768]\n",
            "model/h8/attn/c_attn/b [2304]\n",
            "model/h8/attn/c_attn/w [1, 768, 2304]\n",
            "model/h8/attn/c_proj/b [768]\n",
            "model/h8/attn/c_proj/w [1, 768, 768]\n",
            "model/h8/ln_1/b [768]\n",
            "model/h8/ln_1/g [768]\n",
            "model/h8/ln_2/b [768]\n",
            "model/h8/ln_2/g [768]\n",
            "model/h8/mlp/c_fc/b [3072]\n",
            "model/h8/mlp/c_fc/w [1, 768, 3072]\n",
            "model/h8/mlp/c_proj/b [768]\n",
            "model/h8/mlp/c_proj/w [1, 3072, 768]\n",
            "model/h9/attn/c_attn/b [2304]\n",
            "model/h9/attn/c_attn/w [1, 768, 2304]\n",
            "model/h9/attn/c_proj/b [768]\n",
            "model/h9/attn/c_proj/w [1, 768, 768]\n",
            "model/h9/ln_1/b [768]\n",
            "model/h9/ln_1/g [768]\n",
            "model/h9/ln_2/b [768]\n",
            "model/h9/ln_2/g [768]\n",
            "model/h9/mlp/c_fc/b [3072]\n",
            "model/h9/mlp/c_fc/w [1, 768, 3072]\n",
            "model/h9/mlp/c_proj/b [768]\n",
            "model/h9/mlp/c_proj/w [1, 3072, 768]\n",
            "model/ln_f/b [768]\n",
            "model/ln_f/g [768]\n",
            "model/wpe [1024, 768]\n",
            "model/wte [50257, 768]\n"
          ]
        }
      ],
      "source": [
        "vars = tf.train.list_variables(checkpoint_path)\n",
        "weights = {}\n",
        "for name, shape in vars:\n",
        "    print(name, shape)\n",
        "    weight = tf.train.load_variable(checkpoint_path, name)\n",
        "    weights[name] = weight"
      ]
    },
    {
      "cell_type": "code",
      "execution_count": 9,
      "metadata": {
        "id": "0NqDcQF2YcdO",
        "colab": {
          "base_uri": "https://localhost:8080/"
        },
        "outputId": "6d228a9a-a5b0-4761-e4a5-9fc07e14c66e"
      },
      "outputs": [
        {
          "output_type": "stream",
          "name": "stderr",
          "text": [
            "/usr/local/lib/python3.7/dist-packages/keras/initializers/initializers_v2.py:121: UserWarning: The initializer RandomNormal is unseeded and being called multiple times, which will return identical values  each time (even if the initializer is unseeded). Please update your code to provide a seed to the initializer, or avoid using the same initalizer instance more than once.\n",
            "  f\"The initializer {self.__class__.__name__} is unseeded \"\n"
          ]
        }
      ],
      "source": [
        "model = keras_nlp.models.Gpt2Base(vocabulary_size=cfg['n_vocab'])"
      ]
    },
    {
      "cell_type": "code",
      "execution_count": 10,
      "metadata": {
        "id": "6JX1SQ8mYy8Z",
        "colab": {
          "base_uri": "https://localhost:8080/"
        },
        "outputId": "5bcbd51d-de3d-4b44-ff9b-57b8394523a7"
      },
      "outputs": [
        {
          "output_type": "stream",
          "name": "stdout",
          "text": [
            "Model: \"gpt2_custom\"\n",
            "__________________________________________________________________________________________________\n",
            " Layer (type)                   Output Shape         Param #     Connected to                     \n",
            "==================================================================================================\n",
            " token_ids (InputLayer)         [(None, None)]       0           []                               \n",
            "                                                                                                  \n",
            " token_embedding (Embedding)    (None, None, 768)    38597376    ['token_ids[0][0]']              \n",
            "                                                                                                  \n",
            " position_embedding (PositionEm  (None, None, 768)   786432      ['token_embedding[0][0]']        \n",
            " bedding)                                                                                         \n",
            "                                                                                                  \n",
            " add (Add)                      (None, None, 768)    0           ['token_embedding[0][0]',        \n",
            "                                                                  'position_embedding[0][0]']     \n",
            "                                                                                                  \n",
            " embeddings_dropout (Dropout)   (None, None, 768)    0           ['add[0][0]']                    \n",
            "                                                                                                  \n",
            " padding_mask (InputLayer)      [(None, None)]       0           []                               \n",
            "                                                                                                  \n",
            " transformer_layer_0 (Transform  (None, None, 768)   7087872     ['embeddings_dropout[0][0]',     \n",
            " erDecoder)                                                       'padding_mask[0][0]']           \n",
            "                                                                                                  \n",
            " transformer_layer_1 (Transform  (None, None, 768)   7087872     ['transformer_layer_0[0][0]',    \n",
            " erDecoder)                                                       'padding_mask[0][0]']           \n",
            "                                                                                                  \n",
            " transformer_layer_2 (Transform  (None, None, 768)   7087872     ['transformer_layer_1[0][0]',    \n",
            " erDecoder)                                                       'padding_mask[0][0]']           \n",
            "                                                                                                  \n",
            " transformer_layer_3 (Transform  (None, None, 768)   7087872     ['transformer_layer_2[0][0]',    \n",
            " erDecoder)                                                       'padding_mask[0][0]']           \n",
            "                                                                                                  \n",
            " transformer_layer_4 (Transform  (None, None, 768)   7087872     ['transformer_layer_3[0][0]',    \n",
            " erDecoder)                                                       'padding_mask[0][0]']           \n",
            "                                                                                                  \n",
            " transformer_layer_5 (Transform  (None, None, 768)   7087872     ['transformer_layer_4[0][0]',    \n",
            " erDecoder)                                                       'padding_mask[0][0]']           \n",
            "                                                                                                  \n",
            " transformer_layer_6 (Transform  (None, None, 768)   7087872     ['transformer_layer_5[0][0]',    \n",
            " erDecoder)                                                       'padding_mask[0][0]']           \n",
            "                                                                                                  \n",
            " transformer_layer_7 (Transform  (None, None, 768)   7087872     ['transformer_layer_6[0][0]',    \n",
            " erDecoder)                                                       'padding_mask[0][0]']           \n",
            "                                                                                                  \n",
            " transformer_layer_8 (Transform  (None, None, 768)   7087872     ['transformer_layer_7[0][0]',    \n",
            " erDecoder)                                                       'padding_mask[0][0]']           \n",
            "                                                                                                  \n",
            " transformer_layer_9 (Transform  (None, None, 768)   7087872     ['transformer_layer_8[0][0]',    \n",
            " erDecoder)                                                       'padding_mask[0][0]']           \n",
            "                                                                                                  \n",
            " transformer_layer_10 (Transfor  (None, None, 768)   7087872     ['transformer_layer_9[0][0]',    \n",
            " merDecoder)                                                      'padding_mask[0][0]']           \n",
            "                                                                                                  \n",
            " transformer_layer_11 (Transfor  (None, None, 768)   7087872     ['transformer_layer_10[0][0]',   \n",
            " merDecoder)                                                      'padding_mask[0][0]']           \n",
            "                                                                                                  \n",
            " layer_norm (LayerNormalization  (None, None, 768)   1536        ['transformer_layer_11[0][0]']   \n",
            " )                                                                                                \n",
            "                                                                                                  \n",
            "==================================================================================================\n",
            "Total params: 124,439,808\n",
            "Trainable params: 124,439,808\n",
            "Non-trainable params: 0\n",
            "__________________________________________________________________________________________________\n"
          ]
        }
      ],
      "source": [
        "model.summary()"
      ]
    },
    {
      "cell_type": "code",
      "execution_count": 11,
      "metadata": {
        "id": "drpzJUwxZfcl"
      },
      "outputs": [],
      "source": [
        "model.get_layer(\"token_embedding\").embeddings.assign(\n",
        "    weights[\"model/wte\"]\n",
        ")\n",
        "model.get_layer(\"position_embedding\").position_embeddings.assign(\n",
        "    weights[\"model/wpe\"]\n",
        ")\n",
        "\n",
        "range_1 = (0, cfg[\"n_embd\"])\n",
        "range_2 = (cfg[\"n_embd\"], 2 * cfg[\"n_embd\"]) \n",
        "range_3 = (2 * cfg[\"n_embd\"], 3 * cfg[\"n_embd\"])\n",
        "\n",
        "\n",
        "for i in range(model.num_layers):\n",
        "    model.get_layer(f\"transformer_layer_{i}\")._self_attention_layer._query_dense.kernel.assign(\n",
        "        weights[f\"model/h{i}/attn/c_attn/w\"][0, :, range_1[0]: range_1[1]].reshape((cfg[\"n_embd\"], cfg[\"n_head\"], -1))\n",
        "    )\n",
        "    model.get_layer(f\"transformer_layer_{i}\")._self_attention_layer._query_dense.bias.assign(\n",
        "        weights[f\"model/h{i}/attn/c_attn/b\"][range_1[0]: range_1[1]].reshape((cfg[\"n_head\"], -1))\n",
        "    )\n",
        "    model.get_layer(f\"transformer_layer_{i}\")._self_attention_layer._key_dense.kernel.assign(\n",
        "        weights[f\"model/h{i}/attn/c_attn/w\"][0, :, range_2[0]: range_2[1]].reshape((cfg[\"n_embd\"], cfg[\"n_head\"], -1))\n",
        "    )\n",
        "    model.get_layer(f\"transformer_layer_{i}\")._self_attention_layer._key_dense.bias.assign(\n",
        "        weights[f\"model/h{i}/attn/c_attn/b\"][range_2[0]: range_2[1]].reshape((cfg[\"n_head\"], -1))\n",
        "    )\n",
        "    model.get_layer(f\"transformer_layer_{i}\")._self_attention_layer._value_dense.kernel.assign(\n",
        "        weights[f\"model/h{i}/attn/c_attn/w\"][0, :, range_3[0]: range_3[1]].reshape((cfg[\"n_embd\"], cfg[\"n_head\"], -1))\n",
        "    )\n",
        "    model.get_layer(f\"transformer_layer_{i}\")._self_attention_layer._value_dense.bias.assign(\n",
        "        weights[f\"model/h{i}/attn/c_attn/b\"][range_3[0]: range_3[1]].reshape((cfg[\"n_head\"], -1))\n",
        "    )\n",
        "\n",
        "\n",
        "    model.get_layer(f\"transformer_layer_{i}\")._self_attention_layer._output_dense.kernel.assign(\n",
        "        weights[f\"model/h{i}/attn/c_proj/w\"][0].reshape((cfg[\"n_head\"], -1, cfg[\"n_embd\"]))\n",
        "    )\n",
        "    model.get_layer(f\"transformer_layer_{i}\")._self_attention_layer._output_dense.bias.assign(\n",
        "        weights[f\"model/h{i}/attn/c_proj/b\"]\n",
        "    )\n",
        "\n",
        "\n",
        "    model.get_layer(f\"transformer_layer_{i}\")._self_attention_layernorm.gamma.assign(\n",
        "        weights[f\"model/h{i}/ln_1/g\"]\n",
        "    )\n",
        "    model.get_layer(f\"transformer_layer_{i}\")._self_attention_layernorm.beta.assign(\n",
        "        weights[f\"model/h{i}/ln_1/b\"]\n",
        "    )\n",
        "\n",
        "\n",
        "    model.get_layer(f\"transformer_layer_{i}\")._feedforward_intermediate_dense.kernel.assign(\n",
        "        weights[f\"model/h{i}/mlp/c_fc/w\"][0]\n",
        "    )\n",
        "    model.get_layer(f\"transformer_layer_{i}\")._feedforward_intermediate_dense.bias.assign(\n",
        "        weights[f\"model/h{i}/mlp/c_fc/b\"]\n",
        "    )\n",
        "\n",
        "\n",
        "    model.get_layer(f\"transformer_layer_{i}\")._feedforward_output_dense.kernel.assign(\n",
        "        weights[f\"model/h{i}/mlp/c_proj/w\"][0]\n",
        "    )\n",
        "    model.get_layer(f\"transformer_layer_{i}\")._feedforward_output_dense.bias.assign(\n",
        "        weights[f\"model/h{i}/mlp/c_proj/b\"]\n",
        "    )\n",
        "\n",
        "\n",
        "    model.get_layer(f\"transformer_layer_{i}\")._feedforward_layernorm.gamma.assign(\n",
        "        weights[f\"model/h{i}/ln_2/g\"]\n",
        "    )\n",
        "    model.get_layer(f\"transformer_layer_{i}\")._feedforward_layernorm.beta.assign(\n",
        "        weights[f\"model/h{i}/ln_2/b\"]\n",
        "    )\n",
        "\n",
        "\n",
        "model.get_layer(\"layer_norm\").gamma.assign(\n",
        "    weights[f\"model/ln_f/g\"]\n",
        ")\n",
        "\n",
        "model.get_layer(\"layer_norm\").beta.assign(\n",
        "    weights[f\"model/ln_f/b\"]\n",
        ")\n",
        "pass"
      ]
    },
    {
      "cell_type": "code",
      "execution_count": 12,
      "metadata": {
        "id": "Re1PbFjyNISP",
        "colab": {
          "base_uri": "https://localhost:8080/",
          "height": 177,
          "referenced_widgets": [
            "61aed0fdfe7f40e9b2c9b828f18a116a",
            "b3ab84d8bb7d4616842cc70bcca3b540",
            "947b54fd03b8459ca9a618f968e38dfa",
            "9882193078474042be5cda5d4cc4047f",
            "52f5f7c10424455ca32508a9372a9538",
            "719e85eedb3f42f4ade6c4538f91fcab",
            "da5f55ac585f4ce8ba2989925888a70f",
            "9faca3d249e04e43b641126c2d8d71c4",
            "f1030a71f89949debebcf93b1e37d0f7",
            "39bd2f07869342f5b618bfeabea0e8e6",
            "9d8fd852ac784ed4bf532a02b59dceab",
            "7ab8868981454986b3e09a556d88ee5d",
            "45de39b515b64c81a3706bb9124bca3c",
            "57cd9bbba7594a90bd571a12c2b311b3",
            "cc2db1885a864c788f3f0abae5d8ae2d",
            "dcee79805e9e4b978dd63cac11ef44ec",
            "1f346efd8eca48efae4a0d3b8d7355c8",
            "af99412df2394b1e9af5e2ddef989d8d",
            "144519a4cb6147eb8134b582bf94b535",
            "a24e6faf0e2940299e31ccb34e2865bc",
            "b50cecc396dd4193a24998a8ef8fade0",
            "b448f2b7455b480c8f19466555f77b65",
            "282a4dccb9ad40a28123df33f01e7f9a",
            "efebad9e7add4278a59fc53d39d4e740",
            "3fe65ec6d01948b5a000b84f62d3ed8a",
            "edf15b87e0c64b3fbe7c48a71d34a12d",
            "4a60047f30044bf3a3e0feec1eb97a31",
            "86afe0c1040c4a78a1ff052f4bb329c7",
            "4981b461cc674595a61ae3bfc7155d54",
            "71aa4a19167e4167be4ebc6b0b7ee98b",
            "726795c7e9c243a8a79910176951edc2",
            "5213a23b7b6b4cc4a3a08fe6bf38783c",
            "fc6ff270cbd74f6f8d42a9c1af77b9c6",
            "fb95d8e8aac4471f9bfbd505acd5233f",
            "29356d2840b04e6faa44ebdcd3b7d135",
            "1ed8bfde82774bc3bc8ccf9a2b9e99db",
            "d60969abf4984efea17e2f73c924ff57",
            "7a044193589b4f49982f256992164084",
            "5baab4ee8326455aa8480c7016eb695d",
            "8c4bd06085e04d2388247aced7833637",
            "ca168e63083b4281a0249ec319fb5a01",
            "1b09d4684f3b4a069279d67ff148f60b",
            "f6bd1cbe8c8a4c559774106fe5cd5aaf",
            "61f9ac7d47d04dcc99e5333d3f1c2de7",
            "de1f1aa9b1994a949f7deb27241f6fc1",
            "706cb058a8bc47ac840cb6156bc1727c",
            "27d4bbbac17b4be6829ba93225a1967b",
            "dc28eeb3176f48e3bdb1db8c9f443562",
            "d0bcb5a5b86d47a0ac7e2f9664a894da",
            "d897248f70e14e32812e1e43dfcfe41b",
            "d1e2abc4cd174724a5b222625e0451a6",
            "273f269362a84e2693c562f940e261cf",
            "66ecc1ac4a374a92a4f494cc70c7b3f6",
            "3f5d0b0c00e4422a9d580b760ee983df",
            "9808419b9cb84869a4c1f6562cc5c7bd"
          ]
        },
        "outputId": "b94153d5-b83c-4df4-f54d-79e84822bb92"
      },
      "outputs": [
        {
          "output_type": "display_data",
          "data": {
            "text/plain": [
              "Downloading:   0%|          | 0.00/665 [00:00<?, ?B/s]"
            ],
            "application/vnd.jupyter.widget-view+json": {
              "version_major": 2,
              "version_minor": 0,
              "model_id": "61aed0fdfe7f40e9b2c9b828f18a116a"
            }
          },
          "metadata": {}
        },
        {
          "output_type": "display_data",
          "data": {
            "text/plain": [
              "Downloading:   0%|          | 0.00/1.04M [00:00<?, ?B/s]"
            ],
            "application/vnd.jupyter.widget-view+json": {
              "version_major": 2,
              "version_minor": 0,
              "model_id": "7ab8868981454986b3e09a556d88ee5d"
            }
          },
          "metadata": {}
        },
        {
          "output_type": "display_data",
          "data": {
            "text/plain": [
              "Downloading:   0%|          | 0.00/456k [00:00<?, ?B/s]"
            ],
            "application/vnd.jupyter.widget-view+json": {
              "version_major": 2,
              "version_minor": 0,
              "model_id": "282a4dccb9ad40a28123df33f01e7f9a"
            }
          },
          "metadata": {}
        },
        {
          "output_type": "display_data",
          "data": {
            "text/plain": [
              "Downloading:   0%|          | 0.00/1.36M [00:00<?, ?B/s]"
            ],
            "application/vnd.jupyter.widget-view+json": {
              "version_major": 2,
              "version_minor": 0,
              "model_id": "fb95d8e8aac4471f9bfbd505acd5233f"
            }
          },
          "metadata": {}
        },
        {
          "output_type": "display_data",
          "data": {
            "text/plain": [
              "Downloading:   0%|          | 0.00/548M [00:00<?, ?B/s]"
            ],
            "application/vnd.jupyter.widget-view+json": {
              "version_major": 2,
              "version_minor": 0,
              "model_id": "de1f1aa9b1994a949f7deb27241f6fc1"
            }
          },
          "metadata": {}
        }
      ],
      "source": [
        "# Define KerasNLP components.\n",
        "\n",
        "bpe_tokenizer = BytePairTokenizer(\n",
        "    vocabulary=vocab_path,\n",
        "    merges=merges_path,\n",
        "    # sequence_length=cfg[\"n_ctx\"]\n",
        ")\n",
        "\n",
        "# Define HF components.\n",
        "\n",
        "hf_tokenizer = AutoTokenizer.from_pretrained(\"gpt2\")\n",
        "hf_model = AutoModel.from_pretrained(\"gpt2\")\n",
        "hf_model.eval()\n",
        "pass"
      ]
    },
    {
      "cell_type": "code",
      "execution_count": 13,
      "metadata": {
        "id": "wMIGTRQpoWiM",
        "colab": {
          "base_uri": "https://localhost:8080/"
        },
        "outputId": "77ae3cf5-0561-4d2f-88b7-3b8b22472524"
      },
      "outputs": [
        {
          "output_type": "stream",
          "name": "stdout",
          "text": [
            "1/1 [==============================] - 4s 4s/step\n"
          ]
        }
      ],
      "source": [
        "# KerasNLP\n",
        "token_ids = bpe_tokenizer([\"the quick brown fox ran, galloped and jumped.\"])\n",
        "padding_mask = token_ids != 0\n",
        "\n",
        "inputs = {\n",
        "    \"token_ids\": token_ids.to_tensor(),\n",
        "    \"padding_mask\": padding_mask.to_tensor()\n",
        "}\n",
        "\n",
        "keras_nlp_output = model.predict(inputs)\n",
        "\n",
        "# HF\n",
        "hf_inputs = hf_tokenizer([\"the quick brown fox ran, galloped and jumped.\"], return_tensors=\"pt\")\n",
        "hf_output = hf_model(**hf_inputs).last_hidden_state"
      ]
    },
    {
      "cell_type": "code",
      "execution_count": 14,
      "metadata": {
        "id": "HCANzbgBw8t_",
        "colab": {
          "base_uri": "https://localhost:8080/"
        },
        "outputId": "e45c9848-460b-4be8-e0ff-e7543e2af4d3"
      },
      "outputs": [
        {
          "output_type": "execute_result",
          "data": {
            "text/plain": [
              "(array([-0.11164568, -0.03757825, -0.2624619 ,  0.00891277, -0.00618765,\n",
              "        -0.20491552, -0.72548056, -0.0761577 , -0.03654918,  0.01662023],\n",
              "       dtype=float32),\n",
              " tensor([-0.1116, -0.0376, -0.2625,  0.0089, -0.0062, -0.2049, -0.7255, -0.0762,\n",
              "         -0.0365,  0.0166], grad_fn=<SliceBackward0>))"
            ]
          },
          "metadata": {},
          "execution_count": 14
        }
      ],
      "source": [
        "keras_nlp_output[0, 0, :10], hf_output[0, 0, :10]"
      ]
    },
    {
      "cell_type": "code",
      "execution_count": 15,
      "metadata": {
        "id": "tDoD1gWE0Qlo",
        "colab": {
          "base_uri": "https://localhost:8080/"
        },
        "outputId": "41b09087-14c0-48fe-b0a9-b1dce15a474b"
      },
      "outputs": [
        {
          "output_type": "execute_result",
          "data": {
            "text/plain": [
              "1.665259e-08"
            ]
          },
          "metadata": {},
          "execution_count": 15
        }
      ],
      "source": [
        "np.mean(keras_nlp_output - hf_output.detach().numpy())"
      ]
    },
    {
      "cell_type": "code",
      "execution_count": 16,
      "metadata": {
        "id": "_tHdflEuMcYb"
      },
      "outputs": [],
      "source": [
        "# Save GPT2 checkpoint.\n",
        "model.save_weights(f\"\"\"gpt2_base.h5\"\"\")"
      ]
    },
    {
      "cell_type": "code",
      "execution_count": 17,
      "metadata": {
        "id": "JOZrs1cIOhEJ"
      },
      "outputs": [],
      "source": [
        "model2 = keras_nlp.models.Gpt2Base(vocabulary_size=cfg['n_vocab'])\n",
        "model2.load_weights(f\"\"\"gpt2_base.h5\"\"\")"
      ]
    },
    {
      "cell_type": "code",
      "execution_count": 18,
      "metadata": {
        "colab": {
          "base_uri": "https://localhost:8080/"
        },
        "id": "BfXY-9IjOtG5",
        "outputId": "d29eba4a-7cdb-49c8-e27e-a18484eb9240"
      },
      "outputs": [
        {
          "output_type": "stream",
          "name": "stdout",
          "text": [
            "1/1 [==============================] - 2s 2s/step\n"
          ]
        }
      ],
      "source": [
        "token_ids = bpe_tokenizer([\"the quick brown fox ran, galloped and jumped.\"])\n",
        "padding_mask = token_ids != 0\n",
        "\n",
        "inputs = {\n",
        "    \"token_ids\": token_ids.to_tensor(),\n",
        "    \"padding_mask\": padding_mask.to_tensor()\n",
        "}\n",
        "\n",
        "keras_nlp_output2 = model2.predict(inputs)"
      ]
    },
    {
      "cell_type": "code",
      "execution_count": 19,
      "metadata": {
        "id": "z-fExBuZO0U8",
        "colab": {
          "base_uri": "https://localhost:8080/"
        },
        "outputId": "288f0735-f9ec-432f-bd4f-4ff4c05dcd53"
      },
      "outputs": [
        {
          "output_type": "execute_result",
          "data": {
            "text/plain": [
              "<tf.Tensor: shape=(), dtype=float32, numpy=0.0>"
            ]
          },
          "metadata": {},
          "execution_count": 19
        }
      ],
      "source": [
        "tf.reduce_mean(keras_nlp_output - keras_nlp_output2)"
      ]
    },
    {
      "cell_type": "code",
      "execution_count": 20,
      "metadata": {
        "id": "kvNrzi21kOcN"
      },
      "outputs": [],
      "source": [
        "# Obtain `merges.txt` and `vocab.json` (for the tokenizer).\n",
        "# Note: These two files are the same for other variants of\n",
        "# GPT-2. So, we will not copy these over separately for those\n",
        "# variants.\n",
        "\n",
        "!cp $merges_path ./merges.txt\n",
        "!cp $vocab_path ./vocab.json"
      ]
    },
    {
      "cell_type": "code",
      "execution_count": 21,
      "metadata": {
        "id": "X9tdiQLunL-o",
        "colab": {
          "base_uri": "https://localhost:8080/"
        },
        "outputId": "daaf5d99-0a3a-4ff1-fee4-db3c6c9d7ee1"
      },
      "outputs": [
        {
          "output_type": "stream",
          "name": "stdout",
          "text": [
            "75a37753dd7a28a2c5df80c28bf06e4e  merges.txt\n",
            "dffec25a898b1f5e569bec4dffd7e5c0  vocab.json\n"
          ]
        }
      ],
      "source": [
        "!md5sum merges.txt\n",
        "!md5sum vocab.json"
      ]
    },
    {
      "cell_type": "code",
      "execution_count": null,
      "metadata": {
        "colab": {
          "base_uri": "https://localhost:8080/"
        },
        "id": "mvdsLyOdbkWY",
        "outputId": "b121de31-61f1-401d-9f6f-3a58bcd98064"
      },
      "outputs": [
        {
          "name": "stdout",
          "output_type": "stream",
          "text": [
            "f4ea6e1b214516dd7de452461ee6e16e  gpt2_base.h5\n"
          ]
        }
      ],
      "source": [
        "!md5sum gpt2_base.h5"
      ]
    },
    {
      "cell_type": "code",
      "execution_count": 20,
      "metadata": {
        "colab": {
          "base_uri": "https://localhost:8080/"
        },
        "id": "wTd-5vUyVG0Q",
        "outputId": "3f602aeb-5bfa-4ac8-80de-0b4c3da47657"
      },
      "outputs": [
        {
          "output_type": "stream",
          "name": "stdout",
          "text": [
            "Downloading data from https://storage.googleapis.com/keras-nlp/models/gpt2_base_webtext/model.h5\n",
            "497986112/497986112 [==============================] - 6s 0us/step\n"
          ]
        }
      ],
      "source": [
        "# Check uploaded model once added to repo\n",
        "model_cloud = keras_nlp.models.Gpt2Base(weights=\"gpt2_base\")"
      ]
    },
    {
      "cell_type": "code",
      "execution_count": 21,
      "metadata": {
        "colab": {
          "base_uri": "https://localhost:8080/"
        },
        "id": "zs5x_f6GVdNY",
        "outputId": "1e84a47b-de44-4a2d-d3a7-8e8011a1de39"
      },
      "outputs": [
        {
          "output_type": "stream",
          "name": "stdout",
          "text": [
            "1/1 [==============================] - 2s 2s/step\n"
          ]
        },
        {
          "output_type": "execute_result",
          "data": {
            "text/plain": [
              "<tf.Tensor: shape=(), dtype=float32, numpy=0.0>"
            ]
          },
          "metadata": {},
          "execution_count": 21
        }
      ],
      "source": [
        "# Same output from cloud model\n",
        "keras_nlp_output_cloud = model_cloud.predict(inputs)\n",
        "tf.reduce_mean(keras_nlp_output - keras_nlp_output_cloud)"
      ]
    },
    {
      "cell_type": "code",
      "execution_count": 23,
      "metadata": {
        "colab": {
          "base_uri": "https://localhost:8080/"
        },
        "id": "RAwrhAcSzHWa",
        "outputId": "e982f617-589a-44e6-9304-06cfa42fb9ce"
      },
      "outputs": [
        {
          "output_type": "execute_result",
          "data": {
            "text/plain": [
              "array([-0.11164568, -0.03757825, -0.2624619 ,  0.00891277, -0.00618765,\n",
              "       -0.20491552, -0.72548056, -0.0761577 , -0.03654918,  0.01662023],\n",
              "      dtype=float32)"
            ]
          },
          "metadata": {},
          "execution_count": 23
        }
      ],
      "source": [
        "keras_nlp_output_cloud[0, 0, :10]"
      ]
    },
    {
      "cell_type": "code",
      "source": [],
      "metadata": {
        "id": "HcgbaMQGaPsM"
      },
      "execution_count": null,
      "outputs": []
    }
  ],
  "metadata": {
    "accelerator": "GPU",
    "colab": {
      "collapsed_sections": [],
      "provenance": []
    },
    "gpuClass": "standard",
    "kernelspec": {
      "display_name": "Python 3",
      "name": "python3"
    },
    "language_info": {
      "name": "python"
    },
    "widgets": {
      "application/vnd.jupyter.widget-state+json": {
        "f0d924b2f1e040a6a8639854ba0ea165": {
          "model_module": "@jupyter-widgets/controls",
          "model_name": "HBoxModel",
          "model_module_version": "1.5.0",
          "state": {
            "_dom_classes": [],
            "_model_module": "@jupyter-widgets/controls",
            "_model_module_version": "1.5.0",
            "_model_name": "HBoxModel",
            "_view_count": null,
            "_view_module": "@jupyter-widgets/controls",
            "_view_module_version": "1.5.0",
            "_view_name": "HBoxView",
            "box_style": "",
            "children": [
              "IPY_MODEL_1b5570d9609a411989adee8e2b0f16fb",
              "IPY_MODEL_403763d81927443e9faa4c45a1dd289c",
              "IPY_MODEL_705e39c23d7446149c1384454d2697dc"
            ],
            "layout": "IPY_MODEL_a1a31e361ccd434e9246887f31d17249"
          }
        },
        "1b5570d9609a411989adee8e2b0f16fb": {
          "model_module": "@jupyter-widgets/controls",
          "model_name": "HTMLModel",
          "model_module_version": "1.5.0",
          "state": {
            "_dom_classes": [],
            "_model_module": "@jupyter-widgets/controls",
            "_model_module_version": "1.5.0",
            "_model_name": "HTMLModel",
            "_view_count": null,
            "_view_module": "@jupyter-widgets/controls",
            "_view_module_version": "1.5.0",
            "_view_name": "HTMLView",
            "description": "",
            "description_tooltip": null,
            "layout": "IPY_MODEL_c6461105ea2140cd955640564485905c",
            "placeholder": "​",
            "style": "IPY_MODEL_968f0e25eaed499abfa5d4d681bed173",
            "value": ""
          }
        },
        "403763d81927443e9faa4c45a1dd289c": {
          "model_module": "@jupyter-widgets/controls",
          "model_name": "FloatProgressModel",
          "model_module_version": "1.5.0",
          "state": {
            "_dom_classes": [],
            "_model_module": "@jupyter-widgets/controls",
            "_model_module_version": "1.5.0",
            "_model_name": "FloatProgressModel",
            "_view_count": null,
            "_view_module": "@jupyter-widgets/controls",
            "_view_module_version": "1.5.0",
            "_view_name": "ProgressView",
            "bar_style": "success",
            "description": "",
            "description_tooltip": null,
            "layout": "IPY_MODEL_c497e98288f84888a84e6d8e96281155",
            "max": 1,
            "min": 0,
            "orientation": "horizontal",
            "style": "IPY_MODEL_7cb4fc90bd9e4907ba72b0236b7e40e4",
            "value": 0
          }
        },
        "705e39c23d7446149c1384454d2697dc": {
          "model_module": "@jupyter-widgets/controls",
          "model_name": "HTMLModel",
          "model_module_version": "1.5.0",
          "state": {
            "_dom_classes": [],
            "_model_module": "@jupyter-widgets/controls",
            "_model_module_version": "1.5.0",
            "_model_name": "HTMLModel",
            "_view_count": null,
            "_view_module": "@jupyter-widgets/controls",
            "_view_module_version": "1.5.0",
            "_view_name": "HTMLView",
            "description": "",
            "description_tooltip": null,
            "layout": "IPY_MODEL_80cfe6e9dc14406b88ee672d7b9ace3c",
            "placeholder": "​",
            "style": "IPY_MODEL_cae5e0b70c5e43918efac9e717a44587",
            "value": " 0/0 [00:00&lt;?, ?it/s]"
          }
        },
        "a1a31e361ccd434e9246887f31d17249": {
          "model_module": "@jupyter-widgets/base",
          "model_name": "LayoutModel",
          "model_module_version": "1.2.0",
          "state": {
            "_model_module": "@jupyter-widgets/base",
            "_model_module_version": "1.2.0",
            "_model_name": "LayoutModel",
            "_view_count": null,
            "_view_module": "@jupyter-widgets/base",
            "_view_module_version": "1.2.0",
            "_view_name": "LayoutView",
            "align_content": null,
            "align_items": null,
            "align_self": null,
            "border": null,
            "bottom": null,
            "display": null,
            "flex": null,
            "flex_flow": null,
            "grid_area": null,
            "grid_auto_columns": null,
            "grid_auto_flow": null,
            "grid_auto_rows": null,
            "grid_column": null,
            "grid_gap": null,
            "grid_row": null,
            "grid_template_areas": null,
            "grid_template_columns": null,
            "grid_template_rows": null,
            "height": null,
            "justify_content": null,
            "justify_items": null,
            "left": null,
            "margin": null,
            "max_height": null,
            "max_width": null,
            "min_height": null,
            "min_width": null,
            "object_fit": null,
            "object_position": null,
            "order": null,
            "overflow": null,
            "overflow_x": null,
            "overflow_y": null,
            "padding": null,
            "right": null,
            "top": null,
            "visibility": null,
            "width": null
          }
        },
        "c6461105ea2140cd955640564485905c": {
          "model_module": "@jupyter-widgets/base",
          "model_name": "LayoutModel",
          "model_module_version": "1.2.0",
          "state": {
            "_model_module": "@jupyter-widgets/base",
            "_model_module_version": "1.2.0",
            "_model_name": "LayoutModel",
            "_view_count": null,
            "_view_module": "@jupyter-widgets/base",
            "_view_module_version": "1.2.0",
            "_view_name": "LayoutView",
            "align_content": null,
            "align_items": null,
            "align_self": null,
            "border": null,
            "bottom": null,
            "display": null,
            "flex": null,
            "flex_flow": null,
            "grid_area": null,
            "grid_auto_columns": null,
            "grid_auto_flow": null,
            "grid_auto_rows": null,
            "grid_column": null,
            "grid_gap": null,
            "grid_row": null,
            "grid_template_areas": null,
            "grid_template_columns": null,
            "grid_template_rows": null,
            "height": null,
            "justify_content": null,
            "justify_items": null,
            "left": null,
            "margin": null,
            "max_height": null,
            "max_width": null,
            "min_height": null,
            "min_width": null,
            "object_fit": null,
            "object_position": null,
            "order": null,
            "overflow": null,
            "overflow_x": null,
            "overflow_y": null,
            "padding": null,
            "right": null,
            "top": null,
            "visibility": null,
            "width": null
          }
        },
        "968f0e25eaed499abfa5d4d681bed173": {
          "model_module": "@jupyter-widgets/controls",
          "model_name": "DescriptionStyleModel",
          "model_module_version": "1.5.0",
          "state": {
            "_model_module": "@jupyter-widgets/controls",
            "_model_module_version": "1.5.0",
            "_model_name": "DescriptionStyleModel",
            "_view_count": null,
            "_view_module": "@jupyter-widgets/base",
            "_view_module_version": "1.2.0",
            "_view_name": "StyleView",
            "description_width": ""
          }
        },
        "c497e98288f84888a84e6d8e96281155": {
          "model_module": "@jupyter-widgets/base",
          "model_name": "LayoutModel",
          "model_module_version": "1.2.0",
          "state": {
            "_model_module": "@jupyter-widgets/base",
            "_model_module_version": "1.2.0",
            "_model_name": "LayoutModel",
            "_view_count": null,
            "_view_module": "@jupyter-widgets/base",
            "_view_module_version": "1.2.0",
            "_view_name": "LayoutView",
            "align_content": null,
            "align_items": null,
            "align_self": null,
            "border": null,
            "bottom": null,
            "display": null,
            "flex": null,
            "flex_flow": null,
            "grid_area": null,
            "grid_auto_columns": null,
            "grid_auto_flow": null,
            "grid_auto_rows": null,
            "grid_column": null,
            "grid_gap": null,
            "grid_row": null,
            "grid_template_areas": null,
            "grid_template_columns": null,
            "grid_template_rows": null,
            "height": null,
            "justify_content": null,
            "justify_items": null,
            "left": null,
            "margin": null,
            "max_height": null,
            "max_width": null,
            "min_height": null,
            "min_width": null,
            "object_fit": null,
            "object_position": null,
            "order": null,
            "overflow": null,
            "overflow_x": null,
            "overflow_y": null,
            "padding": null,
            "right": null,
            "top": null,
            "visibility": null,
            "width": "20px"
          }
        },
        "7cb4fc90bd9e4907ba72b0236b7e40e4": {
          "model_module": "@jupyter-widgets/controls",
          "model_name": "ProgressStyleModel",
          "model_module_version": "1.5.0",
          "state": {
            "_model_module": "@jupyter-widgets/controls",
            "_model_module_version": "1.5.0",
            "_model_name": "ProgressStyleModel",
            "_view_count": null,
            "_view_module": "@jupyter-widgets/base",
            "_view_module_version": "1.2.0",
            "_view_name": "StyleView",
            "bar_color": null,
            "description_width": ""
          }
        },
        "80cfe6e9dc14406b88ee672d7b9ace3c": {
          "model_module": "@jupyter-widgets/base",
          "model_name": "LayoutModel",
          "model_module_version": "1.2.0",
          "state": {
            "_model_module": "@jupyter-widgets/base",
            "_model_module_version": "1.2.0",
            "_model_name": "LayoutModel",
            "_view_count": null,
            "_view_module": "@jupyter-widgets/base",
            "_view_module_version": "1.2.0",
            "_view_name": "LayoutView",
            "align_content": null,
            "align_items": null,
            "align_self": null,
            "border": null,
            "bottom": null,
            "display": null,
            "flex": null,
            "flex_flow": null,
            "grid_area": null,
            "grid_auto_columns": null,
            "grid_auto_flow": null,
            "grid_auto_rows": null,
            "grid_column": null,
            "grid_gap": null,
            "grid_row": null,
            "grid_template_areas": null,
            "grid_template_columns": null,
            "grid_template_rows": null,
            "height": null,
            "justify_content": null,
            "justify_items": null,
            "left": null,
            "margin": null,
            "max_height": null,
            "max_width": null,
            "min_height": null,
            "min_width": null,
            "object_fit": null,
            "object_position": null,
            "order": null,
            "overflow": null,
            "overflow_x": null,
            "overflow_y": null,
            "padding": null,
            "right": null,
            "top": null,
            "visibility": null,
            "width": null
          }
        },
        "cae5e0b70c5e43918efac9e717a44587": {
          "model_module": "@jupyter-widgets/controls",
          "model_name": "DescriptionStyleModel",
          "model_module_version": "1.5.0",
          "state": {
            "_model_module": "@jupyter-widgets/controls",
            "_model_module_version": "1.5.0",
            "_model_name": "DescriptionStyleModel",
            "_view_count": null,
            "_view_module": "@jupyter-widgets/base",
            "_view_module_version": "1.2.0",
            "_view_name": "StyleView",
            "description_width": ""
          }
        },
        "61aed0fdfe7f40e9b2c9b828f18a116a": {
          "model_module": "@jupyter-widgets/controls",
          "model_name": "HBoxModel",
          "model_module_version": "1.5.0",
          "state": {
            "_dom_classes": [],
            "_model_module": "@jupyter-widgets/controls",
            "_model_module_version": "1.5.0",
            "_model_name": "HBoxModel",
            "_view_count": null,
            "_view_module": "@jupyter-widgets/controls",
            "_view_module_version": "1.5.0",
            "_view_name": "HBoxView",
            "box_style": "",
            "children": [
              "IPY_MODEL_b3ab84d8bb7d4616842cc70bcca3b540",
              "IPY_MODEL_947b54fd03b8459ca9a618f968e38dfa",
              "IPY_MODEL_9882193078474042be5cda5d4cc4047f"
            ],
            "layout": "IPY_MODEL_52f5f7c10424455ca32508a9372a9538"
          }
        },
        "b3ab84d8bb7d4616842cc70bcca3b540": {
          "model_module": "@jupyter-widgets/controls",
          "model_name": "HTMLModel",
          "model_module_version": "1.5.0",
          "state": {
            "_dom_classes": [],
            "_model_module": "@jupyter-widgets/controls",
            "_model_module_version": "1.5.0",
            "_model_name": "HTMLModel",
            "_view_count": null,
            "_view_module": "@jupyter-widgets/controls",
            "_view_module_version": "1.5.0",
            "_view_name": "HTMLView",
            "description": "",
            "description_tooltip": null,
            "layout": "IPY_MODEL_719e85eedb3f42f4ade6c4538f91fcab",
            "placeholder": "​",
            "style": "IPY_MODEL_da5f55ac585f4ce8ba2989925888a70f",
            "value": "Downloading: 100%"
          }
        },
        "947b54fd03b8459ca9a618f968e38dfa": {
          "model_module": "@jupyter-widgets/controls",
          "model_name": "FloatProgressModel",
          "model_module_version": "1.5.0",
          "state": {
            "_dom_classes": [],
            "_model_module": "@jupyter-widgets/controls",
            "_model_module_version": "1.5.0",
            "_model_name": "FloatProgressModel",
            "_view_count": null,
            "_view_module": "@jupyter-widgets/controls",
            "_view_module_version": "1.5.0",
            "_view_name": "ProgressView",
            "bar_style": "success",
            "description": "",
            "description_tooltip": null,
            "layout": "IPY_MODEL_9faca3d249e04e43b641126c2d8d71c4",
            "max": 665,
            "min": 0,
            "orientation": "horizontal",
            "style": "IPY_MODEL_f1030a71f89949debebcf93b1e37d0f7",
            "value": 665
          }
        },
        "9882193078474042be5cda5d4cc4047f": {
          "model_module": "@jupyter-widgets/controls",
          "model_name": "HTMLModel",
          "model_module_version": "1.5.0",
          "state": {
            "_dom_classes": [],
            "_model_module": "@jupyter-widgets/controls",
            "_model_module_version": "1.5.0",
            "_model_name": "HTMLModel",
            "_view_count": null,
            "_view_module": "@jupyter-widgets/controls",
            "_view_module_version": "1.5.0",
            "_view_name": "HTMLView",
            "description": "",
            "description_tooltip": null,
            "layout": "IPY_MODEL_39bd2f07869342f5b618bfeabea0e8e6",
            "placeholder": "​",
            "style": "IPY_MODEL_9d8fd852ac784ed4bf532a02b59dceab",
            "value": " 665/665 [00:00&lt;00:00, 19.3kB/s]"
          }
        },
        "52f5f7c10424455ca32508a9372a9538": {
          "model_module": "@jupyter-widgets/base",
          "model_name": "LayoutModel",
          "model_module_version": "1.2.0",
          "state": {
            "_model_module": "@jupyter-widgets/base",
            "_model_module_version": "1.2.0",
            "_model_name": "LayoutModel",
            "_view_count": null,
            "_view_module": "@jupyter-widgets/base",
            "_view_module_version": "1.2.0",
            "_view_name": "LayoutView",
            "align_content": null,
            "align_items": null,
            "align_self": null,
            "border": null,
            "bottom": null,
            "display": null,
            "flex": null,
            "flex_flow": null,
            "grid_area": null,
            "grid_auto_columns": null,
            "grid_auto_flow": null,
            "grid_auto_rows": null,
            "grid_column": null,
            "grid_gap": null,
            "grid_row": null,
            "grid_template_areas": null,
            "grid_template_columns": null,
            "grid_template_rows": null,
            "height": null,
            "justify_content": null,
            "justify_items": null,
            "left": null,
            "margin": null,
            "max_height": null,
            "max_width": null,
            "min_height": null,
            "min_width": null,
            "object_fit": null,
            "object_position": null,
            "order": null,
            "overflow": null,
            "overflow_x": null,
            "overflow_y": null,
            "padding": null,
            "right": null,
            "top": null,
            "visibility": null,
            "width": null
          }
        },
        "719e85eedb3f42f4ade6c4538f91fcab": {
          "model_module": "@jupyter-widgets/base",
          "model_name": "LayoutModel",
          "model_module_version": "1.2.0",
          "state": {
            "_model_module": "@jupyter-widgets/base",
            "_model_module_version": "1.2.0",
            "_model_name": "LayoutModel",
            "_view_count": null,
            "_view_module": "@jupyter-widgets/base",
            "_view_module_version": "1.2.0",
            "_view_name": "LayoutView",
            "align_content": null,
            "align_items": null,
            "align_self": null,
            "border": null,
            "bottom": null,
            "display": null,
            "flex": null,
            "flex_flow": null,
            "grid_area": null,
            "grid_auto_columns": null,
            "grid_auto_flow": null,
            "grid_auto_rows": null,
            "grid_column": null,
            "grid_gap": null,
            "grid_row": null,
            "grid_template_areas": null,
            "grid_template_columns": null,
            "grid_template_rows": null,
            "height": null,
            "justify_content": null,
            "justify_items": null,
            "left": null,
            "margin": null,
            "max_height": null,
            "max_width": null,
            "min_height": null,
            "min_width": null,
            "object_fit": null,
            "object_position": null,
            "order": null,
            "overflow": null,
            "overflow_x": null,
            "overflow_y": null,
            "padding": null,
            "right": null,
            "top": null,
            "visibility": null,
            "width": null
          }
        },
        "da5f55ac585f4ce8ba2989925888a70f": {
          "model_module": "@jupyter-widgets/controls",
          "model_name": "DescriptionStyleModel",
          "model_module_version": "1.5.0",
          "state": {
            "_model_module": "@jupyter-widgets/controls",
            "_model_module_version": "1.5.0",
            "_model_name": "DescriptionStyleModel",
            "_view_count": null,
            "_view_module": "@jupyter-widgets/base",
            "_view_module_version": "1.2.0",
            "_view_name": "StyleView",
            "description_width": ""
          }
        },
        "9faca3d249e04e43b641126c2d8d71c4": {
          "model_module": "@jupyter-widgets/base",
          "model_name": "LayoutModel",
          "model_module_version": "1.2.0",
          "state": {
            "_model_module": "@jupyter-widgets/base",
            "_model_module_version": "1.2.0",
            "_model_name": "LayoutModel",
            "_view_count": null,
            "_view_module": "@jupyter-widgets/base",
            "_view_module_version": "1.2.0",
            "_view_name": "LayoutView",
            "align_content": null,
            "align_items": null,
            "align_self": null,
            "border": null,
            "bottom": null,
            "display": null,
            "flex": null,
            "flex_flow": null,
            "grid_area": null,
            "grid_auto_columns": null,
            "grid_auto_flow": null,
            "grid_auto_rows": null,
            "grid_column": null,
            "grid_gap": null,
            "grid_row": null,
            "grid_template_areas": null,
            "grid_template_columns": null,
            "grid_template_rows": null,
            "height": null,
            "justify_content": null,
            "justify_items": null,
            "left": null,
            "margin": null,
            "max_height": null,
            "max_width": null,
            "min_height": null,
            "min_width": null,
            "object_fit": null,
            "object_position": null,
            "order": null,
            "overflow": null,
            "overflow_x": null,
            "overflow_y": null,
            "padding": null,
            "right": null,
            "top": null,
            "visibility": null,
            "width": null
          }
        },
        "f1030a71f89949debebcf93b1e37d0f7": {
          "model_module": "@jupyter-widgets/controls",
          "model_name": "ProgressStyleModel",
          "model_module_version": "1.5.0",
          "state": {
            "_model_module": "@jupyter-widgets/controls",
            "_model_module_version": "1.5.0",
            "_model_name": "ProgressStyleModel",
            "_view_count": null,
            "_view_module": "@jupyter-widgets/base",
            "_view_module_version": "1.2.0",
            "_view_name": "StyleView",
            "bar_color": null,
            "description_width": ""
          }
        },
        "39bd2f07869342f5b618bfeabea0e8e6": {
          "model_module": "@jupyter-widgets/base",
          "model_name": "LayoutModel",
          "model_module_version": "1.2.0",
          "state": {
            "_model_module": "@jupyter-widgets/base",
            "_model_module_version": "1.2.0",
            "_model_name": "LayoutModel",
            "_view_count": null,
            "_view_module": "@jupyter-widgets/base",
            "_view_module_version": "1.2.0",
            "_view_name": "LayoutView",
            "align_content": null,
            "align_items": null,
            "align_self": null,
            "border": null,
            "bottom": null,
            "display": null,
            "flex": null,
            "flex_flow": null,
            "grid_area": null,
            "grid_auto_columns": null,
            "grid_auto_flow": null,
            "grid_auto_rows": null,
            "grid_column": null,
            "grid_gap": null,
            "grid_row": null,
            "grid_template_areas": null,
            "grid_template_columns": null,
            "grid_template_rows": null,
            "height": null,
            "justify_content": null,
            "justify_items": null,
            "left": null,
            "margin": null,
            "max_height": null,
            "max_width": null,
            "min_height": null,
            "min_width": null,
            "object_fit": null,
            "object_position": null,
            "order": null,
            "overflow": null,
            "overflow_x": null,
            "overflow_y": null,
            "padding": null,
            "right": null,
            "top": null,
            "visibility": null,
            "width": null
          }
        },
        "9d8fd852ac784ed4bf532a02b59dceab": {
          "model_module": "@jupyter-widgets/controls",
          "model_name": "DescriptionStyleModel",
          "model_module_version": "1.5.0",
          "state": {
            "_model_module": "@jupyter-widgets/controls",
            "_model_module_version": "1.5.0",
            "_model_name": "DescriptionStyleModel",
            "_view_count": null,
            "_view_module": "@jupyter-widgets/base",
            "_view_module_version": "1.2.0",
            "_view_name": "StyleView",
            "description_width": ""
          }
        },
        "7ab8868981454986b3e09a556d88ee5d": {
          "model_module": "@jupyter-widgets/controls",
          "model_name": "HBoxModel",
          "model_module_version": "1.5.0",
          "state": {
            "_dom_classes": [],
            "_model_module": "@jupyter-widgets/controls",
            "_model_module_version": "1.5.0",
            "_model_name": "HBoxModel",
            "_view_count": null,
            "_view_module": "@jupyter-widgets/controls",
            "_view_module_version": "1.5.0",
            "_view_name": "HBoxView",
            "box_style": "",
            "children": [
              "IPY_MODEL_45de39b515b64c81a3706bb9124bca3c",
              "IPY_MODEL_57cd9bbba7594a90bd571a12c2b311b3",
              "IPY_MODEL_cc2db1885a864c788f3f0abae5d8ae2d"
            ],
            "layout": "IPY_MODEL_dcee79805e9e4b978dd63cac11ef44ec"
          }
        },
        "45de39b515b64c81a3706bb9124bca3c": {
          "model_module": "@jupyter-widgets/controls",
          "model_name": "HTMLModel",
          "model_module_version": "1.5.0",
          "state": {
            "_dom_classes": [],
            "_model_module": "@jupyter-widgets/controls",
            "_model_module_version": "1.5.0",
            "_model_name": "HTMLModel",
            "_view_count": null,
            "_view_module": "@jupyter-widgets/controls",
            "_view_module_version": "1.5.0",
            "_view_name": "HTMLView",
            "description": "",
            "description_tooltip": null,
            "layout": "IPY_MODEL_1f346efd8eca48efae4a0d3b8d7355c8",
            "placeholder": "​",
            "style": "IPY_MODEL_af99412df2394b1e9af5e2ddef989d8d",
            "value": "Downloading: 100%"
          }
        },
        "57cd9bbba7594a90bd571a12c2b311b3": {
          "model_module": "@jupyter-widgets/controls",
          "model_name": "FloatProgressModel",
          "model_module_version": "1.5.0",
          "state": {
            "_dom_classes": [],
            "_model_module": "@jupyter-widgets/controls",
            "_model_module_version": "1.5.0",
            "_model_name": "FloatProgressModel",
            "_view_count": null,
            "_view_module": "@jupyter-widgets/controls",
            "_view_module_version": "1.5.0",
            "_view_name": "ProgressView",
            "bar_style": "success",
            "description": "",
            "description_tooltip": null,
            "layout": "IPY_MODEL_144519a4cb6147eb8134b582bf94b535",
            "max": 1042301,
            "min": 0,
            "orientation": "horizontal",
            "style": "IPY_MODEL_a24e6faf0e2940299e31ccb34e2865bc",
            "value": 1042301
          }
        },
        "cc2db1885a864c788f3f0abae5d8ae2d": {
          "model_module": "@jupyter-widgets/controls",
          "model_name": "HTMLModel",
          "model_module_version": "1.5.0",
          "state": {
            "_dom_classes": [],
            "_model_module": "@jupyter-widgets/controls",
            "_model_module_version": "1.5.0",
            "_model_name": "HTMLModel",
            "_view_count": null,
            "_view_module": "@jupyter-widgets/controls",
            "_view_module_version": "1.5.0",
            "_view_name": "HTMLView",
            "description": "",
            "description_tooltip": null,
            "layout": "IPY_MODEL_b50cecc396dd4193a24998a8ef8fade0",
            "placeholder": "​",
            "style": "IPY_MODEL_b448f2b7455b480c8f19466555f77b65",
            "value": " 1.04M/1.04M [00:00&lt;00:00, 15.0MB/s]"
          }
        },
        "dcee79805e9e4b978dd63cac11ef44ec": {
          "model_module": "@jupyter-widgets/base",
          "model_name": "LayoutModel",
          "model_module_version": "1.2.0",
          "state": {
            "_model_module": "@jupyter-widgets/base",
            "_model_module_version": "1.2.0",
            "_model_name": "LayoutModel",
            "_view_count": null,
            "_view_module": "@jupyter-widgets/base",
            "_view_module_version": "1.2.0",
            "_view_name": "LayoutView",
            "align_content": null,
            "align_items": null,
            "align_self": null,
            "border": null,
            "bottom": null,
            "display": null,
            "flex": null,
            "flex_flow": null,
            "grid_area": null,
            "grid_auto_columns": null,
            "grid_auto_flow": null,
            "grid_auto_rows": null,
            "grid_column": null,
            "grid_gap": null,
            "grid_row": null,
            "grid_template_areas": null,
            "grid_template_columns": null,
            "grid_template_rows": null,
            "height": null,
            "justify_content": null,
            "justify_items": null,
            "left": null,
            "margin": null,
            "max_height": null,
            "max_width": null,
            "min_height": null,
            "min_width": null,
            "object_fit": null,
            "object_position": null,
            "order": null,
            "overflow": null,
            "overflow_x": null,
            "overflow_y": null,
            "padding": null,
            "right": null,
            "top": null,
            "visibility": null,
            "width": null
          }
        },
        "1f346efd8eca48efae4a0d3b8d7355c8": {
          "model_module": "@jupyter-widgets/base",
          "model_name": "LayoutModel",
          "model_module_version": "1.2.0",
          "state": {
            "_model_module": "@jupyter-widgets/base",
            "_model_module_version": "1.2.0",
            "_model_name": "LayoutModel",
            "_view_count": null,
            "_view_module": "@jupyter-widgets/base",
            "_view_module_version": "1.2.0",
            "_view_name": "LayoutView",
            "align_content": null,
            "align_items": null,
            "align_self": null,
            "border": null,
            "bottom": null,
            "display": null,
            "flex": null,
            "flex_flow": null,
            "grid_area": null,
            "grid_auto_columns": null,
            "grid_auto_flow": null,
            "grid_auto_rows": null,
            "grid_column": null,
            "grid_gap": null,
            "grid_row": null,
            "grid_template_areas": null,
            "grid_template_columns": null,
            "grid_template_rows": null,
            "height": null,
            "justify_content": null,
            "justify_items": null,
            "left": null,
            "margin": null,
            "max_height": null,
            "max_width": null,
            "min_height": null,
            "min_width": null,
            "object_fit": null,
            "object_position": null,
            "order": null,
            "overflow": null,
            "overflow_x": null,
            "overflow_y": null,
            "padding": null,
            "right": null,
            "top": null,
            "visibility": null,
            "width": null
          }
        },
        "af99412df2394b1e9af5e2ddef989d8d": {
          "model_module": "@jupyter-widgets/controls",
          "model_name": "DescriptionStyleModel",
          "model_module_version": "1.5.0",
          "state": {
            "_model_module": "@jupyter-widgets/controls",
            "_model_module_version": "1.5.0",
            "_model_name": "DescriptionStyleModel",
            "_view_count": null,
            "_view_module": "@jupyter-widgets/base",
            "_view_module_version": "1.2.0",
            "_view_name": "StyleView",
            "description_width": ""
          }
        },
        "144519a4cb6147eb8134b582bf94b535": {
          "model_module": "@jupyter-widgets/base",
          "model_name": "LayoutModel",
          "model_module_version": "1.2.0",
          "state": {
            "_model_module": "@jupyter-widgets/base",
            "_model_module_version": "1.2.0",
            "_model_name": "LayoutModel",
            "_view_count": null,
            "_view_module": "@jupyter-widgets/base",
            "_view_module_version": "1.2.0",
            "_view_name": "LayoutView",
            "align_content": null,
            "align_items": null,
            "align_self": null,
            "border": null,
            "bottom": null,
            "display": null,
            "flex": null,
            "flex_flow": null,
            "grid_area": null,
            "grid_auto_columns": null,
            "grid_auto_flow": null,
            "grid_auto_rows": null,
            "grid_column": null,
            "grid_gap": null,
            "grid_row": null,
            "grid_template_areas": null,
            "grid_template_columns": null,
            "grid_template_rows": null,
            "height": null,
            "justify_content": null,
            "justify_items": null,
            "left": null,
            "margin": null,
            "max_height": null,
            "max_width": null,
            "min_height": null,
            "min_width": null,
            "object_fit": null,
            "object_position": null,
            "order": null,
            "overflow": null,
            "overflow_x": null,
            "overflow_y": null,
            "padding": null,
            "right": null,
            "top": null,
            "visibility": null,
            "width": null
          }
        },
        "a24e6faf0e2940299e31ccb34e2865bc": {
          "model_module": "@jupyter-widgets/controls",
          "model_name": "ProgressStyleModel",
          "model_module_version": "1.5.0",
          "state": {
            "_model_module": "@jupyter-widgets/controls",
            "_model_module_version": "1.5.0",
            "_model_name": "ProgressStyleModel",
            "_view_count": null,
            "_view_module": "@jupyter-widgets/base",
            "_view_module_version": "1.2.0",
            "_view_name": "StyleView",
            "bar_color": null,
            "description_width": ""
          }
        },
        "b50cecc396dd4193a24998a8ef8fade0": {
          "model_module": "@jupyter-widgets/base",
          "model_name": "LayoutModel",
          "model_module_version": "1.2.0",
          "state": {
            "_model_module": "@jupyter-widgets/base",
            "_model_module_version": "1.2.0",
            "_model_name": "LayoutModel",
            "_view_count": null,
            "_view_module": "@jupyter-widgets/base",
            "_view_module_version": "1.2.0",
            "_view_name": "LayoutView",
            "align_content": null,
            "align_items": null,
            "align_self": null,
            "border": null,
            "bottom": null,
            "display": null,
            "flex": null,
            "flex_flow": null,
            "grid_area": null,
            "grid_auto_columns": null,
            "grid_auto_flow": null,
            "grid_auto_rows": null,
            "grid_column": null,
            "grid_gap": null,
            "grid_row": null,
            "grid_template_areas": null,
            "grid_template_columns": null,
            "grid_template_rows": null,
            "height": null,
            "justify_content": null,
            "justify_items": null,
            "left": null,
            "margin": null,
            "max_height": null,
            "max_width": null,
            "min_height": null,
            "min_width": null,
            "object_fit": null,
            "object_position": null,
            "order": null,
            "overflow": null,
            "overflow_x": null,
            "overflow_y": null,
            "padding": null,
            "right": null,
            "top": null,
            "visibility": null,
            "width": null
          }
        },
        "b448f2b7455b480c8f19466555f77b65": {
          "model_module": "@jupyter-widgets/controls",
          "model_name": "DescriptionStyleModel",
          "model_module_version": "1.5.0",
          "state": {
            "_model_module": "@jupyter-widgets/controls",
            "_model_module_version": "1.5.0",
            "_model_name": "DescriptionStyleModel",
            "_view_count": null,
            "_view_module": "@jupyter-widgets/base",
            "_view_module_version": "1.2.0",
            "_view_name": "StyleView",
            "description_width": ""
          }
        },
        "282a4dccb9ad40a28123df33f01e7f9a": {
          "model_module": "@jupyter-widgets/controls",
          "model_name": "HBoxModel",
          "model_module_version": "1.5.0",
          "state": {
            "_dom_classes": [],
            "_model_module": "@jupyter-widgets/controls",
            "_model_module_version": "1.5.0",
            "_model_name": "HBoxModel",
            "_view_count": null,
            "_view_module": "@jupyter-widgets/controls",
            "_view_module_version": "1.5.0",
            "_view_name": "HBoxView",
            "box_style": "",
            "children": [
              "IPY_MODEL_efebad9e7add4278a59fc53d39d4e740",
              "IPY_MODEL_3fe65ec6d01948b5a000b84f62d3ed8a",
              "IPY_MODEL_edf15b87e0c64b3fbe7c48a71d34a12d"
            ],
            "layout": "IPY_MODEL_4a60047f30044bf3a3e0feec1eb97a31"
          }
        },
        "efebad9e7add4278a59fc53d39d4e740": {
          "model_module": "@jupyter-widgets/controls",
          "model_name": "HTMLModel",
          "model_module_version": "1.5.0",
          "state": {
            "_dom_classes": [],
            "_model_module": "@jupyter-widgets/controls",
            "_model_module_version": "1.5.0",
            "_model_name": "HTMLModel",
            "_view_count": null,
            "_view_module": "@jupyter-widgets/controls",
            "_view_module_version": "1.5.0",
            "_view_name": "HTMLView",
            "description": "",
            "description_tooltip": null,
            "layout": "IPY_MODEL_86afe0c1040c4a78a1ff052f4bb329c7",
            "placeholder": "​",
            "style": "IPY_MODEL_4981b461cc674595a61ae3bfc7155d54",
            "value": "Downloading: 100%"
          }
        },
        "3fe65ec6d01948b5a000b84f62d3ed8a": {
          "model_module": "@jupyter-widgets/controls",
          "model_name": "FloatProgressModel",
          "model_module_version": "1.5.0",
          "state": {
            "_dom_classes": [],
            "_model_module": "@jupyter-widgets/controls",
            "_model_module_version": "1.5.0",
            "_model_name": "FloatProgressModel",
            "_view_count": null,
            "_view_module": "@jupyter-widgets/controls",
            "_view_module_version": "1.5.0",
            "_view_name": "ProgressView",
            "bar_style": "success",
            "description": "",
            "description_tooltip": null,
            "layout": "IPY_MODEL_71aa4a19167e4167be4ebc6b0b7ee98b",
            "max": 456318,
            "min": 0,
            "orientation": "horizontal",
            "style": "IPY_MODEL_726795c7e9c243a8a79910176951edc2",
            "value": 456318
          }
        },
        "edf15b87e0c64b3fbe7c48a71d34a12d": {
          "model_module": "@jupyter-widgets/controls",
          "model_name": "HTMLModel",
          "model_module_version": "1.5.0",
          "state": {
            "_dom_classes": [],
            "_model_module": "@jupyter-widgets/controls",
            "_model_module_version": "1.5.0",
            "_model_name": "HTMLModel",
            "_view_count": null,
            "_view_module": "@jupyter-widgets/controls",
            "_view_module_version": "1.5.0",
            "_view_name": "HTMLView",
            "description": "",
            "description_tooltip": null,
            "layout": "IPY_MODEL_5213a23b7b6b4cc4a3a08fe6bf38783c",
            "placeholder": "​",
            "style": "IPY_MODEL_fc6ff270cbd74f6f8d42a9c1af77b9c6",
            "value": " 456k/456k [00:00&lt;00:00, 8.52MB/s]"
          }
        },
        "4a60047f30044bf3a3e0feec1eb97a31": {
          "model_module": "@jupyter-widgets/base",
          "model_name": "LayoutModel",
          "model_module_version": "1.2.0",
          "state": {
            "_model_module": "@jupyter-widgets/base",
            "_model_module_version": "1.2.0",
            "_model_name": "LayoutModel",
            "_view_count": null,
            "_view_module": "@jupyter-widgets/base",
            "_view_module_version": "1.2.0",
            "_view_name": "LayoutView",
            "align_content": null,
            "align_items": null,
            "align_self": null,
            "border": null,
            "bottom": null,
            "display": null,
            "flex": null,
            "flex_flow": null,
            "grid_area": null,
            "grid_auto_columns": null,
            "grid_auto_flow": null,
            "grid_auto_rows": null,
            "grid_column": null,
            "grid_gap": null,
            "grid_row": null,
            "grid_template_areas": null,
            "grid_template_columns": null,
            "grid_template_rows": null,
            "height": null,
            "justify_content": null,
            "justify_items": null,
            "left": null,
            "margin": null,
            "max_height": null,
            "max_width": null,
            "min_height": null,
            "min_width": null,
            "object_fit": null,
            "object_position": null,
            "order": null,
            "overflow": null,
            "overflow_x": null,
            "overflow_y": null,
            "padding": null,
            "right": null,
            "top": null,
            "visibility": null,
            "width": null
          }
        },
        "86afe0c1040c4a78a1ff052f4bb329c7": {
          "model_module": "@jupyter-widgets/base",
          "model_name": "LayoutModel",
          "model_module_version": "1.2.0",
          "state": {
            "_model_module": "@jupyter-widgets/base",
            "_model_module_version": "1.2.0",
            "_model_name": "LayoutModel",
            "_view_count": null,
            "_view_module": "@jupyter-widgets/base",
            "_view_module_version": "1.2.0",
            "_view_name": "LayoutView",
            "align_content": null,
            "align_items": null,
            "align_self": null,
            "border": null,
            "bottom": null,
            "display": null,
            "flex": null,
            "flex_flow": null,
            "grid_area": null,
            "grid_auto_columns": null,
            "grid_auto_flow": null,
            "grid_auto_rows": null,
            "grid_column": null,
            "grid_gap": null,
            "grid_row": null,
            "grid_template_areas": null,
            "grid_template_columns": null,
            "grid_template_rows": null,
            "height": null,
            "justify_content": null,
            "justify_items": null,
            "left": null,
            "margin": null,
            "max_height": null,
            "max_width": null,
            "min_height": null,
            "min_width": null,
            "object_fit": null,
            "object_position": null,
            "order": null,
            "overflow": null,
            "overflow_x": null,
            "overflow_y": null,
            "padding": null,
            "right": null,
            "top": null,
            "visibility": null,
            "width": null
          }
        },
        "4981b461cc674595a61ae3bfc7155d54": {
          "model_module": "@jupyter-widgets/controls",
          "model_name": "DescriptionStyleModel",
          "model_module_version": "1.5.0",
          "state": {
            "_model_module": "@jupyter-widgets/controls",
            "_model_module_version": "1.5.0",
            "_model_name": "DescriptionStyleModel",
            "_view_count": null,
            "_view_module": "@jupyter-widgets/base",
            "_view_module_version": "1.2.0",
            "_view_name": "StyleView",
            "description_width": ""
          }
        },
        "71aa4a19167e4167be4ebc6b0b7ee98b": {
          "model_module": "@jupyter-widgets/base",
          "model_name": "LayoutModel",
          "model_module_version": "1.2.0",
          "state": {
            "_model_module": "@jupyter-widgets/base",
            "_model_module_version": "1.2.0",
            "_model_name": "LayoutModel",
            "_view_count": null,
            "_view_module": "@jupyter-widgets/base",
            "_view_module_version": "1.2.0",
            "_view_name": "LayoutView",
            "align_content": null,
            "align_items": null,
            "align_self": null,
            "border": null,
            "bottom": null,
            "display": null,
            "flex": null,
            "flex_flow": null,
            "grid_area": null,
            "grid_auto_columns": null,
            "grid_auto_flow": null,
            "grid_auto_rows": null,
            "grid_column": null,
            "grid_gap": null,
            "grid_row": null,
            "grid_template_areas": null,
            "grid_template_columns": null,
            "grid_template_rows": null,
            "height": null,
            "justify_content": null,
            "justify_items": null,
            "left": null,
            "margin": null,
            "max_height": null,
            "max_width": null,
            "min_height": null,
            "min_width": null,
            "object_fit": null,
            "object_position": null,
            "order": null,
            "overflow": null,
            "overflow_x": null,
            "overflow_y": null,
            "padding": null,
            "right": null,
            "top": null,
            "visibility": null,
            "width": null
          }
        },
        "726795c7e9c243a8a79910176951edc2": {
          "model_module": "@jupyter-widgets/controls",
          "model_name": "ProgressStyleModel",
          "model_module_version": "1.5.0",
          "state": {
            "_model_module": "@jupyter-widgets/controls",
            "_model_module_version": "1.5.0",
            "_model_name": "ProgressStyleModel",
            "_view_count": null,
            "_view_module": "@jupyter-widgets/base",
            "_view_module_version": "1.2.0",
            "_view_name": "StyleView",
            "bar_color": null,
            "description_width": ""
          }
        },
        "5213a23b7b6b4cc4a3a08fe6bf38783c": {
          "model_module": "@jupyter-widgets/base",
          "model_name": "LayoutModel",
          "model_module_version": "1.2.0",
          "state": {
            "_model_module": "@jupyter-widgets/base",
            "_model_module_version": "1.2.0",
            "_model_name": "LayoutModel",
            "_view_count": null,
            "_view_module": "@jupyter-widgets/base",
            "_view_module_version": "1.2.0",
            "_view_name": "LayoutView",
            "align_content": null,
            "align_items": null,
            "align_self": null,
            "border": null,
            "bottom": null,
            "display": null,
            "flex": null,
            "flex_flow": null,
            "grid_area": null,
            "grid_auto_columns": null,
            "grid_auto_flow": null,
            "grid_auto_rows": null,
            "grid_column": null,
            "grid_gap": null,
            "grid_row": null,
            "grid_template_areas": null,
            "grid_template_columns": null,
            "grid_template_rows": null,
            "height": null,
            "justify_content": null,
            "justify_items": null,
            "left": null,
            "margin": null,
            "max_height": null,
            "max_width": null,
            "min_height": null,
            "min_width": null,
            "object_fit": null,
            "object_position": null,
            "order": null,
            "overflow": null,
            "overflow_x": null,
            "overflow_y": null,
            "padding": null,
            "right": null,
            "top": null,
            "visibility": null,
            "width": null
          }
        },
        "fc6ff270cbd74f6f8d42a9c1af77b9c6": {
          "model_module": "@jupyter-widgets/controls",
          "model_name": "DescriptionStyleModel",
          "model_module_version": "1.5.0",
          "state": {
            "_model_module": "@jupyter-widgets/controls",
            "_model_module_version": "1.5.0",
            "_model_name": "DescriptionStyleModel",
            "_view_count": null,
            "_view_module": "@jupyter-widgets/base",
            "_view_module_version": "1.2.0",
            "_view_name": "StyleView",
            "description_width": ""
          }
        },
        "fb95d8e8aac4471f9bfbd505acd5233f": {
          "model_module": "@jupyter-widgets/controls",
          "model_name": "HBoxModel",
          "model_module_version": "1.5.0",
          "state": {
            "_dom_classes": [],
            "_model_module": "@jupyter-widgets/controls",
            "_model_module_version": "1.5.0",
            "_model_name": "HBoxModel",
            "_view_count": null,
            "_view_module": "@jupyter-widgets/controls",
            "_view_module_version": "1.5.0",
            "_view_name": "HBoxView",
            "box_style": "",
            "children": [
              "IPY_MODEL_29356d2840b04e6faa44ebdcd3b7d135",
              "IPY_MODEL_1ed8bfde82774bc3bc8ccf9a2b9e99db",
              "IPY_MODEL_d60969abf4984efea17e2f73c924ff57"
            ],
            "layout": "IPY_MODEL_7a044193589b4f49982f256992164084"
          }
        },
        "29356d2840b04e6faa44ebdcd3b7d135": {
          "model_module": "@jupyter-widgets/controls",
          "model_name": "HTMLModel",
          "model_module_version": "1.5.0",
          "state": {
            "_dom_classes": [],
            "_model_module": "@jupyter-widgets/controls",
            "_model_module_version": "1.5.0",
            "_model_name": "HTMLModel",
            "_view_count": null,
            "_view_module": "@jupyter-widgets/controls",
            "_view_module_version": "1.5.0",
            "_view_name": "HTMLView",
            "description": "",
            "description_tooltip": null,
            "layout": "IPY_MODEL_5baab4ee8326455aa8480c7016eb695d",
            "placeholder": "​",
            "style": "IPY_MODEL_8c4bd06085e04d2388247aced7833637",
            "value": "Downloading: 100%"
          }
        },
        "1ed8bfde82774bc3bc8ccf9a2b9e99db": {
          "model_module": "@jupyter-widgets/controls",
          "model_name": "FloatProgressModel",
          "model_module_version": "1.5.0",
          "state": {
            "_dom_classes": [],
            "_model_module": "@jupyter-widgets/controls",
            "_model_module_version": "1.5.0",
            "_model_name": "FloatProgressModel",
            "_view_count": null,
            "_view_module": "@jupyter-widgets/controls",
            "_view_module_version": "1.5.0",
            "_view_name": "ProgressView",
            "bar_style": "success",
            "description": "",
            "description_tooltip": null,
            "layout": "IPY_MODEL_ca168e63083b4281a0249ec319fb5a01",
            "max": 1355256,
            "min": 0,
            "orientation": "horizontal",
            "style": "IPY_MODEL_1b09d4684f3b4a069279d67ff148f60b",
            "value": 1355256
          }
        },
        "d60969abf4984efea17e2f73c924ff57": {
          "model_module": "@jupyter-widgets/controls",
          "model_name": "HTMLModel",
          "model_module_version": "1.5.0",
          "state": {
            "_dom_classes": [],
            "_model_module": "@jupyter-widgets/controls",
            "_model_module_version": "1.5.0",
            "_model_name": "HTMLModel",
            "_view_count": null,
            "_view_module": "@jupyter-widgets/controls",
            "_view_module_version": "1.5.0",
            "_view_name": "HTMLView",
            "description": "",
            "description_tooltip": null,
            "layout": "IPY_MODEL_f6bd1cbe8c8a4c559774106fe5cd5aaf",
            "placeholder": "​",
            "style": "IPY_MODEL_61f9ac7d47d04dcc99e5333d3f1c2de7",
            "value": " 1.36M/1.36M [00:00&lt;00:00, 16.9MB/s]"
          }
        },
        "7a044193589b4f49982f256992164084": {
          "model_module": "@jupyter-widgets/base",
          "model_name": "LayoutModel",
          "model_module_version": "1.2.0",
          "state": {
            "_model_module": "@jupyter-widgets/base",
            "_model_module_version": "1.2.0",
            "_model_name": "LayoutModel",
            "_view_count": null,
            "_view_module": "@jupyter-widgets/base",
            "_view_module_version": "1.2.0",
            "_view_name": "LayoutView",
            "align_content": null,
            "align_items": null,
            "align_self": null,
            "border": null,
            "bottom": null,
            "display": null,
            "flex": null,
            "flex_flow": null,
            "grid_area": null,
            "grid_auto_columns": null,
            "grid_auto_flow": null,
            "grid_auto_rows": null,
            "grid_column": null,
            "grid_gap": null,
            "grid_row": null,
            "grid_template_areas": null,
            "grid_template_columns": null,
            "grid_template_rows": null,
            "height": null,
            "justify_content": null,
            "justify_items": null,
            "left": null,
            "margin": null,
            "max_height": null,
            "max_width": null,
            "min_height": null,
            "min_width": null,
            "object_fit": null,
            "object_position": null,
            "order": null,
            "overflow": null,
            "overflow_x": null,
            "overflow_y": null,
            "padding": null,
            "right": null,
            "top": null,
            "visibility": null,
            "width": null
          }
        },
        "5baab4ee8326455aa8480c7016eb695d": {
          "model_module": "@jupyter-widgets/base",
          "model_name": "LayoutModel",
          "model_module_version": "1.2.0",
          "state": {
            "_model_module": "@jupyter-widgets/base",
            "_model_module_version": "1.2.0",
            "_model_name": "LayoutModel",
            "_view_count": null,
            "_view_module": "@jupyter-widgets/base",
            "_view_module_version": "1.2.0",
            "_view_name": "LayoutView",
            "align_content": null,
            "align_items": null,
            "align_self": null,
            "border": null,
            "bottom": null,
            "display": null,
            "flex": null,
            "flex_flow": null,
            "grid_area": null,
            "grid_auto_columns": null,
            "grid_auto_flow": null,
            "grid_auto_rows": null,
            "grid_column": null,
            "grid_gap": null,
            "grid_row": null,
            "grid_template_areas": null,
            "grid_template_columns": null,
            "grid_template_rows": null,
            "height": null,
            "justify_content": null,
            "justify_items": null,
            "left": null,
            "margin": null,
            "max_height": null,
            "max_width": null,
            "min_height": null,
            "min_width": null,
            "object_fit": null,
            "object_position": null,
            "order": null,
            "overflow": null,
            "overflow_x": null,
            "overflow_y": null,
            "padding": null,
            "right": null,
            "top": null,
            "visibility": null,
            "width": null
          }
        },
        "8c4bd06085e04d2388247aced7833637": {
          "model_module": "@jupyter-widgets/controls",
          "model_name": "DescriptionStyleModel",
          "model_module_version": "1.5.0",
          "state": {
            "_model_module": "@jupyter-widgets/controls",
            "_model_module_version": "1.5.0",
            "_model_name": "DescriptionStyleModel",
            "_view_count": null,
            "_view_module": "@jupyter-widgets/base",
            "_view_module_version": "1.2.0",
            "_view_name": "StyleView",
            "description_width": ""
          }
        },
        "ca168e63083b4281a0249ec319fb5a01": {
          "model_module": "@jupyter-widgets/base",
          "model_name": "LayoutModel",
          "model_module_version": "1.2.0",
          "state": {
            "_model_module": "@jupyter-widgets/base",
            "_model_module_version": "1.2.0",
            "_model_name": "LayoutModel",
            "_view_count": null,
            "_view_module": "@jupyter-widgets/base",
            "_view_module_version": "1.2.0",
            "_view_name": "LayoutView",
            "align_content": null,
            "align_items": null,
            "align_self": null,
            "border": null,
            "bottom": null,
            "display": null,
            "flex": null,
            "flex_flow": null,
            "grid_area": null,
            "grid_auto_columns": null,
            "grid_auto_flow": null,
            "grid_auto_rows": null,
            "grid_column": null,
            "grid_gap": null,
            "grid_row": null,
            "grid_template_areas": null,
            "grid_template_columns": null,
            "grid_template_rows": null,
            "height": null,
            "justify_content": null,
            "justify_items": null,
            "left": null,
            "margin": null,
            "max_height": null,
            "max_width": null,
            "min_height": null,
            "min_width": null,
            "object_fit": null,
            "object_position": null,
            "order": null,
            "overflow": null,
            "overflow_x": null,
            "overflow_y": null,
            "padding": null,
            "right": null,
            "top": null,
            "visibility": null,
            "width": null
          }
        },
        "1b09d4684f3b4a069279d67ff148f60b": {
          "model_module": "@jupyter-widgets/controls",
          "model_name": "ProgressStyleModel",
          "model_module_version": "1.5.0",
          "state": {
            "_model_module": "@jupyter-widgets/controls",
            "_model_module_version": "1.5.0",
            "_model_name": "ProgressStyleModel",
            "_view_count": null,
            "_view_module": "@jupyter-widgets/base",
            "_view_module_version": "1.2.0",
            "_view_name": "StyleView",
            "bar_color": null,
            "description_width": ""
          }
        },
        "f6bd1cbe8c8a4c559774106fe5cd5aaf": {
          "model_module": "@jupyter-widgets/base",
          "model_name": "LayoutModel",
          "model_module_version": "1.2.0",
          "state": {
            "_model_module": "@jupyter-widgets/base",
            "_model_module_version": "1.2.0",
            "_model_name": "LayoutModel",
            "_view_count": null,
            "_view_module": "@jupyter-widgets/base",
            "_view_module_version": "1.2.0",
            "_view_name": "LayoutView",
            "align_content": null,
            "align_items": null,
            "align_self": null,
            "border": null,
            "bottom": null,
            "display": null,
            "flex": null,
            "flex_flow": null,
            "grid_area": null,
            "grid_auto_columns": null,
            "grid_auto_flow": null,
            "grid_auto_rows": null,
            "grid_column": null,
            "grid_gap": null,
            "grid_row": null,
            "grid_template_areas": null,
            "grid_template_columns": null,
            "grid_template_rows": null,
            "height": null,
            "justify_content": null,
            "justify_items": null,
            "left": null,
            "margin": null,
            "max_height": null,
            "max_width": null,
            "min_height": null,
            "min_width": null,
            "object_fit": null,
            "object_position": null,
            "order": null,
            "overflow": null,
            "overflow_x": null,
            "overflow_y": null,
            "padding": null,
            "right": null,
            "top": null,
            "visibility": null,
            "width": null
          }
        },
        "61f9ac7d47d04dcc99e5333d3f1c2de7": {
          "model_module": "@jupyter-widgets/controls",
          "model_name": "DescriptionStyleModel",
          "model_module_version": "1.5.0",
          "state": {
            "_model_module": "@jupyter-widgets/controls",
            "_model_module_version": "1.5.0",
            "_model_name": "DescriptionStyleModel",
            "_view_count": null,
            "_view_module": "@jupyter-widgets/base",
            "_view_module_version": "1.2.0",
            "_view_name": "StyleView",
            "description_width": ""
          }
        },
        "de1f1aa9b1994a949f7deb27241f6fc1": {
          "model_module": "@jupyter-widgets/controls",
          "model_name": "HBoxModel",
          "model_module_version": "1.5.0",
          "state": {
            "_dom_classes": [],
            "_model_module": "@jupyter-widgets/controls",
            "_model_module_version": "1.5.0",
            "_model_name": "HBoxModel",
            "_view_count": null,
            "_view_module": "@jupyter-widgets/controls",
            "_view_module_version": "1.5.0",
            "_view_name": "HBoxView",
            "box_style": "",
            "children": [
              "IPY_MODEL_706cb058a8bc47ac840cb6156bc1727c",
              "IPY_MODEL_27d4bbbac17b4be6829ba93225a1967b",
              "IPY_MODEL_dc28eeb3176f48e3bdb1db8c9f443562"
            ],
            "layout": "IPY_MODEL_d0bcb5a5b86d47a0ac7e2f9664a894da"
          }
        },
        "706cb058a8bc47ac840cb6156bc1727c": {
          "model_module": "@jupyter-widgets/controls",
          "model_name": "HTMLModel",
          "model_module_version": "1.5.0",
          "state": {
            "_dom_classes": [],
            "_model_module": "@jupyter-widgets/controls",
            "_model_module_version": "1.5.0",
            "_model_name": "HTMLModel",
            "_view_count": null,
            "_view_module": "@jupyter-widgets/controls",
            "_view_module_version": "1.5.0",
            "_view_name": "HTMLView",
            "description": "",
            "description_tooltip": null,
            "layout": "IPY_MODEL_d897248f70e14e32812e1e43dfcfe41b",
            "placeholder": "​",
            "style": "IPY_MODEL_d1e2abc4cd174724a5b222625e0451a6",
            "value": "Downloading: 100%"
          }
        },
        "27d4bbbac17b4be6829ba93225a1967b": {
          "model_module": "@jupyter-widgets/controls",
          "model_name": "FloatProgressModel",
          "model_module_version": "1.5.0",
          "state": {
            "_dom_classes": [],
            "_model_module": "@jupyter-widgets/controls",
            "_model_module_version": "1.5.0",
            "_model_name": "FloatProgressModel",
            "_view_count": null,
            "_view_module": "@jupyter-widgets/controls",
            "_view_module_version": "1.5.0",
            "_view_name": "ProgressView",
            "bar_style": "success",
            "description": "",
            "description_tooltip": null,
            "layout": "IPY_MODEL_273f269362a84e2693c562f940e261cf",
            "max": 548118077,
            "min": 0,
            "orientation": "horizontal",
            "style": "IPY_MODEL_66ecc1ac4a374a92a4f494cc70c7b3f6",
            "value": 548118077
          }
        },
        "dc28eeb3176f48e3bdb1db8c9f443562": {
          "model_module": "@jupyter-widgets/controls",
          "model_name": "HTMLModel",
          "model_module_version": "1.5.0",
          "state": {
            "_dom_classes": [],
            "_model_module": "@jupyter-widgets/controls",
            "_model_module_version": "1.5.0",
            "_model_name": "HTMLModel",
            "_view_count": null,
            "_view_module": "@jupyter-widgets/controls",
            "_view_module_version": "1.5.0",
            "_view_name": "HTMLView",
            "description": "",
            "description_tooltip": null,
            "layout": "IPY_MODEL_3f5d0b0c00e4422a9d580b760ee983df",
            "placeholder": "​",
            "style": "IPY_MODEL_9808419b9cb84869a4c1f6562cc5c7bd",
            "value": " 548M/548M [00:09&lt;00:00, 58.3MB/s]"
          }
        },
        "d0bcb5a5b86d47a0ac7e2f9664a894da": {
          "model_module": "@jupyter-widgets/base",
          "model_name": "LayoutModel",
          "model_module_version": "1.2.0",
          "state": {
            "_model_module": "@jupyter-widgets/base",
            "_model_module_version": "1.2.0",
            "_model_name": "LayoutModel",
            "_view_count": null,
            "_view_module": "@jupyter-widgets/base",
            "_view_module_version": "1.2.0",
            "_view_name": "LayoutView",
            "align_content": null,
            "align_items": null,
            "align_self": null,
            "border": null,
            "bottom": null,
            "display": null,
            "flex": null,
            "flex_flow": null,
            "grid_area": null,
            "grid_auto_columns": null,
            "grid_auto_flow": null,
            "grid_auto_rows": null,
            "grid_column": null,
            "grid_gap": null,
            "grid_row": null,
            "grid_template_areas": null,
            "grid_template_columns": null,
            "grid_template_rows": null,
            "height": null,
            "justify_content": null,
            "justify_items": null,
            "left": null,
            "margin": null,
            "max_height": null,
            "max_width": null,
            "min_height": null,
            "min_width": null,
            "object_fit": null,
            "object_position": null,
            "order": null,
            "overflow": null,
            "overflow_x": null,
            "overflow_y": null,
            "padding": null,
            "right": null,
            "top": null,
            "visibility": null,
            "width": null
          }
        },
        "d897248f70e14e32812e1e43dfcfe41b": {
          "model_module": "@jupyter-widgets/base",
          "model_name": "LayoutModel",
          "model_module_version": "1.2.0",
          "state": {
            "_model_module": "@jupyter-widgets/base",
            "_model_module_version": "1.2.0",
            "_model_name": "LayoutModel",
            "_view_count": null,
            "_view_module": "@jupyter-widgets/base",
            "_view_module_version": "1.2.0",
            "_view_name": "LayoutView",
            "align_content": null,
            "align_items": null,
            "align_self": null,
            "border": null,
            "bottom": null,
            "display": null,
            "flex": null,
            "flex_flow": null,
            "grid_area": null,
            "grid_auto_columns": null,
            "grid_auto_flow": null,
            "grid_auto_rows": null,
            "grid_column": null,
            "grid_gap": null,
            "grid_row": null,
            "grid_template_areas": null,
            "grid_template_columns": null,
            "grid_template_rows": null,
            "height": null,
            "justify_content": null,
            "justify_items": null,
            "left": null,
            "margin": null,
            "max_height": null,
            "max_width": null,
            "min_height": null,
            "min_width": null,
            "object_fit": null,
            "object_position": null,
            "order": null,
            "overflow": null,
            "overflow_x": null,
            "overflow_y": null,
            "padding": null,
            "right": null,
            "top": null,
            "visibility": null,
            "width": null
          }
        },
        "d1e2abc4cd174724a5b222625e0451a6": {
          "model_module": "@jupyter-widgets/controls",
          "model_name": "DescriptionStyleModel",
          "model_module_version": "1.5.0",
          "state": {
            "_model_module": "@jupyter-widgets/controls",
            "_model_module_version": "1.5.0",
            "_model_name": "DescriptionStyleModel",
            "_view_count": null,
            "_view_module": "@jupyter-widgets/base",
            "_view_module_version": "1.2.0",
            "_view_name": "StyleView",
            "description_width": ""
          }
        },
        "273f269362a84e2693c562f940e261cf": {
          "model_module": "@jupyter-widgets/base",
          "model_name": "LayoutModel",
          "model_module_version": "1.2.0",
          "state": {
            "_model_module": "@jupyter-widgets/base",
            "_model_module_version": "1.2.0",
            "_model_name": "LayoutModel",
            "_view_count": null,
            "_view_module": "@jupyter-widgets/base",
            "_view_module_version": "1.2.0",
            "_view_name": "LayoutView",
            "align_content": null,
            "align_items": null,
            "align_self": null,
            "border": null,
            "bottom": null,
            "display": null,
            "flex": null,
            "flex_flow": null,
            "grid_area": null,
            "grid_auto_columns": null,
            "grid_auto_flow": null,
            "grid_auto_rows": null,
            "grid_column": null,
            "grid_gap": null,
            "grid_row": null,
            "grid_template_areas": null,
            "grid_template_columns": null,
            "grid_template_rows": null,
            "height": null,
            "justify_content": null,
            "justify_items": null,
            "left": null,
            "margin": null,
            "max_height": null,
            "max_width": null,
            "min_height": null,
            "min_width": null,
            "object_fit": null,
            "object_position": null,
            "order": null,
            "overflow": null,
            "overflow_x": null,
            "overflow_y": null,
            "padding": null,
            "right": null,
            "top": null,
            "visibility": null,
            "width": null
          }
        },
        "66ecc1ac4a374a92a4f494cc70c7b3f6": {
          "model_module": "@jupyter-widgets/controls",
          "model_name": "ProgressStyleModel",
          "model_module_version": "1.5.0",
          "state": {
            "_model_module": "@jupyter-widgets/controls",
            "_model_module_version": "1.5.0",
            "_model_name": "ProgressStyleModel",
            "_view_count": null,
            "_view_module": "@jupyter-widgets/base",
            "_view_module_version": "1.2.0",
            "_view_name": "StyleView",
            "bar_color": null,
            "description_width": ""
          }
        },
        "3f5d0b0c00e4422a9d580b760ee983df": {
          "model_module": "@jupyter-widgets/base",
          "model_name": "LayoutModel",
          "model_module_version": "1.2.0",
          "state": {
            "_model_module": "@jupyter-widgets/base",
            "_model_module_version": "1.2.0",
            "_model_name": "LayoutModel",
            "_view_count": null,
            "_view_module": "@jupyter-widgets/base",
            "_view_module_version": "1.2.0",
            "_view_name": "LayoutView",
            "align_content": null,
            "align_items": null,
            "align_self": null,
            "border": null,
            "bottom": null,
            "display": null,
            "flex": null,
            "flex_flow": null,
            "grid_area": null,
            "grid_auto_columns": null,
            "grid_auto_flow": null,
            "grid_auto_rows": null,
            "grid_column": null,
            "grid_gap": null,
            "grid_row": null,
            "grid_template_areas": null,
            "grid_template_columns": null,
            "grid_template_rows": null,
            "height": null,
            "justify_content": null,
            "justify_items": null,
            "left": null,
            "margin": null,
            "max_height": null,
            "max_width": null,
            "min_height": null,
            "min_width": null,
            "object_fit": null,
            "object_position": null,
            "order": null,
            "overflow": null,
            "overflow_x": null,
            "overflow_y": null,
            "padding": null,
            "right": null,
            "top": null,
            "visibility": null,
            "width": null
          }
        },
        "9808419b9cb84869a4c1f6562cc5c7bd": {
          "model_module": "@jupyter-widgets/controls",
          "model_name": "DescriptionStyleModel",
          "model_module_version": "1.5.0",
          "state": {
            "_model_module": "@jupyter-widgets/controls",
            "_model_module_version": "1.5.0",
            "_model_name": "DescriptionStyleModel",
            "_view_count": null,
            "_view_module": "@jupyter-widgets/base",
            "_view_module_version": "1.2.0",
            "_view_name": "StyleView",
            "description_width": ""
          }
        }
      }
    }
  },
  "nbformat": 4,
  "nbformat_minor": 0
}