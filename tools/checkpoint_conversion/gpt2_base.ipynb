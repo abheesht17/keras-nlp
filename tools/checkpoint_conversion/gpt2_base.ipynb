{
  "cells": [
    {
      "cell_type": "code",
      "execution_count": 1,
      "metadata": {
        "colab": {
          "base_uri": "https://localhost:8080/"
        },
        "id": "gIF8YeATNEaM",
        "outputId": "50687bc3-c437-42bb-e4d0-6bb1d4237c3b"
      },
      "outputs": [
        {
          "output_type": "stream",
          "name": "stdout",
          "text": [
            "\u001b[K     |████████████████████████████████| 5.5 MB 5.3 MB/s \n",
            "\u001b[K     |████████████████████████████████| 7.6 MB 49.2 MB/s \n",
            "\u001b[K     |████████████████████████████████| 163 kB 65.2 MB/s \n",
            "\u001b[K     |████████████████████████████████| 578.0 MB 16 kB/s \n",
            "\u001b[K     |████████████████████████████████| 5.9 MB 50.3 MB/s \n",
            "\u001b[K     |████████████████████████████████| 1.7 MB 51.9 MB/s \n",
            "\u001b[K     |████████████████████████████████| 438 kB 73.1 MB/s \n",
            "\u001b[K     |████████████████████████████████| 5.9 MB 33.5 MB/s \n",
            "\u001b[?25h  Building wheel for keras-nlp (setup.py) ... \u001b[?25l\u001b[?25hdone\n"
          ]
        }
      ],
      "source": [
        "!pip install transformers --quiet\n",
        "!pip install git+https://github.com/abheesht17/keras-nlp.git@gpt2-presets tensorflow tensorflow-text --upgrade --quiet"
      ]
    },
    {
      "cell_type": "code",
      "execution_count": 2,
      "metadata": {
        "id": "DIWeI2AJNFs7",
        "colab": {
          "base_uri": "https://localhost:8080/",
          "height": 35
        },
        "outputId": "380d9d48-4250-4de5-bdec-b4831a9ca11c"
      },
      "outputs": [
        {
          "output_type": "execute_result",
          "data": {
            "text/plain": [
              "'2.10.0'"
            ],
            "application/vnd.google.colaboratory.intrinsic+json": {
              "type": "string"
            }
          },
          "metadata": {},
          "execution_count": 2
        }
      ],
      "source": [
        "import sys\n",
        "sys.path.append(\"./\")\n",
        "\n",
        "import json\n",
        "import os\n",
        "\n",
        "import keras_nlp\n",
        "import numpy as np\n",
        "\n",
        "import tensorflow as tf\n",
        "from tensorflow import keras\n",
        "\n",
        "import torch\n",
        "\n",
        "from transformers import AutoTokenizer, AutoModel\n",
        "\n",
        "tf.__version__"
      ]
    },
    {
      "cell_type": "code",
      "execution_count": 3,
      "metadata": {
        "id": "XC7yeZdLK1th"
      },
      "outputs": [],
      "source": [
        "# Variables.\n",
        "\n",
        "# Should be one of 124M, 355M, 774M, 1558M.\n",
        "NUM_PARAMS = \"124M\""
      ]
    },
    {
      "cell_type": "code",
      "execution_count": 4,
      "metadata": {
        "id": "AQbyZaazIE21",
        "colab": {
          "base_uri": "https://localhost:8080/"
        },
        "outputId": "a8d88fcc-f44e-4064-de67-b54010e5b752"
      },
      "outputs": [
        {
          "output_type": "stream",
          "name": "stdout",
          "text": [
            "--2022-11-13 08:50:21--  https://raw.githubusercontent.com/openai/gpt-2/master/download_model.py\n",
            "Resolving raw.githubusercontent.com (raw.githubusercontent.com)... 185.199.110.133, 185.199.109.133, 185.199.111.133, ...\n",
            "Connecting to raw.githubusercontent.com (raw.githubusercontent.com)|185.199.110.133|:443... connected.\n",
            "HTTP request sent, awaiting response... 200 OK\n",
            "Length: 1075 (1.0K) [text/plain]\n",
            "Saving to: ‘download_model.py’\n",
            "\n",
            "\rdownload_model.py     0%[                    ]       0  --.-KB/s               \rdownload_model.py   100%[===================>]   1.05K  --.-KB/s    in 0s      \n",
            "\n",
            "2022-11-13 08:50:21 (51.6 MB/s) - ‘download_model.py’ saved [1075/1075]\n",
            "\n",
            "Fetching checkpoint: 1.00kit [00:00, 823kit/s]                                                      \n",
            "Fetching encoder.json: 1.04Mit [00:00, 3.10Mit/s]                                                   \n",
            "Fetching hparams.json: 1.00kit [00:00, 647kit/s]                                                    \n",
            "Fetching model.ckpt.data-00000-of-00001: 498Mit [00:19, 26.0Mit/s]                                  \n",
            "Fetching model.ckpt.index: 6.00kit [00:00, 3.48Mit/s]                                               \n",
            "Fetching model.ckpt.meta: 472kit [00:00, 2.00Mit/s]                                                 \n",
            "Fetching vocab.bpe: 457kit [00:00, 1.80Mit/s]                                                       \n"
          ]
        }
      ],
      "source": [
        "# Let's get the official OpenAI GPT-2 ckpt.\n",
        "\n",
        "!wget https://raw.githubusercontent.com/openai/gpt-2/master/download_model.py\n",
        "!python3 download_model.py $NUM_PARAMS"
      ]
    },
    {
      "cell_type": "code",
      "execution_count": 5,
      "metadata": {
        "id": "feEIST9cK_Q6"
      },
      "outputs": [],
      "source": [
        "# GPT-2 paths.\n",
        "extract_dir = f\"/content/models/{NUM_PARAMS}\"\n",
        "merges_path = os.path.join(extract_dir, \"vocab.bpe\")\n",
        "vocab_path = os.path.join(extract_dir, \"encoder.json\")\n",
        "checkpoint_path = os.path.join(extract_dir, \"model.ckpt\")\n",
        "config_path = os.path.join(extract_dir, \"hparams.json\")"
      ]
    },
    {
      "cell_type": "code",
      "execution_count": 6,
      "metadata": {
        "id": "BC4EVXfaLf0K",
        "colab": {
          "base_uri": "https://localhost:8080/"
        },
        "outputId": "ef778938-3fc7-4a20-e029-fcf04c3e1c3b"
      },
      "outputs": [
        {
          "output_type": "execute_result",
          "data": {
            "text/plain": [
              "{'n_vocab': 50257, 'n_ctx': 1024, 'n_embd': 768, 'n_head': 12, 'n_layer': 12}"
            ]
          },
          "metadata": {},
          "execution_count": 6
        }
      ],
      "source": [
        "# n_vocab, n_ctx, n_embd, n_head, n_layer\n",
        "with open(config_path, \"r\") as f:\n",
        "    cfg = json.load(f)\n",
        "\n",
        "cfg"
      ]
    },
    {
      "cell_type": "code",
      "execution_count": 7,
      "metadata": {
        "id": "luhajF3a3_LX",
        "colab": {
          "base_uri": "https://localhost:8080/"
        },
        "outputId": "31ab4eff-f9a4-4f57-b983-eb88ff5698a3"
      },
      "outputs": [
        {
          "output_type": "stream",
          "name": "stdout",
          "text": [
            "model/h0/attn/c_attn/b [2304]\n",
            "model/h0/attn/c_attn/w [1, 768, 2304]\n",
            "model/h0/attn/c_proj/b [768]\n",
            "model/h0/attn/c_proj/w [1, 768, 768]\n",
            "model/h0/ln_1/b [768]\n",
            "model/h0/ln_1/g [768]\n",
            "model/h0/ln_2/b [768]\n",
            "model/h0/ln_2/g [768]\n",
            "model/h0/mlp/c_fc/b [3072]\n",
            "model/h0/mlp/c_fc/w [1, 768, 3072]\n",
            "model/h0/mlp/c_proj/b [768]\n",
            "model/h0/mlp/c_proj/w [1, 3072, 768]\n",
            "model/h1/attn/c_attn/b [2304]\n",
            "model/h1/attn/c_attn/w [1, 768, 2304]\n",
            "model/h1/attn/c_proj/b [768]\n",
            "model/h1/attn/c_proj/w [1, 768, 768]\n",
            "model/h1/ln_1/b [768]\n",
            "model/h1/ln_1/g [768]\n",
            "model/h1/ln_2/b [768]\n",
            "model/h1/ln_2/g [768]\n",
            "model/h1/mlp/c_fc/b [3072]\n",
            "model/h1/mlp/c_fc/w [1, 768, 3072]\n",
            "model/h1/mlp/c_proj/b [768]\n",
            "model/h1/mlp/c_proj/w [1, 3072, 768]\n",
            "model/h10/attn/c_attn/b [2304]\n",
            "model/h10/attn/c_attn/w [1, 768, 2304]\n",
            "model/h10/attn/c_proj/b [768]\n",
            "model/h10/attn/c_proj/w [1, 768, 768]\n",
            "model/h10/ln_1/b [768]\n",
            "model/h10/ln_1/g [768]\n",
            "model/h10/ln_2/b [768]\n",
            "model/h10/ln_2/g [768]\n",
            "model/h10/mlp/c_fc/b [3072]\n",
            "model/h10/mlp/c_fc/w [1, 768, 3072]\n",
            "model/h10/mlp/c_proj/b [768]\n",
            "model/h10/mlp/c_proj/w [1, 3072, 768]\n",
            "model/h11/attn/c_attn/b [2304]\n",
            "model/h11/attn/c_attn/w [1, 768, 2304]\n",
            "model/h11/attn/c_proj/b [768]\n",
            "model/h11/attn/c_proj/w [1, 768, 768]\n",
            "model/h11/ln_1/b [768]\n",
            "model/h11/ln_1/g [768]\n",
            "model/h11/ln_2/b [768]\n",
            "model/h11/ln_2/g [768]\n",
            "model/h11/mlp/c_fc/b [3072]\n",
            "model/h11/mlp/c_fc/w [1, 768, 3072]\n",
            "model/h11/mlp/c_proj/b [768]\n",
            "model/h11/mlp/c_proj/w [1, 3072, 768]\n",
            "model/h2/attn/c_attn/b [2304]\n",
            "model/h2/attn/c_attn/w [1, 768, 2304]\n",
            "model/h2/attn/c_proj/b [768]\n",
            "model/h2/attn/c_proj/w [1, 768, 768]\n",
            "model/h2/ln_1/b [768]\n",
            "model/h2/ln_1/g [768]\n",
            "model/h2/ln_2/b [768]\n",
            "model/h2/ln_2/g [768]\n",
            "model/h2/mlp/c_fc/b [3072]\n",
            "model/h2/mlp/c_fc/w [1, 768, 3072]\n",
            "model/h2/mlp/c_proj/b [768]\n",
            "model/h2/mlp/c_proj/w [1, 3072, 768]\n",
            "model/h3/attn/c_attn/b [2304]\n",
            "model/h3/attn/c_attn/w [1, 768, 2304]\n",
            "model/h3/attn/c_proj/b [768]\n",
            "model/h3/attn/c_proj/w [1, 768, 768]\n",
            "model/h3/ln_1/b [768]\n",
            "model/h3/ln_1/g [768]\n",
            "model/h3/ln_2/b [768]\n",
            "model/h3/ln_2/g [768]\n",
            "model/h3/mlp/c_fc/b [3072]\n",
            "model/h3/mlp/c_fc/w [1, 768, 3072]\n",
            "model/h3/mlp/c_proj/b [768]\n",
            "model/h3/mlp/c_proj/w [1, 3072, 768]\n",
            "model/h4/attn/c_attn/b [2304]\n",
            "model/h4/attn/c_attn/w [1, 768, 2304]\n",
            "model/h4/attn/c_proj/b [768]\n",
            "model/h4/attn/c_proj/w [1, 768, 768]\n",
            "model/h4/ln_1/b [768]\n",
            "model/h4/ln_1/g [768]\n",
            "model/h4/ln_2/b [768]\n",
            "model/h4/ln_2/g [768]\n",
            "model/h4/mlp/c_fc/b [3072]\n",
            "model/h4/mlp/c_fc/w [1, 768, 3072]\n",
            "model/h4/mlp/c_proj/b [768]\n",
            "model/h4/mlp/c_proj/w [1, 3072, 768]\n",
            "model/h5/attn/c_attn/b [2304]\n",
            "model/h5/attn/c_attn/w [1, 768, 2304]\n",
            "model/h5/attn/c_proj/b [768]\n",
            "model/h5/attn/c_proj/w [1, 768, 768]\n",
            "model/h5/ln_1/b [768]\n",
            "model/h5/ln_1/g [768]\n",
            "model/h5/ln_2/b [768]\n",
            "model/h5/ln_2/g [768]\n",
            "model/h5/mlp/c_fc/b [3072]\n",
            "model/h5/mlp/c_fc/w [1, 768, 3072]\n",
            "model/h5/mlp/c_proj/b [768]\n",
            "model/h5/mlp/c_proj/w [1, 3072, 768]\n",
            "model/h6/attn/c_attn/b [2304]\n",
            "model/h6/attn/c_attn/w [1, 768, 2304]\n",
            "model/h6/attn/c_proj/b [768]\n",
            "model/h6/attn/c_proj/w [1, 768, 768]\n",
            "model/h6/ln_1/b [768]\n",
            "model/h6/ln_1/g [768]\n",
            "model/h6/ln_2/b [768]\n",
            "model/h6/ln_2/g [768]\n",
            "model/h6/mlp/c_fc/b [3072]\n",
            "model/h6/mlp/c_fc/w [1, 768, 3072]\n",
            "model/h6/mlp/c_proj/b [768]\n",
            "model/h6/mlp/c_proj/w [1, 3072, 768]\n",
            "model/h7/attn/c_attn/b [2304]\n",
            "model/h7/attn/c_attn/w [1, 768, 2304]\n",
            "model/h7/attn/c_proj/b [768]\n",
            "model/h7/attn/c_proj/w [1, 768, 768]\n",
            "model/h7/ln_1/b [768]\n",
            "model/h7/ln_1/g [768]\n",
            "model/h7/ln_2/b [768]\n",
            "model/h7/ln_2/g [768]\n",
            "model/h7/mlp/c_fc/b [3072]\n",
            "model/h7/mlp/c_fc/w [1, 768, 3072]\n",
            "model/h7/mlp/c_proj/b [768]\n",
            "model/h7/mlp/c_proj/w [1, 3072, 768]\n",
            "model/h8/attn/c_attn/b [2304]\n",
            "model/h8/attn/c_attn/w [1, 768, 2304]\n",
            "model/h8/attn/c_proj/b [768]\n",
            "model/h8/attn/c_proj/w [1, 768, 768]\n",
            "model/h8/ln_1/b [768]\n",
            "model/h8/ln_1/g [768]\n",
            "model/h8/ln_2/b [768]\n",
            "model/h8/ln_2/g [768]\n",
            "model/h8/mlp/c_fc/b [3072]\n",
            "model/h8/mlp/c_fc/w [1, 768, 3072]\n",
            "model/h8/mlp/c_proj/b [768]\n",
            "model/h8/mlp/c_proj/w [1, 3072, 768]\n",
            "model/h9/attn/c_attn/b [2304]\n",
            "model/h9/attn/c_attn/w [1, 768, 2304]\n",
            "model/h9/attn/c_proj/b [768]\n",
            "model/h9/attn/c_proj/w [1, 768, 768]\n",
            "model/h9/ln_1/b [768]\n",
            "model/h9/ln_1/g [768]\n",
            "model/h9/ln_2/b [768]\n",
            "model/h9/ln_2/g [768]\n",
            "model/h9/mlp/c_fc/b [3072]\n",
            "model/h9/mlp/c_fc/w [1, 768, 3072]\n",
            "model/h9/mlp/c_proj/b [768]\n",
            "model/h9/mlp/c_proj/w [1, 3072, 768]\n",
            "model/ln_f/b [768]\n",
            "model/ln_f/g [768]\n",
            "model/wpe [1024, 768]\n",
            "model/wte [50257, 768]\n"
          ]
        }
      ],
      "source": [
        "vars = tf.train.list_variables(checkpoint_path)\n",
        "weights = {}\n",
        "for name, shape in vars:\n",
        "    print(name, shape)\n",
        "    weight = tf.train.load_variable(checkpoint_path, name)\n",
        "    weights[name] = weight"
      ]
    },
    {
      "cell_type": "code",
      "execution_count": 8,
      "metadata": {
        "id": "0NqDcQF2YcdO"
      },
      "outputs": [],
      "source": [
        "model = keras_nlp.models.GPT2.from_preset(\n",
        "    \"gpt2_base\",\n",
        "    load_weights=False,\n",
        ")"
      ]
    },
    {
      "cell_type": "code",
      "execution_count": 9,
      "metadata": {
        "id": "6JX1SQ8mYy8Z",
        "colab": {
          "base_uri": "https://localhost:8080/"
        },
        "outputId": "55e92c4b-65cf-4596-f613-5f87d5d7966c"
      },
      "outputs": [
        {
          "output_type": "stream",
          "name": "stdout",
          "text": [
            "Model: \"backbone\"\n",
            "__________________________________________________________________________________________________\n",
            " Layer (type)                   Output Shape         Param #     Connected to                     \n",
            "==================================================================================================\n",
            " token_ids (InputLayer)         [(None, None)]       0           []                               \n",
            "                                                                                                  \n",
            " token_embedding (Embedding)    (None, None, 768)    38597376    ['token_ids[0][0]']              \n",
            "                                                                                                  \n",
            " position_embedding (PositionEm  (None, None, 768)   786432      ['token_embedding[0][0]']        \n",
            " bedding)                                                                                         \n",
            "                                                                                                  \n",
            " add (Add)                      (None, None, 768)    0           ['token_embedding[0][0]',        \n",
            "                                                                  'position_embedding[0][0]']     \n",
            "                                                                                                  \n",
            " embeddings_dropout (Dropout)   (None, None, 768)    0           ['add[0][0]']                    \n",
            "                                                                                                  \n",
            " padding_mask (InputLayer)      [(None, None)]       0           []                               \n",
            "                                                                                                  \n",
            " transformer_layer_0 (Transform  (None, None, 768)   7087872     ['embeddings_dropout[0][0]',     \n",
            " erDecoder)                                                       'padding_mask[0][0]']           \n",
            "                                                                                                  \n",
            " transformer_layer_1 (Transform  (None, None, 768)   7087872     ['transformer_layer_0[0][0]',    \n",
            " erDecoder)                                                       'padding_mask[0][0]']           \n",
            "                                                                                                  \n",
            " transformer_layer_2 (Transform  (None, None, 768)   7087872     ['transformer_layer_1[0][0]',    \n",
            " erDecoder)                                                       'padding_mask[0][0]']           \n",
            "                                                                                                  \n",
            " transformer_layer_3 (Transform  (None, None, 768)   7087872     ['transformer_layer_2[0][0]',    \n",
            " erDecoder)                                                       'padding_mask[0][0]']           \n",
            "                                                                                                  \n",
            " transformer_layer_4 (Transform  (None, None, 768)   7087872     ['transformer_layer_3[0][0]',    \n",
            " erDecoder)                                                       'padding_mask[0][0]']           \n",
            "                                                                                                  \n",
            " transformer_layer_5 (Transform  (None, None, 768)   7087872     ['transformer_layer_4[0][0]',    \n",
            " erDecoder)                                                       'padding_mask[0][0]']           \n",
            "                                                                                                  \n",
            " transformer_layer_6 (Transform  (None, None, 768)   7087872     ['transformer_layer_5[0][0]',    \n",
            " erDecoder)                                                       'padding_mask[0][0]']           \n",
            "                                                                                                  \n",
            " transformer_layer_7 (Transform  (None, None, 768)   7087872     ['transformer_layer_6[0][0]',    \n",
            " erDecoder)                                                       'padding_mask[0][0]']           \n",
            "                                                                                                  \n",
            " transformer_layer_8 (Transform  (None, None, 768)   7087872     ['transformer_layer_7[0][0]',    \n",
            " erDecoder)                                                       'padding_mask[0][0]']           \n",
            "                                                                                                  \n",
            " transformer_layer_9 (Transform  (None, None, 768)   7087872     ['transformer_layer_8[0][0]',    \n",
            " erDecoder)                                                       'padding_mask[0][0]']           \n",
            "                                                                                                  \n",
            " transformer_layer_10 (Transfor  (None, None, 768)   7087872     ['transformer_layer_9[0][0]',    \n",
            " merDecoder)                                                      'padding_mask[0][0]']           \n",
            "                                                                                                  \n",
            " transformer_layer_11 (Transfor  (None, None, 768)   7087872     ['transformer_layer_10[0][0]',   \n",
            " merDecoder)                                                      'padding_mask[0][0]']           \n",
            "                                                                                                  \n",
            " layer_norm (LayerNormalization  (None, None, 768)   1536        ['transformer_layer_11[0][0]']   \n",
            " )                                                                                                \n",
            "                                                                                                  \n",
            "==================================================================================================\n",
            "Total params: 124,439,808\n",
            "Trainable params: 124,439,808\n",
            "Non-trainable params: 0\n",
            "__________________________________________________________________________________________________\n"
          ]
        }
      ],
      "source": [
        "model.summary()"
      ]
    },
    {
      "cell_type": "code",
      "execution_count": 10,
      "metadata": {
        "id": "drpzJUwxZfcl"
      },
      "outputs": [],
      "source": [
        "model.get_layer(\"token_embedding\").embeddings.assign(\n",
        "    weights[\"model/wte\"]\n",
        ")\n",
        "model.get_layer(\"position_embedding\").position_embeddings.assign(\n",
        "    weights[\"model/wpe\"]\n",
        ")\n",
        "\n",
        "range_1 = (0, cfg[\"n_embd\"])\n",
        "range_2 = (cfg[\"n_embd\"], 2 * cfg[\"n_embd\"]) \n",
        "range_3 = (2 * cfg[\"n_embd\"], 3 * cfg[\"n_embd\"])\n",
        "\n",
        "\n",
        "for i in range(model.num_layers):\n",
        "    model.get_layer(f\"transformer_layer_{i}\")._self_attention_layer._query_dense.kernel.assign(\n",
        "        weights[f\"model/h{i}/attn/c_attn/w\"][0, :, range_1[0]: range_1[1]].reshape((cfg[\"n_embd\"], cfg[\"n_head\"], -1))\n",
        "    )\n",
        "    model.get_layer(f\"transformer_layer_{i}\")._self_attention_layer._query_dense.bias.assign(\n",
        "        weights[f\"model/h{i}/attn/c_attn/b\"][range_1[0]: range_1[1]].reshape((cfg[\"n_head\"], -1))\n",
        "    )\n",
        "    model.get_layer(f\"transformer_layer_{i}\")._self_attention_layer._key_dense.kernel.assign(\n",
        "        weights[f\"model/h{i}/attn/c_attn/w\"][0, :, range_2[0]: range_2[1]].reshape((cfg[\"n_embd\"], cfg[\"n_head\"], -1))\n",
        "    )\n",
        "    model.get_layer(f\"transformer_layer_{i}\")._self_attention_layer._key_dense.bias.assign(\n",
        "        weights[f\"model/h{i}/attn/c_attn/b\"][range_2[0]: range_2[1]].reshape((cfg[\"n_head\"], -1))\n",
        "    )\n",
        "    model.get_layer(f\"transformer_layer_{i}\")._self_attention_layer._value_dense.kernel.assign(\n",
        "        weights[f\"model/h{i}/attn/c_attn/w\"][0, :, range_3[0]: range_3[1]].reshape((cfg[\"n_embd\"], cfg[\"n_head\"], -1))\n",
        "    )\n",
        "    model.get_layer(f\"transformer_layer_{i}\")._self_attention_layer._value_dense.bias.assign(\n",
        "        weights[f\"model/h{i}/attn/c_attn/b\"][range_3[0]: range_3[1]].reshape((cfg[\"n_head\"], -1))\n",
        "    )\n",
        "\n",
        "\n",
        "    model.get_layer(f\"transformer_layer_{i}\")._self_attention_layer._output_dense.kernel.assign(\n",
        "        weights[f\"model/h{i}/attn/c_proj/w\"][0].reshape((cfg[\"n_head\"], -1, cfg[\"n_embd\"]))\n",
        "    )\n",
        "    model.get_layer(f\"transformer_layer_{i}\")._self_attention_layer._output_dense.bias.assign(\n",
        "        weights[f\"model/h{i}/attn/c_proj/b\"]\n",
        "    )\n",
        "\n",
        "\n",
        "    model.get_layer(f\"transformer_layer_{i}\")._self_attention_layernorm.gamma.assign(\n",
        "        weights[f\"model/h{i}/ln_1/g\"]\n",
        "    )\n",
        "    model.get_layer(f\"transformer_layer_{i}\")._self_attention_layernorm.beta.assign(\n",
        "        weights[f\"model/h{i}/ln_1/b\"]\n",
        "    )\n",
        "\n",
        "\n",
        "    model.get_layer(f\"transformer_layer_{i}\")._feedforward_intermediate_dense.kernel.assign(\n",
        "        weights[f\"model/h{i}/mlp/c_fc/w\"][0]\n",
        "    )\n",
        "    model.get_layer(f\"transformer_layer_{i}\")._feedforward_intermediate_dense.bias.assign(\n",
        "        weights[f\"model/h{i}/mlp/c_fc/b\"]\n",
        "    )\n",
        "\n",
        "\n",
        "    model.get_layer(f\"transformer_layer_{i}\")._feedforward_output_dense.kernel.assign(\n",
        "        weights[f\"model/h{i}/mlp/c_proj/w\"][0]\n",
        "    )\n",
        "    model.get_layer(f\"transformer_layer_{i}\")._feedforward_output_dense.bias.assign(\n",
        "        weights[f\"model/h{i}/mlp/c_proj/b\"]\n",
        "    )\n",
        "\n",
        "\n",
        "    model.get_layer(f\"transformer_layer_{i}\")._feedforward_layernorm.gamma.assign(\n",
        "        weights[f\"model/h{i}/ln_2/g\"]\n",
        "    )\n",
        "    model.get_layer(f\"transformer_layer_{i}\")._feedforward_layernorm.beta.assign(\n",
        "        weights[f\"model/h{i}/ln_2/b\"]\n",
        "    )\n",
        "\n",
        "\n",
        "model.get_layer(\"layer_norm\").gamma.assign(\n",
        "    weights[f\"model/ln_f/g\"]\n",
        ")\n",
        "\n",
        "model.get_layer(\"layer_norm\").beta.assign(\n",
        "    weights[f\"model/ln_f/b\"]\n",
        ")\n",
        "pass"
      ]
    },
    {
      "cell_type": "code",
      "execution_count": 11,
      "metadata": {
        "id": "Re1PbFjyNISP",
        "colab": {
          "base_uri": "https://localhost:8080/",
          "height": 177,
          "referenced_widgets": [
            "464884239956404093cb09c0afe40e10",
            "88df4d2fd47a4f03b889f04469aa3353",
            "b0166492635948f88da589b3b1451d8d",
            "b90941b31df248b1b6560bc2412dda37",
            "48379d54dba34465bacbdceec8424ba5",
            "183f944d4b5649bcad82a444f69bc544",
            "ef602059963c4071a345ecc33595f351",
            "cbe763c9efc3440483f0c0995c7ba2c0",
            "47835a7178794d53b8d75b344322f688",
            "277c0838e46949f99d766b9c6e313a11",
            "7912ec908ca1408e82000122f5e25957",
            "1669d2465f6b4d84bfacfef8af0ccab6",
            "622e0abd2756432e97fa280e7a6ff23a",
            "a44f35e7eee146e7b89766f5ff7a4b0d",
            "bb7684f3e15e4c9c929be1e9e6b1aa9e",
            "3bcb75f10bc74e0da74ef6b4da62fef1",
            "842edee00ec54f1aa7d9c4d64651a9f3",
            "4d14c944d9794fa5aea7074239206cee",
            "8fa21b69c6f547008ddf646343095313",
            "912b2b95c5f9475cb1c4e64ae07cf92e",
            "9e3bd1ff3cd64fd0bf7a5f938af5562a",
            "50678d6775124f539dd8599fe3013c79",
            "96a97d046f11492ebc1b987193c49778",
            "9f4045fcf5b7445fb8a3a018be051b76",
            "03d7aafcb5a8449c85ac999d2c814914",
            "a9a4f5de20be43b090cc718090c53680",
            "e9239bccbe394ee4b4178d998e9eb4bc",
            "3042cb8c6ac24e77a75a0142c973e591",
            "be8d9e42d28a41c39ab126c144c695e7",
            "9ba8eb8c9090443599d6dd9e22ae5f52",
            "83fc7c23785b448eab1b4d86078c2eb1",
            "ec82e2a0dc2f44e6acfce42e75b4e3b5",
            "0fb2bbffc5a0425e96095152f3d79925",
            "92646bf565654ec9b86130fd5c340079",
            "8d00976d13634522b41bed8eb92cf20c",
            "491cbee2c6e94c7881046e114923fcfa",
            "a3d5c99e9fc04a0f93db04a294007e5d",
            "7be8a6ea0a5546e39bc76a3f1377f00c",
            "a127fcab5f974c07a009534c09390a5b",
            "a3ac319a29bd4ff8bfa77916747b77e3",
            "0afae55505f14a839f03d8165f707732",
            "677eb3fb918b4784869fc81bfd895ceb",
            "d6456eaf63dc4fe094e6e49e2407ce0e",
            "7e17a29f5c86455ab7dc272639e12279",
            "d0c0b262941045d49ad69c42b95a5ead",
            "d8b7e3ba418c44f0abd3315fe326556b",
            "974ed98300e44bb38110023772b4a543",
            "883b0d7039174f37934795af25551ea2",
            "ed8638369f504cf4a74bb42d1edbe93d",
            "a09de86c51c645f19afcf05eb72cf68f",
            "12e87d93f254488c8b55ae0162e9bb17",
            "ea426091c7b043df9d95a4629c228fd4",
            "9bbb4fe2f56c47a6a50e854af8e5a2af",
            "9888fc898b064ca599dd1e2f1df1058d",
            "a59ab2aede9842f7ada750b53d8515cf"
          ]
        },
        "outputId": "7e910830-ec32-4ffe-d64f-41554b74039e"
      },
      "outputs": [
        {
          "output_type": "display_data",
          "data": {
            "text/plain": [
              "Downloading:   0%|          | 0.00/665 [00:00<?, ?B/s]"
            ],
            "application/vnd.jupyter.widget-view+json": {
              "version_major": 2,
              "version_minor": 0,
              "model_id": "464884239956404093cb09c0afe40e10"
            }
          },
          "metadata": {}
        },
        {
          "output_type": "display_data",
          "data": {
            "text/plain": [
              "Downloading:   0%|          | 0.00/1.04M [00:00<?, ?B/s]"
            ],
            "application/vnd.jupyter.widget-view+json": {
              "version_major": 2,
              "version_minor": 0,
              "model_id": "1669d2465f6b4d84bfacfef8af0ccab6"
            }
          },
          "metadata": {}
        },
        {
          "output_type": "display_data",
          "data": {
            "text/plain": [
              "Downloading:   0%|          | 0.00/456k [00:00<?, ?B/s]"
            ],
            "application/vnd.jupyter.widget-view+json": {
              "version_major": 2,
              "version_minor": 0,
              "model_id": "96a97d046f11492ebc1b987193c49778"
            }
          },
          "metadata": {}
        },
        {
          "output_type": "display_data",
          "data": {
            "text/plain": [
              "Downloading:   0%|          | 0.00/1.36M [00:00<?, ?B/s]"
            ],
            "application/vnd.jupyter.widget-view+json": {
              "version_major": 2,
              "version_minor": 0,
              "model_id": "92646bf565654ec9b86130fd5c340079"
            }
          },
          "metadata": {}
        },
        {
          "output_type": "display_data",
          "data": {
            "text/plain": [
              "Downloading:   0%|          | 0.00/548M [00:00<?, ?B/s]"
            ],
            "application/vnd.jupyter.widget-view+json": {
              "version_major": 2,
              "version_minor": 0,
              "model_id": "d0c0b262941045d49ad69c42b95a5ead"
            }
          },
          "metadata": {}
        }
      ],
      "source": [
        "# Define KerasNLP components.\n",
        "\n",
        "bpe_tokenizer = keras_nlp.tokenizers.BytePairTokenizer(\n",
        "    vocabulary=vocab_path,\n",
        "    merges=merges_path,\n",
        "    # sequence_length=cfg[\"n_ctx\"]\n",
        ")\n",
        "\n",
        "# Define HF components.\n",
        "\n",
        "hf_tokenizer = AutoTokenizer.from_pretrained(\"gpt2\")\n",
        "hf_model = AutoModel.from_pretrained(\"gpt2\")\n",
        "hf_model.eval()\n",
        "pass"
      ]
    },
    {
      "cell_type": "code",
      "execution_count": 12,
      "metadata": {
        "id": "wMIGTRQpoWiM",
        "colab": {
          "base_uri": "https://localhost:8080/"
        },
        "outputId": "97780dbf-5cef-478a-9d92-48300bc1183d"
      },
      "outputs": [
        {
          "output_type": "stream",
          "name": "stdout",
          "text": [
            "1/1 [==============================] - 5s 5s/step\n"
          ]
        }
      ],
      "source": [
        "# KerasNLP\n",
        "token_ids = bpe_tokenizer([\"the quick brown fox ran, galloped and jumped.\"])\n",
        "padding_mask = token_ids != 0\n",
        "\n",
        "inputs = {\n",
        "    \"token_ids\": token_ids.to_tensor(),\n",
        "    \"padding_mask\": padding_mask.to_tensor()\n",
        "}\n",
        "\n",
        "keras_nlp_output = model.predict(inputs)\n",
        "\n",
        "# HF\n",
        "hf_inputs = hf_tokenizer([\"the quick brown fox ran, galloped and jumped.\"], return_tensors=\"pt\")\n",
        "hf_output = hf_model(**hf_inputs).last_hidden_state"
      ]
    },
    {
      "cell_type": "code",
      "execution_count": 13,
      "metadata": {
        "id": "HCANzbgBw8t_",
        "colab": {
          "base_uri": "https://localhost:8080/"
        },
        "outputId": "8720e3a8-37a6-4099-8b04-aca5742b5bf0"
      },
      "outputs": [
        {
          "output_type": "execute_result",
          "data": {
            "text/plain": [
              "(array([-0.11164568, -0.03757825, -0.2624619 ,  0.00891277, -0.00618765,\n",
              "        -0.20491552, -0.72548056, -0.0761577 , -0.03654918,  0.01662023],\n",
              "       dtype=float32),\n",
              " tensor([-0.1116, -0.0376, -0.2625,  0.0089, -0.0062, -0.2049, -0.7255, -0.0762,\n",
              "         -0.0365,  0.0166], grad_fn=<SliceBackward0>))"
            ]
          },
          "metadata": {},
          "execution_count": 13
        }
      ],
      "source": [
        "keras_nlp_output[0, 0, :10], hf_output[0, 0, :10]"
      ]
    },
    {
      "cell_type": "code",
      "execution_count": 14,
      "metadata": {
        "id": "tDoD1gWE0Qlo",
        "colab": {
          "base_uri": "https://localhost:8080/"
        },
        "outputId": "2f8401c5-6f40-43d9-e455-c9ca2274d5de"
      },
      "outputs": [
        {
          "output_type": "execute_result",
          "data": {
            "text/plain": [
              "1.665259e-08"
            ]
          },
          "metadata": {},
          "execution_count": 14
        }
      ],
      "source": [
        "np.mean(keras_nlp_output - hf_output.detach().numpy())"
      ]
    },
    {
      "cell_type": "code",
      "execution_count": 15,
      "metadata": {
        "id": "_tHdflEuMcYb"
      },
      "outputs": [],
      "source": [
        "# Save GPT-2 checkpoint.\n",
        "model.save_weights(f\"\"\"gpt2_base.h5\"\"\")"
      ]
    },
    {
      "cell_type": "code",
      "execution_count": 16,
      "metadata": {
        "id": "JOZrs1cIOhEJ"
      },
      "outputs": [],
      "source": [
        "model2 = keras_nlp.models.GPT2.from_preset(\n",
        "    \"gpt2_base\",\n",
        "    load_weights=False,\n",
        ")\n",
        "model2.load_weights(f\"\"\"gpt2_base.h5\"\"\")"
      ]
    },
    {
      "cell_type": "code",
      "execution_count": 17,
      "metadata": {
        "colab": {
          "base_uri": "https://localhost:8080/"
        },
        "id": "BfXY-9IjOtG5",
        "outputId": "451a1550-6ab7-435d-d5c2-028fa6b3f5fe"
      },
      "outputs": [
        {
          "output_type": "stream",
          "name": "stdout",
          "text": [
            "1/1 [==============================] - 2s 2s/step\n"
          ]
        }
      ],
      "source": [
        "token_ids = bpe_tokenizer([\"the quick brown fox ran, galloped and jumped.\"])\n",
        "padding_mask = token_ids != 0\n",
        "\n",
        "inputs = {\n",
        "    \"token_ids\": token_ids.to_tensor(),\n",
        "    \"padding_mask\": padding_mask.to_tensor()\n",
        "}\n",
        "\n",
        "keras_nlp_output2 = model2.predict(inputs)"
      ]
    },
    {
      "cell_type": "code",
      "execution_count": 18,
      "metadata": {
        "id": "z-fExBuZO0U8",
        "colab": {
          "base_uri": "https://localhost:8080/"
        },
        "outputId": "29d77be1-a31b-4a7d-b054-a584a45e04e9"
      },
      "outputs": [
        {
          "output_type": "execute_result",
          "data": {
            "text/plain": [
              "<tf.Tensor: shape=(), dtype=float32, numpy=0.0>"
            ]
          },
          "metadata": {},
          "execution_count": 18
        }
      ],
      "source": [
        "tf.reduce_mean(keras_nlp_output - keras_nlp_output2)"
      ]
    },
    {
      "cell_type": "code",
      "execution_count": 19,
      "metadata": {
        "id": "kvNrzi21kOcN"
      },
      "outputs": [],
      "source": [
        "# Obtain `merges.txt` and `vocab.json` (for the tokenizer).\n",
        "# Note: These two files are the same for other variants of\n",
        "# GPT-2. So, we will not copy these over separately for those\n",
        "# variants.\n",
        "\n",
        "!cp $merges_path ./merges.txt\n",
        "!cp $vocab_path ./vocab.json"
      ]
    },
    {
      "cell_type": "code",
      "execution_count": null,
      "metadata": {
        "id": "X9tdiQLunL-o",
        "colab": {
          "base_uri": "https://localhost:8080/"
        },
        "outputId": "daaf5d99-0a3a-4ff1-fee4-db3c6c9d7ee1"
      },
      "outputs": [
        {
          "output_type": "stream",
          "name": "stdout",
          "text": [
            "75a37753dd7a28a2c5df80c28bf06e4e  merges.txt\n",
            "dffec25a898b1f5e569bec4dffd7e5c0  vocab.json\n"
          ]
        }
      ],
      "source": [
        "!md5sum merges.txt\n",
        "!md5sum vocab.json"
      ]
    },
    {
      "cell_type": "code",
      "execution_count": null,
      "metadata": {
        "colab": {
          "base_uri": "https://localhost:8080/"
        },
        "id": "mvdsLyOdbkWY",
        "outputId": "b121de31-61f1-401d-9f6f-3a58bcd98064"
      },
      "outputs": [
        {
          "name": "stdout",
          "output_type": "stream",
          "text": [
            "f4ea6e1b214516dd7de452461ee6e16e  gpt2_base.h5\n"
          ]
        }
      ],
      "source": [
        "!md5sum gpt2_base.h5"
      ]
    },
    {
      "cell_type": "code",
      "execution_count": 20,
      "metadata": {
        "colab": {
          "base_uri": "https://localhost:8080/"
        },
        "id": "wTd-5vUyVG0Q",
        "outputId": "ae2a6f5e-ebbe-474b-db3e-235aaff22367"
      },
      "outputs": [
        {
          "output_type": "stream",
          "name": "stdout",
          "text": [
            "Downloading data from https://storage.googleapis.com/keras-nlp/models/gpt2_base/model.h5\n",
            "497986112/497986112 [==============================] - 5s 0us/step\n"
          ]
        }
      ],
      "source": [
        "# Check uploaded model once added to repo\n",
        "model_cloud = keras_nlp.models.GPT2.from_preset(\"gpt2_base\", load_weights=True)"
      ]
    },
    {
      "cell_type": "code",
      "execution_count": 21,
      "metadata": {
        "colab": {
          "base_uri": "https://localhost:8080/"
        },
        "id": "zs5x_f6GVdNY",
        "outputId": "3ff88783-163d-4a53-82d9-9b54186d607c"
      },
      "outputs": [
        {
          "output_type": "stream",
          "name": "stdout",
          "text": [
            "1/1 [==============================] - 2s 2s/step\n"
          ]
        },
        {
          "output_type": "execute_result",
          "data": {
            "text/plain": [
              "<tf.Tensor: shape=(), dtype=float32, numpy=0.0>"
            ]
          },
          "metadata": {},
          "execution_count": 21
        }
      ],
      "source": [
        "# Same output from cloud model\n",
        "keras_nlp_output_cloud = model_cloud.predict(inputs)\n",
        "tf.reduce_mean(keras_nlp_output - keras_nlp_output_cloud)"
      ]
    },
    {
      "cell_type": "code",
      "execution_count": 22,
      "metadata": {
        "colab": {
          "base_uri": "https://localhost:8080/"
        },
        "id": "RAwrhAcSzHWa",
        "outputId": "e32c62f0-c0c0-43f4-d902-029d35e31124"
      },
      "outputs": [
        {
          "output_type": "execute_result",
          "data": {
            "text/plain": [
              "array([-0.11164568, -0.03757825, -0.2624619 ,  0.00891277, -0.00618765,\n",
              "       -0.20491552, -0.72548056, -0.0761577 , -0.03654918,  0.01662023],\n",
              "      dtype=float32)"
            ]
          },
          "metadata": {},
          "execution_count": 22
        }
      ],
      "source": [
        "keras_nlp_output_cloud[0, 0, :10]"
      ]
    },
    {
      "cell_type": "code",
      "source": [],
      "metadata": {
        "id": "HcgbaMQGaPsM"
      },
      "execution_count": null,
      "outputs": []
    }
  ],
  "metadata": {
    "accelerator": "GPU",
    "colab": {
      "collapsed_sections": [],
      "provenance": []
    },
    "gpuClass": "standard",
    "kernelspec": {
      "display_name": "Python 3",
      "name": "python3"
    },
    "language_info": {
      "name": "python"
    },
    "widgets": {
      "application/vnd.jupyter.widget-state+json": {
        "464884239956404093cb09c0afe40e10": {
          "model_module": "@jupyter-widgets/controls",
          "model_name": "HBoxModel",
          "model_module_version": "1.5.0",
          "state": {
            "_dom_classes": [],
            "_model_module": "@jupyter-widgets/controls",
            "_model_module_version": "1.5.0",
            "_model_name": "HBoxModel",
            "_view_count": null,
            "_view_module": "@jupyter-widgets/controls",
            "_view_module_version": "1.5.0",
            "_view_name": "HBoxView",
            "box_style": "",
            "children": [
              "IPY_MODEL_88df4d2fd47a4f03b889f04469aa3353",
              "IPY_MODEL_b0166492635948f88da589b3b1451d8d",
              "IPY_MODEL_b90941b31df248b1b6560bc2412dda37"
            ],
            "layout": "IPY_MODEL_48379d54dba34465bacbdceec8424ba5"
          }
        },
        "88df4d2fd47a4f03b889f04469aa3353": {
          "model_module": "@jupyter-widgets/controls",
          "model_name": "HTMLModel",
          "model_module_version": "1.5.0",
          "state": {
            "_dom_classes": [],
            "_model_module": "@jupyter-widgets/controls",
            "_model_module_version": "1.5.0",
            "_model_name": "HTMLModel",
            "_view_count": null,
            "_view_module": "@jupyter-widgets/controls",
            "_view_module_version": "1.5.0",
            "_view_name": "HTMLView",
            "description": "",
            "description_tooltip": null,
            "layout": "IPY_MODEL_183f944d4b5649bcad82a444f69bc544",
            "placeholder": "​",
            "style": "IPY_MODEL_ef602059963c4071a345ecc33595f351",
            "value": "Downloading: 100%"
          }
        },
        "b0166492635948f88da589b3b1451d8d": {
          "model_module": "@jupyter-widgets/controls",
          "model_name": "FloatProgressModel",
          "model_module_version": "1.5.0",
          "state": {
            "_dom_classes": [],
            "_model_module": "@jupyter-widgets/controls",
            "_model_module_version": "1.5.0",
            "_model_name": "FloatProgressModel",
            "_view_count": null,
            "_view_module": "@jupyter-widgets/controls",
            "_view_module_version": "1.5.0",
            "_view_name": "ProgressView",
            "bar_style": "success",
            "description": "",
            "description_tooltip": null,
            "layout": "IPY_MODEL_cbe763c9efc3440483f0c0995c7ba2c0",
            "max": 665,
            "min": 0,
            "orientation": "horizontal",
            "style": "IPY_MODEL_47835a7178794d53b8d75b344322f688",
            "value": 665
          }
        },
        "b90941b31df248b1b6560bc2412dda37": {
          "model_module": "@jupyter-widgets/controls",
          "model_name": "HTMLModel",
          "model_module_version": "1.5.0",
          "state": {
            "_dom_classes": [],
            "_model_module": "@jupyter-widgets/controls",
            "_model_module_version": "1.5.0",
            "_model_name": "HTMLModel",
            "_view_count": null,
            "_view_module": "@jupyter-widgets/controls",
            "_view_module_version": "1.5.0",
            "_view_name": "HTMLView",
            "description": "",
            "description_tooltip": null,
            "layout": "IPY_MODEL_277c0838e46949f99d766b9c6e313a11",
            "placeholder": "​",
            "style": "IPY_MODEL_7912ec908ca1408e82000122f5e25957",
            "value": " 665/665 [00:00&lt;00:00, 17.6kB/s]"
          }
        },
        "48379d54dba34465bacbdceec8424ba5": {
          "model_module": "@jupyter-widgets/base",
          "model_name": "LayoutModel",
          "model_module_version": "1.2.0",
          "state": {
            "_model_module": "@jupyter-widgets/base",
            "_model_module_version": "1.2.0",
            "_model_name": "LayoutModel",
            "_view_count": null,
            "_view_module": "@jupyter-widgets/base",
            "_view_module_version": "1.2.0",
            "_view_name": "LayoutView",
            "align_content": null,
            "align_items": null,
            "align_self": null,
            "border": null,
            "bottom": null,
            "display": null,
            "flex": null,
            "flex_flow": null,
            "grid_area": null,
            "grid_auto_columns": null,
            "grid_auto_flow": null,
            "grid_auto_rows": null,
            "grid_column": null,
            "grid_gap": null,
            "grid_row": null,
            "grid_template_areas": null,
            "grid_template_columns": null,
            "grid_template_rows": null,
            "height": null,
            "justify_content": null,
            "justify_items": null,
            "left": null,
            "margin": null,
            "max_height": null,
            "max_width": null,
            "min_height": null,
            "min_width": null,
            "object_fit": null,
            "object_position": null,
            "order": null,
            "overflow": null,
            "overflow_x": null,
            "overflow_y": null,
            "padding": null,
            "right": null,
            "top": null,
            "visibility": null,
            "width": null
          }
        },
        "183f944d4b5649bcad82a444f69bc544": {
          "model_module": "@jupyter-widgets/base",
          "model_name": "LayoutModel",
          "model_module_version": "1.2.0",
          "state": {
            "_model_module": "@jupyter-widgets/base",
            "_model_module_version": "1.2.0",
            "_model_name": "LayoutModel",
            "_view_count": null,
            "_view_module": "@jupyter-widgets/base",
            "_view_module_version": "1.2.0",
            "_view_name": "LayoutView",
            "align_content": null,
            "align_items": null,
            "align_self": null,
            "border": null,
            "bottom": null,
            "display": null,
            "flex": null,
            "flex_flow": null,
            "grid_area": null,
            "grid_auto_columns": null,
            "grid_auto_flow": null,
            "grid_auto_rows": null,
            "grid_column": null,
            "grid_gap": null,
            "grid_row": null,
            "grid_template_areas": null,
            "grid_template_columns": null,
            "grid_template_rows": null,
            "height": null,
            "justify_content": null,
            "justify_items": null,
            "left": null,
            "margin": null,
            "max_height": null,
            "max_width": null,
            "min_height": null,
            "min_width": null,
            "object_fit": null,
            "object_position": null,
            "order": null,
            "overflow": null,
            "overflow_x": null,
            "overflow_y": null,
            "padding": null,
            "right": null,
            "top": null,
            "visibility": null,
            "width": null
          }
        },
        "ef602059963c4071a345ecc33595f351": {
          "model_module": "@jupyter-widgets/controls",
          "model_name": "DescriptionStyleModel",
          "model_module_version": "1.5.0",
          "state": {
            "_model_module": "@jupyter-widgets/controls",
            "_model_module_version": "1.5.0",
            "_model_name": "DescriptionStyleModel",
            "_view_count": null,
            "_view_module": "@jupyter-widgets/base",
            "_view_module_version": "1.2.0",
            "_view_name": "StyleView",
            "description_width": ""
          }
        },
        "cbe763c9efc3440483f0c0995c7ba2c0": {
          "model_module": "@jupyter-widgets/base",
          "model_name": "LayoutModel",
          "model_module_version": "1.2.0",
          "state": {
            "_model_module": "@jupyter-widgets/base",
            "_model_module_version": "1.2.0",
            "_model_name": "LayoutModel",
            "_view_count": null,
            "_view_module": "@jupyter-widgets/base",
            "_view_module_version": "1.2.0",
            "_view_name": "LayoutView",
            "align_content": null,
            "align_items": null,
            "align_self": null,
            "border": null,
            "bottom": null,
            "display": null,
            "flex": null,
            "flex_flow": null,
            "grid_area": null,
            "grid_auto_columns": null,
            "grid_auto_flow": null,
            "grid_auto_rows": null,
            "grid_column": null,
            "grid_gap": null,
            "grid_row": null,
            "grid_template_areas": null,
            "grid_template_columns": null,
            "grid_template_rows": null,
            "height": null,
            "justify_content": null,
            "justify_items": null,
            "left": null,
            "margin": null,
            "max_height": null,
            "max_width": null,
            "min_height": null,
            "min_width": null,
            "object_fit": null,
            "object_position": null,
            "order": null,
            "overflow": null,
            "overflow_x": null,
            "overflow_y": null,
            "padding": null,
            "right": null,
            "top": null,
            "visibility": null,
            "width": null
          }
        },
        "47835a7178794d53b8d75b344322f688": {
          "model_module": "@jupyter-widgets/controls",
          "model_name": "ProgressStyleModel",
          "model_module_version": "1.5.0",
          "state": {
            "_model_module": "@jupyter-widgets/controls",
            "_model_module_version": "1.5.0",
            "_model_name": "ProgressStyleModel",
            "_view_count": null,
            "_view_module": "@jupyter-widgets/base",
            "_view_module_version": "1.2.0",
            "_view_name": "StyleView",
            "bar_color": null,
            "description_width": ""
          }
        },
        "277c0838e46949f99d766b9c6e313a11": {
          "model_module": "@jupyter-widgets/base",
          "model_name": "LayoutModel",
          "model_module_version": "1.2.0",
          "state": {
            "_model_module": "@jupyter-widgets/base",
            "_model_module_version": "1.2.0",
            "_model_name": "LayoutModel",
            "_view_count": null,
            "_view_module": "@jupyter-widgets/base",
            "_view_module_version": "1.2.0",
            "_view_name": "LayoutView",
            "align_content": null,
            "align_items": null,
            "align_self": null,
            "border": null,
            "bottom": null,
            "display": null,
            "flex": null,
            "flex_flow": null,
            "grid_area": null,
            "grid_auto_columns": null,
            "grid_auto_flow": null,
            "grid_auto_rows": null,
            "grid_column": null,
            "grid_gap": null,
            "grid_row": null,
            "grid_template_areas": null,
            "grid_template_columns": null,
            "grid_template_rows": null,
            "height": null,
            "justify_content": null,
            "justify_items": null,
            "left": null,
            "margin": null,
            "max_height": null,
            "max_width": null,
            "min_height": null,
            "min_width": null,
            "object_fit": null,
            "object_position": null,
            "order": null,
            "overflow": null,
            "overflow_x": null,
            "overflow_y": null,
            "padding": null,
            "right": null,
            "top": null,
            "visibility": null,
            "width": null
          }
        },
        "7912ec908ca1408e82000122f5e25957": {
          "model_module": "@jupyter-widgets/controls",
          "model_name": "DescriptionStyleModel",
          "model_module_version": "1.5.0",
          "state": {
            "_model_module": "@jupyter-widgets/controls",
            "_model_module_version": "1.5.0",
            "_model_name": "DescriptionStyleModel",
            "_view_count": null,
            "_view_module": "@jupyter-widgets/base",
            "_view_module_version": "1.2.0",
            "_view_name": "StyleView",
            "description_width": ""
          }
        },
        "1669d2465f6b4d84bfacfef8af0ccab6": {
          "model_module": "@jupyter-widgets/controls",
          "model_name": "HBoxModel",
          "model_module_version": "1.5.0",
          "state": {
            "_dom_classes": [],
            "_model_module": "@jupyter-widgets/controls",
            "_model_module_version": "1.5.0",
            "_model_name": "HBoxModel",
            "_view_count": null,
            "_view_module": "@jupyter-widgets/controls",
            "_view_module_version": "1.5.0",
            "_view_name": "HBoxView",
            "box_style": "",
            "children": [
              "IPY_MODEL_622e0abd2756432e97fa280e7a6ff23a",
              "IPY_MODEL_a44f35e7eee146e7b89766f5ff7a4b0d",
              "IPY_MODEL_bb7684f3e15e4c9c929be1e9e6b1aa9e"
            ],
            "layout": "IPY_MODEL_3bcb75f10bc74e0da74ef6b4da62fef1"
          }
        },
        "622e0abd2756432e97fa280e7a6ff23a": {
          "model_module": "@jupyter-widgets/controls",
          "model_name": "HTMLModel",
          "model_module_version": "1.5.0",
          "state": {
            "_dom_classes": [],
            "_model_module": "@jupyter-widgets/controls",
            "_model_module_version": "1.5.0",
            "_model_name": "HTMLModel",
            "_view_count": null,
            "_view_module": "@jupyter-widgets/controls",
            "_view_module_version": "1.5.0",
            "_view_name": "HTMLView",
            "description": "",
            "description_tooltip": null,
            "layout": "IPY_MODEL_842edee00ec54f1aa7d9c4d64651a9f3",
            "placeholder": "​",
            "style": "IPY_MODEL_4d14c944d9794fa5aea7074239206cee",
            "value": "Downloading: 100%"
          }
        },
        "a44f35e7eee146e7b89766f5ff7a4b0d": {
          "model_module": "@jupyter-widgets/controls",
          "model_name": "FloatProgressModel",
          "model_module_version": "1.5.0",
          "state": {
            "_dom_classes": [],
            "_model_module": "@jupyter-widgets/controls",
            "_model_module_version": "1.5.0",
            "_model_name": "FloatProgressModel",
            "_view_count": null,
            "_view_module": "@jupyter-widgets/controls",
            "_view_module_version": "1.5.0",
            "_view_name": "ProgressView",
            "bar_style": "success",
            "description": "",
            "description_tooltip": null,
            "layout": "IPY_MODEL_8fa21b69c6f547008ddf646343095313",
            "max": 1042301,
            "min": 0,
            "orientation": "horizontal",
            "style": "IPY_MODEL_912b2b95c5f9475cb1c4e64ae07cf92e",
            "value": 1042301
          }
        },
        "bb7684f3e15e4c9c929be1e9e6b1aa9e": {
          "model_module": "@jupyter-widgets/controls",
          "model_name": "HTMLModel",
          "model_module_version": "1.5.0",
          "state": {
            "_dom_classes": [],
            "_model_module": "@jupyter-widgets/controls",
            "_model_module_version": "1.5.0",
            "_model_name": "HTMLModel",
            "_view_count": null,
            "_view_module": "@jupyter-widgets/controls",
            "_view_module_version": "1.5.0",
            "_view_name": "HTMLView",
            "description": "",
            "description_tooltip": null,
            "layout": "IPY_MODEL_9e3bd1ff3cd64fd0bf7a5f938af5562a",
            "placeholder": "​",
            "style": "IPY_MODEL_50678d6775124f539dd8599fe3013c79",
            "value": " 1.04M/1.04M [00:00&lt;00:00, 1.92MB/s]"
          }
        },
        "3bcb75f10bc74e0da74ef6b4da62fef1": {
          "model_module": "@jupyter-widgets/base",
          "model_name": "LayoutModel",
          "model_module_version": "1.2.0",
          "state": {
            "_model_module": "@jupyter-widgets/base",
            "_model_module_version": "1.2.0",
            "_model_name": "LayoutModel",
            "_view_count": null,
            "_view_module": "@jupyter-widgets/base",
            "_view_module_version": "1.2.0",
            "_view_name": "LayoutView",
            "align_content": null,
            "align_items": null,
            "align_self": null,
            "border": null,
            "bottom": null,
            "display": null,
            "flex": null,
            "flex_flow": null,
            "grid_area": null,
            "grid_auto_columns": null,
            "grid_auto_flow": null,
            "grid_auto_rows": null,
            "grid_column": null,
            "grid_gap": null,
            "grid_row": null,
            "grid_template_areas": null,
            "grid_template_columns": null,
            "grid_template_rows": null,
            "height": null,
            "justify_content": null,
            "justify_items": null,
            "left": null,
            "margin": null,
            "max_height": null,
            "max_width": null,
            "min_height": null,
            "min_width": null,
            "object_fit": null,
            "object_position": null,
            "order": null,
            "overflow": null,
            "overflow_x": null,
            "overflow_y": null,
            "padding": null,
            "right": null,
            "top": null,
            "visibility": null,
            "width": null
          }
        },
        "842edee00ec54f1aa7d9c4d64651a9f3": {
          "model_module": "@jupyter-widgets/base",
          "model_name": "LayoutModel",
          "model_module_version": "1.2.0",
          "state": {
            "_model_module": "@jupyter-widgets/base",
            "_model_module_version": "1.2.0",
            "_model_name": "LayoutModel",
            "_view_count": null,
            "_view_module": "@jupyter-widgets/base",
            "_view_module_version": "1.2.0",
            "_view_name": "LayoutView",
            "align_content": null,
            "align_items": null,
            "align_self": null,
            "border": null,
            "bottom": null,
            "display": null,
            "flex": null,
            "flex_flow": null,
            "grid_area": null,
            "grid_auto_columns": null,
            "grid_auto_flow": null,
            "grid_auto_rows": null,
            "grid_column": null,
            "grid_gap": null,
            "grid_row": null,
            "grid_template_areas": null,
            "grid_template_columns": null,
            "grid_template_rows": null,
            "height": null,
            "justify_content": null,
            "justify_items": null,
            "left": null,
            "margin": null,
            "max_height": null,
            "max_width": null,
            "min_height": null,
            "min_width": null,
            "object_fit": null,
            "object_position": null,
            "order": null,
            "overflow": null,
            "overflow_x": null,
            "overflow_y": null,
            "padding": null,
            "right": null,
            "top": null,
            "visibility": null,
            "width": null
          }
        },
        "4d14c944d9794fa5aea7074239206cee": {
          "model_module": "@jupyter-widgets/controls",
          "model_name": "DescriptionStyleModel",
          "model_module_version": "1.5.0",
          "state": {
            "_model_module": "@jupyter-widgets/controls",
            "_model_module_version": "1.5.0",
            "_model_name": "DescriptionStyleModel",
            "_view_count": null,
            "_view_module": "@jupyter-widgets/base",
            "_view_module_version": "1.2.0",
            "_view_name": "StyleView",
            "description_width": ""
          }
        },
        "8fa21b69c6f547008ddf646343095313": {
          "model_module": "@jupyter-widgets/base",
          "model_name": "LayoutModel",
          "model_module_version": "1.2.0",
          "state": {
            "_model_module": "@jupyter-widgets/base",
            "_model_module_version": "1.2.0",
            "_model_name": "LayoutModel",
            "_view_count": null,
            "_view_module": "@jupyter-widgets/base",
            "_view_module_version": "1.2.0",
            "_view_name": "LayoutView",
            "align_content": null,
            "align_items": null,
            "align_self": null,
            "border": null,
            "bottom": null,
            "display": null,
            "flex": null,
            "flex_flow": null,
            "grid_area": null,
            "grid_auto_columns": null,
            "grid_auto_flow": null,
            "grid_auto_rows": null,
            "grid_column": null,
            "grid_gap": null,
            "grid_row": null,
            "grid_template_areas": null,
            "grid_template_columns": null,
            "grid_template_rows": null,
            "height": null,
            "justify_content": null,
            "justify_items": null,
            "left": null,
            "margin": null,
            "max_height": null,
            "max_width": null,
            "min_height": null,
            "min_width": null,
            "object_fit": null,
            "object_position": null,
            "order": null,
            "overflow": null,
            "overflow_x": null,
            "overflow_y": null,
            "padding": null,
            "right": null,
            "top": null,
            "visibility": null,
            "width": null
          }
        },
        "912b2b95c5f9475cb1c4e64ae07cf92e": {
          "model_module": "@jupyter-widgets/controls",
          "model_name": "ProgressStyleModel",
          "model_module_version": "1.5.0",
          "state": {
            "_model_module": "@jupyter-widgets/controls",
            "_model_module_version": "1.5.0",
            "_model_name": "ProgressStyleModel",
            "_view_count": null,
            "_view_module": "@jupyter-widgets/base",
            "_view_module_version": "1.2.0",
            "_view_name": "StyleView",
            "bar_color": null,
            "description_width": ""
          }
        },
        "9e3bd1ff3cd64fd0bf7a5f938af5562a": {
          "model_module": "@jupyter-widgets/base",
          "model_name": "LayoutModel",
          "model_module_version": "1.2.0",
          "state": {
            "_model_module": "@jupyter-widgets/base",
            "_model_module_version": "1.2.0",
            "_model_name": "LayoutModel",
            "_view_count": null,
            "_view_module": "@jupyter-widgets/base",
            "_view_module_version": "1.2.0",
            "_view_name": "LayoutView",
            "align_content": null,
            "align_items": null,
            "align_self": null,
            "border": null,
            "bottom": null,
            "display": null,
            "flex": null,
            "flex_flow": null,
            "grid_area": null,
            "grid_auto_columns": null,
            "grid_auto_flow": null,
            "grid_auto_rows": null,
            "grid_column": null,
            "grid_gap": null,
            "grid_row": null,
            "grid_template_areas": null,
            "grid_template_columns": null,
            "grid_template_rows": null,
            "height": null,
            "justify_content": null,
            "justify_items": null,
            "left": null,
            "margin": null,
            "max_height": null,
            "max_width": null,
            "min_height": null,
            "min_width": null,
            "object_fit": null,
            "object_position": null,
            "order": null,
            "overflow": null,
            "overflow_x": null,
            "overflow_y": null,
            "padding": null,
            "right": null,
            "top": null,
            "visibility": null,
            "width": null
          }
        },
        "50678d6775124f539dd8599fe3013c79": {
          "model_module": "@jupyter-widgets/controls",
          "model_name": "DescriptionStyleModel",
          "model_module_version": "1.5.0",
          "state": {
            "_model_module": "@jupyter-widgets/controls",
            "_model_module_version": "1.5.0",
            "_model_name": "DescriptionStyleModel",
            "_view_count": null,
            "_view_module": "@jupyter-widgets/base",
            "_view_module_version": "1.2.0",
            "_view_name": "StyleView",
            "description_width": ""
          }
        },
        "96a97d046f11492ebc1b987193c49778": {
          "model_module": "@jupyter-widgets/controls",
          "model_name": "HBoxModel",
          "model_module_version": "1.5.0",
          "state": {
            "_dom_classes": [],
            "_model_module": "@jupyter-widgets/controls",
            "_model_module_version": "1.5.0",
            "_model_name": "HBoxModel",
            "_view_count": null,
            "_view_module": "@jupyter-widgets/controls",
            "_view_module_version": "1.5.0",
            "_view_name": "HBoxView",
            "box_style": "",
            "children": [
              "IPY_MODEL_9f4045fcf5b7445fb8a3a018be051b76",
              "IPY_MODEL_03d7aafcb5a8449c85ac999d2c814914",
              "IPY_MODEL_a9a4f5de20be43b090cc718090c53680"
            ],
            "layout": "IPY_MODEL_e9239bccbe394ee4b4178d998e9eb4bc"
          }
        },
        "9f4045fcf5b7445fb8a3a018be051b76": {
          "model_module": "@jupyter-widgets/controls",
          "model_name": "HTMLModel",
          "model_module_version": "1.5.0",
          "state": {
            "_dom_classes": [],
            "_model_module": "@jupyter-widgets/controls",
            "_model_module_version": "1.5.0",
            "_model_name": "HTMLModel",
            "_view_count": null,
            "_view_module": "@jupyter-widgets/controls",
            "_view_module_version": "1.5.0",
            "_view_name": "HTMLView",
            "description": "",
            "description_tooltip": null,
            "layout": "IPY_MODEL_3042cb8c6ac24e77a75a0142c973e591",
            "placeholder": "​",
            "style": "IPY_MODEL_be8d9e42d28a41c39ab126c144c695e7",
            "value": "Downloading: 100%"
          }
        },
        "03d7aafcb5a8449c85ac999d2c814914": {
          "model_module": "@jupyter-widgets/controls",
          "model_name": "FloatProgressModel",
          "model_module_version": "1.5.0",
          "state": {
            "_dom_classes": [],
            "_model_module": "@jupyter-widgets/controls",
            "_model_module_version": "1.5.0",
            "_model_name": "FloatProgressModel",
            "_view_count": null,
            "_view_module": "@jupyter-widgets/controls",
            "_view_module_version": "1.5.0",
            "_view_name": "ProgressView",
            "bar_style": "success",
            "description": "",
            "description_tooltip": null,
            "layout": "IPY_MODEL_9ba8eb8c9090443599d6dd9e22ae5f52",
            "max": 456318,
            "min": 0,
            "orientation": "horizontal",
            "style": "IPY_MODEL_83fc7c23785b448eab1b4d86078c2eb1",
            "value": 456318
          }
        },
        "a9a4f5de20be43b090cc718090c53680": {
          "model_module": "@jupyter-widgets/controls",
          "model_name": "HTMLModel",
          "model_module_version": "1.5.0",
          "state": {
            "_dom_classes": [],
            "_model_module": "@jupyter-widgets/controls",
            "_model_module_version": "1.5.0",
            "_model_name": "HTMLModel",
            "_view_count": null,
            "_view_module": "@jupyter-widgets/controls",
            "_view_module_version": "1.5.0",
            "_view_name": "HTMLView",
            "description": "",
            "description_tooltip": null,
            "layout": "IPY_MODEL_ec82e2a0dc2f44e6acfce42e75b4e3b5",
            "placeholder": "​",
            "style": "IPY_MODEL_0fb2bbffc5a0425e96095152f3d79925",
            "value": " 456k/456k [00:00&lt;00:00, 2.32MB/s]"
          }
        },
        "e9239bccbe394ee4b4178d998e9eb4bc": {
          "model_module": "@jupyter-widgets/base",
          "model_name": "LayoutModel",
          "model_module_version": "1.2.0",
          "state": {
            "_model_module": "@jupyter-widgets/base",
            "_model_module_version": "1.2.0",
            "_model_name": "LayoutModel",
            "_view_count": null,
            "_view_module": "@jupyter-widgets/base",
            "_view_module_version": "1.2.0",
            "_view_name": "LayoutView",
            "align_content": null,
            "align_items": null,
            "align_self": null,
            "border": null,
            "bottom": null,
            "display": null,
            "flex": null,
            "flex_flow": null,
            "grid_area": null,
            "grid_auto_columns": null,
            "grid_auto_flow": null,
            "grid_auto_rows": null,
            "grid_column": null,
            "grid_gap": null,
            "grid_row": null,
            "grid_template_areas": null,
            "grid_template_columns": null,
            "grid_template_rows": null,
            "height": null,
            "justify_content": null,
            "justify_items": null,
            "left": null,
            "margin": null,
            "max_height": null,
            "max_width": null,
            "min_height": null,
            "min_width": null,
            "object_fit": null,
            "object_position": null,
            "order": null,
            "overflow": null,
            "overflow_x": null,
            "overflow_y": null,
            "padding": null,
            "right": null,
            "top": null,
            "visibility": null,
            "width": null
          }
        },
        "3042cb8c6ac24e77a75a0142c973e591": {
          "model_module": "@jupyter-widgets/base",
          "model_name": "LayoutModel",
          "model_module_version": "1.2.0",
          "state": {
            "_model_module": "@jupyter-widgets/base",
            "_model_module_version": "1.2.0",
            "_model_name": "LayoutModel",
            "_view_count": null,
            "_view_module": "@jupyter-widgets/base",
            "_view_module_version": "1.2.0",
            "_view_name": "LayoutView",
            "align_content": null,
            "align_items": null,
            "align_self": null,
            "border": null,
            "bottom": null,
            "display": null,
            "flex": null,
            "flex_flow": null,
            "grid_area": null,
            "grid_auto_columns": null,
            "grid_auto_flow": null,
            "grid_auto_rows": null,
            "grid_column": null,
            "grid_gap": null,
            "grid_row": null,
            "grid_template_areas": null,
            "grid_template_columns": null,
            "grid_template_rows": null,
            "height": null,
            "justify_content": null,
            "justify_items": null,
            "left": null,
            "margin": null,
            "max_height": null,
            "max_width": null,
            "min_height": null,
            "min_width": null,
            "object_fit": null,
            "object_position": null,
            "order": null,
            "overflow": null,
            "overflow_x": null,
            "overflow_y": null,
            "padding": null,
            "right": null,
            "top": null,
            "visibility": null,
            "width": null
          }
        },
        "be8d9e42d28a41c39ab126c144c695e7": {
          "model_module": "@jupyter-widgets/controls",
          "model_name": "DescriptionStyleModel",
          "model_module_version": "1.5.0",
          "state": {
            "_model_module": "@jupyter-widgets/controls",
            "_model_module_version": "1.5.0",
            "_model_name": "DescriptionStyleModel",
            "_view_count": null,
            "_view_module": "@jupyter-widgets/base",
            "_view_module_version": "1.2.0",
            "_view_name": "StyleView",
            "description_width": ""
          }
        },
        "9ba8eb8c9090443599d6dd9e22ae5f52": {
          "model_module": "@jupyter-widgets/base",
          "model_name": "LayoutModel",
          "model_module_version": "1.2.0",
          "state": {
            "_model_module": "@jupyter-widgets/base",
            "_model_module_version": "1.2.0",
            "_model_name": "LayoutModel",
            "_view_count": null,
            "_view_module": "@jupyter-widgets/base",
            "_view_module_version": "1.2.0",
            "_view_name": "LayoutView",
            "align_content": null,
            "align_items": null,
            "align_self": null,
            "border": null,
            "bottom": null,
            "display": null,
            "flex": null,
            "flex_flow": null,
            "grid_area": null,
            "grid_auto_columns": null,
            "grid_auto_flow": null,
            "grid_auto_rows": null,
            "grid_column": null,
            "grid_gap": null,
            "grid_row": null,
            "grid_template_areas": null,
            "grid_template_columns": null,
            "grid_template_rows": null,
            "height": null,
            "justify_content": null,
            "justify_items": null,
            "left": null,
            "margin": null,
            "max_height": null,
            "max_width": null,
            "min_height": null,
            "min_width": null,
            "object_fit": null,
            "object_position": null,
            "order": null,
            "overflow": null,
            "overflow_x": null,
            "overflow_y": null,
            "padding": null,
            "right": null,
            "top": null,
            "visibility": null,
            "width": null
          }
        },
        "83fc7c23785b448eab1b4d86078c2eb1": {
          "model_module": "@jupyter-widgets/controls",
          "model_name": "ProgressStyleModel",
          "model_module_version": "1.5.0",
          "state": {
            "_model_module": "@jupyter-widgets/controls",
            "_model_module_version": "1.5.0",
            "_model_name": "ProgressStyleModel",
            "_view_count": null,
            "_view_module": "@jupyter-widgets/base",
            "_view_module_version": "1.2.0",
            "_view_name": "StyleView",
            "bar_color": null,
            "description_width": ""
          }
        },
        "ec82e2a0dc2f44e6acfce42e75b4e3b5": {
          "model_module": "@jupyter-widgets/base",
          "model_name": "LayoutModel",
          "model_module_version": "1.2.0",
          "state": {
            "_model_module": "@jupyter-widgets/base",
            "_model_module_version": "1.2.0",
            "_model_name": "LayoutModel",
            "_view_count": null,
            "_view_module": "@jupyter-widgets/base",
            "_view_module_version": "1.2.0",
            "_view_name": "LayoutView",
            "align_content": null,
            "align_items": null,
            "align_self": null,
            "border": null,
            "bottom": null,
            "display": null,
            "flex": null,
            "flex_flow": null,
            "grid_area": null,
            "grid_auto_columns": null,
            "grid_auto_flow": null,
            "grid_auto_rows": null,
            "grid_column": null,
            "grid_gap": null,
            "grid_row": null,
            "grid_template_areas": null,
            "grid_template_columns": null,
            "grid_template_rows": null,
            "height": null,
            "justify_content": null,
            "justify_items": null,
            "left": null,
            "margin": null,
            "max_height": null,
            "max_width": null,
            "min_height": null,
            "min_width": null,
            "object_fit": null,
            "object_position": null,
            "order": null,
            "overflow": null,
            "overflow_x": null,
            "overflow_y": null,
            "padding": null,
            "right": null,
            "top": null,
            "visibility": null,
            "width": null
          }
        },
        "0fb2bbffc5a0425e96095152f3d79925": {
          "model_module": "@jupyter-widgets/controls",
          "model_name": "DescriptionStyleModel",
          "model_module_version": "1.5.0",
          "state": {
            "_model_module": "@jupyter-widgets/controls",
            "_model_module_version": "1.5.0",
            "_model_name": "DescriptionStyleModel",
            "_view_count": null,
            "_view_module": "@jupyter-widgets/base",
            "_view_module_version": "1.2.0",
            "_view_name": "StyleView",
            "description_width": ""
          }
        },
        "92646bf565654ec9b86130fd5c340079": {
          "model_module": "@jupyter-widgets/controls",
          "model_name": "HBoxModel",
          "model_module_version": "1.5.0",
          "state": {
            "_dom_classes": [],
            "_model_module": "@jupyter-widgets/controls",
            "_model_module_version": "1.5.0",
            "_model_name": "HBoxModel",
            "_view_count": null,
            "_view_module": "@jupyter-widgets/controls",
            "_view_module_version": "1.5.0",
            "_view_name": "HBoxView",
            "box_style": "",
            "children": [
              "IPY_MODEL_8d00976d13634522b41bed8eb92cf20c",
              "IPY_MODEL_491cbee2c6e94c7881046e114923fcfa",
              "IPY_MODEL_a3d5c99e9fc04a0f93db04a294007e5d"
            ],
            "layout": "IPY_MODEL_7be8a6ea0a5546e39bc76a3f1377f00c"
          }
        },
        "8d00976d13634522b41bed8eb92cf20c": {
          "model_module": "@jupyter-widgets/controls",
          "model_name": "HTMLModel",
          "model_module_version": "1.5.0",
          "state": {
            "_dom_classes": [],
            "_model_module": "@jupyter-widgets/controls",
            "_model_module_version": "1.5.0",
            "_model_name": "HTMLModel",
            "_view_count": null,
            "_view_module": "@jupyter-widgets/controls",
            "_view_module_version": "1.5.0",
            "_view_name": "HTMLView",
            "description": "",
            "description_tooltip": null,
            "layout": "IPY_MODEL_a127fcab5f974c07a009534c09390a5b",
            "placeholder": "​",
            "style": "IPY_MODEL_a3ac319a29bd4ff8bfa77916747b77e3",
            "value": "Downloading: 100%"
          }
        },
        "491cbee2c6e94c7881046e114923fcfa": {
          "model_module": "@jupyter-widgets/controls",
          "model_name": "FloatProgressModel",
          "model_module_version": "1.5.0",
          "state": {
            "_dom_classes": [],
            "_model_module": "@jupyter-widgets/controls",
            "_model_module_version": "1.5.0",
            "_model_name": "FloatProgressModel",
            "_view_count": null,
            "_view_module": "@jupyter-widgets/controls",
            "_view_module_version": "1.5.0",
            "_view_name": "ProgressView",
            "bar_style": "success",
            "description": "",
            "description_tooltip": null,
            "layout": "IPY_MODEL_0afae55505f14a839f03d8165f707732",
            "max": 1355256,
            "min": 0,
            "orientation": "horizontal",
            "style": "IPY_MODEL_677eb3fb918b4784869fc81bfd895ceb",
            "value": 1355256
          }
        },
        "a3d5c99e9fc04a0f93db04a294007e5d": {
          "model_module": "@jupyter-widgets/controls",
          "model_name": "HTMLModel",
          "model_module_version": "1.5.0",
          "state": {
            "_dom_classes": [],
            "_model_module": "@jupyter-widgets/controls",
            "_model_module_version": "1.5.0",
            "_model_name": "HTMLModel",
            "_view_count": null,
            "_view_module": "@jupyter-widgets/controls",
            "_view_module_version": "1.5.0",
            "_view_name": "HTMLView",
            "description": "",
            "description_tooltip": null,
            "layout": "IPY_MODEL_d6456eaf63dc4fe094e6e49e2407ce0e",
            "placeholder": "​",
            "style": "IPY_MODEL_7e17a29f5c86455ab7dc272639e12279",
            "value": " 1.36M/1.36M [00:00&lt;00:00, 4.76MB/s]"
          }
        },
        "7be8a6ea0a5546e39bc76a3f1377f00c": {
          "model_module": "@jupyter-widgets/base",
          "model_name": "LayoutModel",
          "model_module_version": "1.2.0",
          "state": {
            "_model_module": "@jupyter-widgets/base",
            "_model_module_version": "1.2.0",
            "_model_name": "LayoutModel",
            "_view_count": null,
            "_view_module": "@jupyter-widgets/base",
            "_view_module_version": "1.2.0",
            "_view_name": "LayoutView",
            "align_content": null,
            "align_items": null,
            "align_self": null,
            "border": null,
            "bottom": null,
            "display": null,
            "flex": null,
            "flex_flow": null,
            "grid_area": null,
            "grid_auto_columns": null,
            "grid_auto_flow": null,
            "grid_auto_rows": null,
            "grid_column": null,
            "grid_gap": null,
            "grid_row": null,
            "grid_template_areas": null,
            "grid_template_columns": null,
            "grid_template_rows": null,
            "height": null,
            "justify_content": null,
            "justify_items": null,
            "left": null,
            "margin": null,
            "max_height": null,
            "max_width": null,
            "min_height": null,
            "min_width": null,
            "object_fit": null,
            "object_position": null,
            "order": null,
            "overflow": null,
            "overflow_x": null,
            "overflow_y": null,
            "padding": null,
            "right": null,
            "top": null,
            "visibility": null,
            "width": null
          }
        },
        "a127fcab5f974c07a009534c09390a5b": {
          "model_module": "@jupyter-widgets/base",
          "model_name": "LayoutModel",
          "model_module_version": "1.2.0",
          "state": {
            "_model_module": "@jupyter-widgets/base",
            "_model_module_version": "1.2.0",
            "_model_name": "LayoutModel",
            "_view_count": null,
            "_view_module": "@jupyter-widgets/base",
            "_view_module_version": "1.2.0",
            "_view_name": "LayoutView",
            "align_content": null,
            "align_items": null,
            "align_self": null,
            "border": null,
            "bottom": null,
            "display": null,
            "flex": null,
            "flex_flow": null,
            "grid_area": null,
            "grid_auto_columns": null,
            "grid_auto_flow": null,
            "grid_auto_rows": null,
            "grid_column": null,
            "grid_gap": null,
            "grid_row": null,
            "grid_template_areas": null,
            "grid_template_columns": null,
            "grid_template_rows": null,
            "height": null,
            "justify_content": null,
            "justify_items": null,
            "left": null,
            "margin": null,
            "max_height": null,
            "max_width": null,
            "min_height": null,
            "min_width": null,
            "object_fit": null,
            "object_position": null,
            "order": null,
            "overflow": null,
            "overflow_x": null,
            "overflow_y": null,
            "padding": null,
            "right": null,
            "top": null,
            "visibility": null,
            "width": null
          }
        },
        "a3ac319a29bd4ff8bfa77916747b77e3": {
          "model_module": "@jupyter-widgets/controls",
          "model_name": "DescriptionStyleModel",
          "model_module_version": "1.5.0",
          "state": {
            "_model_module": "@jupyter-widgets/controls",
            "_model_module_version": "1.5.0",
            "_model_name": "DescriptionStyleModel",
            "_view_count": null,
            "_view_module": "@jupyter-widgets/base",
            "_view_module_version": "1.2.0",
            "_view_name": "StyleView",
            "description_width": ""
          }
        },
        "0afae55505f14a839f03d8165f707732": {
          "model_module": "@jupyter-widgets/base",
          "model_name": "LayoutModel",
          "model_module_version": "1.2.0",
          "state": {
            "_model_module": "@jupyter-widgets/base",
            "_model_module_version": "1.2.0",
            "_model_name": "LayoutModel",
            "_view_count": null,
            "_view_module": "@jupyter-widgets/base",
            "_view_module_version": "1.2.0",
            "_view_name": "LayoutView",
            "align_content": null,
            "align_items": null,
            "align_self": null,
            "border": null,
            "bottom": null,
            "display": null,
            "flex": null,
            "flex_flow": null,
            "grid_area": null,
            "grid_auto_columns": null,
            "grid_auto_flow": null,
            "grid_auto_rows": null,
            "grid_column": null,
            "grid_gap": null,
            "grid_row": null,
            "grid_template_areas": null,
            "grid_template_columns": null,
            "grid_template_rows": null,
            "height": null,
            "justify_content": null,
            "justify_items": null,
            "left": null,
            "margin": null,
            "max_height": null,
            "max_width": null,
            "min_height": null,
            "min_width": null,
            "object_fit": null,
            "object_position": null,
            "order": null,
            "overflow": null,
            "overflow_x": null,
            "overflow_y": null,
            "padding": null,
            "right": null,
            "top": null,
            "visibility": null,
            "width": null
          }
        },
        "677eb3fb918b4784869fc81bfd895ceb": {
          "model_module": "@jupyter-widgets/controls",
          "model_name": "ProgressStyleModel",
          "model_module_version": "1.5.0",
          "state": {
            "_model_module": "@jupyter-widgets/controls",
            "_model_module_version": "1.5.0",
            "_model_name": "ProgressStyleModel",
            "_view_count": null,
            "_view_module": "@jupyter-widgets/base",
            "_view_module_version": "1.2.0",
            "_view_name": "StyleView",
            "bar_color": null,
            "description_width": ""
          }
        },
        "d6456eaf63dc4fe094e6e49e2407ce0e": {
          "model_module": "@jupyter-widgets/base",
          "model_name": "LayoutModel",
          "model_module_version": "1.2.0",
          "state": {
            "_model_module": "@jupyter-widgets/base",
            "_model_module_version": "1.2.0",
            "_model_name": "LayoutModel",
            "_view_count": null,
            "_view_module": "@jupyter-widgets/base",
            "_view_module_version": "1.2.0",
            "_view_name": "LayoutView",
            "align_content": null,
            "align_items": null,
            "align_self": null,
            "border": null,
            "bottom": null,
            "display": null,
            "flex": null,
            "flex_flow": null,
            "grid_area": null,
            "grid_auto_columns": null,
            "grid_auto_flow": null,
            "grid_auto_rows": null,
            "grid_column": null,
            "grid_gap": null,
            "grid_row": null,
            "grid_template_areas": null,
            "grid_template_columns": null,
            "grid_template_rows": null,
            "height": null,
            "justify_content": null,
            "justify_items": null,
            "left": null,
            "margin": null,
            "max_height": null,
            "max_width": null,
            "min_height": null,
            "min_width": null,
            "object_fit": null,
            "object_position": null,
            "order": null,
            "overflow": null,
            "overflow_x": null,
            "overflow_y": null,
            "padding": null,
            "right": null,
            "top": null,
            "visibility": null,
            "width": null
          }
        },
        "7e17a29f5c86455ab7dc272639e12279": {
          "model_module": "@jupyter-widgets/controls",
          "model_name": "DescriptionStyleModel",
          "model_module_version": "1.5.0",
          "state": {
            "_model_module": "@jupyter-widgets/controls",
            "_model_module_version": "1.5.0",
            "_model_name": "DescriptionStyleModel",
            "_view_count": null,
            "_view_module": "@jupyter-widgets/base",
            "_view_module_version": "1.2.0",
            "_view_name": "StyleView",
            "description_width": ""
          }
        },
        "d0c0b262941045d49ad69c42b95a5ead": {
          "model_module": "@jupyter-widgets/controls",
          "model_name": "HBoxModel",
          "model_module_version": "1.5.0",
          "state": {
            "_dom_classes": [],
            "_model_module": "@jupyter-widgets/controls",
            "_model_module_version": "1.5.0",
            "_model_name": "HBoxModel",
            "_view_count": null,
            "_view_module": "@jupyter-widgets/controls",
            "_view_module_version": "1.5.0",
            "_view_name": "HBoxView",
            "box_style": "",
            "children": [
              "IPY_MODEL_d8b7e3ba418c44f0abd3315fe326556b",
              "IPY_MODEL_974ed98300e44bb38110023772b4a543",
              "IPY_MODEL_883b0d7039174f37934795af25551ea2"
            ],
            "layout": "IPY_MODEL_ed8638369f504cf4a74bb42d1edbe93d"
          }
        },
        "d8b7e3ba418c44f0abd3315fe326556b": {
          "model_module": "@jupyter-widgets/controls",
          "model_name": "HTMLModel",
          "model_module_version": "1.5.0",
          "state": {
            "_dom_classes": [],
            "_model_module": "@jupyter-widgets/controls",
            "_model_module_version": "1.5.0",
            "_model_name": "HTMLModel",
            "_view_count": null,
            "_view_module": "@jupyter-widgets/controls",
            "_view_module_version": "1.5.0",
            "_view_name": "HTMLView",
            "description": "",
            "description_tooltip": null,
            "layout": "IPY_MODEL_a09de86c51c645f19afcf05eb72cf68f",
            "placeholder": "​",
            "style": "IPY_MODEL_12e87d93f254488c8b55ae0162e9bb17",
            "value": "Downloading: 100%"
          }
        },
        "974ed98300e44bb38110023772b4a543": {
          "model_module": "@jupyter-widgets/controls",
          "model_name": "FloatProgressModel",
          "model_module_version": "1.5.0",
          "state": {
            "_dom_classes": [],
            "_model_module": "@jupyter-widgets/controls",
            "_model_module_version": "1.5.0",
            "_model_name": "FloatProgressModel",
            "_view_count": null,
            "_view_module": "@jupyter-widgets/controls",
            "_view_module_version": "1.5.0",
            "_view_name": "ProgressView",
            "bar_style": "success",
            "description": "",
            "description_tooltip": null,
            "layout": "IPY_MODEL_ea426091c7b043df9d95a4629c228fd4",
            "max": 548118077,
            "min": 0,
            "orientation": "horizontal",
            "style": "IPY_MODEL_9bbb4fe2f56c47a6a50e854af8e5a2af",
            "value": 548118077
          }
        },
        "883b0d7039174f37934795af25551ea2": {
          "model_module": "@jupyter-widgets/controls",
          "model_name": "HTMLModel",
          "model_module_version": "1.5.0",
          "state": {
            "_dom_classes": [],
            "_model_module": "@jupyter-widgets/controls",
            "_model_module_version": "1.5.0",
            "_model_name": "HTMLModel",
            "_view_count": null,
            "_view_module": "@jupyter-widgets/controls",
            "_view_module_version": "1.5.0",
            "_view_name": "HTMLView",
            "description": "",
            "description_tooltip": null,
            "layout": "IPY_MODEL_9888fc898b064ca599dd1e2f1df1058d",
            "placeholder": "​",
            "style": "IPY_MODEL_a59ab2aede9842f7ada750b53d8515cf",
            "value": " 548M/548M [00:11&lt;00:00, 49.2MB/s]"
          }
        },
        "ed8638369f504cf4a74bb42d1edbe93d": {
          "model_module": "@jupyter-widgets/base",
          "model_name": "LayoutModel",
          "model_module_version": "1.2.0",
          "state": {
            "_model_module": "@jupyter-widgets/base",
            "_model_module_version": "1.2.0",
            "_model_name": "LayoutModel",
            "_view_count": null,
            "_view_module": "@jupyter-widgets/base",
            "_view_module_version": "1.2.0",
            "_view_name": "LayoutView",
            "align_content": null,
            "align_items": null,
            "align_self": null,
            "border": null,
            "bottom": null,
            "display": null,
            "flex": null,
            "flex_flow": null,
            "grid_area": null,
            "grid_auto_columns": null,
            "grid_auto_flow": null,
            "grid_auto_rows": null,
            "grid_column": null,
            "grid_gap": null,
            "grid_row": null,
            "grid_template_areas": null,
            "grid_template_columns": null,
            "grid_template_rows": null,
            "height": null,
            "justify_content": null,
            "justify_items": null,
            "left": null,
            "margin": null,
            "max_height": null,
            "max_width": null,
            "min_height": null,
            "min_width": null,
            "object_fit": null,
            "object_position": null,
            "order": null,
            "overflow": null,
            "overflow_x": null,
            "overflow_y": null,
            "padding": null,
            "right": null,
            "top": null,
            "visibility": null,
            "width": null
          }
        },
        "a09de86c51c645f19afcf05eb72cf68f": {
          "model_module": "@jupyter-widgets/base",
          "model_name": "LayoutModel",
          "model_module_version": "1.2.0",
          "state": {
            "_model_module": "@jupyter-widgets/base",
            "_model_module_version": "1.2.0",
            "_model_name": "LayoutModel",
            "_view_count": null,
            "_view_module": "@jupyter-widgets/base",
            "_view_module_version": "1.2.0",
            "_view_name": "LayoutView",
            "align_content": null,
            "align_items": null,
            "align_self": null,
            "border": null,
            "bottom": null,
            "display": null,
            "flex": null,
            "flex_flow": null,
            "grid_area": null,
            "grid_auto_columns": null,
            "grid_auto_flow": null,
            "grid_auto_rows": null,
            "grid_column": null,
            "grid_gap": null,
            "grid_row": null,
            "grid_template_areas": null,
            "grid_template_columns": null,
            "grid_template_rows": null,
            "height": null,
            "justify_content": null,
            "justify_items": null,
            "left": null,
            "margin": null,
            "max_height": null,
            "max_width": null,
            "min_height": null,
            "min_width": null,
            "object_fit": null,
            "object_position": null,
            "order": null,
            "overflow": null,
            "overflow_x": null,
            "overflow_y": null,
            "padding": null,
            "right": null,
            "top": null,
            "visibility": null,
            "width": null
          }
        },
        "12e87d93f254488c8b55ae0162e9bb17": {
          "model_module": "@jupyter-widgets/controls",
          "model_name": "DescriptionStyleModel",
          "model_module_version": "1.5.0",
          "state": {
            "_model_module": "@jupyter-widgets/controls",
            "_model_module_version": "1.5.0",
            "_model_name": "DescriptionStyleModel",
            "_view_count": null,
            "_view_module": "@jupyter-widgets/base",
            "_view_module_version": "1.2.0",
            "_view_name": "StyleView",
            "description_width": ""
          }
        },
        "ea426091c7b043df9d95a4629c228fd4": {
          "model_module": "@jupyter-widgets/base",
          "model_name": "LayoutModel",
          "model_module_version": "1.2.0",
          "state": {
            "_model_module": "@jupyter-widgets/base",
            "_model_module_version": "1.2.0",
            "_model_name": "LayoutModel",
            "_view_count": null,
            "_view_module": "@jupyter-widgets/base",
            "_view_module_version": "1.2.0",
            "_view_name": "LayoutView",
            "align_content": null,
            "align_items": null,
            "align_self": null,
            "border": null,
            "bottom": null,
            "display": null,
            "flex": null,
            "flex_flow": null,
            "grid_area": null,
            "grid_auto_columns": null,
            "grid_auto_flow": null,
            "grid_auto_rows": null,
            "grid_column": null,
            "grid_gap": null,
            "grid_row": null,
            "grid_template_areas": null,
            "grid_template_columns": null,
            "grid_template_rows": null,
            "height": null,
            "justify_content": null,
            "justify_items": null,
            "left": null,
            "margin": null,
            "max_height": null,
            "max_width": null,
            "min_height": null,
            "min_width": null,
            "object_fit": null,
            "object_position": null,
            "order": null,
            "overflow": null,
            "overflow_x": null,
            "overflow_y": null,
            "padding": null,
            "right": null,
            "top": null,
            "visibility": null,
            "width": null
          }
        },
        "9bbb4fe2f56c47a6a50e854af8e5a2af": {
          "model_module": "@jupyter-widgets/controls",
          "model_name": "ProgressStyleModel",
          "model_module_version": "1.5.0",
          "state": {
            "_model_module": "@jupyter-widgets/controls",
            "_model_module_version": "1.5.0",
            "_model_name": "ProgressStyleModel",
            "_view_count": null,
            "_view_module": "@jupyter-widgets/base",
            "_view_module_version": "1.2.0",
            "_view_name": "StyleView",
            "bar_color": null,
            "description_width": ""
          }
        },
        "9888fc898b064ca599dd1e2f1df1058d": {
          "model_module": "@jupyter-widgets/base",
          "model_name": "LayoutModel",
          "model_module_version": "1.2.0",
          "state": {
            "_model_module": "@jupyter-widgets/base",
            "_model_module_version": "1.2.0",
            "_model_name": "LayoutModel",
            "_view_count": null,
            "_view_module": "@jupyter-widgets/base",
            "_view_module_version": "1.2.0",
            "_view_name": "LayoutView",
            "align_content": null,
            "align_items": null,
            "align_self": null,
            "border": null,
            "bottom": null,
            "display": null,
            "flex": null,
            "flex_flow": null,
            "grid_area": null,
            "grid_auto_columns": null,
            "grid_auto_flow": null,
            "grid_auto_rows": null,
            "grid_column": null,
            "grid_gap": null,
            "grid_row": null,
            "grid_template_areas": null,
            "grid_template_columns": null,
            "grid_template_rows": null,
            "height": null,
            "justify_content": null,
            "justify_items": null,
            "left": null,
            "margin": null,
            "max_height": null,
            "max_width": null,
            "min_height": null,
            "min_width": null,
            "object_fit": null,
            "object_position": null,
            "order": null,
            "overflow": null,
            "overflow_x": null,
            "overflow_y": null,
            "padding": null,
            "right": null,
            "top": null,
            "visibility": null,
            "width": null
          }
        },
        "a59ab2aede9842f7ada750b53d8515cf": {
          "model_module": "@jupyter-widgets/controls",
          "model_name": "DescriptionStyleModel",
          "model_module_version": "1.5.0",
          "state": {
            "_model_module": "@jupyter-widgets/controls",
            "_model_module_version": "1.5.0",
            "_model_name": "DescriptionStyleModel",
            "_view_count": null,
            "_view_module": "@jupyter-widgets/base",
            "_view_module_version": "1.2.0",
            "_view_name": "StyleView",
            "description_width": ""
          }
        }
      }
    }
  },
  "nbformat": 4,
  "nbformat_minor": 0
}