{
  "cells": [
    {
      "cell_type": "code",
      "execution_count": 1,
      "metadata": {
        "colab": {
          "base_uri": "https://localhost:8080/"
        },
        "id": "lIYdn1woOS1n",
        "outputId": "63aa30d1-4a49-428d-d958-b17fb1469ae2"
      },
      "outputs": [
        {
          "output_type": "stream",
          "name": "stdout",
          "text": [
            "\u001b[K     |████████████████████████████████| 5.5 MB 5.3 MB/s \n",
            "\u001b[K     |████████████████████████████████| 182 kB 55.4 MB/s \n",
            "\u001b[K     |████████████████████████████████| 7.6 MB 50.1 MB/s \n",
            "\u001b[K     |████████████████████████████████| 578.1 MB 26 kB/s \n",
            "\u001b[K     |████████████████████████████████| 5.9 MB 43.8 MB/s \n",
            "\u001b[K     |████████████████████████████████| 5.9 MB 46.3 MB/s \n",
            "\u001b[K     |████████████████████████████████| 438 kB 59.4 MB/s \n",
            "\u001b[K     |████████████████████████████████| 1.7 MB 56.3 MB/s \n",
            "\u001b[?25h  Building wheel for keras-nlp (setup.py) ... \u001b[?25l\u001b[?25hdone\n"
          ]
        }
      ],
      "source": [
        "!pip install transformers --quiet\n",
        "!pip install git+https://github.com/abheesht17/keras-nlp.git@distilbert-presets tensorflow tensorflow-text --upgrade --quiet"
      ]
    },
    {
      "cell_type": "code",
      "source": [
        "import json\n",
        "import os\n",
        "\n",
        "import keras_nlp\n",
        "import numpy as np\n",
        "\n",
        "import tensorflow as tf\n",
        "from tensorflow import keras\n",
        "\n",
        "import torch\n",
        "\n",
        "from transformers import AutoTokenizer, AutoModel\n",
        "\n",
        "tf.__version__"
      ],
      "metadata": {
        "colab": {
          "base_uri": "https://localhost:8080/",
          "height": 36
        },
        "id": "h4aSmx0mEe0z",
        "outputId": "d0a0e3d8-02a5-4139-a8fa-6828f5cf4a54"
      },
      "execution_count": 2,
      "outputs": [
        {
          "output_type": "execute_result",
          "data": {
            "text/plain": [
              "'2.10.1'"
            ],
            "application/vnd.google.colaboratory.intrinsic+json": {
              "type": "string"
            }
          },
          "metadata": {},
          "execution_count": 2
        }
      ]
    },
    {
      "cell_type": "code",
      "source": [
        "# Variables.\n",
        "\n",
        "variant = \"distilbert-base-uncased\"\n",
        "variant_ = variant.replace(\"-\", \"_\")\n",
        "model_save_name = f\"{variant}_en.h5\".replace(\"-\", \"_\")\n",
        "\n",
        "# Paths.\n",
        "extract_dir = f\"/content/pt_{variant}\"\n",
        "vocab_path = os.path.join(extract_dir, \"vocab.txt\")\n",
        "config_path = os.path.join(extract_dir, \"config.json\")"
      ],
      "metadata": {
        "id": "eBZyeE8Lcbwc"
      },
      "execution_count": 3,
      "outputs": []
    },
    {
      "cell_type": "code",
      "source": [
        "!mkdir {extract_dir}\n",
        "!wget https://huggingface.co/{variant}/raw/main/config.json -P {extract_dir}\n",
        "!wget https://huggingface.co/{variant}/raw/main/vocab.txt -P {extract_dir}"
      ],
      "metadata": {
        "colab": {
          "base_uri": "https://localhost:8080/"
        },
        "id": "Huvf_zP6cvEP",
        "outputId": "b5438fb2-0f29-43c8-8a98-267d2526eba0"
      },
      "execution_count": 4,
      "outputs": [
        {
          "output_type": "stream",
          "name": "stdout",
          "text": [
            "--2022-11-17 04:01:22--  https://huggingface.co/distilbert-base-uncased/raw/main/config.json\n",
            "Resolving huggingface.co (huggingface.co)... 34.200.207.32, 34.227.196.80, 2600:1f18:147f:e800:7a81:37eb:4345:da2, ...\n",
            "Connecting to huggingface.co (huggingface.co)|34.200.207.32|:443... connected.\n",
            "HTTP request sent, awaiting response... 200 OK\n",
            "Length: 483 [text/plain]\n",
            "Saving to: ‘/content/pt_distilbert-base-uncased/config.json’\n",
            "\n",
            "\rconfig.json           0%[                    ]       0  --.-KB/s               \rconfig.json         100%[===================>]     483  --.-KB/s    in 0s      \n",
            "\n",
            "2022-11-17 04:01:22 (76.2 MB/s) - ‘/content/pt_distilbert-base-uncased/config.json’ saved [483/483]\n",
            "\n",
            "--2022-11-17 04:01:23--  https://huggingface.co/distilbert-base-uncased/raw/main/vocab.txt\n",
            "Resolving huggingface.co (huggingface.co)... 34.200.207.32, 34.227.196.80, 2600:1f18:147f:e800:7a81:37eb:4345:da2, ...\n",
            "Connecting to huggingface.co (huggingface.co)|34.200.207.32|:443... connected.\n",
            "HTTP request sent, awaiting response... 200 OK\n",
            "Length: 231508 (226K) [text/plain]\n",
            "Saving to: ‘/content/pt_distilbert-base-uncased/vocab.txt’\n",
            "\n",
            "vocab.txt           100%[===================>] 226.08K  --.-KB/s    in 0.1s    \n",
            "\n",
            "2022-11-17 04:01:23 (2.02 MB/s) - ‘/content/pt_distilbert-base-uncased/vocab.txt’ saved [231508/231508]\n",
            "\n"
          ]
        }
      ]
    },
    {
      "cell_type": "code",
      "source": [
        "# Build config.\n",
        "\n",
        "cfg = {}\n",
        "\n",
        "with open(config_path, \"r\") as pt_cfg_handler:\n",
        "    pt_cfg = json.load(pt_cfg_handler)\n",
        "\n",
        "\n",
        "cfg[\"vocabulary_size\"] = pt_cfg[\"vocab_size\"]\n",
        "cfg[\"num_layers\"] = pt_cfg[\"n_layers\"]\n",
        "cfg[\"num_heads\"] = pt_cfg[\"n_heads\"]\n",
        "cfg[\"hidden_dim\"] = pt_cfg[\"dim\"]\n",
        "cfg[\"intermediate_dim\"] = pt_cfg[\"hidden_dim\"]\n",
        "cfg[\"dropout\"] = pt_cfg[\"dropout\"]\n",
        "cfg[\"max_sequence_length\"] = pt_cfg[\"max_position_embeddings\"]\n",
        "\n",
        "cfg"
      ],
      "metadata": {
        "colab": {
          "base_uri": "https://localhost:8080/"
        },
        "id": "NiTzGUPQeWuA",
        "outputId": "955e3455-b3b9-4415-981c-0aca66813168"
      },
      "execution_count": 5,
      "outputs": [
        {
          "output_type": "execute_result",
          "data": {
            "text/plain": [
              "{'vocabulary_size': 30522,\n",
              " 'num_layers': 6,\n",
              " 'num_heads': 12,\n",
              " 'hidden_dim': 768,\n",
              " 'intermediate_dim': 3072,\n",
              " 'dropout': 0.1,\n",
              " 'max_sequence_length': 512}"
            ]
          },
          "metadata": {},
          "execution_count": 5
        }
      ]
    },
    {
      "cell_type": "code",
      "source": [
        "model = keras_nlp.models.DistilBert.from_preset(f\"{variant_}_en\", load_weights=False)\n",
        "model.summary()"
      ],
      "metadata": {
        "colab": {
          "base_uri": "https://localhost:8080/"
        },
        "id": "iFRtPs7qfteO",
        "outputId": "da8f212a-d5c3-4cbc-e4b3-3643af4de481"
      },
      "execution_count": 6,
      "outputs": [
        {
          "output_type": "stream",
          "name": "stdout",
          "text": [
            "Model: \"backbone\"\n",
            "__________________________________________________________________________________________________\n",
            " Layer (type)                   Output Shape         Param #     Connected to                     \n",
            "==================================================================================================\n",
            " token_ids (InputLayer)         [(None, None)]       0           []                               \n",
            "                                                                                                  \n",
            " token_and_position_embedding (  (None, None, 768)   23834112    ['token_ids[0][0]']              \n",
            " TokenAndPositionEmbedding)                                                                       \n",
            "                                                                                                  \n",
            " embeddings_layer_norm (LayerNo  (None, None, 768)   1536        ['token_and_position_embedding[0]\n",
            " rmalization)                                                    [0]']                            \n",
            "                                                                                                  \n",
            " embeddings_dropout (Dropout)   (None, None, 768)    0           ['embeddings_layer_norm[0][0]']  \n",
            "                                                                                                  \n",
            " padding_mask (InputLayer)      [(None, None)]       0           []                               \n",
            "                                                                                                  \n",
            " transformer_layer_0 (Transform  (None, None, 768)   7087872     ['embeddings_dropout[0][0]',     \n",
            " erEncoder)                                                       'padding_mask[0][0]']           \n",
            "                                                                                                  \n",
            " transformer_layer_1 (Transform  (None, None, 768)   7087872     ['transformer_layer_0[0][0]',    \n",
            " erEncoder)                                                       'padding_mask[0][0]']           \n",
            "                                                                                                  \n",
            " transformer_layer_2 (Transform  (None, None, 768)   7087872     ['transformer_layer_1[0][0]',    \n",
            " erEncoder)                                                       'padding_mask[0][0]']           \n",
            "                                                                                                  \n",
            " transformer_layer_3 (Transform  (None, None, 768)   7087872     ['transformer_layer_2[0][0]',    \n",
            " erEncoder)                                                       'padding_mask[0][0]']           \n",
            "                                                                                                  \n",
            " transformer_layer_4 (Transform  (None, None, 768)   7087872     ['transformer_layer_3[0][0]',    \n",
            " erEncoder)                                                       'padding_mask[0][0]']           \n",
            "                                                                                                  \n",
            " transformer_layer_5 (Transform  (None, None, 768)   7087872     ['transformer_layer_4[0][0]',    \n",
            " erEncoder)                                                       'padding_mask[0][0]']           \n",
            "                                                                                                  \n",
            "==================================================================================================\n",
            "Total params: 66,362,880\n",
            "Trainable params: 66,362,880\n",
            "Non-trainable params: 0\n",
            "__________________________________________________________________________________________________\n"
          ]
        }
      ]
    },
    {
      "cell_type": "code",
      "source": [
        "pt_model = AutoModel.from_pretrained(variant)\n",
        "pt_wts = pt_model.state_dict()\n",
        "\n",
        "pt_model"
      ],
      "metadata": {
        "colab": {
          "base_uri": "https://localhost:8080/",
          "height": 1000,
          "referenced_widgets": [
            "839555276e8f47ffa0e58c9b1121c941",
            "212f1e175e854b2a9a5b252776aaa28f",
            "8325c561c1fd4bd28d4b852ad29fabc4",
            "60f8a515e9f242278d3656d7d57c8e4c",
            "1f73c24106ed435aad650963061e73e4",
            "16c145f39d7f47a692e017b4c8315ee7",
            "daace478f137499ba1174a9ab653cc68",
            "6ddfd938398143fdba080b5459542af9",
            "6e4b228a31c24960b29645eab0c9a4a9",
            "4c19f30425d24b47908db2a2ad9cb25e",
            "2a6d6ad19b004251aea7faa8a2facc31",
            "f84378402e75404eb405ef4aeceace16",
            "27b4c2e0591d424b9a88cd0055ff60e1",
            "86935b169ede4ab4ae833a780645ce42",
            "aad8e1ecf4cc44f29c6ddf37a7a98bbd",
            "ec23c140db6f4117a04c78373679669d",
            "3e09da673e254ad18937d815eaefb88f",
            "60e4eaac9fc242a6856a92c712356729",
            "9f61e01ff5594316bbfdc37c96c7c3ab",
            "4c5e2558fef74a5a90022e103038b52a",
            "d9507a3aee3044f1877820a184498e5b",
            "6c387233a0b1414c9e45aab618b78ea2"
          ]
        },
        "id": "o6YeB-_YI1Kj",
        "outputId": "a3b72537-969c-4182-bbae-c784b721f1f2"
      },
      "execution_count": 7,
      "outputs": [
        {
          "output_type": "display_data",
          "data": {
            "text/plain": [
              "Downloading:   0%|          | 0.00/483 [00:00<?, ?B/s]"
            ],
            "application/vnd.jupyter.widget-view+json": {
              "version_major": 2,
              "version_minor": 0,
              "model_id": "839555276e8f47ffa0e58c9b1121c941"
            }
          },
          "metadata": {}
        },
        {
          "output_type": "display_data",
          "data": {
            "text/plain": [
              "Downloading:   0%|          | 0.00/268M [00:00<?, ?B/s]"
            ],
            "application/vnd.jupyter.widget-view+json": {
              "version_major": 2,
              "version_minor": 0,
              "model_id": "f84378402e75404eb405ef4aeceace16"
            }
          },
          "metadata": {}
        },
        {
          "output_type": "stream",
          "name": "stderr",
          "text": [
            "Some weights of the model checkpoint at distilbert-base-uncased were not used when initializing DistilBertModel: ['vocab_projector.weight', 'vocab_transform.weight', 'vocab_layer_norm.weight', 'vocab_layer_norm.bias', 'vocab_transform.bias', 'vocab_projector.bias']\n",
            "- This IS expected if you are initializing DistilBertModel from the checkpoint of a model trained on another task or with another architecture (e.g. initializing a BertForSequenceClassification model from a BertForPreTraining model).\n",
            "- This IS NOT expected if you are initializing DistilBertModel from the checkpoint of a model that you expect to be exactly identical (initializing a BertForSequenceClassification model from a BertForSequenceClassification model).\n"
          ]
        },
        {
          "output_type": "execute_result",
          "data": {
            "text/plain": [
              "DistilBertModel(\n",
              "  (embeddings): Embeddings(\n",
              "    (word_embeddings): Embedding(30522, 768, padding_idx=0)\n",
              "    (position_embeddings): Embedding(512, 768)\n",
              "    (LayerNorm): LayerNorm((768,), eps=1e-12, elementwise_affine=True)\n",
              "    (dropout): Dropout(p=0.1, inplace=False)\n",
              "  )\n",
              "  (transformer): Transformer(\n",
              "    (layer): ModuleList(\n",
              "      (0): TransformerBlock(\n",
              "        (attention): MultiHeadSelfAttention(\n",
              "          (dropout): Dropout(p=0.1, inplace=False)\n",
              "          (q_lin): Linear(in_features=768, out_features=768, bias=True)\n",
              "          (k_lin): Linear(in_features=768, out_features=768, bias=True)\n",
              "          (v_lin): Linear(in_features=768, out_features=768, bias=True)\n",
              "          (out_lin): Linear(in_features=768, out_features=768, bias=True)\n",
              "        )\n",
              "        (sa_layer_norm): LayerNorm((768,), eps=1e-12, elementwise_affine=True)\n",
              "        (ffn): FFN(\n",
              "          (dropout): Dropout(p=0.1, inplace=False)\n",
              "          (lin1): Linear(in_features=768, out_features=3072, bias=True)\n",
              "          (lin2): Linear(in_features=3072, out_features=768, bias=True)\n",
              "          (activation): GELUActivation()\n",
              "        )\n",
              "        (output_layer_norm): LayerNorm((768,), eps=1e-12, elementwise_affine=True)\n",
              "      )\n",
              "      (1): TransformerBlock(\n",
              "        (attention): MultiHeadSelfAttention(\n",
              "          (dropout): Dropout(p=0.1, inplace=False)\n",
              "          (q_lin): Linear(in_features=768, out_features=768, bias=True)\n",
              "          (k_lin): Linear(in_features=768, out_features=768, bias=True)\n",
              "          (v_lin): Linear(in_features=768, out_features=768, bias=True)\n",
              "          (out_lin): Linear(in_features=768, out_features=768, bias=True)\n",
              "        )\n",
              "        (sa_layer_norm): LayerNorm((768,), eps=1e-12, elementwise_affine=True)\n",
              "        (ffn): FFN(\n",
              "          (dropout): Dropout(p=0.1, inplace=False)\n",
              "          (lin1): Linear(in_features=768, out_features=3072, bias=True)\n",
              "          (lin2): Linear(in_features=3072, out_features=768, bias=True)\n",
              "          (activation): GELUActivation()\n",
              "        )\n",
              "        (output_layer_norm): LayerNorm((768,), eps=1e-12, elementwise_affine=True)\n",
              "      )\n",
              "      (2): TransformerBlock(\n",
              "        (attention): MultiHeadSelfAttention(\n",
              "          (dropout): Dropout(p=0.1, inplace=False)\n",
              "          (q_lin): Linear(in_features=768, out_features=768, bias=True)\n",
              "          (k_lin): Linear(in_features=768, out_features=768, bias=True)\n",
              "          (v_lin): Linear(in_features=768, out_features=768, bias=True)\n",
              "          (out_lin): Linear(in_features=768, out_features=768, bias=True)\n",
              "        )\n",
              "        (sa_layer_norm): LayerNorm((768,), eps=1e-12, elementwise_affine=True)\n",
              "        (ffn): FFN(\n",
              "          (dropout): Dropout(p=0.1, inplace=False)\n",
              "          (lin1): Linear(in_features=768, out_features=3072, bias=True)\n",
              "          (lin2): Linear(in_features=3072, out_features=768, bias=True)\n",
              "          (activation): GELUActivation()\n",
              "        )\n",
              "        (output_layer_norm): LayerNorm((768,), eps=1e-12, elementwise_affine=True)\n",
              "      )\n",
              "      (3): TransformerBlock(\n",
              "        (attention): MultiHeadSelfAttention(\n",
              "          (dropout): Dropout(p=0.1, inplace=False)\n",
              "          (q_lin): Linear(in_features=768, out_features=768, bias=True)\n",
              "          (k_lin): Linear(in_features=768, out_features=768, bias=True)\n",
              "          (v_lin): Linear(in_features=768, out_features=768, bias=True)\n",
              "          (out_lin): Linear(in_features=768, out_features=768, bias=True)\n",
              "        )\n",
              "        (sa_layer_norm): LayerNorm((768,), eps=1e-12, elementwise_affine=True)\n",
              "        (ffn): FFN(\n",
              "          (dropout): Dropout(p=0.1, inplace=False)\n",
              "          (lin1): Linear(in_features=768, out_features=3072, bias=True)\n",
              "          (lin2): Linear(in_features=3072, out_features=768, bias=True)\n",
              "          (activation): GELUActivation()\n",
              "        )\n",
              "        (output_layer_norm): LayerNorm((768,), eps=1e-12, elementwise_affine=True)\n",
              "      )\n",
              "      (4): TransformerBlock(\n",
              "        (attention): MultiHeadSelfAttention(\n",
              "          (dropout): Dropout(p=0.1, inplace=False)\n",
              "          (q_lin): Linear(in_features=768, out_features=768, bias=True)\n",
              "          (k_lin): Linear(in_features=768, out_features=768, bias=True)\n",
              "          (v_lin): Linear(in_features=768, out_features=768, bias=True)\n",
              "          (out_lin): Linear(in_features=768, out_features=768, bias=True)\n",
              "        )\n",
              "        (sa_layer_norm): LayerNorm((768,), eps=1e-12, elementwise_affine=True)\n",
              "        (ffn): FFN(\n",
              "          (dropout): Dropout(p=0.1, inplace=False)\n",
              "          (lin1): Linear(in_features=768, out_features=3072, bias=True)\n",
              "          (lin2): Linear(in_features=3072, out_features=768, bias=True)\n",
              "          (activation): GELUActivation()\n",
              "        )\n",
              "        (output_layer_norm): LayerNorm((768,), eps=1e-12, elementwise_affine=True)\n",
              "      )\n",
              "      (5): TransformerBlock(\n",
              "        (attention): MultiHeadSelfAttention(\n",
              "          (dropout): Dropout(p=0.1, inplace=False)\n",
              "          (q_lin): Linear(in_features=768, out_features=768, bias=True)\n",
              "          (k_lin): Linear(in_features=768, out_features=768, bias=True)\n",
              "          (v_lin): Linear(in_features=768, out_features=768, bias=True)\n",
              "          (out_lin): Linear(in_features=768, out_features=768, bias=True)\n",
              "        )\n",
              "        (sa_layer_norm): LayerNorm((768,), eps=1e-12, elementwise_affine=True)\n",
              "        (ffn): FFN(\n",
              "          (dropout): Dropout(p=0.1, inplace=False)\n",
              "          (lin1): Linear(in_features=768, out_features=3072, bias=True)\n",
              "          (lin2): Linear(in_features=3072, out_features=768, bias=True)\n",
              "          (activation): GELUActivation()\n",
              "        )\n",
              "        (output_layer_norm): LayerNorm((768,), eps=1e-12, elementwise_affine=True)\n",
              "      )\n",
              "    )\n",
              "  )\n",
              ")"
            ]
          },
          "metadata": {},
          "execution_count": 7
        }
      ]
    },
    {
      "cell_type": "code",
      "source": [
        "print(str(pt_wts.keys()).replace(\", \", \"\\n\").replace(\"odict_keys([\", \"\").replace(\"]\", \"\").replace(\")\",\"\"))"
      ],
      "metadata": {
        "colab": {
          "base_uri": "https://localhost:8080/"
        },
        "id": "ImUvqn1pI-_G",
        "outputId": "d0989851-f3a1-42e0-ca10-00bfbf77da96"
      },
      "execution_count": 8,
      "outputs": [
        {
          "output_type": "stream",
          "name": "stdout",
          "text": [
            "'embeddings.word_embeddings.weight'\n",
            "'embeddings.position_embeddings.weight'\n",
            "'embeddings.LayerNorm.weight'\n",
            "'embeddings.LayerNorm.bias'\n",
            "'transformer.layer.0.attention.q_lin.weight'\n",
            "'transformer.layer.0.attention.q_lin.bias'\n",
            "'transformer.layer.0.attention.k_lin.weight'\n",
            "'transformer.layer.0.attention.k_lin.bias'\n",
            "'transformer.layer.0.attention.v_lin.weight'\n",
            "'transformer.layer.0.attention.v_lin.bias'\n",
            "'transformer.layer.0.attention.out_lin.weight'\n",
            "'transformer.layer.0.attention.out_lin.bias'\n",
            "'transformer.layer.0.sa_layer_norm.weight'\n",
            "'transformer.layer.0.sa_layer_norm.bias'\n",
            "'transformer.layer.0.ffn.lin1.weight'\n",
            "'transformer.layer.0.ffn.lin1.bias'\n",
            "'transformer.layer.0.ffn.lin2.weight'\n",
            "'transformer.layer.0.ffn.lin2.bias'\n",
            "'transformer.layer.0.output_layer_norm.weight'\n",
            "'transformer.layer.0.output_layer_norm.bias'\n",
            "'transformer.layer.1.attention.q_lin.weight'\n",
            "'transformer.layer.1.attention.q_lin.bias'\n",
            "'transformer.layer.1.attention.k_lin.weight'\n",
            "'transformer.layer.1.attention.k_lin.bias'\n",
            "'transformer.layer.1.attention.v_lin.weight'\n",
            "'transformer.layer.1.attention.v_lin.bias'\n",
            "'transformer.layer.1.attention.out_lin.weight'\n",
            "'transformer.layer.1.attention.out_lin.bias'\n",
            "'transformer.layer.1.sa_layer_norm.weight'\n",
            "'transformer.layer.1.sa_layer_norm.bias'\n",
            "'transformer.layer.1.ffn.lin1.weight'\n",
            "'transformer.layer.1.ffn.lin1.bias'\n",
            "'transformer.layer.1.ffn.lin2.weight'\n",
            "'transformer.layer.1.ffn.lin2.bias'\n",
            "'transformer.layer.1.output_layer_norm.weight'\n",
            "'transformer.layer.1.output_layer_norm.bias'\n",
            "'transformer.layer.2.attention.q_lin.weight'\n",
            "'transformer.layer.2.attention.q_lin.bias'\n",
            "'transformer.layer.2.attention.k_lin.weight'\n",
            "'transformer.layer.2.attention.k_lin.bias'\n",
            "'transformer.layer.2.attention.v_lin.weight'\n",
            "'transformer.layer.2.attention.v_lin.bias'\n",
            "'transformer.layer.2.attention.out_lin.weight'\n",
            "'transformer.layer.2.attention.out_lin.bias'\n",
            "'transformer.layer.2.sa_layer_norm.weight'\n",
            "'transformer.layer.2.sa_layer_norm.bias'\n",
            "'transformer.layer.2.ffn.lin1.weight'\n",
            "'transformer.layer.2.ffn.lin1.bias'\n",
            "'transformer.layer.2.ffn.lin2.weight'\n",
            "'transformer.layer.2.ffn.lin2.bias'\n",
            "'transformer.layer.2.output_layer_norm.weight'\n",
            "'transformer.layer.2.output_layer_norm.bias'\n",
            "'transformer.layer.3.attention.q_lin.weight'\n",
            "'transformer.layer.3.attention.q_lin.bias'\n",
            "'transformer.layer.3.attention.k_lin.weight'\n",
            "'transformer.layer.3.attention.k_lin.bias'\n",
            "'transformer.layer.3.attention.v_lin.weight'\n",
            "'transformer.layer.3.attention.v_lin.bias'\n",
            "'transformer.layer.3.attention.out_lin.weight'\n",
            "'transformer.layer.3.attention.out_lin.bias'\n",
            "'transformer.layer.3.sa_layer_norm.weight'\n",
            "'transformer.layer.3.sa_layer_norm.bias'\n",
            "'transformer.layer.3.ffn.lin1.weight'\n",
            "'transformer.layer.3.ffn.lin1.bias'\n",
            "'transformer.layer.3.ffn.lin2.weight'\n",
            "'transformer.layer.3.ffn.lin2.bias'\n",
            "'transformer.layer.3.output_layer_norm.weight'\n",
            "'transformer.layer.3.output_layer_norm.bias'\n",
            "'transformer.layer.4.attention.q_lin.weight'\n",
            "'transformer.layer.4.attention.q_lin.bias'\n",
            "'transformer.layer.4.attention.k_lin.weight'\n",
            "'transformer.layer.4.attention.k_lin.bias'\n",
            "'transformer.layer.4.attention.v_lin.weight'\n",
            "'transformer.layer.4.attention.v_lin.bias'\n",
            "'transformer.layer.4.attention.out_lin.weight'\n",
            "'transformer.layer.4.attention.out_lin.bias'\n",
            "'transformer.layer.4.sa_layer_norm.weight'\n",
            "'transformer.layer.4.sa_layer_norm.bias'\n",
            "'transformer.layer.4.ffn.lin1.weight'\n",
            "'transformer.layer.4.ffn.lin1.bias'\n",
            "'transformer.layer.4.ffn.lin2.weight'\n",
            "'transformer.layer.4.ffn.lin2.bias'\n",
            "'transformer.layer.4.output_layer_norm.weight'\n",
            "'transformer.layer.4.output_layer_norm.bias'\n",
            "'transformer.layer.5.attention.q_lin.weight'\n",
            "'transformer.layer.5.attention.q_lin.bias'\n",
            "'transformer.layer.5.attention.k_lin.weight'\n",
            "'transformer.layer.5.attention.k_lin.bias'\n",
            "'transformer.layer.5.attention.v_lin.weight'\n",
            "'transformer.layer.5.attention.v_lin.bias'\n",
            "'transformer.layer.5.attention.out_lin.weight'\n",
            "'transformer.layer.5.attention.out_lin.bias'\n",
            "'transformer.layer.5.sa_layer_norm.weight'\n",
            "'transformer.layer.5.sa_layer_norm.bias'\n",
            "'transformer.layer.5.ffn.lin1.weight'\n",
            "'transformer.layer.5.ffn.lin1.bias'\n",
            "'transformer.layer.5.ffn.lin2.weight'\n",
            "'transformer.layer.5.ffn.lin2.bias'\n",
            "'transformer.layer.5.output_layer_norm.weight'\n",
            "'transformer.layer.5.output_layer_norm.bias'\n"
          ]
        }
      ]
    },
    {
      "cell_type": "code",
      "source": [
        "model.get_layer(\"token_and_position_embedding\").token_embedding.embeddings.assign(\n",
        "    pt_wts[\"embeddings.word_embeddings.weight\"]\n",
        ")\n",
        "model.get_layer(\"token_and_position_embedding\").position_embedding.position_embeddings.assign(\n",
        "    pt_wts[\"embeddings.position_embeddings.weight\"]\n",
        ")\n",
        "\n",
        "model.get_layer(\"embeddings_layer_norm\").gamma.assign(\n",
        "    pt_wts[\"embeddings.LayerNorm.weight\"]\n",
        ")\n",
        "model.get_layer(\"embeddings_layer_norm\").beta.assign(\n",
        "    pt_wts[\"embeddings.LayerNorm.bias\"]\n",
        ")\n",
        "\n",
        "for i in range(model.num_layers):\n",
        "    model.get_layer(f\"transformer_layer_{i}\")._self_attention_layer._query_dense.kernel.assign(\n",
        "        pt_wts[f\"transformer.layer.{i}.attention.q_lin.weight\"].transpose(1, 0).reshape((cfg[\"hidden_dim\"], cfg[\"num_heads\"], -1)).numpy()\n",
        "    )\n",
        "    model.get_layer(f\"transformer_layer_{i}\")._self_attention_layer._query_dense.bias.assign(\n",
        "        pt_wts[f\"transformer.layer.{i}.attention.q_lin.bias\"].reshape((cfg[\"num_heads\"], -1)).numpy()\n",
        "    )\n",
        "\n",
        "    model.get_layer(f\"transformer_layer_{i}\")._self_attention_layer._key_dense.kernel.assign(\n",
        "        pt_wts[f\"transformer.layer.{i}.attention.k_lin.weight\"].transpose(1, 0).reshape((cfg[\"hidden_dim\"], cfg[\"num_heads\"], -1)).numpy()\n",
        "    )\n",
        "    model.get_layer(f\"transformer_layer_{i}\")._self_attention_layer._key_dense.bias.assign(\n",
        "        pt_wts[f\"transformer.layer.{i}.attention.k_lin.bias\"].reshape((cfg[\"num_heads\"], -1)).numpy()\n",
        "    )\n",
        "\n",
        "    model.get_layer(f\"transformer_layer_{i}\")._self_attention_layer._value_dense.kernel.assign(\n",
        "        pt_wts[f\"transformer.layer.{i}.attention.v_lin.weight\"].transpose(1, 0).reshape((cfg[\"hidden_dim\"], cfg[\"num_heads\"], -1)).numpy()\n",
        "    )\n",
        "    model.get_layer(f\"transformer_layer_{i}\")._self_attention_layer._value_dense.bias.assign(\n",
        "        pt_wts[f\"transformer.layer.{i}.attention.v_lin.bias\"].reshape((cfg[\"num_heads\"], -1)).numpy()\n",
        "    )\n",
        "\n",
        "\n",
        "    model.get_layer(f\"transformer_layer_{i}\")._self_attention_layer._output_dense.kernel.assign(\n",
        "        pt_wts[f\"transformer.layer.{i}.attention.out_lin.weight\"].transpose(1, 0).reshape((cfg[\"num_heads\"], -1, cfg[\"hidden_dim\"])).numpy()\n",
        "    )\n",
        "    model.get_layer(f\"transformer_layer_{i}\")._self_attention_layer._output_dense.bias.assign(\n",
        "         pt_wts[f\"transformer.layer.{i}.attention.out_lin.bias\"].numpy()\n",
        "    )\n",
        "\n",
        "    model.get_layer(f\"transformer_layer_{i}\")._self_attention_layernorm.gamma.assign(\n",
        "        pt_wts[f\"transformer.layer.{i}.sa_layer_norm.weight\"].numpy()\n",
        "    )\n",
        "    model.get_layer(f\"transformer_layer_{i}\")._self_attention_layernorm.beta.assign(\n",
        "        pt_wts[f\"transformer.layer.{i}.sa_layer_norm.bias\"].numpy()\n",
        "    )\n",
        "\n",
        "    model.get_layer(f\"transformer_layer_{i}\")._feedforward_intermediate_dense.kernel.assign(\n",
        "        pt_wts[f\"transformer.layer.{i}.ffn.lin1.weight\"].transpose(1, 0).numpy()\n",
        "    )\n",
        "    model.get_layer(f\"transformer_layer_{i}\")._feedforward_intermediate_dense.bias.assign(\n",
        "        pt_wts[f\"transformer.layer.{i}.ffn.lin1.bias\"].numpy()\n",
        "    )\n",
        "\n",
        "    model.get_layer(f\"transformer_layer_{i}\")._feedforward_output_dense.kernel.assign(\n",
        "        pt_wts[f\"transformer.layer.{i}.ffn.lin2.weight\"].transpose(1, 0).numpy()\n",
        "    )\n",
        "    model.get_layer(f\"transformer_layer_{i}\")._feedforward_output_dense.bias.assign(\n",
        "        pt_wts[f\"transformer.layer.{i}.ffn.lin2.bias\"].numpy()\n",
        "    )\n",
        "\n",
        "    model.get_layer(f\"transformer_layer_{i}\")._feedforward_layernorm.gamma.assign(\n",
        "        pt_wts[f\"transformer.layer.{i}.output_layer_norm.weight\"].numpy()\n",
        "    )\n",
        "    model.get_layer(f\"transformer_layer_{i}\")._feedforward_layernorm.beta.assign(\n",
        "        pt_wts[f\"transformer.layer.{i}.output_layer_norm.bias\"].numpy()\n",
        "    )\n"
      ],
      "metadata": {
        "id": "D9x2u-KqDXld"
      },
      "execution_count": 9,
      "outputs": []
    },
    {
      "cell_type": "code",
      "source": [
        "# Instantiate KerasNLP `DistilBertPreprocessor`.\n",
        "preprocessor = keras_nlp.models.DistilBertPreprocessor.from_preset(\n",
        "    f\"{variant_}_en\"\n",
        ")"
      ],
      "metadata": {
        "id": "FDhNcdq7k9xI",
        "colab": {
          "base_uri": "https://localhost:8080/"
        },
        "outputId": "57c9e1f2-8818-438d-97b0-6d41b82ca7d4"
      },
      "execution_count": 10,
      "outputs": [
        {
          "output_type": "stream",
          "name": "stdout",
          "text": [
            "Downloading data from https://storage.googleapis.com/keras-nlp/models/distilbert_base_uncased_en/vocab.txt\n",
            "231508/231508 [==============================] - 0s 0us/step\n"
          ]
        }
      ]
    },
    {
      "cell_type": "code",
      "source": [
        "# Instantiate the HF model and tokenizer.\n",
        "\n",
        "hf_model = AutoModel.from_pretrained(variant)\n",
        "hf_model.eval()\n",
        "\n",
        "hf_tokenizer = AutoTokenizer.from_pretrained(variant)"
      ],
      "metadata": {
        "colab": {
          "base_uri": "https://localhost:8080/",
          "height": 185,
          "referenced_widgets": [
            "72f96c7fbddf4026a9e22b94d02660f6",
            "b0ad40a2a91e43589d199b3c8986bb1b",
            "2bf66aa4b27e4e1b96e9346a78e84233",
            "651aa0c5e68f4bc8a6aa035f8be3dcc0",
            "f3271c02c33f4180a53a583c5937208d",
            "96e8b73c85344e4a9ac7acd148067bf3",
            "a9bc624381194c1b9fc49341abf36172",
            "a04f46220ede4a1ea5c6cbd7b631eb9a",
            "89ba032c437f4802bd6f9238d38ab638",
            "f47fb3ed2f33468f9205d31d955468bb",
            "7c1b39b4251f4681bd180e26f3fb2016",
            "e294e8cd9ab547e5a9a9a3726a12eff4",
            "eef027b20ae148efb8e4862f5a733fc8",
            "77c0edd9ff8741dabb98895663db8274",
            "5585d29e548f41d5b7ece81016ea25f2",
            "0e77daf85b5049c2828a0582db146862",
            "411387efd4aa460295ffaa4160cabbd8",
            "d7c2be0d2a44495b99644abc8c10f8be",
            "49d6a199cd844cbcaae9321fa3ffb1ff",
            "a80d027cbe3b424595258df5e8f12f56",
            "b908c58c48c84d539f37b5077a2e089e",
            "98a8956a36ad41fead6a2f1eb0c06370",
            "bea92901748440bbac8d3a02180de35a",
            "8e32dd7682fd40a5ab8402d3375add27",
            "e7161037e3dc46f5a114a8e41cbcb054",
            "0cc15e886c4f46df98ed4e5a4ff022ca",
            "98b40baa5f4d4a849848b2c626919bad",
            "0220f1f668b84fb08e75bf7c7783c225",
            "bd0e7bfb858641c6a69c5bd53d14b749",
            "40b312ed060f442ebfac485662b7d7ec",
            "804069e13aa64c8ea1b2191edbc5169c",
            "91d063fc7c374cf8988c1c20ce096506",
            "4a3035519a8a43ffb9dc4ff5afcb9f79"
          ]
        },
        "id": "nrsC2P25tNj4",
        "outputId": "1238cd07-e7e2-4cb2-844f-a1bcccf62b47"
      },
      "execution_count": 11,
      "outputs": [
        {
          "output_type": "stream",
          "name": "stderr",
          "text": [
            "Some weights of the model checkpoint at distilbert-base-uncased were not used when initializing DistilBertModel: ['vocab_projector.weight', 'vocab_transform.weight', 'vocab_layer_norm.weight', 'vocab_layer_norm.bias', 'vocab_transform.bias', 'vocab_projector.bias']\n",
            "- This IS expected if you are initializing DistilBertModel from the checkpoint of a model trained on another task or with another architecture (e.g. initializing a BertForSequenceClassification model from a BertForPreTraining model).\n",
            "- This IS NOT expected if you are initializing DistilBertModel from the checkpoint of a model that you expect to be exactly identical (initializing a BertForSequenceClassification model from a BertForSequenceClassification model).\n"
          ]
        },
        {
          "output_type": "display_data",
          "data": {
            "text/plain": [
              "Downloading:   0%|          | 0.00/28.0 [00:00<?, ?B/s]"
            ],
            "application/vnd.jupyter.widget-view+json": {
              "version_major": 2,
              "version_minor": 0,
              "model_id": "72f96c7fbddf4026a9e22b94d02660f6"
            }
          },
          "metadata": {}
        },
        {
          "output_type": "display_data",
          "data": {
            "text/plain": [
              "Downloading:   0%|          | 0.00/232k [00:00<?, ?B/s]"
            ],
            "application/vnd.jupyter.widget-view+json": {
              "version_major": 2,
              "version_minor": 0,
              "model_id": "e294e8cd9ab547e5a9a9a3726a12eff4"
            }
          },
          "metadata": {}
        },
        {
          "output_type": "display_data",
          "data": {
            "text/plain": [
              "Downloading:   0%|          | 0.00/466k [00:00<?, ?B/s]"
            ],
            "application/vnd.jupyter.widget-view+json": {
              "version_major": 2,
              "version_minor": 0,
              "model_id": "bea92901748440bbac8d3a02180de35a"
            }
          },
          "metadata": {}
        }
      ]
    },
    {
      "cell_type": "code",
      "source": [
        "sample_text = [\"cricket is awesome, easily the best sport in the world!\"]\n",
        "sample_input = preprocessor(tf.constant(sample_text))\n",
        "hf_sample_input = hf_tokenizer(sample_text, padding=\"max_length\", return_tensors=\"pt\")\n",
        "\n",
        "sample_input[\"token_ids\"][:, :20], hf_sample_input[\"input_ids\"][:, :20]"
      ],
      "metadata": {
        "colab": {
          "base_uri": "https://localhost:8080/"
        },
        "id": "m_KBVPDOurpX",
        "outputId": "a6b120a4-7ff9-4bac-b7ca-190872107906"
      },
      "execution_count": 12,
      "outputs": [
        {
          "output_type": "execute_result",
          "data": {
            "text/plain": [
              "(<tf.Tensor: shape=(1, 20), dtype=int32, numpy=\n",
              " array([[  101,  4533,  2003, 12476,  1010,  4089,  1996,  2190,  4368,\n",
              "          1999,  1996,  2088,   999,   102,     0,     0,     0,     0,\n",
              "             0,     0]], dtype=int32)>,\n",
              " tensor([[  101,  4533,  2003, 12476,  1010,  4089,  1996,  2190,  4368,  1999,\n",
              "           1996,  2088,   999,   102,     0,     0,     0,     0,     0,     0]]))"
            ]
          },
          "metadata": {},
          "execution_count": 12
        }
      ]
    },
    {
      "cell_type": "code",
      "source": [
        "keras_nlp_output = model.predict(sample_input)\n",
        "hf_output = hf_model(**hf_sample_input)\n",
        "\n",
        "keras_nlp_output[0, 0, :10], hf_output.last_hidden_state[0, 0, :10]"
      ],
      "metadata": {
        "colab": {
          "base_uri": "https://localhost:8080/"
        },
        "id": "zzVLgBJ4tbp7",
        "outputId": "a38275f9-f8a2-4145-eaf4-953d5ba4a3b6"
      },
      "execution_count": 13,
      "outputs": [
        {
          "output_type": "stream",
          "name": "stdout",
          "text": [
            "1/1 [==============================] - 6s 6s/step\n"
          ]
        },
        {
          "output_type": "execute_result",
          "data": {
            "text/plain": [
              "(array([ 0.02147477, -0.15703455,  0.0651448 , -0.09119402, -0.31850424,\n",
              "        -0.61443514,  0.22434759,  0.8855009 , -0.21813184, -0.14228325],\n",
              "       dtype=float32),\n",
              " tensor([ 0.0215, -0.1570,  0.0651, -0.0912, -0.3185, -0.6144,  0.2243,  0.8855,\n",
              "         -0.2181, -0.1423], grad_fn=<SliceBackward0>))"
            ]
          },
          "metadata": {},
          "execution_count": 13
        }
      ]
    },
    {
      "cell_type": "code",
      "source": [
        "np.mean(keras_nlp_output - hf_output.last_hidden_state.detach().numpy())"
      ],
      "metadata": {
        "colab": {
          "base_uri": "https://localhost:8080/"
        },
        "id": "PilynT7hFnbl",
        "outputId": "04242676-7783-4b55-df4c-078c0f0f6ef0"
      },
      "execution_count": 14,
      "outputs": [
        {
          "output_type": "execute_result",
          "data": {
            "text/plain": [
              "-4.0443325e-08"
            ]
          },
          "metadata": {},
          "execution_count": 14
        }
      ]
    },
    {
      "cell_type": "code",
      "source": [
        "# Save DistilBERT checkpoint.\n",
        "model.save_weights(model_save_name)"
      ],
      "metadata": {
        "id": "RXRdvGyszaX_"
      },
      "execution_count": 15,
      "outputs": []
    },
    {
      "cell_type": "code",
      "source": [
        "!cp $vocab_path ./\n",
        "!md5sum vocab.txt"
      ],
      "metadata": {
        "id": "R1NCaNPbMf_w",
        "colab": {
          "base_uri": "https://localhost:8080/"
        },
        "outputId": "05e051ed-3b57-4ec2-dcf7-769ca786ceff"
      },
      "execution_count": null,
      "outputs": [
        {
          "output_type": "stream",
          "name": "stdout",
          "text": [
            "64800d5d8528ce344256daf115d4965e  vocab.txt\n"
          ]
        }
      ]
    },
    {
      "cell_type": "code",
      "source": [
        "!md5sum $model_save_name"
      ],
      "metadata": {
        "colab": {
          "base_uri": "https://localhost:8080/"
        },
        "id": "kgykIG6gsBST",
        "outputId": "efdf805a-c643-404d-e735-f5419ef06eb7"
      },
      "execution_count": null,
      "outputs": [
        {
          "output_type": "stream",
          "name": "stdout",
          "text": [
            "6625a649572e74086d74c46b8d0b0da3  distilbert_base_uncased_en.h5\n"
          ]
        }
      ]
    },
    {
      "cell_type": "code",
      "source": [
        "model2 = keras_nlp.models.DistilBert.from_preset(f\"{variant_}_en\", load_weights=False)\n",
        "model2.load_weights(model_save_name)"
      ],
      "metadata": {
        "id": "uD5ng0yBtqeb"
      },
      "execution_count": 16,
      "outputs": []
    },
    {
      "cell_type": "code",
      "source": [
        "keras_nlp_output2 = model2.predict(sample_input)\n",
        "tf.reduce_mean(keras_nlp_output - keras_nlp_output2)"
      ],
      "metadata": {
        "id": "YAiX-ha5mhRp",
        "colab": {
          "base_uri": "https://localhost:8080/"
        },
        "outputId": "45fdfb1a-b066-45e6-ea11-a5c7930ed1da"
      },
      "execution_count": 17,
      "outputs": [
        {
          "output_type": "stream",
          "name": "stdout",
          "text": [
            "1/1 [==============================] - 1s 998ms/step\n"
          ]
        },
        {
          "output_type": "execute_result",
          "data": {
            "text/plain": [
              "<tf.Tensor: shape=(), dtype=float32, numpy=0.0>"
            ]
          },
          "metadata": {},
          "execution_count": 17
        }
      ]
    },
    {
      "cell_type": "code",
      "execution_count": 18,
      "metadata": {
        "id": "wTd-5vUyVG0Q",
        "colab": {
          "base_uri": "https://localhost:8080/"
        },
        "outputId": "9e3977b5-0413-44e2-d6ca-f4c639ea5cc9"
      },
      "outputs": [
        {
          "output_type": "stream",
          "name": "stdout",
          "text": [
            "Downloading data from https://storage.googleapis.com/keras-nlp/models/distilbert_base_uncased_en/model.h5\n",
            "265570304/265570304 [==============================] - 2s 0us/step\n"
          ]
        }
      ],
      "source": [
        "# Check uploaded model once added to repo\n",
        "model_cloud = keras_nlp.models.DistilBert.from_preset(\n",
        "    f\"{variant_}_en\", load_weights=True\n",
        ")"
      ]
    },
    {
      "cell_type": "code",
      "execution_count": 19,
      "metadata": {
        "colab": {
          "base_uri": "https://localhost:8080/"
        },
        "id": "zs5x_f6GVdNY",
        "outputId": "51939c7a-11e9-4024-ca7a-c2d8109c4ad7"
      },
      "outputs": [
        {
          "output_type": "stream",
          "name": "stdout",
          "text": [
            "1/1 [==============================] - 1s 1s/step\n"
          ]
        },
        {
          "output_type": "execute_result",
          "data": {
            "text/plain": [
              "<tf.Tensor: shape=(), dtype=float32, numpy=0.0>"
            ]
          },
          "metadata": {},
          "execution_count": 19
        }
      ],
      "source": [
        "# Same output from cloud model\n",
        "keras_nlp_output_cloud = model_cloud.predict(sample_input)\n",
        "tf.reduce_mean(keras_nlp_output - keras_nlp_output_cloud)"
      ]
    },
    {
      "cell_type": "code",
      "source": [
        "keras_nlp_output_cloud[0, 0, :10]"
      ],
      "metadata": {
        "colab": {
          "base_uri": "https://localhost:8080/"
        },
        "id": "RAwrhAcSzHWa",
        "outputId": "1f9aecea-5d08-4ede-deae-354f9bedab8d"
      },
      "execution_count": 20,
      "outputs": [
        {
          "output_type": "execute_result",
          "data": {
            "text/plain": [
              "array([ 0.02147477, -0.15703455,  0.0651448 , -0.09119402, -0.31850424,\n",
              "       -0.61443514,  0.22434759,  0.8855009 , -0.21813184, -0.14228325],\n",
              "      dtype=float32)"
            ]
          },
          "metadata": {},
          "execution_count": 20
        }
      ]
    },
    {
      "cell_type": "code",
      "source": [],
      "metadata": {
        "id": "IXOpboJ3mwhs"
      },
      "execution_count": null,
      "outputs": []
    }
  ],
  "metadata": {
    "colab": {
      "provenance": []
    },
    "kernelspec": {
      "display_name": "Python 3",
      "name": "python3"
    },
    "widgets": {
      "application/vnd.jupyter.widget-state+json": {
        "839555276e8f47ffa0e58c9b1121c941": {
          "model_module": "@jupyter-widgets/controls",
          "model_name": "HBoxModel",
          "model_module_version": "1.5.0",
          "state": {
            "_dom_classes": [],
            "_model_module": "@jupyter-widgets/controls",
            "_model_module_version": "1.5.0",
            "_model_name": "HBoxModel",
            "_view_count": null,
            "_view_module": "@jupyter-widgets/controls",
            "_view_module_version": "1.5.0",
            "_view_name": "HBoxView",
            "box_style": "",
            "children": [
              "IPY_MODEL_212f1e175e854b2a9a5b252776aaa28f",
              "IPY_MODEL_8325c561c1fd4bd28d4b852ad29fabc4",
              "IPY_MODEL_60f8a515e9f242278d3656d7d57c8e4c"
            ],
            "layout": "IPY_MODEL_1f73c24106ed435aad650963061e73e4"
          }
        },
        "212f1e175e854b2a9a5b252776aaa28f": {
          "model_module": "@jupyter-widgets/controls",
          "model_name": "HTMLModel",
          "model_module_version": "1.5.0",
          "state": {
            "_dom_classes": [],
            "_model_module": "@jupyter-widgets/controls",
            "_model_module_version": "1.5.0",
            "_model_name": "HTMLModel",
            "_view_count": null,
            "_view_module": "@jupyter-widgets/controls",
            "_view_module_version": "1.5.0",
            "_view_name": "HTMLView",
            "description": "",
            "description_tooltip": null,
            "layout": "IPY_MODEL_16c145f39d7f47a692e017b4c8315ee7",
            "placeholder": "​",
            "style": "IPY_MODEL_daace478f137499ba1174a9ab653cc68",
            "value": "Downloading: 100%"
          }
        },
        "8325c561c1fd4bd28d4b852ad29fabc4": {
          "model_module": "@jupyter-widgets/controls",
          "model_name": "FloatProgressModel",
          "model_module_version": "1.5.0",
          "state": {
            "_dom_classes": [],
            "_model_module": "@jupyter-widgets/controls",
            "_model_module_version": "1.5.0",
            "_model_name": "FloatProgressModel",
            "_view_count": null,
            "_view_module": "@jupyter-widgets/controls",
            "_view_module_version": "1.5.0",
            "_view_name": "ProgressView",
            "bar_style": "success",
            "description": "",
            "description_tooltip": null,
            "layout": "IPY_MODEL_6ddfd938398143fdba080b5459542af9",
            "max": 483,
            "min": 0,
            "orientation": "horizontal",
            "style": "IPY_MODEL_6e4b228a31c24960b29645eab0c9a4a9",
            "value": 483
          }
        },
        "60f8a515e9f242278d3656d7d57c8e4c": {
          "model_module": "@jupyter-widgets/controls",
          "model_name": "HTMLModel",
          "model_module_version": "1.5.0",
          "state": {
            "_dom_classes": [],
            "_model_module": "@jupyter-widgets/controls",
            "_model_module_version": "1.5.0",
            "_model_name": "HTMLModel",
            "_view_count": null,
            "_view_module": "@jupyter-widgets/controls",
            "_view_module_version": "1.5.0",
            "_view_name": "HTMLView",
            "description": "",
            "description_tooltip": null,
            "layout": "IPY_MODEL_4c19f30425d24b47908db2a2ad9cb25e",
            "placeholder": "​",
            "style": "IPY_MODEL_2a6d6ad19b004251aea7faa8a2facc31",
            "value": " 483/483 [00:00&lt;00:00, 13.4kB/s]"
          }
        },
        "1f73c24106ed435aad650963061e73e4": {
          "model_module": "@jupyter-widgets/base",
          "model_name": "LayoutModel",
          "model_module_version": "1.2.0",
          "state": {
            "_model_module": "@jupyter-widgets/base",
            "_model_module_version": "1.2.0",
            "_model_name": "LayoutModel",
            "_view_count": null,
            "_view_module": "@jupyter-widgets/base",
            "_view_module_version": "1.2.0",
            "_view_name": "LayoutView",
            "align_content": null,
            "align_items": null,
            "align_self": null,
            "border": null,
            "bottom": null,
            "display": null,
            "flex": null,
            "flex_flow": null,
            "grid_area": null,
            "grid_auto_columns": null,
            "grid_auto_flow": null,
            "grid_auto_rows": null,
            "grid_column": null,
            "grid_gap": null,
            "grid_row": null,
            "grid_template_areas": null,
            "grid_template_columns": null,
            "grid_template_rows": null,
            "height": null,
            "justify_content": null,
            "justify_items": null,
            "left": null,
            "margin": null,
            "max_height": null,
            "max_width": null,
            "min_height": null,
            "min_width": null,
            "object_fit": null,
            "object_position": null,
            "order": null,
            "overflow": null,
            "overflow_x": null,
            "overflow_y": null,
            "padding": null,
            "right": null,
            "top": null,
            "visibility": null,
            "width": null
          }
        },
        "16c145f39d7f47a692e017b4c8315ee7": {
          "model_module": "@jupyter-widgets/base",
          "model_name": "LayoutModel",
          "model_module_version": "1.2.0",
          "state": {
            "_model_module": "@jupyter-widgets/base",
            "_model_module_version": "1.2.0",
            "_model_name": "LayoutModel",
            "_view_count": null,
            "_view_module": "@jupyter-widgets/base",
            "_view_module_version": "1.2.0",
            "_view_name": "LayoutView",
            "align_content": null,
            "align_items": null,
            "align_self": null,
            "border": null,
            "bottom": null,
            "display": null,
            "flex": null,
            "flex_flow": null,
            "grid_area": null,
            "grid_auto_columns": null,
            "grid_auto_flow": null,
            "grid_auto_rows": null,
            "grid_column": null,
            "grid_gap": null,
            "grid_row": null,
            "grid_template_areas": null,
            "grid_template_columns": null,
            "grid_template_rows": null,
            "height": null,
            "justify_content": null,
            "justify_items": null,
            "left": null,
            "margin": null,
            "max_height": null,
            "max_width": null,
            "min_height": null,
            "min_width": null,
            "object_fit": null,
            "object_position": null,
            "order": null,
            "overflow": null,
            "overflow_x": null,
            "overflow_y": null,
            "padding": null,
            "right": null,
            "top": null,
            "visibility": null,
            "width": null
          }
        },
        "daace478f137499ba1174a9ab653cc68": {
          "model_module": "@jupyter-widgets/controls",
          "model_name": "DescriptionStyleModel",
          "model_module_version": "1.5.0",
          "state": {
            "_model_module": "@jupyter-widgets/controls",
            "_model_module_version": "1.5.0",
            "_model_name": "DescriptionStyleModel",
            "_view_count": null,
            "_view_module": "@jupyter-widgets/base",
            "_view_module_version": "1.2.0",
            "_view_name": "StyleView",
            "description_width": ""
          }
        },
        "6ddfd938398143fdba080b5459542af9": {
          "model_module": "@jupyter-widgets/base",
          "model_name": "LayoutModel",
          "model_module_version": "1.2.0",
          "state": {
            "_model_module": "@jupyter-widgets/base",
            "_model_module_version": "1.2.0",
            "_model_name": "LayoutModel",
            "_view_count": null,
            "_view_module": "@jupyter-widgets/base",
            "_view_module_version": "1.2.0",
            "_view_name": "LayoutView",
            "align_content": null,
            "align_items": null,
            "align_self": null,
            "border": null,
            "bottom": null,
            "display": null,
            "flex": null,
            "flex_flow": null,
            "grid_area": null,
            "grid_auto_columns": null,
            "grid_auto_flow": null,
            "grid_auto_rows": null,
            "grid_column": null,
            "grid_gap": null,
            "grid_row": null,
            "grid_template_areas": null,
            "grid_template_columns": null,
            "grid_template_rows": null,
            "height": null,
            "justify_content": null,
            "justify_items": null,
            "left": null,
            "margin": null,
            "max_height": null,
            "max_width": null,
            "min_height": null,
            "min_width": null,
            "object_fit": null,
            "object_position": null,
            "order": null,
            "overflow": null,
            "overflow_x": null,
            "overflow_y": null,
            "padding": null,
            "right": null,
            "top": null,
            "visibility": null,
            "width": null
          }
        },
        "6e4b228a31c24960b29645eab0c9a4a9": {
          "model_module": "@jupyter-widgets/controls",
          "model_name": "ProgressStyleModel",
          "model_module_version": "1.5.0",
          "state": {
            "_model_module": "@jupyter-widgets/controls",
            "_model_module_version": "1.5.0",
            "_model_name": "ProgressStyleModel",
            "_view_count": null,
            "_view_module": "@jupyter-widgets/base",
            "_view_module_version": "1.2.0",
            "_view_name": "StyleView",
            "bar_color": null,
            "description_width": ""
          }
        },
        "4c19f30425d24b47908db2a2ad9cb25e": {
          "model_module": "@jupyter-widgets/base",
          "model_name": "LayoutModel",
          "model_module_version": "1.2.0",
          "state": {
            "_model_module": "@jupyter-widgets/base",
            "_model_module_version": "1.2.0",
            "_model_name": "LayoutModel",
            "_view_count": null,
            "_view_module": "@jupyter-widgets/base",
            "_view_module_version": "1.2.0",
            "_view_name": "LayoutView",
            "align_content": null,
            "align_items": null,
            "align_self": null,
            "border": null,
            "bottom": null,
            "display": null,
            "flex": null,
            "flex_flow": null,
            "grid_area": null,
            "grid_auto_columns": null,
            "grid_auto_flow": null,
            "grid_auto_rows": null,
            "grid_column": null,
            "grid_gap": null,
            "grid_row": null,
            "grid_template_areas": null,
            "grid_template_columns": null,
            "grid_template_rows": null,
            "height": null,
            "justify_content": null,
            "justify_items": null,
            "left": null,
            "margin": null,
            "max_height": null,
            "max_width": null,
            "min_height": null,
            "min_width": null,
            "object_fit": null,
            "object_position": null,
            "order": null,
            "overflow": null,
            "overflow_x": null,
            "overflow_y": null,
            "padding": null,
            "right": null,
            "top": null,
            "visibility": null,
            "width": null
          }
        },
        "2a6d6ad19b004251aea7faa8a2facc31": {
          "model_module": "@jupyter-widgets/controls",
          "model_name": "DescriptionStyleModel",
          "model_module_version": "1.5.0",
          "state": {
            "_model_module": "@jupyter-widgets/controls",
            "_model_module_version": "1.5.0",
            "_model_name": "DescriptionStyleModel",
            "_view_count": null,
            "_view_module": "@jupyter-widgets/base",
            "_view_module_version": "1.2.0",
            "_view_name": "StyleView",
            "description_width": ""
          }
        },
        "f84378402e75404eb405ef4aeceace16": {
          "model_module": "@jupyter-widgets/controls",
          "model_name": "HBoxModel",
          "model_module_version": "1.5.0",
          "state": {
            "_dom_classes": [],
            "_model_module": "@jupyter-widgets/controls",
            "_model_module_version": "1.5.0",
            "_model_name": "HBoxModel",
            "_view_count": null,
            "_view_module": "@jupyter-widgets/controls",
            "_view_module_version": "1.5.0",
            "_view_name": "HBoxView",
            "box_style": "",
            "children": [
              "IPY_MODEL_27b4c2e0591d424b9a88cd0055ff60e1",
              "IPY_MODEL_86935b169ede4ab4ae833a780645ce42",
              "IPY_MODEL_aad8e1ecf4cc44f29c6ddf37a7a98bbd"
            ],
            "layout": "IPY_MODEL_ec23c140db6f4117a04c78373679669d"
          }
        },
        "27b4c2e0591d424b9a88cd0055ff60e1": {
          "model_module": "@jupyter-widgets/controls",
          "model_name": "HTMLModel",
          "model_module_version": "1.5.0",
          "state": {
            "_dom_classes": [],
            "_model_module": "@jupyter-widgets/controls",
            "_model_module_version": "1.5.0",
            "_model_name": "HTMLModel",
            "_view_count": null,
            "_view_module": "@jupyter-widgets/controls",
            "_view_module_version": "1.5.0",
            "_view_name": "HTMLView",
            "description": "",
            "description_tooltip": null,
            "layout": "IPY_MODEL_3e09da673e254ad18937d815eaefb88f",
            "placeholder": "​",
            "style": "IPY_MODEL_60e4eaac9fc242a6856a92c712356729",
            "value": "Downloading: 100%"
          }
        },
        "86935b169ede4ab4ae833a780645ce42": {
          "model_module": "@jupyter-widgets/controls",
          "model_name": "FloatProgressModel",
          "model_module_version": "1.5.0",
          "state": {
            "_dom_classes": [],
            "_model_module": "@jupyter-widgets/controls",
            "_model_module_version": "1.5.0",
            "_model_name": "FloatProgressModel",
            "_view_count": null,
            "_view_module": "@jupyter-widgets/controls",
            "_view_module_version": "1.5.0",
            "_view_name": "ProgressView",
            "bar_style": "success",
            "description": "",
            "description_tooltip": null,
            "layout": "IPY_MODEL_9f61e01ff5594316bbfdc37c96c7c3ab",
            "max": 267967963,
            "min": 0,
            "orientation": "horizontal",
            "style": "IPY_MODEL_4c5e2558fef74a5a90022e103038b52a",
            "value": 267967963
          }
        },
        "aad8e1ecf4cc44f29c6ddf37a7a98bbd": {
          "model_module": "@jupyter-widgets/controls",
          "model_name": "HTMLModel",
          "model_module_version": "1.5.0",
          "state": {
            "_dom_classes": [],
            "_model_module": "@jupyter-widgets/controls",
            "_model_module_version": "1.5.0",
            "_model_name": "HTMLModel",
            "_view_count": null,
            "_view_module": "@jupyter-widgets/controls",
            "_view_module_version": "1.5.0",
            "_view_name": "HTMLView",
            "description": "",
            "description_tooltip": null,
            "layout": "IPY_MODEL_d9507a3aee3044f1877820a184498e5b",
            "placeholder": "​",
            "style": "IPY_MODEL_6c387233a0b1414c9e45aab618b78ea2",
            "value": " 268M/268M [00:11&lt;00:00, 29.1MB/s]"
          }
        },
        "ec23c140db6f4117a04c78373679669d": {
          "model_module": "@jupyter-widgets/base",
          "model_name": "LayoutModel",
          "model_module_version": "1.2.0",
          "state": {
            "_model_module": "@jupyter-widgets/base",
            "_model_module_version": "1.2.0",
            "_model_name": "LayoutModel",
            "_view_count": null,
            "_view_module": "@jupyter-widgets/base",
            "_view_module_version": "1.2.0",
            "_view_name": "LayoutView",
            "align_content": null,
            "align_items": null,
            "align_self": null,
            "border": null,
            "bottom": null,
            "display": null,
            "flex": null,
            "flex_flow": null,
            "grid_area": null,
            "grid_auto_columns": null,
            "grid_auto_flow": null,
            "grid_auto_rows": null,
            "grid_column": null,
            "grid_gap": null,
            "grid_row": null,
            "grid_template_areas": null,
            "grid_template_columns": null,
            "grid_template_rows": null,
            "height": null,
            "justify_content": null,
            "justify_items": null,
            "left": null,
            "margin": null,
            "max_height": null,
            "max_width": null,
            "min_height": null,
            "min_width": null,
            "object_fit": null,
            "object_position": null,
            "order": null,
            "overflow": null,
            "overflow_x": null,
            "overflow_y": null,
            "padding": null,
            "right": null,
            "top": null,
            "visibility": null,
            "width": null
          }
        },
        "3e09da673e254ad18937d815eaefb88f": {
          "model_module": "@jupyter-widgets/base",
          "model_name": "LayoutModel",
          "model_module_version": "1.2.0",
          "state": {
            "_model_module": "@jupyter-widgets/base",
            "_model_module_version": "1.2.0",
            "_model_name": "LayoutModel",
            "_view_count": null,
            "_view_module": "@jupyter-widgets/base",
            "_view_module_version": "1.2.0",
            "_view_name": "LayoutView",
            "align_content": null,
            "align_items": null,
            "align_self": null,
            "border": null,
            "bottom": null,
            "display": null,
            "flex": null,
            "flex_flow": null,
            "grid_area": null,
            "grid_auto_columns": null,
            "grid_auto_flow": null,
            "grid_auto_rows": null,
            "grid_column": null,
            "grid_gap": null,
            "grid_row": null,
            "grid_template_areas": null,
            "grid_template_columns": null,
            "grid_template_rows": null,
            "height": null,
            "justify_content": null,
            "justify_items": null,
            "left": null,
            "margin": null,
            "max_height": null,
            "max_width": null,
            "min_height": null,
            "min_width": null,
            "object_fit": null,
            "object_position": null,
            "order": null,
            "overflow": null,
            "overflow_x": null,
            "overflow_y": null,
            "padding": null,
            "right": null,
            "top": null,
            "visibility": null,
            "width": null
          }
        },
        "60e4eaac9fc242a6856a92c712356729": {
          "model_module": "@jupyter-widgets/controls",
          "model_name": "DescriptionStyleModel",
          "model_module_version": "1.5.0",
          "state": {
            "_model_module": "@jupyter-widgets/controls",
            "_model_module_version": "1.5.0",
            "_model_name": "DescriptionStyleModel",
            "_view_count": null,
            "_view_module": "@jupyter-widgets/base",
            "_view_module_version": "1.2.0",
            "_view_name": "StyleView",
            "description_width": ""
          }
        },
        "9f61e01ff5594316bbfdc37c96c7c3ab": {
          "model_module": "@jupyter-widgets/base",
          "model_name": "LayoutModel",
          "model_module_version": "1.2.0",
          "state": {
            "_model_module": "@jupyter-widgets/base",
            "_model_module_version": "1.2.0",
            "_model_name": "LayoutModel",
            "_view_count": null,
            "_view_module": "@jupyter-widgets/base",
            "_view_module_version": "1.2.0",
            "_view_name": "LayoutView",
            "align_content": null,
            "align_items": null,
            "align_self": null,
            "border": null,
            "bottom": null,
            "display": null,
            "flex": null,
            "flex_flow": null,
            "grid_area": null,
            "grid_auto_columns": null,
            "grid_auto_flow": null,
            "grid_auto_rows": null,
            "grid_column": null,
            "grid_gap": null,
            "grid_row": null,
            "grid_template_areas": null,
            "grid_template_columns": null,
            "grid_template_rows": null,
            "height": null,
            "justify_content": null,
            "justify_items": null,
            "left": null,
            "margin": null,
            "max_height": null,
            "max_width": null,
            "min_height": null,
            "min_width": null,
            "object_fit": null,
            "object_position": null,
            "order": null,
            "overflow": null,
            "overflow_x": null,
            "overflow_y": null,
            "padding": null,
            "right": null,
            "top": null,
            "visibility": null,
            "width": null
          }
        },
        "4c5e2558fef74a5a90022e103038b52a": {
          "model_module": "@jupyter-widgets/controls",
          "model_name": "ProgressStyleModel",
          "model_module_version": "1.5.0",
          "state": {
            "_model_module": "@jupyter-widgets/controls",
            "_model_module_version": "1.5.0",
            "_model_name": "ProgressStyleModel",
            "_view_count": null,
            "_view_module": "@jupyter-widgets/base",
            "_view_module_version": "1.2.0",
            "_view_name": "StyleView",
            "bar_color": null,
            "description_width": ""
          }
        },
        "d9507a3aee3044f1877820a184498e5b": {
          "model_module": "@jupyter-widgets/base",
          "model_name": "LayoutModel",
          "model_module_version": "1.2.0",
          "state": {
            "_model_module": "@jupyter-widgets/base",
            "_model_module_version": "1.2.0",
            "_model_name": "LayoutModel",
            "_view_count": null,
            "_view_module": "@jupyter-widgets/base",
            "_view_module_version": "1.2.0",
            "_view_name": "LayoutView",
            "align_content": null,
            "align_items": null,
            "align_self": null,
            "border": null,
            "bottom": null,
            "display": null,
            "flex": null,
            "flex_flow": null,
            "grid_area": null,
            "grid_auto_columns": null,
            "grid_auto_flow": null,
            "grid_auto_rows": null,
            "grid_column": null,
            "grid_gap": null,
            "grid_row": null,
            "grid_template_areas": null,
            "grid_template_columns": null,
            "grid_template_rows": null,
            "height": null,
            "justify_content": null,
            "justify_items": null,
            "left": null,
            "margin": null,
            "max_height": null,
            "max_width": null,
            "min_height": null,
            "min_width": null,
            "object_fit": null,
            "object_position": null,
            "order": null,
            "overflow": null,
            "overflow_x": null,
            "overflow_y": null,
            "padding": null,
            "right": null,
            "top": null,
            "visibility": null,
            "width": null
          }
        },
        "6c387233a0b1414c9e45aab618b78ea2": {
          "model_module": "@jupyter-widgets/controls",
          "model_name": "DescriptionStyleModel",
          "model_module_version": "1.5.0",
          "state": {
            "_model_module": "@jupyter-widgets/controls",
            "_model_module_version": "1.5.0",
            "_model_name": "DescriptionStyleModel",
            "_view_count": null,
            "_view_module": "@jupyter-widgets/base",
            "_view_module_version": "1.2.0",
            "_view_name": "StyleView",
            "description_width": ""
          }
        },
        "72f96c7fbddf4026a9e22b94d02660f6": {
          "model_module": "@jupyter-widgets/controls",
          "model_name": "HBoxModel",
          "model_module_version": "1.5.0",
          "state": {
            "_dom_classes": [],
            "_model_module": "@jupyter-widgets/controls",
            "_model_module_version": "1.5.0",
            "_model_name": "HBoxModel",
            "_view_count": null,
            "_view_module": "@jupyter-widgets/controls",
            "_view_module_version": "1.5.0",
            "_view_name": "HBoxView",
            "box_style": "",
            "children": [
              "IPY_MODEL_b0ad40a2a91e43589d199b3c8986bb1b",
              "IPY_MODEL_2bf66aa4b27e4e1b96e9346a78e84233",
              "IPY_MODEL_651aa0c5e68f4bc8a6aa035f8be3dcc0"
            ],
            "layout": "IPY_MODEL_f3271c02c33f4180a53a583c5937208d"
          }
        },
        "b0ad40a2a91e43589d199b3c8986bb1b": {
          "model_module": "@jupyter-widgets/controls",
          "model_name": "HTMLModel",
          "model_module_version": "1.5.0",
          "state": {
            "_dom_classes": [],
            "_model_module": "@jupyter-widgets/controls",
            "_model_module_version": "1.5.0",
            "_model_name": "HTMLModel",
            "_view_count": null,
            "_view_module": "@jupyter-widgets/controls",
            "_view_module_version": "1.5.0",
            "_view_name": "HTMLView",
            "description": "",
            "description_tooltip": null,
            "layout": "IPY_MODEL_96e8b73c85344e4a9ac7acd148067bf3",
            "placeholder": "​",
            "style": "IPY_MODEL_a9bc624381194c1b9fc49341abf36172",
            "value": "Downloading: 100%"
          }
        },
        "2bf66aa4b27e4e1b96e9346a78e84233": {
          "model_module": "@jupyter-widgets/controls",
          "model_name": "FloatProgressModel",
          "model_module_version": "1.5.0",
          "state": {
            "_dom_classes": [],
            "_model_module": "@jupyter-widgets/controls",
            "_model_module_version": "1.5.0",
            "_model_name": "FloatProgressModel",
            "_view_count": null,
            "_view_module": "@jupyter-widgets/controls",
            "_view_module_version": "1.5.0",
            "_view_name": "ProgressView",
            "bar_style": "success",
            "description": "",
            "description_tooltip": null,
            "layout": "IPY_MODEL_a04f46220ede4a1ea5c6cbd7b631eb9a",
            "max": 28,
            "min": 0,
            "orientation": "horizontal",
            "style": "IPY_MODEL_89ba032c437f4802bd6f9238d38ab638",
            "value": 28
          }
        },
        "651aa0c5e68f4bc8a6aa035f8be3dcc0": {
          "model_module": "@jupyter-widgets/controls",
          "model_name": "HTMLModel",
          "model_module_version": "1.5.0",
          "state": {
            "_dom_classes": [],
            "_model_module": "@jupyter-widgets/controls",
            "_model_module_version": "1.5.0",
            "_model_name": "HTMLModel",
            "_view_count": null,
            "_view_module": "@jupyter-widgets/controls",
            "_view_module_version": "1.5.0",
            "_view_name": "HTMLView",
            "description": "",
            "description_tooltip": null,
            "layout": "IPY_MODEL_f47fb3ed2f33468f9205d31d955468bb",
            "placeholder": "​",
            "style": "IPY_MODEL_7c1b39b4251f4681bd180e26f3fb2016",
            "value": " 28.0/28.0 [00:00&lt;00:00, 286B/s]"
          }
        },
        "f3271c02c33f4180a53a583c5937208d": {
          "model_module": "@jupyter-widgets/base",
          "model_name": "LayoutModel",
          "model_module_version": "1.2.0",
          "state": {
            "_model_module": "@jupyter-widgets/base",
            "_model_module_version": "1.2.0",
            "_model_name": "LayoutModel",
            "_view_count": null,
            "_view_module": "@jupyter-widgets/base",
            "_view_module_version": "1.2.0",
            "_view_name": "LayoutView",
            "align_content": null,
            "align_items": null,
            "align_self": null,
            "border": null,
            "bottom": null,
            "display": null,
            "flex": null,
            "flex_flow": null,
            "grid_area": null,
            "grid_auto_columns": null,
            "grid_auto_flow": null,
            "grid_auto_rows": null,
            "grid_column": null,
            "grid_gap": null,
            "grid_row": null,
            "grid_template_areas": null,
            "grid_template_columns": null,
            "grid_template_rows": null,
            "height": null,
            "justify_content": null,
            "justify_items": null,
            "left": null,
            "margin": null,
            "max_height": null,
            "max_width": null,
            "min_height": null,
            "min_width": null,
            "object_fit": null,
            "object_position": null,
            "order": null,
            "overflow": null,
            "overflow_x": null,
            "overflow_y": null,
            "padding": null,
            "right": null,
            "top": null,
            "visibility": null,
            "width": null
          }
        },
        "96e8b73c85344e4a9ac7acd148067bf3": {
          "model_module": "@jupyter-widgets/base",
          "model_name": "LayoutModel",
          "model_module_version": "1.2.0",
          "state": {
            "_model_module": "@jupyter-widgets/base",
            "_model_module_version": "1.2.0",
            "_model_name": "LayoutModel",
            "_view_count": null,
            "_view_module": "@jupyter-widgets/base",
            "_view_module_version": "1.2.0",
            "_view_name": "LayoutView",
            "align_content": null,
            "align_items": null,
            "align_self": null,
            "border": null,
            "bottom": null,
            "display": null,
            "flex": null,
            "flex_flow": null,
            "grid_area": null,
            "grid_auto_columns": null,
            "grid_auto_flow": null,
            "grid_auto_rows": null,
            "grid_column": null,
            "grid_gap": null,
            "grid_row": null,
            "grid_template_areas": null,
            "grid_template_columns": null,
            "grid_template_rows": null,
            "height": null,
            "justify_content": null,
            "justify_items": null,
            "left": null,
            "margin": null,
            "max_height": null,
            "max_width": null,
            "min_height": null,
            "min_width": null,
            "object_fit": null,
            "object_position": null,
            "order": null,
            "overflow": null,
            "overflow_x": null,
            "overflow_y": null,
            "padding": null,
            "right": null,
            "top": null,
            "visibility": null,
            "width": null
          }
        },
        "a9bc624381194c1b9fc49341abf36172": {
          "model_module": "@jupyter-widgets/controls",
          "model_name": "DescriptionStyleModel",
          "model_module_version": "1.5.0",
          "state": {
            "_model_module": "@jupyter-widgets/controls",
            "_model_module_version": "1.5.0",
            "_model_name": "DescriptionStyleModel",
            "_view_count": null,
            "_view_module": "@jupyter-widgets/base",
            "_view_module_version": "1.2.0",
            "_view_name": "StyleView",
            "description_width": ""
          }
        },
        "a04f46220ede4a1ea5c6cbd7b631eb9a": {
          "model_module": "@jupyter-widgets/base",
          "model_name": "LayoutModel",
          "model_module_version": "1.2.0",
          "state": {
            "_model_module": "@jupyter-widgets/base",
            "_model_module_version": "1.2.0",
            "_model_name": "LayoutModel",
            "_view_count": null,
            "_view_module": "@jupyter-widgets/base",
            "_view_module_version": "1.2.0",
            "_view_name": "LayoutView",
            "align_content": null,
            "align_items": null,
            "align_self": null,
            "border": null,
            "bottom": null,
            "display": null,
            "flex": null,
            "flex_flow": null,
            "grid_area": null,
            "grid_auto_columns": null,
            "grid_auto_flow": null,
            "grid_auto_rows": null,
            "grid_column": null,
            "grid_gap": null,
            "grid_row": null,
            "grid_template_areas": null,
            "grid_template_columns": null,
            "grid_template_rows": null,
            "height": null,
            "justify_content": null,
            "justify_items": null,
            "left": null,
            "margin": null,
            "max_height": null,
            "max_width": null,
            "min_height": null,
            "min_width": null,
            "object_fit": null,
            "object_position": null,
            "order": null,
            "overflow": null,
            "overflow_x": null,
            "overflow_y": null,
            "padding": null,
            "right": null,
            "top": null,
            "visibility": null,
            "width": null
          }
        },
        "89ba032c437f4802bd6f9238d38ab638": {
          "model_module": "@jupyter-widgets/controls",
          "model_name": "ProgressStyleModel",
          "model_module_version": "1.5.0",
          "state": {
            "_model_module": "@jupyter-widgets/controls",
            "_model_module_version": "1.5.0",
            "_model_name": "ProgressStyleModel",
            "_view_count": null,
            "_view_module": "@jupyter-widgets/base",
            "_view_module_version": "1.2.0",
            "_view_name": "StyleView",
            "bar_color": null,
            "description_width": ""
          }
        },
        "f47fb3ed2f33468f9205d31d955468bb": {
          "model_module": "@jupyter-widgets/base",
          "model_name": "LayoutModel",
          "model_module_version": "1.2.0",
          "state": {
            "_model_module": "@jupyter-widgets/base",
            "_model_module_version": "1.2.0",
            "_model_name": "LayoutModel",
            "_view_count": null,
            "_view_module": "@jupyter-widgets/base",
            "_view_module_version": "1.2.0",
            "_view_name": "LayoutView",
            "align_content": null,
            "align_items": null,
            "align_self": null,
            "border": null,
            "bottom": null,
            "display": null,
            "flex": null,
            "flex_flow": null,
            "grid_area": null,
            "grid_auto_columns": null,
            "grid_auto_flow": null,
            "grid_auto_rows": null,
            "grid_column": null,
            "grid_gap": null,
            "grid_row": null,
            "grid_template_areas": null,
            "grid_template_columns": null,
            "grid_template_rows": null,
            "height": null,
            "justify_content": null,
            "justify_items": null,
            "left": null,
            "margin": null,
            "max_height": null,
            "max_width": null,
            "min_height": null,
            "min_width": null,
            "object_fit": null,
            "object_position": null,
            "order": null,
            "overflow": null,
            "overflow_x": null,
            "overflow_y": null,
            "padding": null,
            "right": null,
            "top": null,
            "visibility": null,
            "width": null
          }
        },
        "7c1b39b4251f4681bd180e26f3fb2016": {
          "model_module": "@jupyter-widgets/controls",
          "model_name": "DescriptionStyleModel",
          "model_module_version": "1.5.0",
          "state": {
            "_model_module": "@jupyter-widgets/controls",
            "_model_module_version": "1.5.0",
            "_model_name": "DescriptionStyleModel",
            "_view_count": null,
            "_view_module": "@jupyter-widgets/base",
            "_view_module_version": "1.2.0",
            "_view_name": "StyleView",
            "description_width": ""
          }
        },
        "e294e8cd9ab547e5a9a9a3726a12eff4": {
          "model_module": "@jupyter-widgets/controls",
          "model_name": "HBoxModel",
          "model_module_version": "1.5.0",
          "state": {
            "_dom_classes": [],
            "_model_module": "@jupyter-widgets/controls",
            "_model_module_version": "1.5.0",
            "_model_name": "HBoxModel",
            "_view_count": null,
            "_view_module": "@jupyter-widgets/controls",
            "_view_module_version": "1.5.0",
            "_view_name": "HBoxView",
            "box_style": "",
            "children": [
              "IPY_MODEL_eef027b20ae148efb8e4862f5a733fc8",
              "IPY_MODEL_77c0edd9ff8741dabb98895663db8274",
              "IPY_MODEL_5585d29e548f41d5b7ece81016ea25f2"
            ],
            "layout": "IPY_MODEL_0e77daf85b5049c2828a0582db146862"
          }
        },
        "eef027b20ae148efb8e4862f5a733fc8": {
          "model_module": "@jupyter-widgets/controls",
          "model_name": "HTMLModel",
          "model_module_version": "1.5.0",
          "state": {
            "_dom_classes": [],
            "_model_module": "@jupyter-widgets/controls",
            "_model_module_version": "1.5.0",
            "_model_name": "HTMLModel",
            "_view_count": null,
            "_view_module": "@jupyter-widgets/controls",
            "_view_module_version": "1.5.0",
            "_view_name": "HTMLView",
            "description": "",
            "description_tooltip": null,
            "layout": "IPY_MODEL_411387efd4aa460295ffaa4160cabbd8",
            "placeholder": "​",
            "style": "IPY_MODEL_d7c2be0d2a44495b99644abc8c10f8be",
            "value": "Downloading: 100%"
          }
        },
        "77c0edd9ff8741dabb98895663db8274": {
          "model_module": "@jupyter-widgets/controls",
          "model_name": "FloatProgressModel",
          "model_module_version": "1.5.0",
          "state": {
            "_dom_classes": [],
            "_model_module": "@jupyter-widgets/controls",
            "_model_module_version": "1.5.0",
            "_model_name": "FloatProgressModel",
            "_view_count": null,
            "_view_module": "@jupyter-widgets/controls",
            "_view_module_version": "1.5.0",
            "_view_name": "ProgressView",
            "bar_style": "success",
            "description": "",
            "description_tooltip": null,
            "layout": "IPY_MODEL_49d6a199cd844cbcaae9321fa3ffb1ff",
            "max": 231508,
            "min": 0,
            "orientation": "horizontal",
            "style": "IPY_MODEL_a80d027cbe3b424595258df5e8f12f56",
            "value": 231508
          }
        },
        "5585d29e548f41d5b7ece81016ea25f2": {
          "model_module": "@jupyter-widgets/controls",
          "model_name": "HTMLModel",
          "model_module_version": "1.5.0",
          "state": {
            "_dom_classes": [],
            "_model_module": "@jupyter-widgets/controls",
            "_model_module_version": "1.5.0",
            "_model_name": "HTMLModel",
            "_view_count": null,
            "_view_module": "@jupyter-widgets/controls",
            "_view_module_version": "1.5.0",
            "_view_name": "HTMLView",
            "description": "",
            "description_tooltip": null,
            "layout": "IPY_MODEL_b908c58c48c84d539f37b5077a2e089e",
            "placeholder": "​",
            "style": "IPY_MODEL_98a8956a36ad41fead6a2f1eb0c06370",
            "value": " 232k/232k [00:00&lt;00:00, 704kB/s]"
          }
        },
        "0e77daf85b5049c2828a0582db146862": {
          "model_module": "@jupyter-widgets/base",
          "model_name": "LayoutModel",
          "model_module_version": "1.2.0",
          "state": {
            "_model_module": "@jupyter-widgets/base",
            "_model_module_version": "1.2.0",
            "_model_name": "LayoutModel",
            "_view_count": null,
            "_view_module": "@jupyter-widgets/base",
            "_view_module_version": "1.2.0",
            "_view_name": "LayoutView",
            "align_content": null,
            "align_items": null,
            "align_self": null,
            "border": null,
            "bottom": null,
            "display": null,
            "flex": null,
            "flex_flow": null,
            "grid_area": null,
            "grid_auto_columns": null,
            "grid_auto_flow": null,
            "grid_auto_rows": null,
            "grid_column": null,
            "grid_gap": null,
            "grid_row": null,
            "grid_template_areas": null,
            "grid_template_columns": null,
            "grid_template_rows": null,
            "height": null,
            "justify_content": null,
            "justify_items": null,
            "left": null,
            "margin": null,
            "max_height": null,
            "max_width": null,
            "min_height": null,
            "min_width": null,
            "object_fit": null,
            "object_position": null,
            "order": null,
            "overflow": null,
            "overflow_x": null,
            "overflow_y": null,
            "padding": null,
            "right": null,
            "top": null,
            "visibility": null,
            "width": null
          }
        },
        "411387efd4aa460295ffaa4160cabbd8": {
          "model_module": "@jupyter-widgets/base",
          "model_name": "LayoutModel",
          "model_module_version": "1.2.0",
          "state": {
            "_model_module": "@jupyter-widgets/base",
            "_model_module_version": "1.2.0",
            "_model_name": "LayoutModel",
            "_view_count": null,
            "_view_module": "@jupyter-widgets/base",
            "_view_module_version": "1.2.0",
            "_view_name": "LayoutView",
            "align_content": null,
            "align_items": null,
            "align_self": null,
            "border": null,
            "bottom": null,
            "display": null,
            "flex": null,
            "flex_flow": null,
            "grid_area": null,
            "grid_auto_columns": null,
            "grid_auto_flow": null,
            "grid_auto_rows": null,
            "grid_column": null,
            "grid_gap": null,
            "grid_row": null,
            "grid_template_areas": null,
            "grid_template_columns": null,
            "grid_template_rows": null,
            "height": null,
            "justify_content": null,
            "justify_items": null,
            "left": null,
            "margin": null,
            "max_height": null,
            "max_width": null,
            "min_height": null,
            "min_width": null,
            "object_fit": null,
            "object_position": null,
            "order": null,
            "overflow": null,
            "overflow_x": null,
            "overflow_y": null,
            "padding": null,
            "right": null,
            "top": null,
            "visibility": null,
            "width": null
          }
        },
        "d7c2be0d2a44495b99644abc8c10f8be": {
          "model_module": "@jupyter-widgets/controls",
          "model_name": "DescriptionStyleModel",
          "model_module_version": "1.5.0",
          "state": {
            "_model_module": "@jupyter-widgets/controls",
            "_model_module_version": "1.5.0",
            "_model_name": "DescriptionStyleModel",
            "_view_count": null,
            "_view_module": "@jupyter-widgets/base",
            "_view_module_version": "1.2.0",
            "_view_name": "StyleView",
            "description_width": ""
          }
        },
        "49d6a199cd844cbcaae9321fa3ffb1ff": {
          "model_module": "@jupyter-widgets/base",
          "model_name": "LayoutModel",
          "model_module_version": "1.2.0",
          "state": {
            "_model_module": "@jupyter-widgets/base",
            "_model_module_version": "1.2.0",
            "_model_name": "LayoutModel",
            "_view_count": null,
            "_view_module": "@jupyter-widgets/base",
            "_view_module_version": "1.2.0",
            "_view_name": "LayoutView",
            "align_content": null,
            "align_items": null,
            "align_self": null,
            "border": null,
            "bottom": null,
            "display": null,
            "flex": null,
            "flex_flow": null,
            "grid_area": null,
            "grid_auto_columns": null,
            "grid_auto_flow": null,
            "grid_auto_rows": null,
            "grid_column": null,
            "grid_gap": null,
            "grid_row": null,
            "grid_template_areas": null,
            "grid_template_columns": null,
            "grid_template_rows": null,
            "height": null,
            "justify_content": null,
            "justify_items": null,
            "left": null,
            "margin": null,
            "max_height": null,
            "max_width": null,
            "min_height": null,
            "min_width": null,
            "object_fit": null,
            "object_position": null,
            "order": null,
            "overflow": null,
            "overflow_x": null,
            "overflow_y": null,
            "padding": null,
            "right": null,
            "top": null,
            "visibility": null,
            "width": null
          }
        },
        "a80d027cbe3b424595258df5e8f12f56": {
          "model_module": "@jupyter-widgets/controls",
          "model_name": "ProgressStyleModel",
          "model_module_version": "1.5.0",
          "state": {
            "_model_module": "@jupyter-widgets/controls",
            "_model_module_version": "1.5.0",
            "_model_name": "ProgressStyleModel",
            "_view_count": null,
            "_view_module": "@jupyter-widgets/base",
            "_view_module_version": "1.2.0",
            "_view_name": "StyleView",
            "bar_color": null,
            "description_width": ""
          }
        },
        "b908c58c48c84d539f37b5077a2e089e": {
          "model_module": "@jupyter-widgets/base",
          "model_name": "LayoutModel",
          "model_module_version": "1.2.0",
          "state": {
            "_model_module": "@jupyter-widgets/base",
            "_model_module_version": "1.2.0",
            "_model_name": "LayoutModel",
            "_view_count": null,
            "_view_module": "@jupyter-widgets/base",
            "_view_module_version": "1.2.0",
            "_view_name": "LayoutView",
            "align_content": null,
            "align_items": null,
            "align_self": null,
            "border": null,
            "bottom": null,
            "display": null,
            "flex": null,
            "flex_flow": null,
            "grid_area": null,
            "grid_auto_columns": null,
            "grid_auto_flow": null,
            "grid_auto_rows": null,
            "grid_column": null,
            "grid_gap": null,
            "grid_row": null,
            "grid_template_areas": null,
            "grid_template_columns": null,
            "grid_template_rows": null,
            "height": null,
            "justify_content": null,
            "justify_items": null,
            "left": null,
            "margin": null,
            "max_height": null,
            "max_width": null,
            "min_height": null,
            "min_width": null,
            "object_fit": null,
            "object_position": null,
            "order": null,
            "overflow": null,
            "overflow_x": null,
            "overflow_y": null,
            "padding": null,
            "right": null,
            "top": null,
            "visibility": null,
            "width": null
          }
        },
        "98a8956a36ad41fead6a2f1eb0c06370": {
          "model_module": "@jupyter-widgets/controls",
          "model_name": "DescriptionStyleModel",
          "model_module_version": "1.5.0",
          "state": {
            "_model_module": "@jupyter-widgets/controls",
            "_model_module_version": "1.5.0",
            "_model_name": "DescriptionStyleModel",
            "_view_count": null,
            "_view_module": "@jupyter-widgets/base",
            "_view_module_version": "1.2.0",
            "_view_name": "StyleView",
            "description_width": ""
          }
        },
        "bea92901748440bbac8d3a02180de35a": {
          "model_module": "@jupyter-widgets/controls",
          "model_name": "HBoxModel",
          "model_module_version": "1.5.0",
          "state": {
            "_dom_classes": [],
            "_model_module": "@jupyter-widgets/controls",
            "_model_module_version": "1.5.0",
            "_model_name": "HBoxModel",
            "_view_count": null,
            "_view_module": "@jupyter-widgets/controls",
            "_view_module_version": "1.5.0",
            "_view_name": "HBoxView",
            "box_style": "",
            "children": [
              "IPY_MODEL_8e32dd7682fd40a5ab8402d3375add27",
              "IPY_MODEL_e7161037e3dc46f5a114a8e41cbcb054",
              "IPY_MODEL_0cc15e886c4f46df98ed4e5a4ff022ca"
            ],
            "layout": "IPY_MODEL_98b40baa5f4d4a849848b2c626919bad"
          }
        },
        "8e32dd7682fd40a5ab8402d3375add27": {
          "model_module": "@jupyter-widgets/controls",
          "model_name": "HTMLModel",
          "model_module_version": "1.5.0",
          "state": {
            "_dom_classes": [],
            "_model_module": "@jupyter-widgets/controls",
            "_model_module_version": "1.5.0",
            "_model_name": "HTMLModel",
            "_view_count": null,
            "_view_module": "@jupyter-widgets/controls",
            "_view_module_version": "1.5.0",
            "_view_name": "HTMLView",
            "description": "",
            "description_tooltip": null,
            "layout": "IPY_MODEL_0220f1f668b84fb08e75bf7c7783c225",
            "placeholder": "​",
            "style": "IPY_MODEL_bd0e7bfb858641c6a69c5bd53d14b749",
            "value": "Downloading: 100%"
          }
        },
        "e7161037e3dc46f5a114a8e41cbcb054": {
          "model_module": "@jupyter-widgets/controls",
          "model_name": "FloatProgressModel",
          "model_module_version": "1.5.0",
          "state": {
            "_dom_classes": [],
            "_model_module": "@jupyter-widgets/controls",
            "_model_module_version": "1.5.0",
            "_model_name": "FloatProgressModel",
            "_view_count": null,
            "_view_module": "@jupyter-widgets/controls",
            "_view_module_version": "1.5.0",
            "_view_name": "ProgressView",
            "bar_style": "success",
            "description": "",
            "description_tooltip": null,
            "layout": "IPY_MODEL_40b312ed060f442ebfac485662b7d7ec",
            "max": 466062,
            "min": 0,
            "orientation": "horizontal",
            "style": "IPY_MODEL_804069e13aa64c8ea1b2191edbc5169c",
            "value": 466062
          }
        },
        "0cc15e886c4f46df98ed4e5a4ff022ca": {
          "model_module": "@jupyter-widgets/controls",
          "model_name": "HTMLModel",
          "model_module_version": "1.5.0",
          "state": {
            "_dom_classes": [],
            "_model_module": "@jupyter-widgets/controls",
            "_model_module_version": "1.5.0",
            "_model_name": "HTMLModel",
            "_view_count": null,
            "_view_module": "@jupyter-widgets/controls",
            "_view_module_version": "1.5.0",
            "_view_name": "HTMLView",
            "description": "",
            "description_tooltip": null,
            "layout": "IPY_MODEL_91d063fc7c374cf8988c1c20ce096506",
            "placeholder": "​",
            "style": "IPY_MODEL_4a3035519a8a43ffb9dc4ff5afcb9f79",
            "value": " 466k/466k [00:00&lt;00:00, 430kB/s]"
          }
        },
        "98b40baa5f4d4a849848b2c626919bad": {
          "model_module": "@jupyter-widgets/base",
          "model_name": "LayoutModel",
          "model_module_version": "1.2.0",
          "state": {
            "_model_module": "@jupyter-widgets/base",
            "_model_module_version": "1.2.0",
            "_model_name": "LayoutModel",
            "_view_count": null,
            "_view_module": "@jupyter-widgets/base",
            "_view_module_version": "1.2.0",
            "_view_name": "LayoutView",
            "align_content": null,
            "align_items": null,
            "align_self": null,
            "border": null,
            "bottom": null,
            "display": null,
            "flex": null,
            "flex_flow": null,
            "grid_area": null,
            "grid_auto_columns": null,
            "grid_auto_flow": null,
            "grid_auto_rows": null,
            "grid_column": null,
            "grid_gap": null,
            "grid_row": null,
            "grid_template_areas": null,
            "grid_template_columns": null,
            "grid_template_rows": null,
            "height": null,
            "justify_content": null,
            "justify_items": null,
            "left": null,
            "margin": null,
            "max_height": null,
            "max_width": null,
            "min_height": null,
            "min_width": null,
            "object_fit": null,
            "object_position": null,
            "order": null,
            "overflow": null,
            "overflow_x": null,
            "overflow_y": null,
            "padding": null,
            "right": null,
            "top": null,
            "visibility": null,
            "width": null
          }
        },
        "0220f1f668b84fb08e75bf7c7783c225": {
          "model_module": "@jupyter-widgets/base",
          "model_name": "LayoutModel",
          "model_module_version": "1.2.0",
          "state": {
            "_model_module": "@jupyter-widgets/base",
            "_model_module_version": "1.2.0",
            "_model_name": "LayoutModel",
            "_view_count": null,
            "_view_module": "@jupyter-widgets/base",
            "_view_module_version": "1.2.0",
            "_view_name": "LayoutView",
            "align_content": null,
            "align_items": null,
            "align_self": null,
            "border": null,
            "bottom": null,
            "display": null,
            "flex": null,
            "flex_flow": null,
            "grid_area": null,
            "grid_auto_columns": null,
            "grid_auto_flow": null,
            "grid_auto_rows": null,
            "grid_column": null,
            "grid_gap": null,
            "grid_row": null,
            "grid_template_areas": null,
            "grid_template_columns": null,
            "grid_template_rows": null,
            "height": null,
            "justify_content": null,
            "justify_items": null,
            "left": null,
            "margin": null,
            "max_height": null,
            "max_width": null,
            "min_height": null,
            "min_width": null,
            "object_fit": null,
            "object_position": null,
            "order": null,
            "overflow": null,
            "overflow_x": null,
            "overflow_y": null,
            "padding": null,
            "right": null,
            "top": null,
            "visibility": null,
            "width": null
          }
        },
        "bd0e7bfb858641c6a69c5bd53d14b749": {
          "model_module": "@jupyter-widgets/controls",
          "model_name": "DescriptionStyleModel",
          "model_module_version": "1.5.0",
          "state": {
            "_model_module": "@jupyter-widgets/controls",
            "_model_module_version": "1.5.0",
            "_model_name": "DescriptionStyleModel",
            "_view_count": null,
            "_view_module": "@jupyter-widgets/base",
            "_view_module_version": "1.2.0",
            "_view_name": "StyleView",
            "description_width": ""
          }
        },
        "40b312ed060f442ebfac485662b7d7ec": {
          "model_module": "@jupyter-widgets/base",
          "model_name": "LayoutModel",
          "model_module_version": "1.2.0",
          "state": {
            "_model_module": "@jupyter-widgets/base",
            "_model_module_version": "1.2.0",
            "_model_name": "LayoutModel",
            "_view_count": null,
            "_view_module": "@jupyter-widgets/base",
            "_view_module_version": "1.2.0",
            "_view_name": "LayoutView",
            "align_content": null,
            "align_items": null,
            "align_self": null,
            "border": null,
            "bottom": null,
            "display": null,
            "flex": null,
            "flex_flow": null,
            "grid_area": null,
            "grid_auto_columns": null,
            "grid_auto_flow": null,
            "grid_auto_rows": null,
            "grid_column": null,
            "grid_gap": null,
            "grid_row": null,
            "grid_template_areas": null,
            "grid_template_columns": null,
            "grid_template_rows": null,
            "height": null,
            "justify_content": null,
            "justify_items": null,
            "left": null,
            "margin": null,
            "max_height": null,
            "max_width": null,
            "min_height": null,
            "min_width": null,
            "object_fit": null,
            "object_position": null,
            "order": null,
            "overflow": null,
            "overflow_x": null,
            "overflow_y": null,
            "padding": null,
            "right": null,
            "top": null,
            "visibility": null,
            "width": null
          }
        },
        "804069e13aa64c8ea1b2191edbc5169c": {
          "model_module": "@jupyter-widgets/controls",
          "model_name": "ProgressStyleModel",
          "model_module_version": "1.5.0",
          "state": {
            "_model_module": "@jupyter-widgets/controls",
            "_model_module_version": "1.5.0",
            "_model_name": "ProgressStyleModel",
            "_view_count": null,
            "_view_module": "@jupyter-widgets/base",
            "_view_module_version": "1.2.0",
            "_view_name": "StyleView",
            "bar_color": null,
            "description_width": ""
          }
        },
        "91d063fc7c374cf8988c1c20ce096506": {
          "model_module": "@jupyter-widgets/base",
          "model_name": "LayoutModel",
          "model_module_version": "1.2.0",
          "state": {
            "_model_module": "@jupyter-widgets/base",
            "_model_module_version": "1.2.0",
            "_model_name": "LayoutModel",
            "_view_count": null,
            "_view_module": "@jupyter-widgets/base",
            "_view_module_version": "1.2.0",
            "_view_name": "LayoutView",
            "align_content": null,
            "align_items": null,
            "align_self": null,
            "border": null,
            "bottom": null,
            "display": null,
            "flex": null,
            "flex_flow": null,
            "grid_area": null,
            "grid_auto_columns": null,
            "grid_auto_flow": null,
            "grid_auto_rows": null,
            "grid_column": null,
            "grid_gap": null,
            "grid_row": null,
            "grid_template_areas": null,
            "grid_template_columns": null,
            "grid_template_rows": null,
            "height": null,
            "justify_content": null,
            "justify_items": null,
            "left": null,
            "margin": null,
            "max_height": null,
            "max_width": null,
            "min_height": null,
            "min_width": null,
            "object_fit": null,
            "object_position": null,
            "order": null,
            "overflow": null,
            "overflow_x": null,
            "overflow_y": null,
            "padding": null,
            "right": null,
            "top": null,
            "visibility": null,
            "width": null
          }
        },
        "4a3035519a8a43ffb9dc4ff5afcb9f79": {
          "model_module": "@jupyter-widgets/controls",
          "model_name": "DescriptionStyleModel",
          "model_module_version": "1.5.0",
          "state": {
            "_model_module": "@jupyter-widgets/controls",
            "_model_module_version": "1.5.0",
            "_model_name": "DescriptionStyleModel",
            "_view_count": null,
            "_view_module": "@jupyter-widgets/base",
            "_view_module_version": "1.2.0",
            "_view_name": "StyleView",
            "description_width": ""
          }
        }
      }
    },
    "accelerator": "GPU"
  },
  "nbformat": 4,
  "nbformat_minor": 0
}