{
  "nbformat": 4,
  "nbformat_minor": 0,
  "metadata": {
    "colab": {
      "provenance": [],
      "collapsed_sections": [],
      "machine_shape": "hm"
    },
    "kernelspec": {
      "name": "python3",
      "display_name": "Python 3"
    },
    "accelerator": "TPU",
    "widgets": {
      "application/vnd.jupyter.widget-state+json": {
        "12fda8b0b5fd40a7b03be32c992f0161": {
          "model_module": "@jupyter-widgets/controls",
          "model_name": "HBoxModel",
          "model_module_version": "1.5.0",
          "state": {
            "_dom_classes": [],
            "_model_module": "@jupyter-widgets/controls",
            "_model_module_version": "1.5.0",
            "_model_name": "HBoxModel",
            "_view_count": null,
            "_view_module": "@jupyter-widgets/controls",
            "_view_module_version": "1.5.0",
            "_view_name": "HBoxView",
            "box_style": "",
            "children": [
              "IPY_MODEL_7902eda783f346a0bf3d493482e3848a",
              "IPY_MODEL_3a10d0728d1046d6932cb655d638ed81",
              "IPY_MODEL_72f305f2857e42c1a3613ac96dd70ed6"
            ],
            "layout": "IPY_MODEL_dacb887ca51a4ebcb7458ff5760e888f"
          }
        },
        "7902eda783f346a0bf3d493482e3848a": {
          "model_module": "@jupyter-widgets/controls",
          "model_name": "HTMLModel",
          "model_module_version": "1.5.0",
          "state": {
            "_dom_classes": [],
            "_model_module": "@jupyter-widgets/controls",
            "_model_module_version": "1.5.0",
            "_model_name": "HTMLModel",
            "_view_count": null,
            "_view_module": "@jupyter-widgets/controls",
            "_view_module_version": "1.5.0",
            "_view_name": "HTMLView",
            "description": "",
            "description_tooltip": null,
            "layout": "IPY_MODEL_f17cbad6770644689b103915db8c6540",
            "placeholder": "​",
            "style": "IPY_MODEL_e85f29e2cb714d36988358eaf98434e4",
            "value": ""
          }
        },
        "3a10d0728d1046d6932cb655d638ed81": {
          "model_module": "@jupyter-widgets/controls",
          "model_name": "FloatProgressModel",
          "model_module_version": "1.5.0",
          "state": {
            "_dom_classes": [],
            "_model_module": "@jupyter-widgets/controls",
            "_model_module_version": "1.5.0",
            "_model_name": "FloatProgressModel",
            "_view_count": null,
            "_view_module": "@jupyter-widgets/controls",
            "_view_module_version": "1.5.0",
            "_view_name": "ProgressView",
            "bar_style": "success",
            "description": "",
            "description_tooltip": null,
            "layout": "IPY_MODEL_e520d68e49494e24a3876270d407ca42",
            "max": 1,
            "min": 0,
            "orientation": "horizontal",
            "style": "IPY_MODEL_5a38beeafd964101b39a59e3355e0228",
            "value": 0
          }
        },
        "72f305f2857e42c1a3613ac96dd70ed6": {
          "model_module": "@jupyter-widgets/controls",
          "model_name": "HTMLModel",
          "model_module_version": "1.5.0",
          "state": {
            "_dom_classes": [],
            "_model_module": "@jupyter-widgets/controls",
            "_model_module_version": "1.5.0",
            "_model_name": "HTMLModel",
            "_view_count": null,
            "_view_module": "@jupyter-widgets/controls",
            "_view_module_version": "1.5.0",
            "_view_name": "HTMLView",
            "description": "",
            "description_tooltip": null,
            "layout": "IPY_MODEL_0f919f9474524cea99495d72821f286d",
            "placeholder": "​",
            "style": "IPY_MODEL_8d40990efee549b79ef57d198d032c15",
            "value": " 0/0 [00:00&lt;?, ?it/s]"
          }
        },
        "dacb887ca51a4ebcb7458ff5760e888f": {
          "model_module": "@jupyter-widgets/base",
          "model_name": "LayoutModel",
          "model_module_version": "1.2.0",
          "state": {
            "_model_module": "@jupyter-widgets/base",
            "_model_module_version": "1.2.0",
            "_model_name": "LayoutModel",
            "_view_count": null,
            "_view_module": "@jupyter-widgets/base",
            "_view_module_version": "1.2.0",
            "_view_name": "LayoutView",
            "align_content": null,
            "align_items": null,
            "align_self": null,
            "border": null,
            "bottom": null,
            "display": null,
            "flex": null,
            "flex_flow": null,
            "grid_area": null,
            "grid_auto_columns": null,
            "grid_auto_flow": null,
            "grid_auto_rows": null,
            "grid_column": null,
            "grid_gap": null,
            "grid_row": null,
            "grid_template_areas": null,
            "grid_template_columns": null,
            "grid_template_rows": null,
            "height": null,
            "justify_content": null,
            "justify_items": null,
            "left": null,
            "margin": null,
            "max_height": null,
            "max_width": null,
            "min_height": null,
            "min_width": null,
            "object_fit": null,
            "object_position": null,
            "order": null,
            "overflow": null,
            "overflow_x": null,
            "overflow_y": null,
            "padding": null,
            "right": null,
            "top": null,
            "visibility": null,
            "width": null
          }
        },
        "f17cbad6770644689b103915db8c6540": {
          "model_module": "@jupyter-widgets/base",
          "model_name": "LayoutModel",
          "model_module_version": "1.2.0",
          "state": {
            "_model_module": "@jupyter-widgets/base",
            "_model_module_version": "1.2.0",
            "_model_name": "LayoutModel",
            "_view_count": null,
            "_view_module": "@jupyter-widgets/base",
            "_view_module_version": "1.2.0",
            "_view_name": "LayoutView",
            "align_content": null,
            "align_items": null,
            "align_self": null,
            "border": null,
            "bottom": null,
            "display": null,
            "flex": null,
            "flex_flow": null,
            "grid_area": null,
            "grid_auto_columns": null,
            "grid_auto_flow": null,
            "grid_auto_rows": null,
            "grid_column": null,
            "grid_gap": null,
            "grid_row": null,
            "grid_template_areas": null,
            "grid_template_columns": null,
            "grid_template_rows": null,
            "height": null,
            "justify_content": null,
            "justify_items": null,
            "left": null,
            "margin": null,
            "max_height": null,
            "max_width": null,
            "min_height": null,
            "min_width": null,
            "object_fit": null,
            "object_position": null,
            "order": null,
            "overflow": null,
            "overflow_x": null,
            "overflow_y": null,
            "padding": null,
            "right": null,
            "top": null,
            "visibility": null,
            "width": null
          }
        },
        "e85f29e2cb714d36988358eaf98434e4": {
          "model_module": "@jupyter-widgets/controls",
          "model_name": "DescriptionStyleModel",
          "model_module_version": "1.5.0",
          "state": {
            "_model_module": "@jupyter-widgets/controls",
            "_model_module_version": "1.5.0",
            "_model_name": "DescriptionStyleModel",
            "_view_count": null,
            "_view_module": "@jupyter-widgets/base",
            "_view_module_version": "1.2.0",
            "_view_name": "StyleView",
            "description_width": ""
          }
        },
        "e520d68e49494e24a3876270d407ca42": {
          "model_module": "@jupyter-widgets/base",
          "model_name": "LayoutModel",
          "model_module_version": "1.2.0",
          "state": {
            "_model_module": "@jupyter-widgets/base",
            "_model_module_version": "1.2.0",
            "_model_name": "LayoutModel",
            "_view_count": null,
            "_view_module": "@jupyter-widgets/base",
            "_view_module_version": "1.2.0",
            "_view_name": "LayoutView",
            "align_content": null,
            "align_items": null,
            "align_self": null,
            "border": null,
            "bottom": null,
            "display": null,
            "flex": null,
            "flex_flow": null,
            "grid_area": null,
            "grid_auto_columns": null,
            "grid_auto_flow": null,
            "grid_auto_rows": null,
            "grid_column": null,
            "grid_gap": null,
            "grid_row": null,
            "grid_template_areas": null,
            "grid_template_columns": null,
            "grid_template_rows": null,
            "height": null,
            "justify_content": null,
            "justify_items": null,
            "left": null,
            "margin": null,
            "max_height": null,
            "max_width": null,
            "min_height": null,
            "min_width": null,
            "object_fit": null,
            "object_position": null,
            "order": null,
            "overflow": null,
            "overflow_x": null,
            "overflow_y": null,
            "padding": null,
            "right": null,
            "top": null,
            "visibility": null,
            "width": "20px"
          }
        },
        "5a38beeafd964101b39a59e3355e0228": {
          "model_module": "@jupyter-widgets/controls",
          "model_name": "ProgressStyleModel",
          "model_module_version": "1.5.0",
          "state": {
            "_model_module": "@jupyter-widgets/controls",
            "_model_module_version": "1.5.0",
            "_model_name": "ProgressStyleModel",
            "_view_count": null,
            "_view_module": "@jupyter-widgets/base",
            "_view_module_version": "1.2.0",
            "_view_name": "StyleView",
            "bar_color": null,
            "description_width": ""
          }
        },
        "0f919f9474524cea99495d72821f286d": {
          "model_module": "@jupyter-widgets/base",
          "model_name": "LayoutModel",
          "model_module_version": "1.2.0",
          "state": {
            "_model_module": "@jupyter-widgets/base",
            "_model_module_version": "1.2.0",
            "_model_name": "LayoutModel",
            "_view_count": null,
            "_view_module": "@jupyter-widgets/base",
            "_view_module_version": "1.2.0",
            "_view_name": "LayoutView",
            "align_content": null,
            "align_items": null,
            "align_self": null,
            "border": null,
            "bottom": null,
            "display": null,
            "flex": null,
            "flex_flow": null,
            "grid_area": null,
            "grid_auto_columns": null,
            "grid_auto_flow": null,
            "grid_auto_rows": null,
            "grid_column": null,
            "grid_gap": null,
            "grid_row": null,
            "grid_template_areas": null,
            "grid_template_columns": null,
            "grid_template_rows": null,
            "height": null,
            "justify_content": null,
            "justify_items": null,
            "left": null,
            "margin": null,
            "max_height": null,
            "max_width": null,
            "min_height": null,
            "min_width": null,
            "object_fit": null,
            "object_position": null,
            "order": null,
            "overflow": null,
            "overflow_x": null,
            "overflow_y": null,
            "padding": null,
            "right": null,
            "top": null,
            "visibility": null,
            "width": null
          }
        },
        "8d40990efee549b79ef57d198d032c15": {
          "model_module": "@jupyter-widgets/controls",
          "model_name": "DescriptionStyleModel",
          "model_module_version": "1.5.0",
          "state": {
            "_model_module": "@jupyter-widgets/controls",
            "_model_module_version": "1.5.0",
            "_model_name": "DescriptionStyleModel",
            "_view_count": null,
            "_view_module": "@jupyter-widgets/base",
            "_view_module_version": "1.2.0",
            "_view_name": "StyleView",
            "description_width": ""
          }
        },
        "c09b057647a84b1397243df93d4cc20f": {
          "model_module": "@jupyter-widgets/controls",
          "model_name": "HBoxModel",
          "model_module_version": "1.5.0",
          "state": {
            "_dom_classes": [],
            "_model_module": "@jupyter-widgets/controls",
            "_model_module_version": "1.5.0",
            "_model_name": "HBoxModel",
            "_view_count": null,
            "_view_module": "@jupyter-widgets/controls",
            "_view_module_version": "1.5.0",
            "_view_name": "HBoxView",
            "box_style": "",
            "children": [
              "IPY_MODEL_1343ef11afba4f20895b27180bed013b",
              "IPY_MODEL_1ee932a85c284e70999086beedda2095",
              "IPY_MODEL_f516db3d1ed3488bb8760fba088df50d"
            ],
            "layout": "IPY_MODEL_695ac4bc916141ee98b129bd7dd63028"
          }
        },
        "1343ef11afba4f20895b27180bed013b": {
          "model_module": "@jupyter-widgets/controls",
          "model_name": "HTMLModel",
          "model_module_version": "1.5.0",
          "state": {
            "_dom_classes": [],
            "_model_module": "@jupyter-widgets/controls",
            "_model_module_version": "1.5.0",
            "_model_name": "HTMLModel",
            "_view_count": null,
            "_view_module": "@jupyter-widgets/controls",
            "_view_module_version": "1.5.0",
            "_view_name": "HTMLView",
            "description": "",
            "description_tooltip": null,
            "layout": "IPY_MODEL_5ea7534db87f419f9b5290f0c8415668",
            "placeholder": "​",
            "style": "IPY_MODEL_079d87c5c20546cda24d3c0919f37196",
            "value": "Downloading: 100%"
          }
        },
        "1ee932a85c284e70999086beedda2095": {
          "model_module": "@jupyter-widgets/controls",
          "model_name": "FloatProgressModel",
          "model_module_version": "1.5.0",
          "state": {
            "_dom_classes": [],
            "_model_module": "@jupyter-widgets/controls",
            "_model_module_version": "1.5.0",
            "_model_name": "FloatProgressModel",
            "_view_count": null,
            "_view_module": "@jupyter-widgets/controls",
            "_view_module_version": "1.5.0",
            "_view_name": "ProgressView",
            "bar_style": "success",
            "description": "",
            "description_tooltip": null,
            "layout": "IPY_MODEL_7312e1876af34c138b219db3edeedf68",
            "max": 616,
            "min": 0,
            "orientation": "horizontal",
            "style": "IPY_MODEL_7c97a62e5f6a4fcfacd7c1f403bb2f7f",
            "value": 616
          }
        },
        "f516db3d1ed3488bb8760fba088df50d": {
          "model_module": "@jupyter-widgets/controls",
          "model_name": "HTMLModel",
          "model_module_version": "1.5.0",
          "state": {
            "_dom_classes": [],
            "_model_module": "@jupyter-widgets/controls",
            "_model_module_version": "1.5.0",
            "_model_name": "HTMLModel",
            "_view_count": null,
            "_view_module": "@jupyter-widgets/controls",
            "_view_module_version": "1.5.0",
            "_view_name": "HTMLView",
            "description": "",
            "description_tooltip": null,
            "layout": "IPY_MODEL_4893015c668640d5a3df0524114d8736",
            "placeholder": "​",
            "style": "IPY_MODEL_857d7696331a4c1cb035d13f9d37b8c5",
            "value": " 616/616 [00:00&lt;00:00, 18.5kB/s]"
          }
        },
        "695ac4bc916141ee98b129bd7dd63028": {
          "model_module": "@jupyter-widgets/base",
          "model_name": "LayoutModel",
          "model_module_version": "1.2.0",
          "state": {
            "_model_module": "@jupyter-widgets/base",
            "_model_module_version": "1.2.0",
            "_model_name": "LayoutModel",
            "_view_count": null,
            "_view_module": "@jupyter-widgets/base",
            "_view_module_version": "1.2.0",
            "_view_name": "LayoutView",
            "align_content": null,
            "align_items": null,
            "align_self": null,
            "border": null,
            "bottom": null,
            "display": null,
            "flex": null,
            "flex_flow": null,
            "grid_area": null,
            "grid_auto_columns": null,
            "grid_auto_flow": null,
            "grid_auto_rows": null,
            "grid_column": null,
            "grid_gap": null,
            "grid_row": null,
            "grid_template_areas": null,
            "grid_template_columns": null,
            "grid_template_rows": null,
            "height": null,
            "justify_content": null,
            "justify_items": null,
            "left": null,
            "margin": null,
            "max_height": null,
            "max_width": null,
            "min_height": null,
            "min_width": null,
            "object_fit": null,
            "object_position": null,
            "order": null,
            "overflow": null,
            "overflow_x": null,
            "overflow_y": null,
            "padding": null,
            "right": null,
            "top": null,
            "visibility": null,
            "width": null
          }
        },
        "5ea7534db87f419f9b5290f0c8415668": {
          "model_module": "@jupyter-widgets/base",
          "model_name": "LayoutModel",
          "model_module_version": "1.2.0",
          "state": {
            "_model_module": "@jupyter-widgets/base",
            "_model_module_version": "1.2.0",
            "_model_name": "LayoutModel",
            "_view_count": null,
            "_view_module": "@jupyter-widgets/base",
            "_view_module_version": "1.2.0",
            "_view_name": "LayoutView",
            "align_content": null,
            "align_items": null,
            "align_self": null,
            "border": null,
            "bottom": null,
            "display": null,
            "flex": null,
            "flex_flow": null,
            "grid_area": null,
            "grid_auto_columns": null,
            "grid_auto_flow": null,
            "grid_auto_rows": null,
            "grid_column": null,
            "grid_gap": null,
            "grid_row": null,
            "grid_template_areas": null,
            "grid_template_columns": null,
            "grid_template_rows": null,
            "height": null,
            "justify_content": null,
            "justify_items": null,
            "left": null,
            "margin": null,
            "max_height": null,
            "max_width": null,
            "min_height": null,
            "min_width": null,
            "object_fit": null,
            "object_position": null,
            "order": null,
            "overflow": null,
            "overflow_x": null,
            "overflow_y": null,
            "padding": null,
            "right": null,
            "top": null,
            "visibility": null,
            "width": null
          }
        },
        "079d87c5c20546cda24d3c0919f37196": {
          "model_module": "@jupyter-widgets/controls",
          "model_name": "DescriptionStyleModel",
          "model_module_version": "1.5.0",
          "state": {
            "_model_module": "@jupyter-widgets/controls",
            "_model_module_version": "1.5.0",
            "_model_name": "DescriptionStyleModel",
            "_view_count": null,
            "_view_module": "@jupyter-widgets/base",
            "_view_module_version": "1.2.0",
            "_view_name": "StyleView",
            "description_width": ""
          }
        },
        "7312e1876af34c138b219db3edeedf68": {
          "model_module": "@jupyter-widgets/base",
          "model_name": "LayoutModel",
          "model_module_version": "1.2.0",
          "state": {
            "_model_module": "@jupyter-widgets/base",
            "_model_module_version": "1.2.0",
            "_model_name": "LayoutModel",
            "_view_count": null,
            "_view_module": "@jupyter-widgets/base",
            "_view_module_version": "1.2.0",
            "_view_name": "LayoutView",
            "align_content": null,
            "align_items": null,
            "align_self": null,
            "border": null,
            "bottom": null,
            "display": null,
            "flex": null,
            "flex_flow": null,
            "grid_area": null,
            "grid_auto_columns": null,
            "grid_auto_flow": null,
            "grid_auto_rows": null,
            "grid_column": null,
            "grid_gap": null,
            "grid_row": null,
            "grid_template_areas": null,
            "grid_template_columns": null,
            "grid_template_rows": null,
            "height": null,
            "justify_content": null,
            "justify_items": null,
            "left": null,
            "margin": null,
            "max_height": null,
            "max_width": null,
            "min_height": null,
            "min_width": null,
            "object_fit": null,
            "object_position": null,
            "order": null,
            "overflow": null,
            "overflow_x": null,
            "overflow_y": null,
            "padding": null,
            "right": null,
            "top": null,
            "visibility": null,
            "width": null
          }
        },
        "7c97a62e5f6a4fcfacd7c1f403bb2f7f": {
          "model_module": "@jupyter-widgets/controls",
          "model_name": "ProgressStyleModel",
          "model_module_version": "1.5.0",
          "state": {
            "_model_module": "@jupyter-widgets/controls",
            "_model_module_version": "1.5.0",
            "_model_name": "ProgressStyleModel",
            "_view_count": null,
            "_view_module": "@jupyter-widgets/base",
            "_view_module_version": "1.2.0",
            "_view_name": "StyleView",
            "bar_color": null,
            "description_width": ""
          }
        },
        "4893015c668640d5a3df0524114d8736": {
          "model_module": "@jupyter-widgets/base",
          "model_name": "LayoutModel",
          "model_module_version": "1.2.0",
          "state": {
            "_model_module": "@jupyter-widgets/base",
            "_model_module_version": "1.2.0",
            "_model_name": "LayoutModel",
            "_view_count": null,
            "_view_module": "@jupyter-widgets/base",
            "_view_module_version": "1.2.0",
            "_view_name": "LayoutView",
            "align_content": null,
            "align_items": null,
            "align_self": null,
            "border": null,
            "bottom": null,
            "display": null,
            "flex": null,
            "flex_flow": null,
            "grid_area": null,
            "grid_auto_columns": null,
            "grid_auto_flow": null,
            "grid_auto_rows": null,
            "grid_column": null,
            "grid_gap": null,
            "grid_row": null,
            "grid_template_areas": null,
            "grid_template_columns": null,
            "grid_template_rows": null,
            "height": null,
            "justify_content": null,
            "justify_items": null,
            "left": null,
            "margin": null,
            "max_height": null,
            "max_width": null,
            "min_height": null,
            "min_width": null,
            "object_fit": null,
            "object_position": null,
            "order": null,
            "overflow": null,
            "overflow_x": null,
            "overflow_y": null,
            "padding": null,
            "right": null,
            "top": null,
            "visibility": null,
            "width": null
          }
        },
        "857d7696331a4c1cb035d13f9d37b8c5": {
          "model_module": "@jupyter-widgets/controls",
          "model_name": "DescriptionStyleModel",
          "model_module_version": "1.5.0",
          "state": {
            "_model_module": "@jupyter-widgets/controls",
            "_model_module_version": "1.5.0",
            "_model_name": "DescriptionStyleModel",
            "_view_count": null,
            "_view_module": "@jupyter-widgets/base",
            "_view_module_version": "1.2.0",
            "_view_name": "StyleView",
            "description_width": ""
          }
        },
        "5bcabd62f5e0442cabf376399802ac1d": {
          "model_module": "@jupyter-widgets/controls",
          "model_name": "HBoxModel",
          "model_module_version": "1.5.0",
          "state": {
            "_dom_classes": [],
            "_model_module": "@jupyter-widgets/controls",
            "_model_module_version": "1.5.0",
            "_model_name": "HBoxModel",
            "_view_count": null,
            "_view_module": "@jupyter-widgets/controls",
            "_view_module_version": "1.5.0",
            "_view_name": "HBoxView",
            "box_style": "",
            "children": [
              "IPY_MODEL_3b75898dc68f43fcb1838088ebe01b05",
              "IPY_MODEL_3609436424c24734952756ef0ac32a1b",
              "IPY_MODEL_6c81142c2db845a38ef24a771721e730"
            ],
            "layout": "IPY_MODEL_b59c7b80d4604d3f958261bc05dfd469"
          }
        },
        "3b75898dc68f43fcb1838088ebe01b05": {
          "model_module": "@jupyter-widgets/controls",
          "model_name": "HTMLModel",
          "model_module_version": "1.5.0",
          "state": {
            "_dom_classes": [],
            "_model_module": "@jupyter-widgets/controls",
            "_model_module_version": "1.5.0",
            "_model_name": "HTMLModel",
            "_view_count": null,
            "_view_module": "@jupyter-widgets/controls",
            "_view_module_version": "1.5.0",
            "_view_name": "HTMLView",
            "description": "",
            "description_tooltip": null,
            "layout": "IPY_MODEL_59a8861957524a16b135b6c1676c16d0",
            "placeholder": "​",
            "style": "IPY_MODEL_6d9fac5435a0450eb1b24275573a6de8",
            "value": "Downloading: 100%"
          }
        },
        "3609436424c24734952756ef0ac32a1b": {
          "model_module": "@jupyter-widgets/controls",
          "model_name": "FloatProgressModel",
          "model_module_version": "1.5.0",
          "state": {
            "_dom_classes": [],
            "_model_module": "@jupyter-widgets/controls",
            "_model_module_version": "1.5.0",
            "_model_name": "FloatProgressModel",
            "_view_count": null,
            "_view_module": "@jupyter-widgets/controls",
            "_view_module_version": "1.5.0",
            "_view_name": "ProgressView",
            "bar_style": "success",
            "description": "",
            "description_tooltip": null,
            "layout": "IPY_MODEL_5ee1db9c98dd4dde970e3351a107f4e0",
            "max": 5069051,
            "min": 0,
            "orientation": "horizontal",
            "style": "IPY_MODEL_0745098171374551b29eb5ba92ee29ba",
            "value": 5069051
          }
        },
        "6c81142c2db845a38ef24a771721e730": {
          "model_module": "@jupyter-widgets/controls",
          "model_name": "HTMLModel",
          "model_module_version": "1.5.0",
          "state": {
            "_dom_classes": [],
            "_model_module": "@jupyter-widgets/controls",
            "_model_module_version": "1.5.0",
            "_model_name": "HTMLModel",
            "_view_count": null,
            "_view_module": "@jupyter-widgets/controls",
            "_view_module_version": "1.5.0",
            "_view_name": "HTMLView",
            "description": "",
            "description_tooltip": null,
            "layout": "IPY_MODEL_a72f6acd2057466c829dff7441c3a247",
            "placeholder": "​",
            "style": "IPY_MODEL_572bc63d01cd4217b9675664072f06ef",
            "value": " 5.07M/5.07M [00:01&lt;00:00, 4.14MB/s]"
          }
        },
        "b59c7b80d4604d3f958261bc05dfd469": {
          "model_module": "@jupyter-widgets/base",
          "model_name": "LayoutModel",
          "model_module_version": "1.2.0",
          "state": {
            "_model_module": "@jupyter-widgets/base",
            "_model_module_version": "1.2.0",
            "_model_name": "LayoutModel",
            "_view_count": null,
            "_view_module": "@jupyter-widgets/base",
            "_view_module_version": "1.2.0",
            "_view_name": "LayoutView",
            "align_content": null,
            "align_items": null,
            "align_self": null,
            "border": null,
            "bottom": null,
            "display": null,
            "flex": null,
            "flex_flow": null,
            "grid_area": null,
            "grid_auto_columns": null,
            "grid_auto_flow": null,
            "grid_auto_rows": null,
            "grid_column": null,
            "grid_gap": null,
            "grid_row": null,
            "grid_template_areas": null,
            "grid_template_columns": null,
            "grid_template_rows": null,
            "height": null,
            "justify_content": null,
            "justify_items": null,
            "left": null,
            "margin": null,
            "max_height": null,
            "max_width": null,
            "min_height": null,
            "min_width": null,
            "object_fit": null,
            "object_position": null,
            "order": null,
            "overflow": null,
            "overflow_x": null,
            "overflow_y": null,
            "padding": null,
            "right": null,
            "top": null,
            "visibility": null,
            "width": null
          }
        },
        "59a8861957524a16b135b6c1676c16d0": {
          "model_module": "@jupyter-widgets/base",
          "model_name": "LayoutModel",
          "model_module_version": "1.2.0",
          "state": {
            "_model_module": "@jupyter-widgets/base",
            "_model_module_version": "1.2.0",
            "_model_name": "LayoutModel",
            "_view_count": null,
            "_view_module": "@jupyter-widgets/base",
            "_view_module_version": "1.2.0",
            "_view_name": "LayoutView",
            "align_content": null,
            "align_items": null,
            "align_self": null,
            "border": null,
            "bottom": null,
            "display": null,
            "flex": null,
            "flex_flow": null,
            "grid_area": null,
            "grid_auto_columns": null,
            "grid_auto_flow": null,
            "grid_auto_rows": null,
            "grid_column": null,
            "grid_gap": null,
            "grid_row": null,
            "grid_template_areas": null,
            "grid_template_columns": null,
            "grid_template_rows": null,
            "height": null,
            "justify_content": null,
            "justify_items": null,
            "left": null,
            "margin": null,
            "max_height": null,
            "max_width": null,
            "min_height": null,
            "min_width": null,
            "object_fit": null,
            "object_position": null,
            "order": null,
            "overflow": null,
            "overflow_x": null,
            "overflow_y": null,
            "padding": null,
            "right": null,
            "top": null,
            "visibility": null,
            "width": null
          }
        },
        "6d9fac5435a0450eb1b24275573a6de8": {
          "model_module": "@jupyter-widgets/controls",
          "model_name": "DescriptionStyleModel",
          "model_module_version": "1.5.0",
          "state": {
            "_model_module": "@jupyter-widgets/controls",
            "_model_module_version": "1.5.0",
            "_model_name": "DescriptionStyleModel",
            "_view_count": null,
            "_view_module": "@jupyter-widgets/base",
            "_view_module_version": "1.2.0",
            "_view_name": "StyleView",
            "description_width": ""
          }
        },
        "5ee1db9c98dd4dde970e3351a107f4e0": {
          "model_module": "@jupyter-widgets/base",
          "model_name": "LayoutModel",
          "model_module_version": "1.2.0",
          "state": {
            "_model_module": "@jupyter-widgets/base",
            "_model_module_version": "1.2.0",
            "_model_name": "LayoutModel",
            "_view_count": null,
            "_view_module": "@jupyter-widgets/base",
            "_view_module_version": "1.2.0",
            "_view_name": "LayoutView",
            "align_content": null,
            "align_items": null,
            "align_self": null,
            "border": null,
            "bottom": null,
            "display": null,
            "flex": null,
            "flex_flow": null,
            "grid_area": null,
            "grid_auto_columns": null,
            "grid_auto_flow": null,
            "grid_auto_rows": null,
            "grid_column": null,
            "grid_gap": null,
            "grid_row": null,
            "grid_template_areas": null,
            "grid_template_columns": null,
            "grid_template_rows": null,
            "height": null,
            "justify_content": null,
            "justify_items": null,
            "left": null,
            "margin": null,
            "max_height": null,
            "max_width": null,
            "min_height": null,
            "min_width": null,
            "object_fit": null,
            "object_position": null,
            "order": null,
            "overflow": null,
            "overflow_x": null,
            "overflow_y": null,
            "padding": null,
            "right": null,
            "top": null,
            "visibility": null,
            "width": null
          }
        },
        "0745098171374551b29eb5ba92ee29ba": {
          "model_module": "@jupyter-widgets/controls",
          "model_name": "ProgressStyleModel",
          "model_module_version": "1.5.0",
          "state": {
            "_model_module": "@jupyter-widgets/controls",
            "_model_module_version": "1.5.0",
            "_model_name": "ProgressStyleModel",
            "_view_count": null,
            "_view_module": "@jupyter-widgets/base",
            "_view_module_version": "1.2.0",
            "_view_name": "StyleView",
            "bar_color": null,
            "description_width": ""
          }
        },
        "a72f6acd2057466c829dff7441c3a247": {
          "model_module": "@jupyter-widgets/base",
          "model_name": "LayoutModel",
          "model_module_version": "1.2.0",
          "state": {
            "_model_module": "@jupyter-widgets/base",
            "_model_module_version": "1.2.0",
            "_model_name": "LayoutModel",
            "_view_count": null,
            "_view_module": "@jupyter-widgets/base",
            "_view_module_version": "1.2.0",
            "_view_name": "LayoutView",
            "align_content": null,
            "align_items": null,
            "align_self": null,
            "border": null,
            "bottom": null,
            "display": null,
            "flex": null,
            "flex_flow": null,
            "grid_area": null,
            "grid_auto_columns": null,
            "grid_auto_flow": null,
            "grid_auto_rows": null,
            "grid_column": null,
            "grid_gap": null,
            "grid_row": null,
            "grid_template_areas": null,
            "grid_template_columns": null,
            "grid_template_rows": null,
            "height": null,
            "justify_content": null,
            "justify_items": null,
            "left": null,
            "margin": null,
            "max_height": null,
            "max_width": null,
            "min_height": null,
            "min_width": null,
            "object_fit": null,
            "object_position": null,
            "order": null,
            "overflow": null,
            "overflow_x": null,
            "overflow_y": null,
            "padding": null,
            "right": null,
            "top": null,
            "visibility": null,
            "width": null
          }
        },
        "572bc63d01cd4217b9675664072f06ef": {
          "model_module": "@jupyter-widgets/controls",
          "model_name": "DescriptionStyleModel",
          "model_module_version": "1.5.0",
          "state": {
            "_model_module": "@jupyter-widgets/controls",
            "_model_module_version": "1.5.0",
            "_model_name": "DescriptionStyleModel",
            "_view_count": null,
            "_view_module": "@jupyter-widgets/base",
            "_view_module_version": "1.2.0",
            "_view_name": "StyleView",
            "description_width": ""
          }
        },
        "42e16c056bca477aa90a7cca88f8f3e6": {
          "model_module": "@jupyter-widgets/controls",
          "model_name": "HBoxModel",
          "model_module_version": "1.5.0",
          "state": {
            "_dom_classes": [],
            "_model_module": "@jupyter-widgets/controls",
            "_model_module_version": "1.5.0",
            "_model_name": "HBoxModel",
            "_view_count": null,
            "_view_module": "@jupyter-widgets/controls",
            "_view_module_version": "1.5.0",
            "_view_name": "HBoxView",
            "box_style": "",
            "children": [
              "IPY_MODEL_326bee4f0ddd46b793e48d1a9dcf6c73",
              "IPY_MODEL_108157eda8f44a39ac78ae4caf832e22",
              "IPY_MODEL_f676e7567fce495abd528e049da35dfc"
            ],
            "layout": "IPY_MODEL_e5d5b3bef444438fb7a5701c0236e42c"
          }
        },
        "326bee4f0ddd46b793e48d1a9dcf6c73": {
          "model_module": "@jupyter-widgets/controls",
          "model_name": "HTMLModel",
          "model_module_version": "1.5.0",
          "state": {
            "_dom_classes": [],
            "_model_module": "@jupyter-widgets/controls",
            "_model_module_version": "1.5.0",
            "_model_name": "HTMLModel",
            "_view_count": null,
            "_view_module": "@jupyter-widgets/controls",
            "_view_module_version": "1.5.0",
            "_view_name": "HTMLView",
            "description": "",
            "description_tooltip": null,
            "layout": "IPY_MODEL_c10a9d7726ec48ecbf677790854944a0",
            "placeholder": "​",
            "style": "IPY_MODEL_83a8437ddd5d4973a7ad8c513e4ae7ed",
            "value": "Downloading: 100%"
          }
        },
        "108157eda8f44a39ac78ae4caf832e22": {
          "model_module": "@jupyter-widgets/controls",
          "model_name": "FloatProgressModel",
          "model_module_version": "1.5.0",
          "state": {
            "_dom_classes": [],
            "_model_module": "@jupyter-widgets/controls",
            "_model_module_version": "1.5.0",
            "_model_name": "FloatProgressModel",
            "_view_count": null,
            "_view_module": "@jupyter-widgets/controls",
            "_view_module_version": "1.5.0",
            "_view_name": "ProgressView",
            "bar_style": "success",
            "description": "",
            "description_tooltip": null,
            "layout": "IPY_MODEL_dc2208ad63854ca589dbffe6f12c1e9d",
            "max": 9096718,
            "min": 0,
            "orientation": "horizontal",
            "style": "IPY_MODEL_c4c77170cbe24108bb591ee28b2a635e",
            "value": 9096718
          }
        },
        "f676e7567fce495abd528e049da35dfc": {
          "model_module": "@jupyter-widgets/controls",
          "model_name": "HTMLModel",
          "model_module_version": "1.5.0",
          "state": {
            "_dom_classes": [],
            "_model_module": "@jupyter-widgets/controls",
            "_model_module_version": "1.5.0",
            "_model_name": "HTMLModel",
            "_view_count": null,
            "_view_module": "@jupyter-widgets/controls",
            "_view_module_version": "1.5.0",
            "_view_name": "HTMLView",
            "description": "",
            "description_tooltip": null,
            "layout": "IPY_MODEL_661084ce73a84b5fbed03950231048af",
            "placeholder": "​",
            "style": "IPY_MODEL_9b77728ce1184a68af08d0c4b4e97455",
            "value": " 9.10M/9.10M [00:01&lt;00:00, 8.27MB/s]"
          }
        },
        "e5d5b3bef444438fb7a5701c0236e42c": {
          "model_module": "@jupyter-widgets/base",
          "model_name": "LayoutModel",
          "model_module_version": "1.2.0",
          "state": {
            "_model_module": "@jupyter-widgets/base",
            "_model_module_version": "1.2.0",
            "_model_name": "LayoutModel",
            "_view_count": null,
            "_view_module": "@jupyter-widgets/base",
            "_view_module_version": "1.2.0",
            "_view_name": "LayoutView",
            "align_content": null,
            "align_items": null,
            "align_self": null,
            "border": null,
            "bottom": null,
            "display": null,
            "flex": null,
            "flex_flow": null,
            "grid_area": null,
            "grid_auto_columns": null,
            "grid_auto_flow": null,
            "grid_auto_rows": null,
            "grid_column": null,
            "grid_gap": null,
            "grid_row": null,
            "grid_template_areas": null,
            "grid_template_columns": null,
            "grid_template_rows": null,
            "height": null,
            "justify_content": null,
            "justify_items": null,
            "left": null,
            "margin": null,
            "max_height": null,
            "max_width": null,
            "min_height": null,
            "min_width": null,
            "object_fit": null,
            "object_position": null,
            "order": null,
            "overflow": null,
            "overflow_x": null,
            "overflow_y": null,
            "padding": null,
            "right": null,
            "top": null,
            "visibility": null,
            "width": null
          }
        },
        "c10a9d7726ec48ecbf677790854944a0": {
          "model_module": "@jupyter-widgets/base",
          "model_name": "LayoutModel",
          "model_module_version": "1.2.0",
          "state": {
            "_model_module": "@jupyter-widgets/base",
            "_model_module_version": "1.2.0",
            "_model_name": "LayoutModel",
            "_view_count": null,
            "_view_module": "@jupyter-widgets/base",
            "_view_module_version": "1.2.0",
            "_view_name": "LayoutView",
            "align_content": null,
            "align_items": null,
            "align_self": null,
            "border": null,
            "bottom": null,
            "display": null,
            "flex": null,
            "flex_flow": null,
            "grid_area": null,
            "grid_auto_columns": null,
            "grid_auto_flow": null,
            "grid_auto_rows": null,
            "grid_column": null,
            "grid_gap": null,
            "grid_row": null,
            "grid_template_areas": null,
            "grid_template_columns": null,
            "grid_template_rows": null,
            "height": null,
            "justify_content": null,
            "justify_items": null,
            "left": null,
            "margin": null,
            "max_height": null,
            "max_width": null,
            "min_height": null,
            "min_width": null,
            "object_fit": null,
            "object_position": null,
            "order": null,
            "overflow": null,
            "overflow_x": null,
            "overflow_y": null,
            "padding": null,
            "right": null,
            "top": null,
            "visibility": null,
            "width": null
          }
        },
        "83a8437ddd5d4973a7ad8c513e4ae7ed": {
          "model_module": "@jupyter-widgets/controls",
          "model_name": "DescriptionStyleModel",
          "model_module_version": "1.5.0",
          "state": {
            "_model_module": "@jupyter-widgets/controls",
            "_model_module_version": "1.5.0",
            "_model_name": "DescriptionStyleModel",
            "_view_count": null,
            "_view_module": "@jupyter-widgets/base",
            "_view_module_version": "1.2.0",
            "_view_name": "StyleView",
            "description_width": ""
          }
        },
        "dc2208ad63854ca589dbffe6f12c1e9d": {
          "model_module": "@jupyter-widgets/base",
          "model_name": "LayoutModel",
          "model_module_version": "1.2.0",
          "state": {
            "_model_module": "@jupyter-widgets/base",
            "_model_module_version": "1.2.0",
            "_model_name": "LayoutModel",
            "_view_count": null,
            "_view_module": "@jupyter-widgets/base",
            "_view_module_version": "1.2.0",
            "_view_name": "LayoutView",
            "align_content": null,
            "align_items": null,
            "align_self": null,
            "border": null,
            "bottom": null,
            "display": null,
            "flex": null,
            "flex_flow": null,
            "grid_area": null,
            "grid_auto_columns": null,
            "grid_auto_flow": null,
            "grid_auto_rows": null,
            "grid_column": null,
            "grid_gap": null,
            "grid_row": null,
            "grid_template_areas": null,
            "grid_template_columns": null,
            "grid_template_rows": null,
            "height": null,
            "justify_content": null,
            "justify_items": null,
            "left": null,
            "margin": null,
            "max_height": null,
            "max_width": null,
            "min_height": null,
            "min_width": null,
            "object_fit": null,
            "object_position": null,
            "order": null,
            "overflow": null,
            "overflow_x": null,
            "overflow_y": null,
            "padding": null,
            "right": null,
            "top": null,
            "visibility": null,
            "width": null
          }
        },
        "c4c77170cbe24108bb591ee28b2a635e": {
          "model_module": "@jupyter-widgets/controls",
          "model_name": "ProgressStyleModel",
          "model_module_version": "1.5.0",
          "state": {
            "_model_module": "@jupyter-widgets/controls",
            "_model_module_version": "1.5.0",
            "_model_name": "ProgressStyleModel",
            "_view_count": null,
            "_view_module": "@jupyter-widgets/base",
            "_view_module_version": "1.2.0",
            "_view_name": "StyleView",
            "bar_color": null,
            "description_width": ""
          }
        },
        "661084ce73a84b5fbed03950231048af": {
          "model_module": "@jupyter-widgets/base",
          "model_name": "LayoutModel",
          "model_module_version": "1.2.0",
          "state": {
            "_model_module": "@jupyter-widgets/base",
            "_model_module_version": "1.2.0",
            "_model_name": "LayoutModel",
            "_view_count": null,
            "_view_module": "@jupyter-widgets/base",
            "_view_module_version": "1.2.0",
            "_view_name": "LayoutView",
            "align_content": null,
            "align_items": null,
            "align_self": null,
            "border": null,
            "bottom": null,
            "display": null,
            "flex": null,
            "flex_flow": null,
            "grid_area": null,
            "grid_auto_columns": null,
            "grid_auto_flow": null,
            "grid_auto_rows": null,
            "grid_column": null,
            "grid_gap": null,
            "grid_row": null,
            "grid_template_areas": null,
            "grid_template_columns": null,
            "grid_template_rows": null,
            "height": null,
            "justify_content": null,
            "justify_items": null,
            "left": null,
            "margin": null,
            "max_height": null,
            "max_width": null,
            "min_height": null,
            "min_width": null,
            "object_fit": null,
            "object_position": null,
            "order": null,
            "overflow": null,
            "overflow_x": null,
            "overflow_y": null,
            "padding": null,
            "right": null,
            "top": null,
            "visibility": null,
            "width": null
          }
        },
        "9b77728ce1184a68af08d0c4b4e97455": {
          "model_module": "@jupyter-widgets/controls",
          "model_name": "DescriptionStyleModel",
          "model_module_version": "1.5.0",
          "state": {
            "_model_module": "@jupyter-widgets/controls",
            "_model_module_version": "1.5.0",
            "_model_name": "DescriptionStyleModel",
            "_view_count": null,
            "_view_module": "@jupyter-widgets/base",
            "_view_module_version": "1.2.0",
            "_view_name": "StyleView",
            "description_width": ""
          }
        },
        "7c3966cfa199419db6862f96c8639085": {
          "model_module": "@jupyter-widgets/controls",
          "model_name": "HBoxModel",
          "model_module_version": "1.5.0",
          "state": {
            "_dom_classes": [],
            "_model_module": "@jupyter-widgets/controls",
            "_model_module_version": "1.5.0",
            "_model_name": "HBoxModel",
            "_view_count": null,
            "_view_module": "@jupyter-widgets/controls",
            "_view_module_version": "1.5.0",
            "_view_name": "HBoxView",
            "box_style": "",
            "children": [
              "IPY_MODEL_f0280f6f3c314e15896c466218141bfc",
              "IPY_MODEL_b4e5defedcbc453db7597cc4d021cea2",
              "IPY_MODEL_0659784ad91e4720827d7fd4b882b930"
            ],
            "layout": "IPY_MODEL_9a61f96fdbde41be85c9650bf447cb5b"
          }
        },
        "f0280f6f3c314e15896c466218141bfc": {
          "model_module": "@jupyter-widgets/controls",
          "model_name": "HTMLModel",
          "model_module_version": "1.5.0",
          "state": {
            "_dom_classes": [],
            "_model_module": "@jupyter-widgets/controls",
            "_model_module_version": "1.5.0",
            "_model_name": "HTMLModel",
            "_view_count": null,
            "_view_module": "@jupyter-widgets/controls",
            "_view_module_version": "1.5.0",
            "_view_name": "HTMLView",
            "description": "",
            "description_tooltip": null,
            "layout": "IPY_MODEL_54a21b20ab6f4485badbda41f5c51ba8",
            "placeholder": "​",
            "style": "IPY_MODEL_663672cebd844cac8bb3b1861705fc56",
            "value": "Downloading: 100%"
          }
        },
        "b4e5defedcbc453db7597cc4d021cea2": {
          "model_module": "@jupyter-widgets/controls",
          "model_name": "FloatProgressModel",
          "model_module_version": "1.5.0",
          "state": {
            "_dom_classes": [],
            "_model_module": "@jupyter-widgets/controls",
            "_model_module_version": "1.5.0",
            "_model_name": "FloatProgressModel",
            "_view_count": null,
            "_view_module": "@jupyter-widgets/controls",
            "_view_module_version": "1.5.0",
            "_view_name": "ProgressView",
            "bar_style": "success",
            "description": "",
            "description_tooltip": null,
            "layout": "IPY_MODEL_4362e48baaae4cc7b95c8e3a204eb7b6",
            "max": 2244861551,
            "min": 0,
            "orientation": "horizontal",
            "style": "IPY_MODEL_b34c232539294486a3f840a7a13cdc36",
            "value": 2244861551
          }
        },
        "0659784ad91e4720827d7fd4b882b930": {
          "model_module": "@jupyter-widgets/controls",
          "model_name": "HTMLModel",
          "model_module_version": "1.5.0",
          "state": {
            "_dom_classes": [],
            "_model_module": "@jupyter-widgets/controls",
            "_model_module_version": "1.5.0",
            "_model_name": "HTMLModel",
            "_view_count": null,
            "_view_module": "@jupyter-widgets/controls",
            "_view_module_version": "1.5.0",
            "_view_name": "HTMLView",
            "description": "",
            "description_tooltip": null,
            "layout": "IPY_MODEL_dd2ab95f52024394bf563ceb3aff78ca",
            "placeholder": "​",
            "style": "IPY_MODEL_0b8287e5007b4534bef1c7bd203d3eea",
            "value": " 2.24G/2.24G [00:46&lt;00:00, 50.8MB/s]"
          }
        },
        "9a61f96fdbde41be85c9650bf447cb5b": {
          "model_module": "@jupyter-widgets/base",
          "model_name": "LayoutModel",
          "model_module_version": "1.2.0",
          "state": {
            "_model_module": "@jupyter-widgets/base",
            "_model_module_version": "1.2.0",
            "_model_name": "LayoutModel",
            "_view_count": null,
            "_view_module": "@jupyter-widgets/base",
            "_view_module_version": "1.2.0",
            "_view_name": "LayoutView",
            "align_content": null,
            "align_items": null,
            "align_self": null,
            "border": null,
            "bottom": null,
            "display": null,
            "flex": null,
            "flex_flow": null,
            "grid_area": null,
            "grid_auto_columns": null,
            "grid_auto_flow": null,
            "grid_auto_rows": null,
            "grid_column": null,
            "grid_gap": null,
            "grid_row": null,
            "grid_template_areas": null,
            "grid_template_columns": null,
            "grid_template_rows": null,
            "height": null,
            "justify_content": null,
            "justify_items": null,
            "left": null,
            "margin": null,
            "max_height": null,
            "max_width": null,
            "min_height": null,
            "min_width": null,
            "object_fit": null,
            "object_position": null,
            "order": null,
            "overflow": null,
            "overflow_x": null,
            "overflow_y": null,
            "padding": null,
            "right": null,
            "top": null,
            "visibility": null,
            "width": null
          }
        },
        "54a21b20ab6f4485badbda41f5c51ba8": {
          "model_module": "@jupyter-widgets/base",
          "model_name": "LayoutModel",
          "model_module_version": "1.2.0",
          "state": {
            "_model_module": "@jupyter-widgets/base",
            "_model_module_version": "1.2.0",
            "_model_name": "LayoutModel",
            "_view_count": null,
            "_view_module": "@jupyter-widgets/base",
            "_view_module_version": "1.2.0",
            "_view_name": "LayoutView",
            "align_content": null,
            "align_items": null,
            "align_self": null,
            "border": null,
            "bottom": null,
            "display": null,
            "flex": null,
            "flex_flow": null,
            "grid_area": null,
            "grid_auto_columns": null,
            "grid_auto_flow": null,
            "grid_auto_rows": null,
            "grid_column": null,
            "grid_gap": null,
            "grid_row": null,
            "grid_template_areas": null,
            "grid_template_columns": null,
            "grid_template_rows": null,
            "height": null,
            "justify_content": null,
            "justify_items": null,
            "left": null,
            "margin": null,
            "max_height": null,
            "max_width": null,
            "min_height": null,
            "min_width": null,
            "object_fit": null,
            "object_position": null,
            "order": null,
            "overflow": null,
            "overflow_x": null,
            "overflow_y": null,
            "padding": null,
            "right": null,
            "top": null,
            "visibility": null,
            "width": null
          }
        },
        "663672cebd844cac8bb3b1861705fc56": {
          "model_module": "@jupyter-widgets/controls",
          "model_name": "DescriptionStyleModel",
          "model_module_version": "1.5.0",
          "state": {
            "_model_module": "@jupyter-widgets/controls",
            "_model_module_version": "1.5.0",
            "_model_name": "DescriptionStyleModel",
            "_view_count": null,
            "_view_module": "@jupyter-widgets/base",
            "_view_module_version": "1.2.0",
            "_view_name": "StyleView",
            "description_width": ""
          }
        },
        "4362e48baaae4cc7b95c8e3a204eb7b6": {
          "model_module": "@jupyter-widgets/base",
          "model_name": "LayoutModel",
          "model_module_version": "1.2.0",
          "state": {
            "_model_module": "@jupyter-widgets/base",
            "_model_module_version": "1.2.0",
            "_model_name": "LayoutModel",
            "_view_count": null,
            "_view_module": "@jupyter-widgets/base",
            "_view_module_version": "1.2.0",
            "_view_name": "LayoutView",
            "align_content": null,
            "align_items": null,
            "align_self": null,
            "border": null,
            "bottom": null,
            "display": null,
            "flex": null,
            "flex_flow": null,
            "grid_area": null,
            "grid_auto_columns": null,
            "grid_auto_flow": null,
            "grid_auto_rows": null,
            "grid_column": null,
            "grid_gap": null,
            "grid_row": null,
            "grid_template_areas": null,
            "grid_template_columns": null,
            "grid_template_rows": null,
            "height": null,
            "justify_content": null,
            "justify_items": null,
            "left": null,
            "margin": null,
            "max_height": null,
            "max_width": null,
            "min_height": null,
            "min_width": null,
            "object_fit": null,
            "object_position": null,
            "order": null,
            "overflow": null,
            "overflow_x": null,
            "overflow_y": null,
            "padding": null,
            "right": null,
            "top": null,
            "visibility": null,
            "width": null
          }
        },
        "b34c232539294486a3f840a7a13cdc36": {
          "model_module": "@jupyter-widgets/controls",
          "model_name": "ProgressStyleModel",
          "model_module_version": "1.5.0",
          "state": {
            "_model_module": "@jupyter-widgets/controls",
            "_model_module_version": "1.5.0",
            "_model_name": "ProgressStyleModel",
            "_view_count": null,
            "_view_module": "@jupyter-widgets/base",
            "_view_module_version": "1.2.0",
            "_view_name": "StyleView",
            "bar_color": null,
            "description_width": ""
          }
        },
        "dd2ab95f52024394bf563ceb3aff78ca": {
          "model_module": "@jupyter-widgets/base",
          "model_name": "LayoutModel",
          "model_module_version": "1.2.0",
          "state": {
            "_model_module": "@jupyter-widgets/base",
            "_model_module_version": "1.2.0",
            "_model_name": "LayoutModel",
            "_view_count": null,
            "_view_module": "@jupyter-widgets/base",
            "_view_module_version": "1.2.0",
            "_view_name": "LayoutView",
            "align_content": null,
            "align_items": null,
            "align_self": null,
            "border": null,
            "bottom": null,
            "display": null,
            "flex": null,
            "flex_flow": null,
            "grid_area": null,
            "grid_auto_columns": null,
            "grid_auto_flow": null,
            "grid_auto_rows": null,
            "grid_column": null,
            "grid_gap": null,
            "grid_row": null,
            "grid_template_areas": null,
            "grid_template_columns": null,
            "grid_template_rows": null,
            "height": null,
            "justify_content": null,
            "justify_items": null,
            "left": null,
            "margin": null,
            "max_height": null,
            "max_width": null,
            "min_height": null,
            "min_width": null,
            "object_fit": null,
            "object_position": null,
            "order": null,
            "overflow": null,
            "overflow_x": null,
            "overflow_y": null,
            "padding": null,
            "right": null,
            "top": null,
            "visibility": null,
            "width": null
          }
        },
        "0b8287e5007b4534bef1c7bd203d3eea": {
          "model_module": "@jupyter-widgets/controls",
          "model_name": "DescriptionStyleModel",
          "model_module_version": "1.5.0",
          "state": {
            "_model_module": "@jupyter-widgets/controls",
            "_model_module_version": "1.5.0",
            "_model_name": "DescriptionStyleModel",
            "_view_count": null,
            "_view_module": "@jupyter-widgets/base",
            "_view_module_version": "1.2.0",
            "_view_name": "StyleView",
            "description_width": ""
          }
        }
      }
    }
  },
  "cells": [
    {
      "cell_type": "code",
      "execution_count": null,
      "metadata": {
        "colab": {
          "base_uri": "https://localhost:8080/"
        },
        "id": "wLkhfaiG7L6v",
        "outputId": "f64735ee-81d9-41e8-d16e-c3eb4087a3f9"
      },
      "outputs": [
        {
          "output_type": "stream",
          "name": "stdout",
          "text": [
            "\u001b[K     |████████████████████████████████| 4.9 MB 2.1 MB/s \n",
            "\u001b[K     |████████████████████████████████| 6.6 MB 49.9 MB/s \n",
            "\u001b[K     |████████████████████████████████| 120 kB 72.3 MB/s \n",
            "\u001b[K     |████████████████████████████████| 578.0 MB 14 kB/s \n",
            "\u001b[K     |████████████████████████████████| 5.9 MB 54.6 MB/s \n",
            "\u001b[K     |████████████████████████████████| 438 kB 79.0 MB/s \n",
            "\u001b[K     |████████████████████████████████| 5.9 MB 48.0 MB/s \n",
            "\u001b[K     |████████████████████████████████| 1.7 MB 36.6 MB/s \n",
            "\u001b[?25h  Building wheel for keras-nlp (setup.py) ... \u001b[?25l\u001b[?25hdone\n"
          ]
        }
      ],
      "source": [
        "!pip install transformers --quiet\n",
        "!pip install git+https://github.com/abheesht17/keras-nlp.git@xlm-r tensorflow tensorflow-text --upgrade --quiet"
      ]
    },
    {
      "cell_type": "code",
      "source": [
        "import json\n",
        "import os\n",
        "\n",
        "import keras_nlp\n",
        "import numpy as np\n",
        "\n",
        "import tensorflow as tf\n",
        "from tensorflow import keras\n",
        "\n",
        "import torch\n",
        "\n",
        "from keras_nlp.models.xlm_roberta import XLMRobertaPreprocessor\n",
        "from transformers import AutoTokenizer, AutoModel\n",
        "\n",
        "tf.__version__"
      ],
      "metadata": {
        "colab": {
          "base_uri": "https://localhost:8080/",
          "height": 122,
          "referenced_widgets": [
            "12fda8b0b5fd40a7b03be32c992f0161",
            "7902eda783f346a0bf3d493482e3848a",
            "3a10d0728d1046d6932cb655d638ed81",
            "72f305f2857e42c1a3613ac96dd70ed6",
            "dacb887ca51a4ebcb7458ff5760e888f",
            "f17cbad6770644689b103915db8c6540",
            "e85f29e2cb714d36988358eaf98434e4",
            "e520d68e49494e24a3876270d407ca42",
            "5a38beeafd964101b39a59e3355e0228",
            "0f919f9474524cea99495d72821f286d",
            "8d40990efee549b79ef57d198d032c15"
          ]
        },
        "id": "9HVKyxun8lou",
        "outputId": "d370543a-b855-41d5-e67b-7b7c547e8547"
      },
      "execution_count": null,
      "outputs": [
        {
          "output_type": "execute_result",
          "data": {
            "text/plain": [
              "'2.10.0'"
            ],
            "application/vnd.google.colaboratory.intrinsic+json": {
              "type": "string"
            }
          },
          "metadata": {},
          "execution_count": 2
        }
      ]
    },
    {
      "cell_type": "code",
      "source": [
        "MODEL_SIZE = \"large\""
      ],
      "metadata": {
        "id": "ISQu2ycTyDHu"
      },
      "execution_count": null,
      "outputs": []
    },
    {
      "cell_type": "code",
      "source": [
        "# Get the official checkpoints from fairseq.\n",
        "!wget \"https://dl.fbaipublicfiles.com/fairseq/models/xlmr.{MODEL_SIZE}.tar.gz\"\n",
        "!tar -xvf \"xlmr.{MODEL_SIZE}.tar.gz\""
      ],
      "metadata": {
        "colab": {
          "base_uri": "https://localhost:8080/"
        },
        "id": "ZDSNadi8edDk",
        "outputId": "4531426c-04b5-40da-ad6c-c941242dfb2d"
      },
      "execution_count": null,
      "outputs": [
        {
          "output_type": "stream",
          "name": "stdout",
          "text": [
            "--2022-09-22 21:03:19--  https://dl.fbaipublicfiles.com/fairseq/models/xlmr.large.tar.gz\n",
            "Resolving dl.fbaipublicfiles.com (dl.fbaipublicfiles.com)... 104.22.74.142, 172.67.9.4, 104.22.75.142, ...\n",
            "Connecting to dl.fbaipublicfiles.com (dl.fbaipublicfiles.com)|104.22.74.142|:443... connected.\n",
            "HTTP request sent, awaiting response... 200 OK\n",
            "Length: 1028340964 (981M) [application/x-tar]\n",
            "Saving to: ‘xlmr.large.tar.gz’\n",
            "\n",
            "xlmr.large.tar.gz   100%[===================>] 980.70M  18.1MB/s    in 53s     \n",
            "\n",
            "2022-09-22 21:04:13 (18.4 MB/s) - ‘xlmr.large.tar.gz’ saved [1028340964/1028340964]\n",
            "\n",
            "xlmr.large/\n",
            "xlmr.large/dict.txt\n",
            "xlmr.large/model.pt\n",
            "xlmr.large/sentencepiece.bpe.model\n"
          ]
        }
      ]
    },
    {
      "cell_type": "code",
      "source": [
        "# XLM-R paths.\n",
        "extract_dir = f\"/content/xlmr.{MODEL_SIZE}\"\n",
        "spm_path = os.path.join(extract_dir, \"sentencepiece.bpe.model\")\n",
        "checkpoint_path = os.path.join(extract_dir, \"model.pt\")"
      ],
      "metadata": {
        "id": "PQjB9xYyLkT7"
      },
      "execution_count": null,
      "outputs": []
    },
    {
      "cell_type": "code",
      "source": [
        "# Load PyTorch XLM-R checkpoint.\n",
        "pt_ckpt = torch.load(checkpoint_path, map_location=torch.device('cpu'))\n",
        "pt_cfg = pt_ckpt[\"args\"]\n",
        "pt_model = pt_ckpt['model']"
      ],
      "metadata": {
        "id": "UWfDRzaiL77h"
      },
      "execution_count": null,
      "outputs": []
    },
    {
      "cell_type": "code",
      "source": [
        "pt_cfg"
      ],
      "metadata": {
        "colab": {
          "base_uri": "https://localhost:8080/"
        },
        "id": "W7D3ueVynr6t",
        "outputId": "0ebb14ee-01b9-4c0c-ef3e-40fb028a62cb"
      },
      "execution_count": null,
      "outputs": [
        {
          "output_type": "execute_result",
          "data": {
            "text/plain": [
              "Namespace(activation_dropout=0.0, activation_fn='gelu', adam_betas='(0.9, 0.98)', adam_eps=1e-06, arch='roberta_large', attention_dropout=0.1, best_checkpoint_metric='loss', bpe=None, bucket_cap_mb=200, clip_norm=1.0, cpu=False, criterion='masked_lm', curriculum=0, dataset_impl=None, ddp_backend='c10d', device_id=0, disable_validation=False, distributed_backend='nccl', distributed_no_spawn=False, distributed_port=16709, distributed_rank=0, distributed_world_size=512, dropout=0.1, encoder_attention_heads=16, encoder_embed_dim=1024, encoder_ffn_embed_dim=4096, encoder_layers=24, end_learning_rate=0.0, fast_stat_sync=True, find_unused_parameters=False, fix_batches_to_gpus=False, force_anneal=None, fp16=True, fp16_init_scale=128, fp16_scale_tolerance=0.0, fp16_scale_window=None, keep_interval_updates=-1, keep_last_epochs=-1, leave_unmasked_prob=0.1, log_format='json', log_interval=100, lr=[0.0004], lr_scheduler='polynomial_decay', mask_prob=0.15, max_epoch=0, max_positions=512, max_sentences=8, max_sentences_valid=8, max_tokens=6000, max_tokens_valid=6000, max_update=1500000, maximize_best_checkpoint_metric=False, memory_efficient_fp16=True, min_loss_scale=0.0001, min_lr=-1, multilang_sampling_alpha=0.7, no_epoch_checkpoints=True, no_last_checkpoints=False, no_progress_bar=False, no_save=False, no_save_optimizer_state=False, num_workers=2, optimizer='adam', optimizer_overrides='{}', pooler_activation_fn='tanh', pooler_dropout=0.0, power=1.0, random_token_prob=0.1, required_batch_size_multiple=8, reset_dataloader=False, reset_lr_scheduler=False, reset_meters=False, reset_optimizer=False, restore_file='checkpoint_last.pt', sample_break_mode='complete', save_interval=1, save_interval_updates=3000, seed=7, sentence_avg=False, skip_invalid_size_inputs_valid_test=True, task='multilingual_masked_lm', tbmf_wrapper=False, threshold_loss_scale=None, tokenizer=None, tokens_per_sample=512, total_num_update=1500000, train_subset='train', update_freq=[2], use_bmuf=False, user_dir=None, valid_subset='valid,valid_af_ZA,valid_am_ET,valid_ar_AR,valid_as_IN,valid_az_AZ,valid_be_BY,valid_bg_BG,valid_bn_IN,valid_bn_IN_rom,valid_br_FR,valid_bs_BA,valid_ca_ES,valid_cs_CZ,valid_cy_GB,valid_da_DK,valid_de_DE,valid_el_GR,valid_en_XX,valid_eo_EO,valid_es_XX,valid_et_EE,valid_eu_ES,valid_fa_IR,valid_fi_FI,valid_fr_XX,valid_fy_NL,valid_ga_IE,valid_gd_GB,valid_gl_ES,valid_gu_IN,valid_ha_NG,valid_he_IL,valid_hi_IN,valid_hi_IN_rom,valid_hr_HR,valid_hu_HU,valid_hy_AM,valid_id_ID,valid_is_IS,valid_it_IT,valid_ja_XX,valid_jv_ID,valid_ka_GE,valid_kk_KZ,valid_km_KH,valid_kn_IN,valid_ko_KR,valid_ku_TR,valid_ky_KG,valid_la_VA,valid_lo_LA,valid_lt_LT,valid_lv_LV,valid_mg_MG,valid_mk_MK,valid_ml_IN,valid_mn_MN,valid_mr_IN,valid_ms_MY,valid_my_MM,valid_my_MM_zaw,valid_ne_NP,valid_nl_XX,valid_no_XX,valid_om_KE,valid_or_IN,valid_pa_IN,valid_pl_PL,valid_ps_AF,valid_pt_XX,valid_ro_RO,valid_ru_RU,valid_sa_IN,valid_sd_PK,valid_si_LK,valid_sk_SK,valid_sl_SI,valid_so_SO,valid_sq_AL,valid_sr_RS,valid_su_ID,valid_sv_SE,valid_sw_KE,valid_ta_IN,valid_ta_IN_rom,valid_te_IN,valid_te_IN_rom,valid_th_TH,valid_tl_XX,valid_tr_TR,valid_ug_CN,valid_uk_UA,valid_ur_PK,valid_ur_PK_rom,valid_uz_UZ,valid_vi_VN,valid_xh_ZA,valid_yi_DE,valid_zh_CN,valid_zh_TW', validate_interval=5000, warmup_updates=15000, weight_decay=0.01)"
            ]
          },
          "metadata": {},
          "execution_count": 7
        }
      ]
    },
    {
      "cell_type": "code",
      "source": [
        "# Verify whether our preprocessor works okay.\n",
        "\n",
        "sample_input = \"cricket is awesome!\"\n",
        "\n",
        "xlm_roberta_preprocessor = XLMRobertaPreprocessor(\n",
        "    proto=spm_path,\n",
        "    sequence_length=pt_cfg.max_positions\n",
        ")\n",
        "\n",
        "hf_tokenizer = AutoTokenizer.from_pretrained(f\"xlm-roberta-{MODEL_SIZE}\")\n",
        "\n",
        "# The vocab size returned by our tokenizer is 250000. The vocab size\n",
        "# of the PT model is 250002. This makes sense if we consider `<pad>`\n",
        "# and shifting all indices by one.\n",
        "print(xlm_roberta_preprocessor.vocabulary_size())\n",
        "\n",
        "tok_sample = xlm_roberta_preprocessor(sample_input)\n",
        "hf_tok_sample = hf_tokenizer(sample_input, padding=\"max_length\")\n",
        "\n",
        "(\n",
        "    tok_sample[\"token_ids\"][:15],\n",
        "    hf_tok_sample[\"input_ids\"][:15],\n",
        "    tok_sample[\"padding_mask\"][:15],\n",
        "    hf_tok_sample[\"attention_mask\"][:15]\n",
        ")"
      ],
      "metadata": {
        "colab": {
          "base_uri": "https://localhost:8080/",
          "height": 269,
          "referenced_widgets": [
            "c09b057647a84b1397243df93d4cc20f",
            "1343ef11afba4f20895b27180bed013b",
            "1ee932a85c284e70999086beedda2095",
            "f516db3d1ed3488bb8760fba088df50d",
            "695ac4bc916141ee98b129bd7dd63028",
            "5ea7534db87f419f9b5290f0c8415668",
            "079d87c5c20546cda24d3c0919f37196",
            "7312e1876af34c138b219db3edeedf68",
            "7c97a62e5f6a4fcfacd7c1f403bb2f7f",
            "4893015c668640d5a3df0524114d8736",
            "857d7696331a4c1cb035d13f9d37b8c5",
            "5bcabd62f5e0442cabf376399802ac1d",
            "3b75898dc68f43fcb1838088ebe01b05",
            "3609436424c24734952756ef0ac32a1b",
            "6c81142c2db845a38ef24a771721e730",
            "b59c7b80d4604d3f958261bc05dfd469",
            "59a8861957524a16b135b6c1676c16d0",
            "6d9fac5435a0450eb1b24275573a6de8",
            "5ee1db9c98dd4dde970e3351a107f4e0",
            "0745098171374551b29eb5ba92ee29ba",
            "a72f6acd2057466c829dff7441c3a247",
            "572bc63d01cd4217b9675664072f06ef",
            "42e16c056bca477aa90a7cca88f8f3e6",
            "326bee4f0ddd46b793e48d1a9dcf6c73",
            "108157eda8f44a39ac78ae4caf832e22",
            "f676e7567fce495abd528e049da35dfc",
            "e5d5b3bef444438fb7a5701c0236e42c",
            "c10a9d7726ec48ecbf677790854944a0",
            "83a8437ddd5d4973a7ad8c513e4ae7ed",
            "dc2208ad63854ca589dbffe6f12c1e9d",
            "c4c77170cbe24108bb591ee28b2a635e",
            "661084ce73a84b5fbed03950231048af",
            "9b77728ce1184a68af08d0c4b4e97455"
          ]
        },
        "id": "Ff2ymMrLK45B",
        "outputId": "41f364e6-0ac5-4f4f-fa27-e8a73874f97e"
      },
      "execution_count": null,
      "outputs": [
        {
          "output_type": "display_data",
          "data": {
            "text/plain": [
              "Downloading:   0%|          | 0.00/616 [00:00<?, ?B/s]"
            ],
            "application/vnd.jupyter.widget-view+json": {
              "version_major": 2,
              "version_minor": 0,
              "model_id": "c09b057647a84b1397243df93d4cc20f"
            }
          },
          "metadata": {}
        },
        {
          "output_type": "display_data",
          "data": {
            "text/plain": [
              "Downloading:   0%|          | 0.00/5.07M [00:00<?, ?B/s]"
            ],
            "application/vnd.jupyter.widget-view+json": {
              "version_major": 2,
              "version_minor": 0,
              "model_id": "5bcabd62f5e0442cabf376399802ac1d"
            }
          },
          "metadata": {}
        },
        {
          "output_type": "display_data",
          "data": {
            "text/plain": [
              "Downloading:   0%|          | 0.00/9.10M [00:00<?, ?B/s]"
            ],
            "application/vnd.jupyter.widget-view+json": {
              "version_major": 2,
              "version_minor": 0,
              "model_id": "42e16c056bca477aa90a7cca88f8f3e6"
            }
          },
          "metadata": {}
        },
        {
          "output_type": "stream",
          "name": "stdout",
          "text": [
            "250000\n"
          ]
        },
        {
          "output_type": "execute_result",
          "data": {
            "text/plain": [
              "(<tf.Tensor: shape=(15,), dtype=int32, numpy=\n",
              " array([    0, 13625, 27853,    83, 79929,    38,     2,     1,     1,\n",
              "            1,     1,     1,     1,     1,     1], dtype=int32)>,\n",
              " [0, 13625, 27853, 83, 79929, 38, 2, 1, 1, 1, 1, 1, 1, 1, 1],\n",
              " <tf.Tensor: shape=(15,), dtype=bool, numpy=\n",
              " array([ True,  True,  True,  True,  True,  True,  True, False, False,\n",
              "        False, False, False, False, False, False])>,\n",
              " [1, 1, 1, 1, 1, 1, 1, 0, 0, 0, 0, 0, 0, 0, 0])"
            ]
          },
          "metadata": {},
          "execution_count": 8
        }
      ]
    },
    {
      "cell_type": "code",
      "source": [
        "# Check multi-segment inputs.\n",
        "\n",
        "sample_input_1 = \"best in the world.\"\n",
        "\n",
        "tok_sample = xlm_roberta_preprocessor((sample_input, sample_input_1))\n",
        "\n",
        "hf_tok_sample = hf_tokenizer(sample_input, text_pair=sample_input_1, padding=\"max_length\")\n",
        "\n",
        "(\n",
        "    tok_sample[\"token_ids\"][:15],\n",
        "    hf_tok_sample[\"input_ids\"][:15],\n",
        "    tok_sample[\"padding_mask\"][:15],\n",
        "    hf_tok_sample[\"attention_mask\"][:15]\n",
        ")"
      ],
      "metadata": {
        "colab": {
          "base_uri": "https://localhost:8080/"
        },
        "id": "SRTQje8F2y5u",
        "outputId": "fae031b5-04c5-4eca-e468-c2e0c7996214"
      },
      "execution_count": null,
      "outputs": [
        {
          "output_type": "execute_result",
          "data": {
            "text/plain": [
              "(<tf.Tensor: shape=(15,), dtype=int32, numpy=\n",
              " array([    0, 13625, 27853,    83, 79929,    38,     2,     2,  2965,\n",
              "           23,    70,  8999,     5,     2,     1], dtype=int32)>,\n",
              " [0, 13625, 27853, 83, 79929, 38, 2, 2, 2965, 23, 70, 8999, 5, 2, 1],\n",
              " <tf.Tensor: shape=(15,), dtype=bool, numpy=\n",
              " array([ True,  True,  True,  True,  True,  True,  True,  True,  True,\n",
              "         True,  True,  True,  True,  True, False])>,\n",
              " [1, 1, 1, 1, 1, 1, 1, 1, 1, 1, 1, 1, 1, 1, 0])"
            ]
          },
          "metadata": {},
          "execution_count": 9
        }
      ]
    },
    {
      "cell_type": "code",
      "source": [
        "cfg = {}\n",
        "\n",
        "cfg[\"num_layers\"] = pt_cfg.encoder_layers\n",
        "cfg[\"num_heads\"] = pt_cfg.encoder_attention_heads\n",
        "cfg[\"hidden_dim\"] = pt_cfg.encoder_embed_dim\n",
        "cfg[\"intermediate_dim\"] = pt_cfg.encoder_ffn_embed_dim\n",
        "cfg[\"dropout\"] = pt_cfg.dropout\n",
        "cfg[\"max_sequence_length\"] = pt_cfg.max_positions\n",
        "cfg[\"vocab_size\"] = pt_model[\"decoder.sentence_encoder.embed_tokens.weight\"].numpy().shape[0]\n",
        "\n",
        "cfg"
      ],
      "metadata": {
        "colab": {
          "base_uri": "https://localhost:8080/"
        },
        "id": "B9j7yl0eMM1w",
        "outputId": "1eea413e-16c2-4ff8-8bc6-8e083da14edf"
      },
      "execution_count": null,
      "outputs": [
        {
          "output_type": "execute_result",
          "data": {
            "text/plain": [
              "{'num_layers': 24,\n",
              " 'num_heads': 16,\n",
              " 'hidden_dim': 1024,\n",
              " 'intermediate_dim': 4096,\n",
              " 'dropout': 0.1,\n",
              " 'max_sequence_length': 512,\n",
              " 'vocab_size': 250002}"
            ]
          },
          "metadata": {},
          "execution_count": 10
        }
      ]
    },
    {
      "cell_type": "code",
      "source": [
        "model = keras_nlp.models.XLMRobertaLarge(weights=None, vocabulary_size=cfg[\"vocab_size\"])"
      ],
      "metadata": {
        "colab": {
          "base_uri": "https://localhost:8080/"
        },
        "id": "F8rEvbm68tUK",
        "outputId": "18f7fb99-913b-4b19-b1f8-0c697410f84c"
      },
      "execution_count": null,
      "outputs": []
    },
    {
      "cell_type": "code",
      "source": [
        "model.summary()"
      ],
      "metadata": {
        "colab": {
          "base_uri": "https://localhost:8080/"
        },
        "id": "HeIOF53deaCf",
        "outputId": "730efca0-7dda-454c-f124-d229699f6e80"
      },
      "execution_count": null,
      "outputs": [
        {
          "output_type": "stream",
          "name": "stdout",
          "text": [
            "Model: \"xlm_roberta_custom\"\n",
            "__________________________________________________________________________________________________\n",
            " Layer (type)                   Output Shape         Param #     Connected to                     \n",
            "==================================================================================================\n",
            " token_ids (InputLayer)         [(None, None)]       0           []                               \n",
            "                                                                                                  \n",
            " embeddings (TokenAndPositionEm  (None, None, 1024)  256526336   ['token_ids[0][0]']              \n",
            " bedding)                                                                                         \n",
            "                                                                                                  \n",
            " embeddings_layer_norm (LayerNo  (None, None, 1024)  2048        ['embeddings[0][0]']             \n",
            " rmalization)                                                                                     \n",
            "                                                                                                  \n",
            " embeddings_dropout (Dropout)   (None, None, 1024)   0           ['embeddings_layer_norm[0][0]']  \n",
            "                                                                                                  \n",
            " padding_mask (InputLayer)      [(None, None)]       0           []                               \n",
            "                                                                                                  \n",
            " transformer_layer_0 (Transform  (None, None, 1024)  12596224    ['embeddings_dropout[0][0]',     \n",
            " erEncoder)                                                       'padding_mask[0][0]']           \n",
            "                                                                                                  \n",
            " transformer_layer_1 (Transform  (None, None, 1024)  12596224    ['transformer_layer_0[0][0]',    \n",
            " erEncoder)                                                       'padding_mask[0][0]']           \n",
            "                                                                                                  \n",
            " transformer_layer_2 (Transform  (None, None, 1024)  12596224    ['transformer_layer_1[0][0]',    \n",
            " erEncoder)                                                       'padding_mask[0][0]']           \n",
            "                                                                                                  \n",
            " transformer_layer_3 (Transform  (None, None, 1024)  12596224    ['transformer_layer_2[0][0]',    \n",
            " erEncoder)                                                       'padding_mask[0][0]']           \n",
            "                                                                                                  \n",
            " transformer_layer_4 (Transform  (None, None, 1024)  12596224    ['transformer_layer_3[0][0]',    \n",
            " erEncoder)                                                       'padding_mask[0][0]']           \n",
            "                                                                                                  \n",
            " transformer_layer_5 (Transform  (None, None, 1024)  12596224    ['transformer_layer_4[0][0]',    \n",
            " erEncoder)                                                       'padding_mask[0][0]']           \n",
            "                                                                                                  \n",
            " transformer_layer_6 (Transform  (None, None, 1024)  12596224    ['transformer_layer_5[0][0]',    \n",
            " erEncoder)                                                       'padding_mask[0][0]']           \n",
            "                                                                                                  \n",
            " transformer_layer_7 (Transform  (None, None, 1024)  12596224    ['transformer_layer_6[0][0]',    \n",
            " erEncoder)                                                       'padding_mask[0][0]']           \n",
            "                                                                                                  \n",
            " transformer_layer_8 (Transform  (None, None, 1024)  12596224    ['transformer_layer_7[0][0]',    \n",
            " erEncoder)                                                       'padding_mask[0][0]']           \n",
            "                                                                                                  \n",
            " transformer_layer_9 (Transform  (None, None, 1024)  12596224    ['transformer_layer_8[0][0]',    \n",
            " erEncoder)                                                       'padding_mask[0][0]']           \n",
            "                                                                                                  \n",
            " transformer_layer_10 (Transfor  (None, None, 1024)  12596224    ['transformer_layer_9[0][0]',    \n",
            " merEncoder)                                                      'padding_mask[0][0]']           \n",
            "                                                                                                  \n",
            " transformer_layer_11 (Transfor  (None, None, 1024)  12596224    ['transformer_layer_10[0][0]',   \n",
            " merEncoder)                                                      'padding_mask[0][0]']           \n",
            "                                                                                                  \n",
            " transformer_layer_12 (Transfor  (None, None, 1024)  12596224    ['transformer_layer_11[0][0]',   \n",
            " merEncoder)                                                      'padding_mask[0][0]']           \n",
            "                                                                                                  \n",
            " transformer_layer_13 (Transfor  (None, None, 1024)  12596224    ['transformer_layer_12[0][0]',   \n",
            " merEncoder)                                                      'padding_mask[0][0]']           \n",
            "                                                                                                  \n",
            " transformer_layer_14 (Transfor  (None, None, 1024)  12596224    ['transformer_layer_13[0][0]',   \n",
            " merEncoder)                                                      'padding_mask[0][0]']           \n",
            "                                                                                                  \n",
            " transformer_layer_15 (Transfor  (None, None, 1024)  12596224    ['transformer_layer_14[0][0]',   \n",
            " merEncoder)                                                      'padding_mask[0][0]']           \n",
            "                                                                                                  \n",
            " transformer_layer_16 (Transfor  (None, None, 1024)  12596224    ['transformer_layer_15[0][0]',   \n",
            " merEncoder)                                                      'padding_mask[0][0]']           \n",
            "                                                                                                  \n",
            " transformer_layer_17 (Transfor  (None, None, 1024)  12596224    ['transformer_layer_16[0][0]',   \n",
            " merEncoder)                                                      'padding_mask[0][0]']           \n",
            "                                                                                                  \n",
            " transformer_layer_18 (Transfor  (None, None, 1024)  12596224    ['transformer_layer_17[0][0]',   \n",
            " merEncoder)                                                      'padding_mask[0][0]']           \n",
            "                                                                                                  \n",
            " transformer_layer_19 (Transfor  (None, None, 1024)  12596224    ['transformer_layer_18[0][0]',   \n",
            " merEncoder)                                                      'padding_mask[0][0]']           \n",
            "                                                                                                  \n",
            " transformer_layer_20 (Transfor  (None, None, 1024)  12596224    ['transformer_layer_19[0][0]',   \n",
            " merEncoder)                                                      'padding_mask[0][0]']           \n",
            "                                                                                                  \n",
            " transformer_layer_21 (Transfor  (None, None, 1024)  12596224    ['transformer_layer_20[0][0]',   \n",
            " merEncoder)                                                      'padding_mask[0][0]']           \n",
            "                                                                                                  \n",
            " transformer_layer_22 (Transfor  (None, None, 1024)  12596224    ['transformer_layer_21[0][0]',   \n",
            " merEncoder)                                                      'padding_mask[0][0]']           \n",
            "                                                                                                  \n",
            " transformer_layer_23 (Transfor  (None, None, 1024)  12596224    ['transformer_layer_22[0][0]',   \n",
            " merEncoder)                                                      'padding_mask[0][0]']           \n",
            "                                                                                                  \n",
            "==================================================================================================\n",
            "Total params: 558,837,760\n",
            "Trainable params: 558,837,760\n",
            "Non-trainable params: 0\n",
            "__________________________________________________________________________________________________\n"
          ]
        }
      ]
    },
    {
      "cell_type": "code",
      "source": [
        "# Embedding Layer.\n",
        "model.get_layer(\"embeddings\").token_embedding.embeddings.assign(\n",
        "    pt_model[\"decoder.sentence_encoder.embed_tokens.weight\"].numpy()\n",
        ")\n",
        "model.get_layer(\"embeddings\").position_embedding.position_embeddings.assign(\n",
        "    pt_model[\"decoder.sentence_encoder.embed_positions.weight\"].numpy()[2:, :]\n",
        ")\n",
        "\n",
        "# Embedding LayerNorm.\n",
        "model.get_layer(\"embeddings_layer_norm\").gamma.assign(\n",
        "    pt_model['decoder.sentence_encoder.emb_layer_norm.weight'].numpy()\n",
        ")\n",
        "model.get_layer(\"embeddings_layer_norm\").beta.assign(\n",
        "    pt_model['decoder.sentence_encoder.emb_layer_norm.bias'].numpy()\n",
        ")\n",
        "\n",
        "\n",
        "range_1 = (0, cfg[\"hidden_dim\"])\n",
        "range_2 = (cfg[\"hidden_dim\"], 2 * cfg[\"hidden_dim\"]) \n",
        "range_3 = (2 * cfg[\"hidden_dim\"], 3 * cfg[\"hidden_dim\"])\n",
        "\n",
        "# Transformer layers.\n",
        "for i in range(model.num_layers):\n",
        "    q_k_v_wts =  (\n",
        "        pt_model[f\"decoder.sentence_encoder.layers.{i}.self_attn.in_proj_weight\"].numpy().T\n",
        "    )\n",
        "    q_k_v_bias = (\n",
        "        pt_model[f\"decoder.sentence_encoder.layers.{i}.self_attn.in_proj_bias\"].numpy().T\n",
        "    )\n",
        "\n",
        "    # Query\n",
        "    model.get_layer(f\"transformer_layer_{i}\")._self_attention_layer._query_dense.kernel.assign(\n",
        "        q_k_v_wts[:, range_1[0]: range_1[1]].reshape((cfg[\"hidden_dim\"], cfg[\"num_heads\"], -1))\n",
        "    )\n",
        "    model.get_layer(f\"transformer_layer_{i}\")._self_attention_layer._query_dense.bias.assign(\n",
        "        q_k_v_bias[range_1[0]: range_1[1]].reshape((cfg[\"num_heads\"], -1))\n",
        "    )\n",
        "\n",
        "    # Key\n",
        "    model.get_layer(f\"transformer_layer_{i}\")._self_attention_layer._key_dense.kernel.assign(\n",
        "        q_k_v_wts[:, range_2[0]: range_2[1]].reshape((cfg[\"hidden_dim\"], cfg[\"num_heads\"], -1))\n",
        "    )\n",
        "    model.get_layer(f\"transformer_layer_{i}\")._self_attention_layer._key_dense.bias.assign(\n",
        "        q_k_v_bias[range_2[0]: range_2[1]].reshape((cfg[\"num_heads\"], -1))\n",
        "    )\n",
        "\n",
        "    # Value\n",
        "    model.get_layer(f\"transformer_layer_{i}\")._self_attention_layer._value_dense.kernel.assign(\n",
        "        q_k_v_wts[:, range_3[0]: range_3[1]].reshape((cfg[\"hidden_dim\"], cfg[\"num_heads\"], -1))\n",
        "    )\n",
        "    model.get_layer(f\"transformer_layer_{i}\")._self_attention_layer._value_dense.bias.assign(\n",
        "        q_k_v_bias[range_3[0]: range_3[1]].reshape((cfg[\"num_heads\"], -1))\n",
        "    )\n",
        "\n",
        "    # Attention output\n",
        "    attn_output_wts = (\n",
        "        pt_model[f'decoder.sentence_encoder.layers.{i}.self_attn.out_proj.weight'].numpy().T\n",
        "    )\n",
        "    model.get_layer(f\"transformer_layer_{i}\")._self_attention_layer._output_dense.kernel.assign(\n",
        "        attn_output_wts.reshape((cfg[\"num_heads\"], -1, cfg[\"hidden_dim\"]))\n",
        "    )\n",
        "    model.get_layer(f\"transformer_layer_{i}\")._self_attention_layer._output_dense.bias.assign(\n",
        "        pt_model[f'decoder.sentence_encoder.layers.{i}.self_attn.out_proj.bias'].numpy()\n",
        "    )\n",
        "\n",
        "    # Attention LayerNorm\n",
        "    model.get_layer(f\"transformer_layer_{i}\")._self_attention_layernorm.gamma.assign(\n",
        "        pt_model[f'decoder.sentence_encoder.layers.{i}.self_attn_layer_norm.weight'].numpy()\n",
        "    )\n",
        "    model.get_layer(f\"transformer_layer_{i}\")._self_attention_layernorm.beta.assign(\n",
        "        pt_model[f'decoder.sentence_encoder.layers.{i}.self_attn_layer_norm.bias'].numpy()\n",
        "    )\n",
        "\n",
        "    # Intermediate FF layer\n",
        "    model.get_layer(f\"transformer_layer_{i}\")._feedforward_intermediate_dense.kernel.assign(\n",
        "        pt_model[f'decoder.sentence_encoder.layers.{i}.fc1.weight'].numpy().T\n",
        "    )\n",
        "    model.get_layer(f\"transformer_layer_{i}\")._feedforward_intermediate_dense.bias.assign(\n",
        "        pt_model[f'decoder.sentence_encoder.layers.{i}.fc1.bias'].numpy()\n",
        "    )\n",
        "\n",
        "    # Output dense layer\n",
        "    model.get_layer(f\"transformer_layer_{i}\")._feedforward_output_dense.kernel.assign(\n",
        "        pt_model[f'decoder.sentence_encoder.layers.{i}.fc2.weight'].numpy().T\n",
        "    )\n",
        "    model.get_layer(f\"transformer_layer_{i}\")._feedforward_output_dense.bias.assign(\n",
        "        pt_model[f'decoder.sentence_encoder.layers.{i}.fc2.bias'].numpy()\n",
        "    )\n",
        "\n",
        "    # FF LayerNorm\n",
        "    model.get_layer(f\"transformer_layer_{i}\")._feedforward_layernorm.gamma.assign(\n",
        "        pt_model[f'decoder.sentence_encoder.layers.{i}.final_layer_norm.weight'].numpy()\n",
        "    )\n",
        "    model.get_layer(f\"transformer_layer_{i}\")._feedforward_layernorm.beta.assign(\n",
        "        pt_model[f'decoder.sentence_encoder.layers.{i}.final_layer_norm.bias'].numpy()\n",
        "    )\n"
      ],
      "metadata": {
        "id": "5EJaTSTXflyB"
      },
      "execution_count": null,
      "outputs": []
    },
    {
      "cell_type": "code",
      "source": [
        "# Instantiate the HF model.\n",
        "\n",
        "hf_model = AutoModel.from_pretrained(f\"xlm-roberta-{MODEL_SIZE}\")\n",
        "hf_model.eval()\n",
        "pass"
      ],
      "metadata": {
        "colab": {
          "base_uri": "https://localhost:8080/",
          "height": 121,
          "referenced_widgets": [
            "7c3966cfa199419db6862f96c8639085",
            "f0280f6f3c314e15896c466218141bfc",
            "b4e5defedcbc453db7597cc4d021cea2",
            "0659784ad91e4720827d7fd4b882b930",
            "9a61f96fdbde41be85c9650bf447cb5b",
            "54a21b20ab6f4485badbda41f5c51ba8",
            "663672cebd844cac8bb3b1861705fc56",
            "4362e48baaae4cc7b95c8e3a204eb7b6",
            "b34c232539294486a3f840a7a13cdc36",
            "dd2ab95f52024394bf563ceb3aff78ca",
            "0b8287e5007b4534bef1c7bd203d3eea"
          ]
        },
        "id": "kYsGnEK54k8L",
        "outputId": "30522d70-20fe-4233-b92d-2644ef91bd8e"
      },
      "execution_count": null,
      "outputs": [
        {
          "output_type": "display_data",
          "data": {
            "text/plain": [
              "Downloading:   0%|          | 0.00/2.24G [00:00<?, ?B/s]"
            ],
            "application/vnd.jupyter.widget-view+json": {
              "version_major": 2,
              "version_minor": 0,
              "model_id": "7c3966cfa199419db6862f96c8639085"
            }
          },
          "metadata": {}
        },
        {
          "output_type": "stream",
          "name": "stderr",
          "text": [
            "Some weights of the model checkpoint at xlm-roberta-large were not used when initializing XLMRobertaModel: ['lm_head.layer_norm.bias', 'lm_head.decoder.weight', 'lm_head.layer_norm.weight', 'lm_head.dense.bias', 'lm_head.dense.weight', 'lm_head.bias']\n",
            "- This IS expected if you are initializing XLMRobertaModel from the checkpoint of a model trained on another task or with another architecture (e.g. initializing a BertForSequenceClassification model from a BertForPreTraining model).\n",
            "- This IS NOT expected if you are initializing XLMRobertaModel from the checkpoint of a model that you expect to be exactly identical (initializing a BertForSequenceClassification model from a BertForSequenceClassification model).\n"
          ]
        }
      ]
    },
    {
      "cell_type": "code",
      "source": [
        "# Do a forward pass on both models and check whether the outputs match.\n",
        "\n",
        "sample_input = \"cricket is awesome! sachin is the goat hands-down.\"\n",
        "\n",
        "inputs = xlm_roberta_preprocessor(tf.constant(sample_input)[tf.newaxis])\n",
        "hf_inputs = hf_tokenizer([sample_input], padding=\"max_length\", return_tensors=\"pt\")\n",
        "\n",
        "keras_nlp_output = model.predict(inputs)\n",
        "hf_output = hf_model(**hf_inputs).last_hidden_state"
      ],
      "metadata": {
        "id": "Tgq0lGbeqtjy",
        "colab": {
          "base_uri": "https://localhost:8080/"
        },
        "outputId": "16f1283f-8b37-476d-cb06-a655fe63f177"
      },
      "execution_count": null,
      "outputs": [
        {
          "output_type": "stream",
          "name": "stdout",
          "text": [
            "1/1 [==============================] - 9s 9s/step\n"
          ]
        }
      ]
    },
    {
      "cell_type": "code",
      "source": [
        "keras_nlp_output[0, 0, :10], hf_output[0, 0, :10]"
      ],
      "metadata": {
        "id": "xU579WVQPwph",
        "colab": {
          "base_uri": "https://localhost:8080/"
        },
        "outputId": "87199f6e-575b-4ba2-81cb-7bd87ed27f48"
      },
      "execution_count": null,
      "outputs": [
        {
          "output_type": "execute_result",
          "data": {
            "text/plain": [
              "(array([-0.03009655,  0.0003658 ,  0.14010806,  0.05961755, -0.04471206,\n",
              "         0.11546144,  0.04001928,  0.03180417, -0.03807702,  0.03631857],\n",
              "       dtype=float32),\n",
              " tensor([-0.0301,  0.0004,  0.1401,  0.0596, -0.0447,  0.1155,  0.0400,  0.0318,\n",
              "         -0.0381,  0.0363], grad_fn=<SliceBackward0>))"
            ]
          },
          "metadata": {},
          "execution_count": 16
        }
      ]
    },
    {
      "cell_type": "code",
      "source": [
        "np.mean(keras_nlp_output - hf_output.detach().numpy())"
      ],
      "metadata": {
        "colab": {
          "base_uri": "https://localhost:8080/"
        },
        "id": "rfDrkiBq4Lz6",
        "outputId": "89113d07-536b-40d5-f45b-1dfa9e09ff95"
      },
      "execution_count": null,
      "outputs": [
        {
          "output_type": "execute_result",
          "data": {
            "text/plain": [
              "-1.332923e-05"
            ]
          },
          "metadata": {},
          "execution_count": 17
        }
      ]
    },
    {
      "cell_type": "code",
      "source": [
        "# Save XLM-RoBERTa checkpoint.\n",
        "model.save_weights(f\"xlm_roberta_{MODEL_SIZE}.h5\")"
      ],
      "metadata": {
        "id": "UD-awaeR5pNY"
      },
      "execution_count": null,
      "outputs": []
    },
    {
      "cell_type": "code",
      "source": [
        "model2 = keras_nlp.models.XLMRobertaLarge(weights=None, vocabulary_size=cfg['vocab_size'])\n",
        "model2.load_weights(f\"xlm_roberta_{MODEL_SIZE}.h5\")"
      ],
      "metadata": {
        "id": "ai-GvxEn5zef"
      },
      "execution_count": null,
      "outputs": []
    },
    {
      "cell_type": "code",
      "source": [
        "inputs = xlm_roberta_preprocessor(tf.constant(sample_input)[tf.newaxis])\n",
        "keras_nlp_output2 = model2.predict(inputs)\n",
        "\n",
        "tf.reduce_mean(keras_nlp_output - keras_nlp_output2)"
      ],
      "metadata": {
        "colab": {
          "base_uri": "https://localhost:8080/"
        },
        "id": "4a7-hH-h568I",
        "outputId": "f2cb17d3-7167-40b4-903d-5b3a0b19edec"
      },
      "execution_count": null,
      "outputs": [
        {
          "output_type": "stream",
          "name": "stdout",
          "text": [
            "1/1 [==============================] - 9s 9s/step\n"
          ]
        },
        {
          "output_type": "execute_result",
          "data": {
            "text/plain": [
              "<tf.Tensor: shape=(), dtype=float32, numpy=0.0>"
            ]
          },
          "metadata": {},
          "execution_count": 20
        }
      ]
    },
    {
      "cell_type": "code",
      "source": [
        "# Obtain all the necessary files.\n",
        "\n",
        "!cp $spm_path /content"
      ],
      "metadata": {
        "id": "1ZuzizS06N3A"
      },
      "execution_count": null,
      "outputs": []
    },
    {
      "cell_type": "code",
      "source": [
        "!md5sum /content/sentencepiece.bpe.model\n",
        "!md5sum \"/content/xlm_roberta_{MODEL_SIZE}.h5\""
      ],
      "metadata": {
        "colab": {
          "base_uri": "https://localhost:8080/"
        },
        "id": "3j8nYOMg6grw",
        "outputId": "8a58f4db-599b-4ad3-fe52-0c2318d03b14"
      },
      "execution_count": null,
      "outputs": [
        {
          "output_type": "stream",
          "name": "stdout",
          "text": [
            "bf25eb5120ad92ef5c7d8596b5dc4046  /content/sentencepiece.bpe.model\n",
            "276211827174b71751f2ce3a89da503a  /content/xlm_roberta_large.h5\n"
          ]
        }
      ]
    },
    {
      "cell_type": "code",
      "source": [
        "sample_input = \"cricket is awesome! sachin is the goat hands-down.\"\n",
        "\n",
        "xlm_roberta_preprocessor_cloud = XLMRobertaPreprocessor(\n",
        "    proto=\"common_crawl\",\n",
        "    sequence_length=pt_cfg.max_positions\n",
        ")\n",
        "\n",
        "inputs = xlm_roberta_preprocessor_cloud(tf.constant(sample_input)[tf.newaxis])"
      ],
      "metadata": {
        "id": "_vdpPUcz9vBd",
        "outputId": "c376a672-17ff-4fbc-9164-e7dc458511ad",
        "colab": {
          "base_uri": "https://localhost:8080/"
        }
      },
      "execution_count": null,
      "outputs": [
        {
          "output_type": "stream",
          "name": "stdout",
          "text": [
            "Downloading data from https://storage.googleapis.com/keras-nlp/models/xlm_roberta_base/vocab.spm\n",
            "5069051/5069051 [==============================] - 0s 0us/step\n"
          ]
        }
      ]
    },
    {
      "cell_type": "code",
      "execution_count": null,
      "metadata": {
        "colab": {
          "base_uri": "https://localhost:8080/"
        },
        "id": "wTd-5vUyVG0Q",
        "outputId": "274ceb8f-cdf2-4ea6-aa27-1911bb5856ce"
      },
      "outputs": [
        {
          "output_type": "stream",
          "name": "stdout",
          "text": [
            "Downloading data from https://storage.googleapis.com/keras-nlp/models/xlm_roberta_large/model.h5\n",
            "2235784432/2235784432 [==============================] - 35s 0us/step\n"
          ]
        }
      ],
      "source": [
        "# Check uploaded model once added to repo\n",
        "model_cloud = keras_nlp.models.XLMRobertaLarge(weights=\"xlm_roberta_large\")"
      ]
    },
    {
      "cell_type": "code",
      "execution_count": null,
      "metadata": {
        "id": "zs5x_f6GVdNY",
        "outputId": "11f45b93-fa48-4a5d-af5f-410a6bc182da",
        "colab": {
          "base_uri": "https://localhost:8080/"
        }
      },
      "outputs": [
        {
          "output_type": "stream",
          "name": "stdout",
          "text": [
            "1/1 [==============================] - 11s 11s/step\n"
          ]
        },
        {
          "output_type": "execute_result",
          "data": {
            "text/plain": [
              "<tf.Tensor: shape=(), dtype=float32, numpy=0.0>"
            ]
          },
          "metadata": {},
          "execution_count": 24
        }
      ],
      "source": [
        "# Same output from cloud model\n",
        "keras_nlp_output_cloud = model_cloud.predict(inputs)\n",
        "tf.reduce_mean(keras_nlp_output - keras_nlp_output_cloud)"
      ]
    },
    {
      "cell_type": "code",
      "execution_count": null,
      "metadata": {
        "id": "RAwrhAcSzHWa",
        "outputId": "d2d95c9c-1f27-4e6c-e8e0-8e7a88a81320",
        "colab": {
          "base_uri": "https://localhost:8080/"
        }
      },
      "outputs": [
        {
          "output_type": "execute_result",
          "data": {
            "text/plain": [
              "array([-0.03009655,  0.0003658 ,  0.14010806,  0.05961755, -0.04471206,\n",
              "        0.11546144,  0.04001928,  0.03180417, -0.03807702,  0.03631857],\n",
              "      dtype=float32)"
            ]
          },
          "metadata": {},
          "execution_count": 25
        }
      ],
      "source": [
        "keras_nlp_output_cloud[0, 0, :10]"
      ]
    },
    {
      "cell_type": "code",
      "source": [],
      "metadata": {
        "id": "ygrLg5c55k9A"
      },
      "execution_count": null,
      "outputs": []
    }
  ]
}