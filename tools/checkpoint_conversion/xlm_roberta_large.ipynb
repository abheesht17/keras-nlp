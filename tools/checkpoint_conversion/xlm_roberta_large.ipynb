{
  "nbformat": 4,
  "nbformat_minor": 0,
  "metadata": {
    "colab": {
      "provenance": [],
      "machine_shape": "hm"
    },
    "kernelspec": {
      "name": "python3",
      "display_name": "Python 3"
    },
    "accelerator": "TPU",
    "widgets": {
      "application/vnd.jupyter.widget-state+json": {
        "99f9400cee384915b4d88b0adbd1cd7c": {
          "model_module": "@jupyter-widgets/controls",
          "model_name": "HBoxModel",
          "model_module_version": "1.5.0",
          "state": {
            "_dom_classes": [],
            "_model_module": "@jupyter-widgets/controls",
            "_model_module_version": "1.5.0",
            "_model_name": "HBoxModel",
            "_view_count": null,
            "_view_module": "@jupyter-widgets/controls",
            "_view_module_version": "1.5.0",
            "_view_name": "HBoxView",
            "box_style": "",
            "children": [
              "IPY_MODEL_b0db7189c39c4fcba453075d9bd12f32",
              "IPY_MODEL_37f349af7be34b1aab9c69c2c65bc2c4",
              "IPY_MODEL_8ce982e2bc634c65a6bfdfc1e688b547"
            ],
            "layout": "IPY_MODEL_f1e3878bdbce4dca8b6fd442c8572161"
          }
        },
        "b0db7189c39c4fcba453075d9bd12f32": {
          "model_module": "@jupyter-widgets/controls",
          "model_name": "HTMLModel",
          "model_module_version": "1.5.0",
          "state": {
            "_dom_classes": [],
            "_model_module": "@jupyter-widgets/controls",
            "_model_module_version": "1.5.0",
            "_model_name": "HTMLModel",
            "_view_count": null,
            "_view_module": "@jupyter-widgets/controls",
            "_view_module_version": "1.5.0",
            "_view_name": "HTMLView",
            "description": "",
            "description_tooltip": null,
            "layout": "IPY_MODEL_d31c981833574a72b892a47c28f01cda",
            "placeholder": "​",
            "style": "IPY_MODEL_c1a2c0cdf88343d2a5ead04bd3293672",
            "value": "Downloading: 100%"
          }
        },
        "37f349af7be34b1aab9c69c2c65bc2c4": {
          "model_module": "@jupyter-widgets/controls",
          "model_name": "FloatProgressModel",
          "model_module_version": "1.5.0",
          "state": {
            "_dom_classes": [],
            "_model_module": "@jupyter-widgets/controls",
            "_model_module_version": "1.5.0",
            "_model_name": "FloatProgressModel",
            "_view_count": null,
            "_view_module": "@jupyter-widgets/controls",
            "_view_module_version": "1.5.0",
            "_view_name": "ProgressView",
            "bar_style": "success",
            "description": "",
            "description_tooltip": null,
            "layout": "IPY_MODEL_91274b3b70084c8fa230788be0548eec",
            "max": 616,
            "min": 0,
            "orientation": "horizontal",
            "style": "IPY_MODEL_fd43487e3d4b45518f43bbc807de21ea",
            "value": 616
          }
        },
        "8ce982e2bc634c65a6bfdfc1e688b547": {
          "model_module": "@jupyter-widgets/controls",
          "model_name": "HTMLModel",
          "model_module_version": "1.5.0",
          "state": {
            "_dom_classes": [],
            "_model_module": "@jupyter-widgets/controls",
            "_model_module_version": "1.5.0",
            "_model_name": "HTMLModel",
            "_view_count": null,
            "_view_module": "@jupyter-widgets/controls",
            "_view_module_version": "1.5.0",
            "_view_name": "HTMLView",
            "description": "",
            "description_tooltip": null,
            "layout": "IPY_MODEL_a201adb0b8fe47e7beed59ebc7fd9e49",
            "placeholder": "​",
            "style": "IPY_MODEL_6127a657bf8f444b8b1385cc902427e7",
            "value": " 616/616 [00:00&lt;00:00, 16.1kB/s]"
          }
        },
        "f1e3878bdbce4dca8b6fd442c8572161": {
          "model_module": "@jupyter-widgets/base",
          "model_name": "LayoutModel",
          "model_module_version": "1.2.0",
          "state": {
            "_model_module": "@jupyter-widgets/base",
            "_model_module_version": "1.2.0",
            "_model_name": "LayoutModel",
            "_view_count": null,
            "_view_module": "@jupyter-widgets/base",
            "_view_module_version": "1.2.0",
            "_view_name": "LayoutView",
            "align_content": null,
            "align_items": null,
            "align_self": null,
            "border": null,
            "bottom": null,
            "display": null,
            "flex": null,
            "flex_flow": null,
            "grid_area": null,
            "grid_auto_columns": null,
            "grid_auto_flow": null,
            "grid_auto_rows": null,
            "grid_column": null,
            "grid_gap": null,
            "grid_row": null,
            "grid_template_areas": null,
            "grid_template_columns": null,
            "grid_template_rows": null,
            "height": null,
            "justify_content": null,
            "justify_items": null,
            "left": null,
            "margin": null,
            "max_height": null,
            "max_width": null,
            "min_height": null,
            "min_width": null,
            "object_fit": null,
            "object_position": null,
            "order": null,
            "overflow": null,
            "overflow_x": null,
            "overflow_y": null,
            "padding": null,
            "right": null,
            "top": null,
            "visibility": null,
            "width": null
          }
        },
        "d31c981833574a72b892a47c28f01cda": {
          "model_module": "@jupyter-widgets/base",
          "model_name": "LayoutModel",
          "model_module_version": "1.2.0",
          "state": {
            "_model_module": "@jupyter-widgets/base",
            "_model_module_version": "1.2.0",
            "_model_name": "LayoutModel",
            "_view_count": null,
            "_view_module": "@jupyter-widgets/base",
            "_view_module_version": "1.2.0",
            "_view_name": "LayoutView",
            "align_content": null,
            "align_items": null,
            "align_self": null,
            "border": null,
            "bottom": null,
            "display": null,
            "flex": null,
            "flex_flow": null,
            "grid_area": null,
            "grid_auto_columns": null,
            "grid_auto_flow": null,
            "grid_auto_rows": null,
            "grid_column": null,
            "grid_gap": null,
            "grid_row": null,
            "grid_template_areas": null,
            "grid_template_columns": null,
            "grid_template_rows": null,
            "height": null,
            "justify_content": null,
            "justify_items": null,
            "left": null,
            "margin": null,
            "max_height": null,
            "max_width": null,
            "min_height": null,
            "min_width": null,
            "object_fit": null,
            "object_position": null,
            "order": null,
            "overflow": null,
            "overflow_x": null,
            "overflow_y": null,
            "padding": null,
            "right": null,
            "top": null,
            "visibility": null,
            "width": null
          }
        },
        "c1a2c0cdf88343d2a5ead04bd3293672": {
          "model_module": "@jupyter-widgets/controls",
          "model_name": "DescriptionStyleModel",
          "model_module_version": "1.5.0",
          "state": {
            "_model_module": "@jupyter-widgets/controls",
            "_model_module_version": "1.5.0",
            "_model_name": "DescriptionStyleModel",
            "_view_count": null,
            "_view_module": "@jupyter-widgets/base",
            "_view_module_version": "1.2.0",
            "_view_name": "StyleView",
            "description_width": ""
          }
        },
        "91274b3b70084c8fa230788be0548eec": {
          "model_module": "@jupyter-widgets/base",
          "model_name": "LayoutModel",
          "model_module_version": "1.2.0",
          "state": {
            "_model_module": "@jupyter-widgets/base",
            "_model_module_version": "1.2.0",
            "_model_name": "LayoutModel",
            "_view_count": null,
            "_view_module": "@jupyter-widgets/base",
            "_view_module_version": "1.2.0",
            "_view_name": "LayoutView",
            "align_content": null,
            "align_items": null,
            "align_self": null,
            "border": null,
            "bottom": null,
            "display": null,
            "flex": null,
            "flex_flow": null,
            "grid_area": null,
            "grid_auto_columns": null,
            "grid_auto_flow": null,
            "grid_auto_rows": null,
            "grid_column": null,
            "grid_gap": null,
            "grid_row": null,
            "grid_template_areas": null,
            "grid_template_columns": null,
            "grid_template_rows": null,
            "height": null,
            "justify_content": null,
            "justify_items": null,
            "left": null,
            "margin": null,
            "max_height": null,
            "max_width": null,
            "min_height": null,
            "min_width": null,
            "object_fit": null,
            "object_position": null,
            "order": null,
            "overflow": null,
            "overflow_x": null,
            "overflow_y": null,
            "padding": null,
            "right": null,
            "top": null,
            "visibility": null,
            "width": null
          }
        },
        "fd43487e3d4b45518f43bbc807de21ea": {
          "model_module": "@jupyter-widgets/controls",
          "model_name": "ProgressStyleModel",
          "model_module_version": "1.5.0",
          "state": {
            "_model_module": "@jupyter-widgets/controls",
            "_model_module_version": "1.5.0",
            "_model_name": "ProgressStyleModel",
            "_view_count": null,
            "_view_module": "@jupyter-widgets/base",
            "_view_module_version": "1.2.0",
            "_view_name": "StyleView",
            "bar_color": null,
            "description_width": ""
          }
        },
        "a201adb0b8fe47e7beed59ebc7fd9e49": {
          "model_module": "@jupyter-widgets/base",
          "model_name": "LayoutModel",
          "model_module_version": "1.2.0",
          "state": {
            "_model_module": "@jupyter-widgets/base",
            "_model_module_version": "1.2.0",
            "_model_name": "LayoutModel",
            "_view_count": null,
            "_view_module": "@jupyter-widgets/base",
            "_view_module_version": "1.2.0",
            "_view_name": "LayoutView",
            "align_content": null,
            "align_items": null,
            "align_self": null,
            "border": null,
            "bottom": null,
            "display": null,
            "flex": null,
            "flex_flow": null,
            "grid_area": null,
            "grid_auto_columns": null,
            "grid_auto_flow": null,
            "grid_auto_rows": null,
            "grid_column": null,
            "grid_gap": null,
            "grid_row": null,
            "grid_template_areas": null,
            "grid_template_columns": null,
            "grid_template_rows": null,
            "height": null,
            "justify_content": null,
            "justify_items": null,
            "left": null,
            "margin": null,
            "max_height": null,
            "max_width": null,
            "min_height": null,
            "min_width": null,
            "object_fit": null,
            "object_position": null,
            "order": null,
            "overflow": null,
            "overflow_x": null,
            "overflow_y": null,
            "padding": null,
            "right": null,
            "top": null,
            "visibility": null,
            "width": null
          }
        },
        "6127a657bf8f444b8b1385cc902427e7": {
          "model_module": "@jupyter-widgets/controls",
          "model_name": "DescriptionStyleModel",
          "model_module_version": "1.5.0",
          "state": {
            "_model_module": "@jupyter-widgets/controls",
            "_model_module_version": "1.5.0",
            "_model_name": "DescriptionStyleModel",
            "_view_count": null,
            "_view_module": "@jupyter-widgets/base",
            "_view_module_version": "1.2.0",
            "_view_name": "StyleView",
            "description_width": ""
          }
        },
        "93bd1b0544c040898854f2f5b7ce6ef7": {
          "model_module": "@jupyter-widgets/controls",
          "model_name": "HBoxModel",
          "model_module_version": "1.5.0",
          "state": {
            "_dom_classes": [],
            "_model_module": "@jupyter-widgets/controls",
            "_model_module_version": "1.5.0",
            "_model_name": "HBoxModel",
            "_view_count": null,
            "_view_module": "@jupyter-widgets/controls",
            "_view_module_version": "1.5.0",
            "_view_name": "HBoxView",
            "box_style": "",
            "children": [
              "IPY_MODEL_4c8eb6fa5d25413c8f0df3b1033edfbc",
              "IPY_MODEL_789706cc82ac4d51a74a7df67a100a49",
              "IPY_MODEL_391112fcc49d4c78b4d6b075fd1c745b"
            ],
            "layout": "IPY_MODEL_87aa56f6419b4a798d235ecb7f5eac16"
          }
        },
        "4c8eb6fa5d25413c8f0df3b1033edfbc": {
          "model_module": "@jupyter-widgets/controls",
          "model_name": "HTMLModel",
          "model_module_version": "1.5.0",
          "state": {
            "_dom_classes": [],
            "_model_module": "@jupyter-widgets/controls",
            "_model_module_version": "1.5.0",
            "_model_name": "HTMLModel",
            "_view_count": null,
            "_view_module": "@jupyter-widgets/controls",
            "_view_module_version": "1.5.0",
            "_view_name": "HTMLView",
            "description": "",
            "description_tooltip": null,
            "layout": "IPY_MODEL_7e5372a0c1524dba9f26f007ef909507",
            "placeholder": "​",
            "style": "IPY_MODEL_2bc71dc0cd5840b68627ffc86eab1482",
            "value": "Downloading: 100%"
          }
        },
        "789706cc82ac4d51a74a7df67a100a49": {
          "model_module": "@jupyter-widgets/controls",
          "model_name": "FloatProgressModel",
          "model_module_version": "1.5.0",
          "state": {
            "_dom_classes": [],
            "_model_module": "@jupyter-widgets/controls",
            "_model_module_version": "1.5.0",
            "_model_name": "FloatProgressModel",
            "_view_count": null,
            "_view_module": "@jupyter-widgets/controls",
            "_view_module_version": "1.5.0",
            "_view_name": "ProgressView",
            "bar_style": "success",
            "description": "",
            "description_tooltip": null,
            "layout": "IPY_MODEL_f028e34f8f154e82aec138e446118697",
            "max": 5069051,
            "min": 0,
            "orientation": "horizontal",
            "style": "IPY_MODEL_fc26795be2b64e998857d535e30489c7",
            "value": 5069051
          }
        },
        "391112fcc49d4c78b4d6b075fd1c745b": {
          "model_module": "@jupyter-widgets/controls",
          "model_name": "HTMLModel",
          "model_module_version": "1.5.0",
          "state": {
            "_dom_classes": [],
            "_model_module": "@jupyter-widgets/controls",
            "_model_module_version": "1.5.0",
            "_model_name": "HTMLModel",
            "_view_count": null,
            "_view_module": "@jupyter-widgets/controls",
            "_view_module_version": "1.5.0",
            "_view_name": "HTMLView",
            "description": "",
            "description_tooltip": null,
            "layout": "IPY_MODEL_16dadd9a9119438bbb6fdda9662a097c",
            "placeholder": "​",
            "style": "IPY_MODEL_baafe28024a74247b01f2324cae60187",
            "value": " 5.07M/5.07M [00:00&lt;00:00, 9.77MB/s]"
          }
        },
        "87aa56f6419b4a798d235ecb7f5eac16": {
          "model_module": "@jupyter-widgets/base",
          "model_name": "LayoutModel",
          "model_module_version": "1.2.0",
          "state": {
            "_model_module": "@jupyter-widgets/base",
            "_model_module_version": "1.2.0",
            "_model_name": "LayoutModel",
            "_view_count": null,
            "_view_module": "@jupyter-widgets/base",
            "_view_module_version": "1.2.0",
            "_view_name": "LayoutView",
            "align_content": null,
            "align_items": null,
            "align_self": null,
            "border": null,
            "bottom": null,
            "display": null,
            "flex": null,
            "flex_flow": null,
            "grid_area": null,
            "grid_auto_columns": null,
            "grid_auto_flow": null,
            "grid_auto_rows": null,
            "grid_column": null,
            "grid_gap": null,
            "grid_row": null,
            "grid_template_areas": null,
            "grid_template_columns": null,
            "grid_template_rows": null,
            "height": null,
            "justify_content": null,
            "justify_items": null,
            "left": null,
            "margin": null,
            "max_height": null,
            "max_width": null,
            "min_height": null,
            "min_width": null,
            "object_fit": null,
            "object_position": null,
            "order": null,
            "overflow": null,
            "overflow_x": null,
            "overflow_y": null,
            "padding": null,
            "right": null,
            "top": null,
            "visibility": null,
            "width": null
          }
        },
        "7e5372a0c1524dba9f26f007ef909507": {
          "model_module": "@jupyter-widgets/base",
          "model_name": "LayoutModel",
          "model_module_version": "1.2.0",
          "state": {
            "_model_module": "@jupyter-widgets/base",
            "_model_module_version": "1.2.0",
            "_model_name": "LayoutModel",
            "_view_count": null,
            "_view_module": "@jupyter-widgets/base",
            "_view_module_version": "1.2.0",
            "_view_name": "LayoutView",
            "align_content": null,
            "align_items": null,
            "align_self": null,
            "border": null,
            "bottom": null,
            "display": null,
            "flex": null,
            "flex_flow": null,
            "grid_area": null,
            "grid_auto_columns": null,
            "grid_auto_flow": null,
            "grid_auto_rows": null,
            "grid_column": null,
            "grid_gap": null,
            "grid_row": null,
            "grid_template_areas": null,
            "grid_template_columns": null,
            "grid_template_rows": null,
            "height": null,
            "justify_content": null,
            "justify_items": null,
            "left": null,
            "margin": null,
            "max_height": null,
            "max_width": null,
            "min_height": null,
            "min_width": null,
            "object_fit": null,
            "object_position": null,
            "order": null,
            "overflow": null,
            "overflow_x": null,
            "overflow_y": null,
            "padding": null,
            "right": null,
            "top": null,
            "visibility": null,
            "width": null
          }
        },
        "2bc71dc0cd5840b68627ffc86eab1482": {
          "model_module": "@jupyter-widgets/controls",
          "model_name": "DescriptionStyleModel",
          "model_module_version": "1.5.0",
          "state": {
            "_model_module": "@jupyter-widgets/controls",
            "_model_module_version": "1.5.0",
            "_model_name": "DescriptionStyleModel",
            "_view_count": null,
            "_view_module": "@jupyter-widgets/base",
            "_view_module_version": "1.2.0",
            "_view_name": "StyleView",
            "description_width": ""
          }
        },
        "f028e34f8f154e82aec138e446118697": {
          "model_module": "@jupyter-widgets/base",
          "model_name": "LayoutModel",
          "model_module_version": "1.2.0",
          "state": {
            "_model_module": "@jupyter-widgets/base",
            "_model_module_version": "1.2.0",
            "_model_name": "LayoutModel",
            "_view_count": null,
            "_view_module": "@jupyter-widgets/base",
            "_view_module_version": "1.2.0",
            "_view_name": "LayoutView",
            "align_content": null,
            "align_items": null,
            "align_self": null,
            "border": null,
            "bottom": null,
            "display": null,
            "flex": null,
            "flex_flow": null,
            "grid_area": null,
            "grid_auto_columns": null,
            "grid_auto_flow": null,
            "grid_auto_rows": null,
            "grid_column": null,
            "grid_gap": null,
            "grid_row": null,
            "grid_template_areas": null,
            "grid_template_columns": null,
            "grid_template_rows": null,
            "height": null,
            "justify_content": null,
            "justify_items": null,
            "left": null,
            "margin": null,
            "max_height": null,
            "max_width": null,
            "min_height": null,
            "min_width": null,
            "object_fit": null,
            "object_position": null,
            "order": null,
            "overflow": null,
            "overflow_x": null,
            "overflow_y": null,
            "padding": null,
            "right": null,
            "top": null,
            "visibility": null,
            "width": null
          }
        },
        "fc26795be2b64e998857d535e30489c7": {
          "model_module": "@jupyter-widgets/controls",
          "model_name": "ProgressStyleModel",
          "model_module_version": "1.5.0",
          "state": {
            "_model_module": "@jupyter-widgets/controls",
            "_model_module_version": "1.5.0",
            "_model_name": "ProgressStyleModel",
            "_view_count": null,
            "_view_module": "@jupyter-widgets/base",
            "_view_module_version": "1.2.0",
            "_view_name": "StyleView",
            "bar_color": null,
            "description_width": ""
          }
        },
        "16dadd9a9119438bbb6fdda9662a097c": {
          "model_module": "@jupyter-widgets/base",
          "model_name": "LayoutModel",
          "model_module_version": "1.2.0",
          "state": {
            "_model_module": "@jupyter-widgets/base",
            "_model_module_version": "1.2.0",
            "_model_name": "LayoutModel",
            "_view_count": null,
            "_view_module": "@jupyter-widgets/base",
            "_view_module_version": "1.2.0",
            "_view_name": "LayoutView",
            "align_content": null,
            "align_items": null,
            "align_self": null,
            "border": null,
            "bottom": null,
            "display": null,
            "flex": null,
            "flex_flow": null,
            "grid_area": null,
            "grid_auto_columns": null,
            "grid_auto_flow": null,
            "grid_auto_rows": null,
            "grid_column": null,
            "grid_gap": null,
            "grid_row": null,
            "grid_template_areas": null,
            "grid_template_columns": null,
            "grid_template_rows": null,
            "height": null,
            "justify_content": null,
            "justify_items": null,
            "left": null,
            "margin": null,
            "max_height": null,
            "max_width": null,
            "min_height": null,
            "min_width": null,
            "object_fit": null,
            "object_position": null,
            "order": null,
            "overflow": null,
            "overflow_x": null,
            "overflow_y": null,
            "padding": null,
            "right": null,
            "top": null,
            "visibility": null,
            "width": null
          }
        },
        "baafe28024a74247b01f2324cae60187": {
          "model_module": "@jupyter-widgets/controls",
          "model_name": "DescriptionStyleModel",
          "model_module_version": "1.5.0",
          "state": {
            "_model_module": "@jupyter-widgets/controls",
            "_model_module_version": "1.5.0",
            "_model_name": "DescriptionStyleModel",
            "_view_count": null,
            "_view_module": "@jupyter-widgets/base",
            "_view_module_version": "1.2.0",
            "_view_name": "StyleView",
            "description_width": ""
          }
        },
        "c702b6beca64430b8e002b050db18500": {
          "model_module": "@jupyter-widgets/controls",
          "model_name": "HBoxModel",
          "model_module_version": "1.5.0",
          "state": {
            "_dom_classes": [],
            "_model_module": "@jupyter-widgets/controls",
            "_model_module_version": "1.5.0",
            "_model_name": "HBoxModel",
            "_view_count": null,
            "_view_module": "@jupyter-widgets/controls",
            "_view_module_version": "1.5.0",
            "_view_name": "HBoxView",
            "box_style": "",
            "children": [
              "IPY_MODEL_6ea6cf9538e642238b3e4c99e54ba287",
              "IPY_MODEL_b208285d6b16481aa451c534709fa78c",
              "IPY_MODEL_26af10b6833146d88c04de4c41130154"
            ],
            "layout": "IPY_MODEL_6edb42df3af14c8cbef05f597a9d82df"
          }
        },
        "6ea6cf9538e642238b3e4c99e54ba287": {
          "model_module": "@jupyter-widgets/controls",
          "model_name": "HTMLModel",
          "model_module_version": "1.5.0",
          "state": {
            "_dom_classes": [],
            "_model_module": "@jupyter-widgets/controls",
            "_model_module_version": "1.5.0",
            "_model_name": "HTMLModel",
            "_view_count": null,
            "_view_module": "@jupyter-widgets/controls",
            "_view_module_version": "1.5.0",
            "_view_name": "HTMLView",
            "description": "",
            "description_tooltip": null,
            "layout": "IPY_MODEL_66c5f81b00db423881d0b7796f5dfcaf",
            "placeholder": "​",
            "style": "IPY_MODEL_c4028ae4169347a787d2991ad7627d85",
            "value": "Downloading: 100%"
          }
        },
        "b208285d6b16481aa451c534709fa78c": {
          "model_module": "@jupyter-widgets/controls",
          "model_name": "FloatProgressModel",
          "model_module_version": "1.5.0",
          "state": {
            "_dom_classes": [],
            "_model_module": "@jupyter-widgets/controls",
            "_model_module_version": "1.5.0",
            "_model_name": "FloatProgressModel",
            "_view_count": null,
            "_view_module": "@jupyter-widgets/controls",
            "_view_module_version": "1.5.0",
            "_view_name": "ProgressView",
            "bar_style": "success",
            "description": "",
            "description_tooltip": null,
            "layout": "IPY_MODEL_f9b161e0a97d47ec8f5d501fb8db08ac",
            "max": 9096718,
            "min": 0,
            "orientation": "horizontal",
            "style": "IPY_MODEL_ee56488e2aed408f9f61afc3a0bba884",
            "value": 9096718
          }
        },
        "26af10b6833146d88c04de4c41130154": {
          "model_module": "@jupyter-widgets/controls",
          "model_name": "HTMLModel",
          "model_module_version": "1.5.0",
          "state": {
            "_dom_classes": [],
            "_model_module": "@jupyter-widgets/controls",
            "_model_module_version": "1.5.0",
            "_model_name": "HTMLModel",
            "_view_count": null,
            "_view_module": "@jupyter-widgets/controls",
            "_view_module_version": "1.5.0",
            "_view_name": "HTMLView",
            "description": "",
            "description_tooltip": null,
            "layout": "IPY_MODEL_4851cf2236fc4ca78b7abb26d636c418",
            "placeholder": "​",
            "style": "IPY_MODEL_f26f683e9fb44d3b95cdbee70e5b8b77",
            "value": " 9.10M/9.10M [00:00&lt;00:00, 13.2MB/s]"
          }
        },
        "6edb42df3af14c8cbef05f597a9d82df": {
          "model_module": "@jupyter-widgets/base",
          "model_name": "LayoutModel",
          "model_module_version": "1.2.0",
          "state": {
            "_model_module": "@jupyter-widgets/base",
            "_model_module_version": "1.2.0",
            "_model_name": "LayoutModel",
            "_view_count": null,
            "_view_module": "@jupyter-widgets/base",
            "_view_module_version": "1.2.0",
            "_view_name": "LayoutView",
            "align_content": null,
            "align_items": null,
            "align_self": null,
            "border": null,
            "bottom": null,
            "display": null,
            "flex": null,
            "flex_flow": null,
            "grid_area": null,
            "grid_auto_columns": null,
            "grid_auto_flow": null,
            "grid_auto_rows": null,
            "grid_column": null,
            "grid_gap": null,
            "grid_row": null,
            "grid_template_areas": null,
            "grid_template_columns": null,
            "grid_template_rows": null,
            "height": null,
            "justify_content": null,
            "justify_items": null,
            "left": null,
            "margin": null,
            "max_height": null,
            "max_width": null,
            "min_height": null,
            "min_width": null,
            "object_fit": null,
            "object_position": null,
            "order": null,
            "overflow": null,
            "overflow_x": null,
            "overflow_y": null,
            "padding": null,
            "right": null,
            "top": null,
            "visibility": null,
            "width": null
          }
        },
        "66c5f81b00db423881d0b7796f5dfcaf": {
          "model_module": "@jupyter-widgets/base",
          "model_name": "LayoutModel",
          "model_module_version": "1.2.0",
          "state": {
            "_model_module": "@jupyter-widgets/base",
            "_model_module_version": "1.2.0",
            "_model_name": "LayoutModel",
            "_view_count": null,
            "_view_module": "@jupyter-widgets/base",
            "_view_module_version": "1.2.0",
            "_view_name": "LayoutView",
            "align_content": null,
            "align_items": null,
            "align_self": null,
            "border": null,
            "bottom": null,
            "display": null,
            "flex": null,
            "flex_flow": null,
            "grid_area": null,
            "grid_auto_columns": null,
            "grid_auto_flow": null,
            "grid_auto_rows": null,
            "grid_column": null,
            "grid_gap": null,
            "grid_row": null,
            "grid_template_areas": null,
            "grid_template_columns": null,
            "grid_template_rows": null,
            "height": null,
            "justify_content": null,
            "justify_items": null,
            "left": null,
            "margin": null,
            "max_height": null,
            "max_width": null,
            "min_height": null,
            "min_width": null,
            "object_fit": null,
            "object_position": null,
            "order": null,
            "overflow": null,
            "overflow_x": null,
            "overflow_y": null,
            "padding": null,
            "right": null,
            "top": null,
            "visibility": null,
            "width": null
          }
        },
        "c4028ae4169347a787d2991ad7627d85": {
          "model_module": "@jupyter-widgets/controls",
          "model_name": "DescriptionStyleModel",
          "model_module_version": "1.5.0",
          "state": {
            "_model_module": "@jupyter-widgets/controls",
            "_model_module_version": "1.5.0",
            "_model_name": "DescriptionStyleModel",
            "_view_count": null,
            "_view_module": "@jupyter-widgets/base",
            "_view_module_version": "1.2.0",
            "_view_name": "StyleView",
            "description_width": ""
          }
        },
        "f9b161e0a97d47ec8f5d501fb8db08ac": {
          "model_module": "@jupyter-widgets/base",
          "model_name": "LayoutModel",
          "model_module_version": "1.2.0",
          "state": {
            "_model_module": "@jupyter-widgets/base",
            "_model_module_version": "1.2.0",
            "_model_name": "LayoutModel",
            "_view_count": null,
            "_view_module": "@jupyter-widgets/base",
            "_view_module_version": "1.2.0",
            "_view_name": "LayoutView",
            "align_content": null,
            "align_items": null,
            "align_self": null,
            "border": null,
            "bottom": null,
            "display": null,
            "flex": null,
            "flex_flow": null,
            "grid_area": null,
            "grid_auto_columns": null,
            "grid_auto_flow": null,
            "grid_auto_rows": null,
            "grid_column": null,
            "grid_gap": null,
            "grid_row": null,
            "grid_template_areas": null,
            "grid_template_columns": null,
            "grid_template_rows": null,
            "height": null,
            "justify_content": null,
            "justify_items": null,
            "left": null,
            "margin": null,
            "max_height": null,
            "max_width": null,
            "min_height": null,
            "min_width": null,
            "object_fit": null,
            "object_position": null,
            "order": null,
            "overflow": null,
            "overflow_x": null,
            "overflow_y": null,
            "padding": null,
            "right": null,
            "top": null,
            "visibility": null,
            "width": null
          }
        },
        "ee56488e2aed408f9f61afc3a0bba884": {
          "model_module": "@jupyter-widgets/controls",
          "model_name": "ProgressStyleModel",
          "model_module_version": "1.5.0",
          "state": {
            "_model_module": "@jupyter-widgets/controls",
            "_model_module_version": "1.5.0",
            "_model_name": "ProgressStyleModel",
            "_view_count": null,
            "_view_module": "@jupyter-widgets/base",
            "_view_module_version": "1.2.0",
            "_view_name": "StyleView",
            "bar_color": null,
            "description_width": ""
          }
        },
        "4851cf2236fc4ca78b7abb26d636c418": {
          "model_module": "@jupyter-widgets/base",
          "model_name": "LayoutModel",
          "model_module_version": "1.2.0",
          "state": {
            "_model_module": "@jupyter-widgets/base",
            "_model_module_version": "1.2.0",
            "_model_name": "LayoutModel",
            "_view_count": null,
            "_view_module": "@jupyter-widgets/base",
            "_view_module_version": "1.2.0",
            "_view_name": "LayoutView",
            "align_content": null,
            "align_items": null,
            "align_self": null,
            "border": null,
            "bottom": null,
            "display": null,
            "flex": null,
            "flex_flow": null,
            "grid_area": null,
            "grid_auto_columns": null,
            "grid_auto_flow": null,
            "grid_auto_rows": null,
            "grid_column": null,
            "grid_gap": null,
            "grid_row": null,
            "grid_template_areas": null,
            "grid_template_columns": null,
            "grid_template_rows": null,
            "height": null,
            "justify_content": null,
            "justify_items": null,
            "left": null,
            "margin": null,
            "max_height": null,
            "max_width": null,
            "min_height": null,
            "min_width": null,
            "object_fit": null,
            "object_position": null,
            "order": null,
            "overflow": null,
            "overflow_x": null,
            "overflow_y": null,
            "padding": null,
            "right": null,
            "top": null,
            "visibility": null,
            "width": null
          }
        },
        "f26f683e9fb44d3b95cdbee70e5b8b77": {
          "model_module": "@jupyter-widgets/controls",
          "model_name": "DescriptionStyleModel",
          "model_module_version": "1.5.0",
          "state": {
            "_model_module": "@jupyter-widgets/controls",
            "_model_module_version": "1.5.0",
            "_model_name": "DescriptionStyleModel",
            "_view_count": null,
            "_view_module": "@jupyter-widgets/base",
            "_view_module_version": "1.2.0",
            "_view_name": "StyleView",
            "description_width": ""
          }
        },
        "4f62f14043504948967f32458f5fcc15": {
          "model_module": "@jupyter-widgets/controls",
          "model_name": "HBoxModel",
          "model_module_version": "1.5.0",
          "state": {
            "_dom_classes": [],
            "_model_module": "@jupyter-widgets/controls",
            "_model_module_version": "1.5.0",
            "_model_name": "HBoxModel",
            "_view_count": null,
            "_view_module": "@jupyter-widgets/controls",
            "_view_module_version": "1.5.0",
            "_view_name": "HBoxView",
            "box_style": "",
            "children": [
              "IPY_MODEL_081510f9f9da4bf6bbe2da62a935855a",
              "IPY_MODEL_f774883c6cc04cd68198e479fece4b07",
              "IPY_MODEL_2bc3292e1bf141ab9c27d3a2db6c38b4"
            ],
            "layout": "IPY_MODEL_b2a7025db3984205b929769c6ba3b1e2"
          }
        },
        "081510f9f9da4bf6bbe2da62a935855a": {
          "model_module": "@jupyter-widgets/controls",
          "model_name": "HTMLModel",
          "model_module_version": "1.5.0",
          "state": {
            "_dom_classes": [],
            "_model_module": "@jupyter-widgets/controls",
            "_model_module_version": "1.5.0",
            "_model_name": "HTMLModel",
            "_view_count": null,
            "_view_module": "@jupyter-widgets/controls",
            "_view_module_version": "1.5.0",
            "_view_name": "HTMLView",
            "description": "",
            "description_tooltip": null,
            "layout": "IPY_MODEL_670c69073cd448b580fe51ec0db60d8a",
            "placeholder": "​",
            "style": "IPY_MODEL_75b9e2262227445c87b5b366da2eb84c",
            "value": "Downloading: 100%"
          }
        },
        "f774883c6cc04cd68198e479fece4b07": {
          "model_module": "@jupyter-widgets/controls",
          "model_name": "FloatProgressModel",
          "model_module_version": "1.5.0",
          "state": {
            "_dom_classes": [],
            "_model_module": "@jupyter-widgets/controls",
            "_model_module_version": "1.5.0",
            "_model_name": "FloatProgressModel",
            "_view_count": null,
            "_view_module": "@jupyter-widgets/controls",
            "_view_module_version": "1.5.0",
            "_view_name": "ProgressView",
            "bar_style": "success",
            "description": "",
            "description_tooltip": null,
            "layout": "IPY_MODEL_92b3e9a3b0064789b591d8aa64d47a87",
            "max": 2244861551,
            "min": 0,
            "orientation": "horizontal",
            "style": "IPY_MODEL_6e5739aa13574458a74fa5c1eacf773d",
            "value": 2244861551
          }
        },
        "2bc3292e1bf141ab9c27d3a2db6c38b4": {
          "model_module": "@jupyter-widgets/controls",
          "model_name": "HTMLModel",
          "model_module_version": "1.5.0",
          "state": {
            "_dom_classes": [],
            "_model_module": "@jupyter-widgets/controls",
            "_model_module_version": "1.5.0",
            "_model_name": "HTMLModel",
            "_view_count": null,
            "_view_module": "@jupyter-widgets/controls",
            "_view_module_version": "1.5.0",
            "_view_name": "HTMLView",
            "description": "",
            "description_tooltip": null,
            "layout": "IPY_MODEL_9cedb7889bd54958a13ea85f74851c8c",
            "placeholder": "​",
            "style": "IPY_MODEL_bc21121133294cf48d2a2581c6f6194d",
            "value": " 2.24G/2.24G [00:50&lt;00:00, 45.5MB/s]"
          }
        },
        "b2a7025db3984205b929769c6ba3b1e2": {
          "model_module": "@jupyter-widgets/base",
          "model_name": "LayoutModel",
          "model_module_version": "1.2.0",
          "state": {
            "_model_module": "@jupyter-widgets/base",
            "_model_module_version": "1.2.0",
            "_model_name": "LayoutModel",
            "_view_count": null,
            "_view_module": "@jupyter-widgets/base",
            "_view_module_version": "1.2.0",
            "_view_name": "LayoutView",
            "align_content": null,
            "align_items": null,
            "align_self": null,
            "border": null,
            "bottom": null,
            "display": null,
            "flex": null,
            "flex_flow": null,
            "grid_area": null,
            "grid_auto_columns": null,
            "grid_auto_flow": null,
            "grid_auto_rows": null,
            "grid_column": null,
            "grid_gap": null,
            "grid_row": null,
            "grid_template_areas": null,
            "grid_template_columns": null,
            "grid_template_rows": null,
            "height": null,
            "justify_content": null,
            "justify_items": null,
            "left": null,
            "margin": null,
            "max_height": null,
            "max_width": null,
            "min_height": null,
            "min_width": null,
            "object_fit": null,
            "object_position": null,
            "order": null,
            "overflow": null,
            "overflow_x": null,
            "overflow_y": null,
            "padding": null,
            "right": null,
            "top": null,
            "visibility": null,
            "width": null
          }
        },
        "670c69073cd448b580fe51ec0db60d8a": {
          "model_module": "@jupyter-widgets/base",
          "model_name": "LayoutModel",
          "model_module_version": "1.2.0",
          "state": {
            "_model_module": "@jupyter-widgets/base",
            "_model_module_version": "1.2.0",
            "_model_name": "LayoutModel",
            "_view_count": null,
            "_view_module": "@jupyter-widgets/base",
            "_view_module_version": "1.2.0",
            "_view_name": "LayoutView",
            "align_content": null,
            "align_items": null,
            "align_self": null,
            "border": null,
            "bottom": null,
            "display": null,
            "flex": null,
            "flex_flow": null,
            "grid_area": null,
            "grid_auto_columns": null,
            "grid_auto_flow": null,
            "grid_auto_rows": null,
            "grid_column": null,
            "grid_gap": null,
            "grid_row": null,
            "grid_template_areas": null,
            "grid_template_columns": null,
            "grid_template_rows": null,
            "height": null,
            "justify_content": null,
            "justify_items": null,
            "left": null,
            "margin": null,
            "max_height": null,
            "max_width": null,
            "min_height": null,
            "min_width": null,
            "object_fit": null,
            "object_position": null,
            "order": null,
            "overflow": null,
            "overflow_x": null,
            "overflow_y": null,
            "padding": null,
            "right": null,
            "top": null,
            "visibility": null,
            "width": null
          }
        },
        "75b9e2262227445c87b5b366da2eb84c": {
          "model_module": "@jupyter-widgets/controls",
          "model_name": "DescriptionStyleModel",
          "model_module_version": "1.5.0",
          "state": {
            "_model_module": "@jupyter-widgets/controls",
            "_model_module_version": "1.5.0",
            "_model_name": "DescriptionStyleModel",
            "_view_count": null,
            "_view_module": "@jupyter-widgets/base",
            "_view_module_version": "1.2.0",
            "_view_name": "StyleView",
            "description_width": ""
          }
        },
        "92b3e9a3b0064789b591d8aa64d47a87": {
          "model_module": "@jupyter-widgets/base",
          "model_name": "LayoutModel",
          "model_module_version": "1.2.0",
          "state": {
            "_model_module": "@jupyter-widgets/base",
            "_model_module_version": "1.2.0",
            "_model_name": "LayoutModel",
            "_view_count": null,
            "_view_module": "@jupyter-widgets/base",
            "_view_module_version": "1.2.0",
            "_view_name": "LayoutView",
            "align_content": null,
            "align_items": null,
            "align_self": null,
            "border": null,
            "bottom": null,
            "display": null,
            "flex": null,
            "flex_flow": null,
            "grid_area": null,
            "grid_auto_columns": null,
            "grid_auto_flow": null,
            "grid_auto_rows": null,
            "grid_column": null,
            "grid_gap": null,
            "grid_row": null,
            "grid_template_areas": null,
            "grid_template_columns": null,
            "grid_template_rows": null,
            "height": null,
            "justify_content": null,
            "justify_items": null,
            "left": null,
            "margin": null,
            "max_height": null,
            "max_width": null,
            "min_height": null,
            "min_width": null,
            "object_fit": null,
            "object_position": null,
            "order": null,
            "overflow": null,
            "overflow_x": null,
            "overflow_y": null,
            "padding": null,
            "right": null,
            "top": null,
            "visibility": null,
            "width": null
          }
        },
        "6e5739aa13574458a74fa5c1eacf773d": {
          "model_module": "@jupyter-widgets/controls",
          "model_name": "ProgressStyleModel",
          "model_module_version": "1.5.0",
          "state": {
            "_model_module": "@jupyter-widgets/controls",
            "_model_module_version": "1.5.0",
            "_model_name": "ProgressStyleModel",
            "_view_count": null,
            "_view_module": "@jupyter-widgets/base",
            "_view_module_version": "1.2.0",
            "_view_name": "StyleView",
            "bar_color": null,
            "description_width": ""
          }
        },
        "9cedb7889bd54958a13ea85f74851c8c": {
          "model_module": "@jupyter-widgets/base",
          "model_name": "LayoutModel",
          "model_module_version": "1.2.0",
          "state": {
            "_model_module": "@jupyter-widgets/base",
            "_model_module_version": "1.2.0",
            "_model_name": "LayoutModel",
            "_view_count": null,
            "_view_module": "@jupyter-widgets/base",
            "_view_module_version": "1.2.0",
            "_view_name": "LayoutView",
            "align_content": null,
            "align_items": null,
            "align_self": null,
            "border": null,
            "bottom": null,
            "display": null,
            "flex": null,
            "flex_flow": null,
            "grid_area": null,
            "grid_auto_columns": null,
            "grid_auto_flow": null,
            "grid_auto_rows": null,
            "grid_column": null,
            "grid_gap": null,
            "grid_row": null,
            "grid_template_areas": null,
            "grid_template_columns": null,
            "grid_template_rows": null,
            "height": null,
            "justify_content": null,
            "justify_items": null,
            "left": null,
            "margin": null,
            "max_height": null,
            "max_width": null,
            "min_height": null,
            "min_width": null,
            "object_fit": null,
            "object_position": null,
            "order": null,
            "overflow": null,
            "overflow_x": null,
            "overflow_y": null,
            "padding": null,
            "right": null,
            "top": null,
            "visibility": null,
            "width": null
          }
        },
        "bc21121133294cf48d2a2581c6f6194d": {
          "model_module": "@jupyter-widgets/controls",
          "model_name": "DescriptionStyleModel",
          "model_module_version": "1.5.0",
          "state": {
            "_model_module": "@jupyter-widgets/controls",
            "_model_module_version": "1.5.0",
            "_model_name": "DescriptionStyleModel",
            "_view_count": null,
            "_view_module": "@jupyter-widgets/base",
            "_view_module_version": "1.2.0",
            "_view_name": "StyleView",
            "description_width": ""
          }
        }
      }
    }
  },
  "cells": [
    {
      "cell_type": "code",
      "execution_count": null,
      "metadata": {
        "id": "wLkhfaiG7L6v",
        "outputId": "1a7c5d75-529a-4750-aad1-aa70ffa76049",
        "colab": {
          "base_uri": "https://localhost:8080/"
        }
      },
      "outputs": [
        {
          "output_type": "stream",
          "name": "stdout",
          "text": [
            "\u001b[K     |████████████████████████████████| 5.5 MB 14.0 MB/s \n",
            "\u001b[K     |████████████████████████████████| 7.6 MB 40.6 MB/s \n",
            "\u001b[K     |████████████████████████████████| 182 kB 69.7 MB/s \n",
            "\u001b[K     |████████████████████████████████| 578.0 MB 14 kB/s \n",
            "\u001b[K     |████████████████████████████████| 5.9 MB 60.7 MB/s \n",
            "\u001b[K     |████████████████████████████████| 5.9 MB 58.5 MB/s \n",
            "\u001b[K     |████████████████████████████████| 1.7 MB 38.8 MB/s \n",
            "\u001b[K     |████████████████████████████████| 438 kB 73.6 MB/s \n",
            "\u001b[?25h  Building wheel for keras-nlp (setup.py) ... \u001b[?25l\u001b[?25hdone\n"
          ]
        }
      ],
      "source": [
        "!pip install transformers --quiet\n",
        "!pip install tensorflow==2.10 tensorflow-text==2.10 git+https://github.com/abheesht17/keras-nlp.git@xlm-roberta-presets --quiet"
      ]
    },
    {
      "cell_type": "code",
      "source": [
        "import json\n",
        "import os\n",
        "\n",
        "import keras_nlp\n",
        "import numpy as np\n",
        "\n",
        "import tensorflow as tf\n",
        "from tensorflow import keras\n",
        "\n",
        "import torch\n",
        "\n",
        "from keras_nlp.models import XLMRobertaTokenizer, XLMRobertaPreprocessor\n",
        "from transformers import AutoTokenizer, AutoModel\n",
        "\n",
        "tf.__version__"
      ],
      "metadata": {
        "colab": {
          "base_uri": "https://localhost:8080/",
          "height": 35
        },
        "id": "9HVKyxun8lou",
        "outputId": "cd080753-46b4-4df3-ca3a-8878fd9fb0f8"
      },
      "execution_count": null,
      "outputs": [
        {
          "output_type": "execute_result",
          "data": {
            "text/plain": [
              "'2.10.0'"
            ],
            "application/vnd.google.colaboratory.intrinsic+json": {
              "type": "string"
            }
          },
          "metadata": {},
          "execution_count": 2
        }
      ]
    },
    {
      "cell_type": "code",
      "source": [
        "MODEL_SIZE = \"large\""
      ],
      "metadata": {
        "id": "ISQu2ycTyDHu"
      },
      "execution_count": null,
      "outputs": []
    },
    {
      "cell_type": "code",
      "source": [
        "# Get the official checkpoints from fairseq.\n",
        "!wget \"https://dl.fbaipublicfiles.com/fairseq/models/xlmr.{MODEL_SIZE}.tar.gz\"\n",
        "!tar -xvf \"xlmr.{MODEL_SIZE}.tar.gz\""
      ],
      "metadata": {
        "colab": {
          "base_uri": "https://localhost:8080/"
        },
        "id": "ZDSNadi8edDk",
        "outputId": "01606eb9-733c-4cad-8eec-addf7595d88f"
      },
      "execution_count": null,
      "outputs": [
        {
          "output_type": "stream",
          "name": "stdout",
          "text": [
            "--2022-11-18 17:11:19--  https://dl.fbaipublicfiles.com/fairseq/models/xlmr.large.tar.gz\n",
            "Resolving dl.fbaipublicfiles.com (dl.fbaipublicfiles.com)... 104.22.75.142, 172.67.9.4, 104.22.74.142, ...\n",
            "Connecting to dl.fbaipublicfiles.com (dl.fbaipublicfiles.com)|104.22.75.142|:443... connected.\n",
            "HTTP request sent, awaiting response... 200 OK\n",
            "Length: 1028340964 (981M) [application/x-tar]\n",
            "Saving to: ‘xlmr.large.tar.gz’\n",
            "\n",
            "xlmr.large.tar.gz   100%[===================>] 980.70M  24.3MB/s    in 43s     \n",
            "\n",
            "2022-11-18 17:12:02 (23.0 MB/s) - ‘xlmr.large.tar.gz’ saved [1028340964/1028340964]\n",
            "\n",
            "xlmr.large/\n",
            "xlmr.large/dict.txt\n",
            "xlmr.large/model.pt\n",
            "xlmr.large/sentencepiece.bpe.model\n"
          ]
        }
      ]
    },
    {
      "cell_type": "code",
      "source": [
        "# XLM-R paths.\n",
        "extract_dir = f\"/content/xlmr.{MODEL_SIZE}\"\n",
        "spm_path = os.path.join(extract_dir, \"sentencepiece.bpe.model\")\n",
        "checkpoint_path = os.path.join(extract_dir, \"model.pt\")"
      ],
      "metadata": {
        "id": "PQjB9xYyLkT7"
      },
      "execution_count": null,
      "outputs": []
    },
    {
      "cell_type": "code",
      "source": [
        "# Load PyTorch XLM-R checkpoint.\n",
        "pt_ckpt = torch.load(checkpoint_path, map_location=torch.device('cpu'))\n",
        "pt_cfg = pt_ckpt[\"args\"]\n",
        "pt_model = pt_ckpt['model']"
      ],
      "metadata": {
        "id": "UWfDRzaiL77h"
      },
      "execution_count": null,
      "outputs": []
    },
    {
      "cell_type": "code",
      "source": [
        "cfg = {}\n",
        "\n",
        "cfg[\"num_layers\"] = pt_cfg.encoder_layers\n",
        "cfg[\"num_heads\"] = pt_cfg.encoder_attention_heads\n",
        "cfg[\"hidden_dim\"] = pt_cfg.encoder_embed_dim\n",
        "cfg[\"intermediate_dim\"] = pt_cfg.encoder_ffn_embed_dim\n",
        "cfg[\"dropout\"] = pt_cfg.dropout\n",
        "cfg[\"max_sequence_length\"] = pt_cfg.max_positions\n",
        "cfg[\"vocab_size\"] = pt_model[\"decoder.sentence_encoder.embed_tokens.weight\"].numpy().shape[0]\n",
        "\n",
        "cfg"
      ],
      "metadata": {
        "colab": {
          "base_uri": "https://localhost:8080/"
        },
        "id": "B9j7yl0eMM1w",
        "outputId": "a1d6ccda-d825-4e43-84d5-6e7045430f40"
      },
      "execution_count": null,
      "outputs": [
        {
          "output_type": "execute_result",
          "data": {
            "text/plain": [
              "{'num_layers': 24,\n",
              " 'num_heads': 16,\n",
              " 'hidden_dim': 1024,\n",
              " 'intermediate_dim': 4096,\n",
              " 'dropout': 0.1,\n",
              " 'max_sequence_length': 512,\n",
              " 'vocab_size': 250002}"
            ]
          },
          "metadata": {},
          "execution_count": 7
        }
      ]
    },
    {
      "cell_type": "code",
      "source": [
        "model = keras_nlp.models.XLMRoberta.from_preset(\n",
        "    f\"xlm_roberta_{MODEL_SIZE}\",\n",
        "    load_weights=False\n",
        ")"
      ],
      "metadata": {
        "id": "F8rEvbm68tUK"
      },
      "execution_count": null,
      "outputs": []
    },
    {
      "cell_type": "code",
      "source": [
        "model.summary()"
      ],
      "metadata": {
        "colab": {
          "base_uri": "https://localhost:8080/"
        },
        "id": "HeIOF53deaCf",
        "outputId": "5f2da913-e489-4ad6-e782-4569f77ec290"
      },
      "execution_count": null,
      "outputs": [
        {
          "output_type": "stream",
          "name": "stdout",
          "text": [
            "Model: \"backbone\"\n",
            "__________________________________________________________________________________________________\n",
            " Layer (type)                   Output Shape         Param #     Connected to                     \n",
            "==================================================================================================\n",
            " token_ids (InputLayer)         [(None, None)]       0           []                               \n",
            "                                                                                                  \n",
            " embeddings (TokenAndPositionEm  (None, None, 1024)  256526336   ['token_ids[0][0]']              \n",
            " bedding)                                                                                         \n",
            "                                                                                                  \n",
            " embeddings_layer_norm (LayerNo  (None, None, 1024)  2048        ['embeddings[0][0]']             \n",
            " rmalization)                                                                                     \n",
            "                                                                                                  \n",
            " embeddings_dropout (Dropout)   (None, None, 1024)   0           ['embeddings_layer_norm[0][0]']  \n",
            "                                                                                                  \n",
            " padding_mask (InputLayer)      [(None, None)]       0           []                               \n",
            "                                                                                                  \n",
            " transformer_layer_0 (Transform  (None, None, 1024)  12596224    ['embeddings_dropout[0][0]',     \n",
            " erEncoder)                                                       'padding_mask[0][0]']           \n",
            "                                                                                                  \n",
            " transformer_layer_1 (Transform  (None, None, 1024)  12596224    ['transformer_layer_0[0][0]',    \n",
            " erEncoder)                                                       'padding_mask[0][0]']           \n",
            "                                                                                                  \n",
            " transformer_layer_2 (Transform  (None, None, 1024)  12596224    ['transformer_layer_1[0][0]',    \n",
            " erEncoder)                                                       'padding_mask[0][0]']           \n",
            "                                                                                                  \n",
            " transformer_layer_3 (Transform  (None, None, 1024)  12596224    ['transformer_layer_2[0][0]',    \n",
            " erEncoder)                                                       'padding_mask[0][0]']           \n",
            "                                                                                                  \n",
            " transformer_layer_4 (Transform  (None, None, 1024)  12596224    ['transformer_layer_3[0][0]',    \n",
            " erEncoder)                                                       'padding_mask[0][0]']           \n",
            "                                                                                                  \n",
            " transformer_layer_5 (Transform  (None, None, 1024)  12596224    ['transformer_layer_4[0][0]',    \n",
            " erEncoder)                                                       'padding_mask[0][0]']           \n",
            "                                                                                                  \n",
            " transformer_layer_6 (Transform  (None, None, 1024)  12596224    ['transformer_layer_5[0][0]',    \n",
            " erEncoder)                                                       'padding_mask[0][0]']           \n",
            "                                                                                                  \n",
            " transformer_layer_7 (Transform  (None, None, 1024)  12596224    ['transformer_layer_6[0][0]',    \n",
            " erEncoder)                                                       'padding_mask[0][0]']           \n",
            "                                                                                                  \n",
            " transformer_layer_8 (Transform  (None, None, 1024)  12596224    ['transformer_layer_7[0][0]',    \n",
            " erEncoder)                                                       'padding_mask[0][0]']           \n",
            "                                                                                                  \n",
            " transformer_layer_9 (Transform  (None, None, 1024)  12596224    ['transformer_layer_8[0][0]',    \n",
            " erEncoder)                                                       'padding_mask[0][0]']           \n",
            "                                                                                                  \n",
            " transformer_layer_10 (Transfor  (None, None, 1024)  12596224    ['transformer_layer_9[0][0]',    \n",
            " merEncoder)                                                      'padding_mask[0][0]']           \n",
            "                                                                                                  \n",
            " transformer_layer_11 (Transfor  (None, None, 1024)  12596224    ['transformer_layer_10[0][0]',   \n",
            " merEncoder)                                                      'padding_mask[0][0]']           \n",
            "                                                                                                  \n",
            " transformer_layer_12 (Transfor  (None, None, 1024)  12596224    ['transformer_layer_11[0][0]',   \n",
            " merEncoder)                                                      'padding_mask[0][0]']           \n",
            "                                                                                                  \n",
            " transformer_layer_13 (Transfor  (None, None, 1024)  12596224    ['transformer_layer_12[0][0]',   \n",
            " merEncoder)                                                      'padding_mask[0][0]']           \n",
            "                                                                                                  \n",
            " transformer_layer_14 (Transfor  (None, None, 1024)  12596224    ['transformer_layer_13[0][0]',   \n",
            " merEncoder)                                                      'padding_mask[0][0]']           \n",
            "                                                                                                  \n",
            " transformer_layer_15 (Transfor  (None, None, 1024)  12596224    ['transformer_layer_14[0][0]',   \n",
            " merEncoder)                                                      'padding_mask[0][0]']           \n",
            "                                                                                                  \n",
            " transformer_layer_16 (Transfor  (None, None, 1024)  12596224    ['transformer_layer_15[0][0]',   \n",
            " merEncoder)                                                      'padding_mask[0][0]']           \n",
            "                                                                                                  \n",
            " transformer_layer_17 (Transfor  (None, None, 1024)  12596224    ['transformer_layer_16[0][0]',   \n",
            " merEncoder)                                                      'padding_mask[0][0]']           \n",
            "                                                                                                  \n",
            " transformer_layer_18 (Transfor  (None, None, 1024)  12596224    ['transformer_layer_17[0][0]',   \n",
            " merEncoder)                                                      'padding_mask[0][0]']           \n",
            "                                                                                                  \n",
            " transformer_layer_19 (Transfor  (None, None, 1024)  12596224    ['transformer_layer_18[0][0]',   \n",
            " merEncoder)                                                      'padding_mask[0][0]']           \n",
            "                                                                                                  \n",
            " transformer_layer_20 (Transfor  (None, None, 1024)  12596224    ['transformer_layer_19[0][0]',   \n",
            " merEncoder)                                                      'padding_mask[0][0]']           \n",
            "                                                                                                  \n",
            " transformer_layer_21 (Transfor  (None, None, 1024)  12596224    ['transformer_layer_20[0][0]',   \n",
            " merEncoder)                                                      'padding_mask[0][0]']           \n",
            "                                                                                                  \n",
            " transformer_layer_22 (Transfor  (None, None, 1024)  12596224    ['transformer_layer_21[0][0]',   \n",
            " merEncoder)                                                      'padding_mask[0][0]']           \n",
            "                                                                                                  \n",
            " transformer_layer_23 (Transfor  (None, None, 1024)  12596224    ['transformer_layer_22[0][0]',   \n",
            " merEncoder)                                                      'padding_mask[0][0]']           \n",
            "                                                                                                  \n",
            "==================================================================================================\n",
            "Total params: 558,837,760\n",
            "Trainable params: 558,837,760\n",
            "Non-trainable params: 0\n",
            "__________________________________________________________________________________________________\n"
          ]
        }
      ]
    },
    {
      "cell_type": "code",
      "source": [
        "# Embedding Layer.\n",
        "model.get_layer(\"embeddings\").token_embedding.embeddings.assign(\n",
        "    pt_model[\"decoder.sentence_encoder.embed_tokens.weight\"].numpy()\n",
        ")\n",
        "model.get_layer(\"embeddings\").position_embedding.position_embeddings.assign(\n",
        "    pt_model[\"decoder.sentence_encoder.embed_positions.weight\"].numpy()[2:, :]\n",
        ")\n",
        "\n",
        "# Embedding LayerNorm.\n",
        "model.get_layer(\"embeddings_layer_norm\").gamma.assign(\n",
        "    pt_model['decoder.sentence_encoder.emb_layer_norm.weight'].numpy()\n",
        ")\n",
        "model.get_layer(\"embeddings_layer_norm\").beta.assign(\n",
        "    pt_model['decoder.sentence_encoder.emb_layer_norm.bias'].numpy()\n",
        ")\n",
        "\n",
        "\n",
        "range_1 = (0, cfg[\"hidden_dim\"])\n",
        "range_2 = (cfg[\"hidden_dim\"], 2 * cfg[\"hidden_dim\"]) \n",
        "range_3 = (2 * cfg[\"hidden_dim\"], 3 * cfg[\"hidden_dim\"])\n",
        "\n",
        "# Transformer layers.\n",
        "for i in range(model.num_layers):\n",
        "    q_k_v_wts =  (\n",
        "        pt_model[f\"decoder.sentence_encoder.layers.{i}.self_attn.in_proj_weight\"].numpy().T\n",
        "    )\n",
        "    q_k_v_bias = (\n",
        "        pt_model[f\"decoder.sentence_encoder.layers.{i}.self_attn.in_proj_bias\"].numpy().T\n",
        "    )\n",
        "\n",
        "    # Query\n",
        "    model.get_layer(f\"transformer_layer_{i}\")._self_attention_layer._query_dense.kernel.assign(\n",
        "        q_k_v_wts[:, range_1[0]: range_1[1]].reshape((cfg[\"hidden_dim\"], cfg[\"num_heads\"], -1))\n",
        "    )\n",
        "    model.get_layer(f\"transformer_layer_{i}\")._self_attention_layer._query_dense.bias.assign(\n",
        "        q_k_v_bias[range_1[0]: range_1[1]].reshape((cfg[\"num_heads\"], -1))\n",
        "    )\n",
        "\n",
        "    # Key\n",
        "    model.get_layer(f\"transformer_layer_{i}\")._self_attention_layer._key_dense.kernel.assign(\n",
        "        q_k_v_wts[:, range_2[0]: range_2[1]].reshape((cfg[\"hidden_dim\"], cfg[\"num_heads\"], -1))\n",
        "    )\n",
        "    model.get_layer(f\"transformer_layer_{i}\")._self_attention_layer._key_dense.bias.assign(\n",
        "        q_k_v_bias[range_2[0]: range_2[1]].reshape((cfg[\"num_heads\"], -1))\n",
        "    )\n",
        "\n",
        "    # Value\n",
        "    model.get_layer(f\"transformer_layer_{i}\")._self_attention_layer._value_dense.kernel.assign(\n",
        "        q_k_v_wts[:, range_3[0]: range_3[1]].reshape((cfg[\"hidden_dim\"], cfg[\"num_heads\"], -1))\n",
        "    )\n",
        "    model.get_layer(f\"transformer_layer_{i}\")._self_attention_layer._value_dense.bias.assign(\n",
        "        q_k_v_bias[range_3[0]: range_3[1]].reshape((cfg[\"num_heads\"], -1))\n",
        "    )\n",
        "\n",
        "    # Attention output\n",
        "    attn_output_wts = (\n",
        "        pt_model[f'decoder.sentence_encoder.layers.{i}.self_attn.out_proj.weight'].numpy().T\n",
        "    )\n",
        "    model.get_layer(f\"transformer_layer_{i}\")._self_attention_layer._output_dense.kernel.assign(\n",
        "        attn_output_wts.reshape((cfg[\"num_heads\"], -1, cfg[\"hidden_dim\"]))\n",
        "    )\n",
        "    model.get_layer(f\"transformer_layer_{i}\")._self_attention_layer._output_dense.bias.assign(\n",
        "        pt_model[f'decoder.sentence_encoder.layers.{i}.self_attn.out_proj.bias'].numpy()\n",
        "    )\n",
        "\n",
        "    # Attention LayerNorm\n",
        "    model.get_layer(f\"transformer_layer_{i}\")._self_attention_layernorm.gamma.assign(\n",
        "        pt_model[f'decoder.sentence_encoder.layers.{i}.self_attn_layer_norm.weight'].numpy()\n",
        "    )\n",
        "    model.get_layer(f\"transformer_layer_{i}\")._self_attention_layernorm.beta.assign(\n",
        "        pt_model[f'decoder.sentence_encoder.layers.{i}.self_attn_layer_norm.bias'].numpy()\n",
        "    )\n",
        "\n",
        "    # Intermediate FF layer\n",
        "    model.get_layer(f\"transformer_layer_{i}\")._feedforward_intermediate_dense.kernel.assign(\n",
        "        pt_model[f'decoder.sentence_encoder.layers.{i}.fc1.weight'].numpy().T\n",
        "    )\n",
        "    model.get_layer(f\"transformer_layer_{i}\")._feedforward_intermediate_dense.bias.assign(\n",
        "        pt_model[f'decoder.sentence_encoder.layers.{i}.fc1.bias'].numpy()\n",
        "    )\n",
        "\n",
        "    # Output dense layer\n",
        "    model.get_layer(f\"transformer_layer_{i}\")._feedforward_output_dense.kernel.assign(\n",
        "        pt_model[f'decoder.sentence_encoder.layers.{i}.fc2.weight'].numpy().T\n",
        "    )\n",
        "    model.get_layer(f\"transformer_layer_{i}\")._feedforward_output_dense.bias.assign(\n",
        "        pt_model[f'decoder.sentence_encoder.layers.{i}.fc2.bias'].numpy()\n",
        "    )\n",
        "\n",
        "    # FF LayerNorm\n",
        "    model.get_layer(f\"transformer_layer_{i}\")._feedforward_layernorm.gamma.assign(\n",
        "        pt_model[f'decoder.sentence_encoder.layers.{i}.final_layer_norm.weight'].numpy()\n",
        "    )\n",
        "    model.get_layer(f\"transformer_layer_{i}\")._feedforward_layernorm.beta.assign(\n",
        "        pt_model[f'decoder.sentence_encoder.layers.{i}.final_layer_norm.bias'].numpy()\n",
        "    )\n"
      ],
      "metadata": {
        "id": "5EJaTSTXflyB"
      },
      "execution_count": null,
      "outputs": []
    },
    {
      "cell_type": "code",
      "source": [
        "# Define preprocessor.\n",
        "xlm_roberta_preprocessor = XLMRobertaPreprocessor.from_preset(\n",
        "    f\"xlm_roberta_{MODEL_SIZE}\"\n",
        ")\n",
        "\n",
        "hf_tokenizer = AutoTokenizer.from_pretrained(f\"xlm-roberta-{MODEL_SIZE}\")"
      ],
      "metadata": {
        "colab": {
          "base_uri": "https://localhost:8080/",
          "height": 148,
          "referenced_widgets": [
            "99f9400cee384915b4d88b0adbd1cd7c",
            "b0db7189c39c4fcba453075d9bd12f32",
            "37f349af7be34b1aab9c69c2c65bc2c4",
            "8ce982e2bc634c65a6bfdfc1e688b547",
            "f1e3878bdbce4dca8b6fd442c8572161",
            "d31c981833574a72b892a47c28f01cda",
            "c1a2c0cdf88343d2a5ead04bd3293672",
            "91274b3b70084c8fa230788be0548eec",
            "fd43487e3d4b45518f43bbc807de21ea",
            "a201adb0b8fe47e7beed59ebc7fd9e49",
            "6127a657bf8f444b8b1385cc902427e7",
            "93bd1b0544c040898854f2f5b7ce6ef7",
            "4c8eb6fa5d25413c8f0df3b1033edfbc",
            "789706cc82ac4d51a74a7df67a100a49",
            "391112fcc49d4c78b4d6b075fd1c745b",
            "87aa56f6419b4a798d235ecb7f5eac16",
            "7e5372a0c1524dba9f26f007ef909507",
            "2bc71dc0cd5840b68627ffc86eab1482",
            "f028e34f8f154e82aec138e446118697",
            "fc26795be2b64e998857d535e30489c7",
            "16dadd9a9119438bbb6fdda9662a097c",
            "baafe28024a74247b01f2324cae60187",
            "c702b6beca64430b8e002b050db18500",
            "6ea6cf9538e642238b3e4c99e54ba287",
            "b208285d6b16481aa451c534709fa78c",
            "26af10b6833146d88c04de4c41130154",
            "6edb42df3af14c8cbef05f597a9d82df",
            "66c5f81b00db423881d0b7796f5dfcaf",
            "c4028ae4169347a787d2991ad7627d85",
            "f9b161e0a97d47ec8f5d501fb8db08ac",
            "ee56488e2aed408f9f61afc3a0bba884",
            "4851cf2236fc4ca78b7abb26d636c418",
            "f26f683e9fb44d3b95cdbee70e5b8b77"
          ]
        },
        "id": "Ff2ymMrLK45B",
        "outputId": "7556fee1-5405-431d-c7e6-e01e45957f60"
      },
      "execution_count": null,
      "outputs": [
        {
          "output_type": "stream",
          "name": "stdout",
          "text": [
            "Downloading data from https://storage.googleapis.com/keras-nlp/models/xlm_roberta_large/vocab.spm\n",
            "5069051/5069051 [==============================] - 1s 0us/step\n"
          ]
        },
        {
          "output_type": "display_data",
          "data": {
            "text/plain": [
              "Downloading:   0%|          | 0.00/616 [00:00<?, ?B/s]"
            ],
            "application/vnd.jupyter.widget-view+json": {
              "version_major": 2,
              "version_minor": 0,
              "model_id": "99f9400cee384915b4d88b0adbd1cd7c"
            }
          },
          "metadata": {}
        },
        {
          "output_type": "display_data",
          "data": {
            "text/plain": [
              "Downloading:   0%|          | 0.00/5.07M [00:00<?, ?B/s]"
            ],
            "application/vnd.jupyter.widget-view+json": {
              "version_major": 2,
              "version_minor": 0,
              "model_id": "93bd1b0544c040898854f2f5b7ce6ef7"
            }
          },
          "metadata": {}
        },
        {
          "output_type": "display_data",
          "data": {
            "text/plain": [
              "Downloading:   0%|          | 0.00/9.10M [00:00<?, ?B/s]"
            ],
            "application/vnd.jupyter.widget-view+json": {
              "version_major": 2,
              "version_minor": 0,
              "model_id": "c702b6beca64430b8e002b050db18500"
            }
          },
          "metadata": {}
        }
      ]
    },
    {
      "cell_type": "code",
      "source": [
        "# Instantiate the HF model.\n",
        "\n",
        "hf_model = AutoModel.from_pretrained(f\"xlm-roberta-{MODEL_SIZE}\")\n",
        "hf_model.eval()\n",
        "pass"
      ],
      "metadata": {
        "colab": {
          "base_uri": "https://localhost:8080/",
          "height": 121,
          "referenced_widgets": [
            "4f62f14043504948967f32458f5fcc15",
            "081510f9f9da4bf6bbe2da62a935855a",
            "f774883c6cc04cd68198e479fece4b07",
            "2bc3292e1bf141ab9c27d3a2db6c38b4",
            "b2a7025db3984205b929769c6ba3b1e2",
            "670c69073cd448b580fe51ec0db60d8a",
            "75b9e2262227445c87b5b366da2eb84c",
            "92b3e9a3b0064789b591d8aa64d47a87",
            "6e5739aa13574458a74fa5c1eacf773d",
            "9cedb7889bd54958a13ea85f74851c8c",
            "bc21121133294cf48d2a2581c6f6194d"
          ]
        },
        "id": "kYsGnEK54k8L",
        "outputId": "c601ccde-8211-4205-ec15-1c8b2d3f68d3"
      },
      "execution_count": null,
      "outputs": [
        {
          "output_type": "display_data",
          "data": {
            "text/plain": [
              "Downloading:   0%|          | 0.00/2.24G [00:00<?, ?B/s]"
            ],
            "application/vnd.jupyter.widget-view+json": {
              "version_major": 2,
              "version_minor": 0,
              "model_id": "4f62f14043504948967f32458f5fcc15"
            }
          },
          "metadata": {}
        },
        {
          "output_type": "stream",
          "name": "stderr",
          "text": [
            "Some weights of the model checkpoint at xlm-roberta-large were not used when initializing XLMRobertaModel: ['lm_head.dense.weight', 'lm_head.dense.bias', 'lm_head.bias', 'lm_head.decoder.weight', 'lm_head.layer_norm.weight', 'lm_head.layer_norm.bias']\n",
            "- This IS expected if you are initializing XLMRobertaModel from the checkpoint of a model trained on another task or with another architecture (e.g. initializing a BertForSequenceClassification model from a BertForPreTraining model).\n",
            "- This IS NOT expected if you are initializing XLMRobertaModel from the checkpoint of a model that you expect to be exactly identical (initializing a BertForSequenceClassification model from a BertForSequenceClassification model).\n"
          ]
        }
      ]
    },
    {
      "cell_type": "code",
      "source": [
        "# Do a forward pass on both models and check whether the outputs match.\n",
        "\n",
        "sample_input = [\"cricket is awesome! sachin is the goat handsdown.\"]\n",
        "\n",
        "inputs = xlm_roberta_preprocessor(tf.constant(sample_input))\n",
        "hf_inputs = hf_tokenizer(sample_input, padding=\"max_length\", return_tensors=\"pt\")\n",
        "\n",
        "keras_nlp_output = model.predict(inputs)\n",
        "hf_output = hf_model(**hf_inputs).last_hidden_state"
      ],
      "metadata": {
        "id": "Tgq0lGbeqtjy",
        "colab": {
          "base_uri": "https://localhost:8080/"
        },
        "outputId": "068f3796-1a66-47ad-cf37-737bd3784642"
      },
      "execution_count": null,
      "outputs": [
        {
          "output_type": "stream",
          "name": "stdout",
          "text": [
            "1/1 [==============================] - 11s 11s/step\n"
          ]
        }
      ]
    },
    {
      "cell_type": "code",
      "source": [
        "keras_nlp_output[0, 0, :10], hf_output[0, 0, :10]"
      ],
      "metadata": {
        "id": "xU579WVQPwph",
        "colab": {
          "base_uri": "https://localhost:8080/"
        },
        "outputId": "433c3e32-e16d-4759-e2d0-ec87787a9d72"
      },
      "execution_count": null,
      "outputs": [
        {
          "output_type": "execute_result",
          "data": {
            "text/plain": [
              "(array([-0.01483768, -0.01274629,  0.10534979,  0.07076494, -0.03547918,\n",
              "         0.09329709,  0.027627  ,  0.05167678, -0.02784518,  0.04411471],\n",
              "       dtype=float32),\n",
              " tensor([-0.0148, -0.0127,  0.1053,  0.0708, -0.0355,  0.0933,  0.0276,  0.0517,\n",
              "         -0.0278,  0.0441], grad_fn=<SliceBackward0>))"
            ]
          },
          "metadata": {},
          "execution_count": 14
        }
      ]
    },
    {
      "cell_type": "code",
      "source": [
        "np.mean(keras_nlp_output - hf_output.detach().numpy())"
      ],
      "metadata": {
        "colab": {
          "base_uri": "https://localhost:8080/"
        },
        "id": "rfDrkiBq4Lz6",
        "outputId": "b5b59742-42da-46fb-f513-83ed8892f10d"
      },
      "execution_count": null,
      "outputs": [
        {
          "output_type": "execute_result",
          "data": {
            "text/plain": [
              "-1.535443e-05"
            ]
          },
          "metadata": {},
          "execution_count": 15
        }
      ]
    },
    {
      "cell_type": "code",
      "source": [
        "# Save XLM-RoBERTa checkpoint.\n",
        "model.save_weights(f\"xlm_roberta_{MODEL_SIZE}.h5\")"
      ],
      "metadata": {
        "id": "UD-awaeR5pNY"
      },
      "execution_count": null,
      "outputs": []
    },
    {
      "cell_type": "code",
      "source": [
        "model2 = keras_nlp.models.XLMRoberta.from_preset(\n",
        "    f\"xlm_roberta_{MODEL_SIZE}\", load_weights=False\n",
        ")\n",
        "model2.load_weights(f\"xlm_roberta_{MODEL_SIZE}.h5\")"
      ],
      "metadata": {
        "id": "ai-GvxEn5zef"
      },
      "execution_count": null,
      "outputs": []
    },
    {
      "cell_type": "code",
      "source": [
        "keras_nlp_output2 = model2.predict(inputs)\n",
        "tf.reduce_mean(keras_nlp_output - keras_nlp_output2)"
      ],
      "metadata": {
        "colab": {
          "base_uri": "https://localhost:8080/"
        },
        "id": "4a7-hH-h568I",
        "outputId": "66322daf-5aeb-44a3-d00f-c0aebed48152"
      },
      "execution_count": null,
      "outputs": [
        {
          "output_type": "stream",
          "name": "stdout",
          "text": [
            "1/1 [==============================] - 9s 9s/step\n"
          ]
        },
        {
          "output_type": "execute_result",
          "data": {
            "text/plain": [
              "<tf.Tensor: shape=(), dtype=float32, numpy=0.0>"
            ]
          },
          "metadata": {},
          "execution_count": 18
        }
      ]
    },
    {
      "cell_type": "code",
      "source": [
        "# Obtain all the necessary files.\n",
        "!cp $spm_path /content\n",
        "\n",
        "!md5sum /content/sentencepiece.bpe.model\n",
        "!md5sum \"/content/xlm_roberta_{MODEL_SIZE}.h5\""
      ],
      "metadata": {
        "colab": {
          "base_uri": "https://localhost:8080/"
        },
        "id": "3j8nYOMg6grw",
        "outputId": "1c7c2248-6534-4667-a874-f9d409a54b9a"
      },
      "execution_count": null,
      "outputs": [
        {
          "output_type": "stream",
          "name": "stdout",
          "text": [
            "bf25eb5120ad92ef5c7d8596b5dc4046  /content/sentencepiece.bpe.model\n",
            "276211827174b71751f2ce3a89da503a  /content/xlm_roberta_large.h5\n"
          ]
        }
      ]
    },
    {
      "cell_type": "code",
      "execution_count": null,
      "metadata": {
        "id": "wTd-5vUyVG0Q",
        "outputId": "e653af28-f663-4c48-eb4b-75c1cfe97cc5",
        "colab": {
          "base_uri": "https://localhost:8080/"
        }
      },
      "outputs": [
        {
          "output_type": "stream",
          "name": "stdout",
          "text": [
            "Downloading data from https://storage.googleapis.com/keras-nlp/models/xlm_roberta_large/model.h5\n",
            "2235784432/2235784432 [==============================] - 65s 0us/step\n"
          ]
        }
      ],
      "source": [
        "# Check uploaded model once added to repo\n",
        "model_cloud = keras_nlp.models.XLMRoberta.from_preset(\n",
        "    f\"xlm_roberta_{MODEL_SIZE}\",\n",
        "    load_weights=True,\n",
        ")"
      ]
    },
    {
      "cell_type": "code",
      "execution_count": null,
      "metadata": {
        "id": "zs5x_f6GVdNY",
        "outputId": "bf6434cb-4aae-4474-981f-aa51d7ec2052",
        "colab": {
          "base_uri": "https://localhost:8080/"
        }
      },
      "outputs": [
        {
          "output_type": "stream",
          "name": "stdout",
          "text": [
            "1/1 [==============================] - 9s 9s/step\n"
          ]
        },
        {
          "output_type": "execute_result",
          "data": {
            "text/plain": [
              "<tf.Tensor: shape=(), dtype=float32, numpy=0.0>"
            ]
          },
          "metadata": {},
          "execution_count": 20
        }
      ],
      "source": [
        "# Same output from cloud model\n",
        "keras_nlp_output_cloud = model_cloud.predict(inputs)\n",
        "tf.reduce_mean(keras_nlp_output - keras_nlp_output_cloud)"
      ]
    },
    {
      "cell_type": "code",
      "execution_count": null,
      "metadata": {
        "id": "RAwrhAcSzHWa",
        "outputId": "3c3916ab-d6b4-4936-9a8f-9f2d23b615d1",
        "colab": {
          "base_uri": "https://localhost:8080/"
        }
      },
      "outputs": [
        {
          "output_type": "execute_result",
          "data": {
            "text/plain": [
              "array([-0.01483768, -0.01274629,  0.10534979,  0.07076494, -0.03547918,\n",
              "        0.09329709,  0.027627  ,  0.05167678, -0.02784518,  0.04411471],\n",
              "      dtype=float32)"
            ]
          },
          "metadata": {},
          "execution_count": 21
        }
      ],
      "source": [
        "keras_nlp_output_cloud[0, 0, :10]"
      ]
    },
    {
      "cell_type": "code",
      "source": [],
      "metadata": {
        "id": "P85aqe2Ft_jh"
      },
      "execution_count": null,
      "outputs": []
    }
  ]
}