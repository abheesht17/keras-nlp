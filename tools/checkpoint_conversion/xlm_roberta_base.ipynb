{
  "nbformat": 4,
  "nbformat_minor": 0,
  "metadata": {
    "colab": {
      "provenance": [],
      "collapsed_sections": []
    },
    "kernelspec": {
      "name": "python3",
      "display_name": "Python 3"
    },
    "language_info": {
      "name": "python"
    },
    "widgets": {
      "application/vnd.jupyter.widget-state+json": {
        "b9b80fac99ce421c9d3b674e4ef2283a": {
          "model_module": "@jupyter-widgets/controls",
          "model_name": "HBoxModel",
          "model_module_version": "1.5.0",
          "state": {
            "_dom_classes": [],
            "_model_module": "@jupyter-widgets/controls",
            "_model_module_version": "1.5.0",
            "_model_name": "HBoxModel",
            "_view_count": null,
            "_view_module": "@jupyter-widgets/controls",
            "_view_module_version": "1.5.0",
            "_view_name": "HBoxView",
            "box_style": "",
            "children": [
              "IPY_MODEL_4fafcf56fe264121b7ff5ee26d3898d7",
              "IPY_MODEL_7f345f23004342be9afcf13b8bde19dd",
              "IPY_MODEL_9d204b8fe175437e9100a86dcd225959"
            ],
            "layout": "IPY_MODEL_021bffa80d4c43eca54de47520b44830"
          }
        },
        "4fafcf56fe264121b7ff5ee26d3898d7": {
          "model_module": "@jupyter-widgets/controls",
          "model_name": "HTMLModel",
          "model_module_version": "1.5.0",
          "state": {
            "_dom_classes": [],
            "_model_module": "@jupyter-widgets/controls",
            "_model_module_version": "1.5.0",
            "_model_name": "HTMLModel",
            "_view_count": null,
            "_view_module": "@jupyter-widgets/controls",
            "_view_module_version": "1.5.0",
            "_view_name": "HTMLView",
            "description": "",
            "description_tooltip": null,
            "layout": "IPY_MODEL_d170be860a2e4b2caec95963d3da6861",
            "placeholder": "​",
            "style": "IPY_MODEL_9c0042617289496698402a26fe3f60ee",
            "value": ""
          }
        },
        "7f345f23004342be9afcf13b8bde19dd": {
          "model_module": "@jupyter-widgets/controls",
          "model_name": "FloatProgressModel",
          "model_module_version": "1.5.0",
          "state": {
            "_dom_classes": [],
            "_model_module": "@jupyter-widgets/controls",
            "_model_module_version": "1.5.0",
            "_model_name": "FloatProgressModel",
            "_view_count": null,
            "_view_module": "@jupyter-widgets/controls",
            "_view_module_version": "1.5.0",
            "_view_name": "ProgressView",
            "bar_style": "success",
            "description": "",
            "description_tooltip": null,
            "layout": "IPY_MODEL_67e075ed0b56436384527028da674235",
            "max": 1,
            "min": 0,
            "orientation": "horizontal",
            "style": "IPY_MODEL_d2d405e15d824a12a5e100ad7e740aff",
            "value": 0
          }
        },
        "9d204b8fe175437e9100a86dcd225959": {
          "model_module": "@jupyter-widgets/controls",
          "model_name": "HTMLModel",
          "model_module_version": "1.5.0",
          "state": {
            "_dom_classes": [],
            "_model_module": "@jupyter-widgets/controls",
            "_model_module_version": "1.5.0",
            "_model_name": "HTMLModel",
            "_view_count": null,
            "_view_module": "@jupyter-widgets/controls",
            "_view_module_version": "1.5.0",
            "_view_name": "HTMLView",
            "description": "",
            "description_tooltip": null,
            "layout": "IPY_MODEL_4da8625cbff34304848c72a1021dc5d7",
            "placeholder": "​",
            "style": "IPY_MODEL_4f45970329e24f16b3122393ea42ae61",
            "value": " 0/0 [00:00&lt;?, ?it/s]"
          }
        },
        "021bffa80d4c43eca54de47520b44830": {
          "model_module": "@jupyter-widgets/base",
          "model_name": "LayoutModel",
          "model_module_version": "1.2.0",
          "state": {
            "_model_module": "@jupyter-widgets/base",
            "_model_module_version": "1.2.0",
            "_model_name": "LayoutModel",
            "_view_count": null,
            "_view_module": "@jupyter-widgets/base",
            "_view_module_version": "1.2.0",
            "_view_name": "LayoutView",
            "align_content": null,
            "align_items": null,
            "align_self": null,
            "border": null,
            "bottom": null,
            "display": null,
            "flex": null,
            "flex_flow": null,
            "grid_area": null,
            "grid_auto_columns": null,
            "grid_auto_flow": null,
            "grid_auto_rows": null,
            "grid_column": null,
            "grid_gap": null,
            "grid_row": null,
            "grid_template_areas": null,
            "grid_template_columns": null,
            "grid_template_rows": null,
            "height": null,
            "justify_content": null,
            "justify_items": null,
            "left": null,
            "margin": null,
            "max_height": null,
            "max_width": null,
            "min_height": null,
            "min_width": null,
            "object_fit": null,
            "object_position": null,
            "order": null,
            "overflow": null,
            "overflow_x": null,
            "overflow_y": null,
            "padding": null,
            "right": null,
            "top": null,
            "visibility": null,
            "width": null
          }
        },
        "d170be860a2e4b2caec95963d3da6861": {
          "model_module": "@jupyter-widgets/base",
          "model_name": "LayoutModel",
          "model_module_version": "1.2.0",
          "state": {
            "_model_module": "@jupyter-widgets/base",
            "_model_module_version": "1.2.0",
            "_model_name": "LayoutModel",
            "_view_count": null,
            "_view_module": "@jupyter-widgets/base",
            "_view_module_version": "1.2.0",
            "_view_name": "LayoutView",
            "align_content": null,
            "align_items": null,
            "align_self": null,
            "border": null,
            "bottom": null,
            "display": null,
            "flex": null,
            "flex_flow": null,
            "grid_area": null,
            "grid_auto_columns": null,
            "grid_auto_flow": null,
            "grid_auto_rows": null,
            "grid_column": null,
            "grid_gap": null,
            "grid_row": null,
            "grid_template_areas": null,
            "grid_template_columns": null,
            "grid_template_rows": null,
            "height": null,
            "justify_content": null,
            "justify_items": null,
            "left": null,
            "margin": null,
            "max_height": null,
            "max_width": null,
            "min_height": null,
            "min_width": null,
            "object_fit": null,
            "object_position": null,
            "order": null,
            "overflow": null,
            "overflow_x": null,
            "overflow_y": null,
            "padding": null,
            "right": null,
            "top": null,
            "visibility": null,
            "width": null
          }
        },
        "9c0042617289496698402a26fe3f60ee": {
          "model_module": "@jupyter-widgets/controls",
          "model_name": "DescriptionStyleModel",
          "model_module_version": "1.5.0",
          "state": {
            "_model_module": "@jupyter-widgets/controls",
            "_model_module_version": "1.5.0",
            "_model_name": "DescriptionStyleModel",
            "_view_count": null,
            "_view_module": "@jupyter-widgets/base",
            "_view_module_version": "1.2.0",
            "_view_name": "StyleView",
            "description_width": ""
          }
        },
        "67e075ed0b56436384527028da674235": {
          "model_module": "@jupyter-widgets/base",
          "model_name": "LayoutModel",
          "model_module_version": "1.2.0",
          "state": {
            "_model_module": "@jupyter-widgets/base",
            "_model_module_version": "1.2.0",
            "_model_name": "LayoutModel",
            "_view_count": null,
            "_view_module": "@jupyter-widgets/base",
            "_view_module_version": "1.2.0",
            "_view_name": "LayoutView",
            "align_content": null,
            "align_items": null,
            "align_self": null,
            "border": null,
            "bottom": null,
            "display": null,
            "flex": null,
            "flex_flow": null,
            "grid_area": null,
            "grid_auto_columns": null,
            "grid_auto_flow": null,
            "grid_auto_rows": null,
            "grid_column": null,
            "grid_gap": null,
            "grid_row": null,
            "grid_template_areas": null,
            "grid_template_columns": null,
            "grid_template_rows": null,
            "height": null,
            "justify_content": null,
            "justify_items": null,
            "left": null,
            "margin": null,
            "max_height": null,
            "max_width": null,
            "min_height": null,
            "min_width": null,
            "object_fit": null,
            "object_position": null,
            "order": null,
            "overflow": null,
            "overflow_x": null,
            "overflow_y": null,
            "padding": null,
            "right": null,
            "top": null,
            "visibility": null,
            "width": "20px"
          }
        },
        "d2d405e15d824a12a5e100ad7e740aff": {
          "model_module": "@jupyter-widgets/controls",
          "model_name": "ProgressStyleModel",
          "model_module_version": "1.5.0",
          "state": {
            "_model_module": "@jupyter-widgets/controls",
            "_model_module_version": "1.5.0",
            "_model_name": "ProgressStyleModel",
            "_view_count": null,
            "_view_module": "@jupyter-widgets/base",
            "_view_module_version": "1.2.0",
            "_view_name": "StyleView",
            "bar_color": null,
            "description_width": ""
          }
        },
        "4da8625cbff34304848c72a1021dc5d7": {
          "model_module": "@jupyter-widgets/base",
          "model_name": "LayoutModel",
          "model_module_version": "1.2.0",
          "state": {
            "_model_module": "@jupyter-widgets/base",
            "_model_module_version": "1.2.0",
            "_model_name": "LayoutModel",
            "_view_count": null,
            "_view_module": "@jupyter-widgets/base",
            "_view_module_version": "1.2.0",
            "_view_name": "LayoutView",
            "align_content": null,
            "align_items": null,
            "align_self": null,
            "border": null,
            "bottom": null,
            "display": null,
            "flex": null,
            "flex_flow": null,
            "grid_area": null,
            "grid_auto_columns": null,
            "grid_auto_flow": null,
            "grid_auto_rows": null,
            "grid_column": null,
            "grid_gap": null,
            "grid_row": null,
            "grid_template_areas": null,
            "grid_template_columns": null,
            "grid_template_rows": null,
            "height": null,
            "justify_content": null,
            "justify_items": null,
            "left": null,
            "margin": null,
            "max_height": null,
            "max_width": null,
            "min_height": null,
            "min_width": null,
            "object_fit": null,
            "object_position": null,
            "order": null,
            "overflow": null,
            "overflow_x": null,
            "overflow_y": null,
            "padding": null,
            "right": null,
            "top": null,
            "visibility": null,
            "width": null
          }
        },
        "4f45970329e24f16b3122393ea42ae61": {
          "model_module": "@jupyter-widgets/controls",
          "model_name": "DescriptionStyleModel",
          "model_module_version": "1.5.0",
          "state": {
            "_model_module": "@jupyter-widgets/controls",
            "_model_module_version": "1.5.0",
            "_model_name": "DescriptionStyleModel",
            "_view_count": null,
            "_view_module": "@jupyter-widgets/base",
            "_view_module_version": "1.2.0",
            "_view_name": "StyleView",
            "description_width": ""
          }
        },
        "00f5eb33d71644e3a2f850bff7a3103b": {
          "model_module": "@jupyter-widgets/controls",
          "model_name": "HBoxModel",
          "model_module_version": "1.5.0",
          "state": {
            "_dom_classes": [],
            "_model_module": "@jupyter-widgets/controls",
            "_model_module_version": "1.5.0",
            "_model_name": "HBoxModel",
            "_view_count": null,
            "_view_module": "@jupyter-widgets/controls",
            "_view_module_version": "1.5.0",
            "_view_name": "HBoxView",
            "box_style": "",
            "children": [
              "IPY_MODEL_13f0651285604294b77f5950bf8eb35b",
              "IPY_MODEL_16e9a78bf3884024ac1963d7478c060e",
              "IPY_MODEL_42f32d36c5b94cd5a7ab8c8ae397cecf"
            ],
            "layout": "IPY_MODEL_88de732e5f9b4e99a5ad13be33eb79a3"
          }
        },
        "13f0651285604294b77f5950bf8eb35b": {
          "model_module": "@jupyter-widgets/controls",
          "model_name": "HTMLModel",
          "model_module_version": "1.5.0",
          "state": {
            "_dom_classes": [],
            "_model_module": "@jupyter-widgets/controls",
            "_model_module_version": "1.5.0",
            "_model_name": "HTMLModel",
            "_view_count": null,
            "_view_module": "@jupyter-widgets/controls",
            "_view_module_version": "1.5.0",
            "_view_name": "HTMLView",
            "description": "",
            "description_tooltip": null,
            "layout": "IPY_MODEL_3b8dd8595a774ce8a3d36d2df5d41b18",
            "placeholder": "​",
            "style": "IPY_MODEL_f40bd005a80447bb9de4c842d58168fc",
            "value": "Downloading: 100%"
          }
        },
        "16e9a78bf3884024ac1963d7478c060e": {
          "model_module": "@jupyter-widgets/controls",
          "model_name": "FloatProgressModel",
          "model_module_version": "1.5.0",
          "state": {
            "_dom_classes": [],
            "_model_module": "@jupyter-widgets/controls",
            "_model_module_version": "1.5.0",
            "_model_name": "FloatProgressModel",
            "_view_count": null,
            "_view_module": "@jupyter-widgets/controls",
            "_view_module_version": "1.5.0",
            "_view_name": "ProgressView",
            "bar_style": "success",
            "description": "",
            "description_tooltip": null,
            "layout": "IPY_MODEL_d14ce61316354bd1a1dff82ad08506db",
            "max": 615,
            "min": 0,
            "orientation": "horizontal",
            "style": "IPY_MODEL_f5c7d665aad34081aa99d686f0bafff4",
            "value": 615
          }
        },
        "42f32d36c5b94cd5a7ab8c8ae397cecf": {
          "model_module": "@jupyter-widgets/controls",
          "model_name": "HTMLModel",
          "model_module_version": "1.5.0",
          "state": {
            "_dom_classes": [],
            "_model_module": "@jupyter-widgets/controls",
            "_model_module_version": "1.5.0",
            "_model_name": "HTMLModel",
            "_view_count": null,
            "_view_module": "@jupyter-widgets/controls",
            "_view_module_version": "1.5.0",
            "_view_name": "HTMLView",
            "description": "",
            "description_tooltip": null,
            "layout": "IPY_MODEL_ca7ce7ba631c4d978af051aa084d4df0",
            "placeholder": "​",
            "style": "IPY_MODEL_67e0c40e66354286ad4cdfc84fe5ca62",
            "value": " 615/615 [00:00&lt;00:00, 18.7kB/s]"
          }
        },
        "88de732e5f9b4e99a5ad13be33eb79a3": {
          "model_module": "@jupyter-widgets/base",
          "model_name": "LayoutModel",
          "model_module_version": "1.2.0",
          "state": {
            "_model_module": "@jupyter-widgets/base",
            "_model_module_version": "1.2.0",
            "_model_name": "LayoutModel",
            "_view_count": null,
            "_view_module": "@jupyter-widgets/base",
            "_view_module_version": "1.2.0",
            "_view_name": "LayoutView",
            "align_content": null,
            "align_items": null,
            "align_self": null,
            "border": null,
            "bottom": null,
            "display": null,
            "flex": null,
            "flex_flow": null,
            "grid_area": null,
            "grid_auto_columns": null,
            "grid_auto_flow": null,
            "grid_auto_rows": null,
            "grid_column": null,
            "grid_gap": null,
            "grid_row": null,
            "grid_template_areas": null,
            "grid_template_columns": null,
            "grid_template_rows": null,
            "height": null,
            "justify_content": null,
            "justify_items": null,
            "left": null,
            "margin": null,
            "max_height": null,
            "max_width": null,
            "min_height": null,
            "min_width": null,
            "object_fit": null,
            "object_position": null,
            "order": null,
            "overflow": null,
            "overflow_x": null,
            "overflow_y": null,
            "padding": null,
            "right": null,
            "top": null,
            "visibility": null,
            "width": null
          }
        },
        "3b8dd8595a774ce8a3d36d2df5d41b18": {
          "model_module": "@jupyter-widgets/base",
          "model_name": "LayoutModel",
          "model_module_version": "1.2.0",
          "state": {
            "_model_module": "@jupyter-widgets/base",
            "_model_module_version": "1.2.0",
            "_model_name": "LayoutModel",
            "_view_count": null,
            "_view_module": "@jupyter-widgets/base",
            "_view_module_version": "1.2.0",
            "_view_name": "LayoutView",
            "align_content": null,
            "align_items": null,
            "align_self": null,
            "border": null,
            "bottom": null,
            "display": null,
            "flex": null,
            "flex_flow": null,
            "grid_area": null,
            "grid_auto_columns": null,
            "grid_auto_flow": null,
            "grid_auto_rows": null,
            "grid_column": null,
            "grid_gap": null,
            "grid_row": null,
            "grid_template_areas": null,
            "grid_template_columns": null,
            "grid_template_rows": null,
            "height": null,
            "justify_content": null,
            "justify_items": null,
            "left": null,
            "margin": null,
            "max_height": null,
            "max_width": null,
            "min_height": null,
            "min_width": null,
            "object_fit": null,
            "object_position": null,
            "order": null,
            "overflow": null,
            "overflow_x": null,
            "overflow_y": null,
            "padding": null,
            "right": null,
            "top": null,
            "visibility": null,
            "width": null
          }
        },
        "f40bd005a80447bb9de4c842d58168fc": {
          "model_module": "@jupyter-widgets/controls",
          "model_name": "DescriptionStyleModel",
          "model_module_version": "1.5.0",
          "state": {
            "_model_module": "@jupyter-widgets/controls",
            "_model_module_version": "1.5.0",
            "_model_name": "DescriptionStyleModel",
            "_view_count": null,
            "_view_module": "@jupyter-widgets/base",
            "_view_module_version": "1.2.0",
            "_view_name": "StyleView",
            "description_width": ""
          }
        },
        "d14ce61316354bd1a1dff82ad08506db": {
          "model_module": "@jupyter-widgets/base",
          "model_name": "LayoutModel",
          "model_module_version": "1.2.0",
          "state": {
            "_model_module": "@jupyter-widgets/base",
            "_model_module_version": "1.2.0",
            "_model_name": "LayoutModel",
            "_view_count": null,
            "_view_module": "@jupyter-widgets/base",
            "_view_module_version": "1.2.0",
            "_view_name": "LayoutView",
            "align_content": null,
            "align_items": null,
            "align_self": null,
            "border": null,
            "bottom": null,
            "display": null,
            "flex": null,
            "flex_flow": null,
            "grid_area": null,
            "grid_auto_columns": null,
            "grid_auto_flow": null,
            "grid_auto_rows": null,
            "grid_column": null,
            "grid_gap": null,
            "grid_row": null,
            "grid_template_areas": null,
            "grid_template_columns": null,
            "grid_template_rows": null,
            "height": null,
            "justify_content": null,
            "justify_items": null,
            "left": null,
            "margin": null,
            "max_height": null,
            "max_width": null,
            "min_height": null,
            "min_width": null,
            "object_fit": null,
            "object_position": null,
            "order": null,
            "overflow": null,
            "overflow_x": null,
            "overflow_y": null,
            "padding": null,
            "right": null,
            "top": null,
            "visibility": null,
            "width": null
          }
        },
        "f5c7d665aad34081aa99d686f0bafff4": {
          "model_module": "@jupyter-widgets/controls",
          "model_name": "ProgressStyleModel",
          "model_module_version": "1.5.0",
          "state": {
            "_model_module": "@jupyter-widgets/controls",
            "_model_module_version": "1.5.0",
            "_model_name": "ProgressStyleModel",
            "_view_count": null,
            "_view_module": "@jupyter-widgets/base",
            "_view_module_version": "1.2.0",
            "_view_name": "StyleView",
            "bar_color": null,
            "description_width": ""
          }
        },
        "ca7ce7ba631c4d978af051aa084d4df0": {
          "model_module": "@jupyter-widgets/base",
          "model_name": "LayoutModel",
          "model_module_version": "1.2.0",
          "state": {
            "_model_module": "@jupyter-widgets/base",
            "_model_module_version": "1.2.0",
            "_model_name": "LayoutModel",
            "_view_count": null,
            "_view_module": "@jupyter-widgets/base",
            "_view_module_version": "1.2.0",
            "_view_name": "LayoutView",
            "align_content": null,
            "align_items": null,
            "align_self": null,
            "border": null,
            "bottom": null,
            "display": null,
            "flex": null,
            "flex_flow": null,
            "grid_area": null,
            "grid_auto_columns": null,
            "grid_auto_flow": null,
            "grid_auto_rows": null,
            "grid_column": null,
            "grid_gap": null,
            "grid_row": null,
            "grid_template_areas": null,
            "grid_template_columns": null,
            "grid_template_rows": null,
            "height": null,
            "justify_content": null,
            "justify_items": null,
            "left": null,
            "margin": null,
            "max_height": null,
            "max_width": null,
            "min_height": null,
            "min_width": null,
            "object_fit": null,
            "object_position": null,
            "order": null,
            "overflow": null,
            "overflow_x": null,
            "overflow_y": null,
            "padding": null,
            "right": null,
            "top": null,
            "visibility": null,
            "width": null
          }
        },
        "67e0c40e66354286ad4cdfc84fe5ca62": {
          "model_module": "@jupyter-widgets/controls",
          "model_name": "DescriptionStyleModel",
          "model_module_version": "1.5.0",
          "state": {
            "_model_module": "@jupyter-widgets/controls",
            "_model_module_version": "1.5.0",
            "_model_name": "DescriptionStyleModel",
            "_view_count": null,
            "_view_module": "@jupyter-widgets/base",
            "_view_module_version": "1.2.0",
            "_view_name": "StyleView",
            "description_width": ""
          }
        },
        "329988b4ccda47e8ba4992422a2d56a5": {
          "model_module": "@jupyter-widgets/controls",
          "model_name": "HBoxModel",
          "model_module_version": "1.5.0",
          "state": {
            "_dom_classes": [],
            "_model_module": "@jupyter-widgets/controls",
            "_model_module_version": "1.5.0",
            "_model_name": "HBoxModel",
            "_view_count": null,
            "_view_module": "@jupyter-widgets/controls",
            "_view_module_version": "1.5.0",
            "_view_name": "HBoxView",
            "box_style": "",
            "children": [
              "IPY_MODEL_235c74b719754218be274f931183e1a2",
              "IPY_MODEL_57e5c3132d034fc9b0917c684ef8da0c",
              "IPY_MODEL_d68ae32aa73e4030bb61e68f02dbf568"
            ],
            "layout": "IPY_MODEL_8d8f220e1e8d42ec92e1f85bab9d2b02"
          }
        },
        "235c74b719754218be274f931183e1a2": {
          "model_module": "@jupyter-widgets/controls",
          "model_name": "HTMLModel",
          "model_module_version": "1.5.0",
          "state": {
            "_dom_classes": [],
            "_model_module": "@jupyter-widgets/controls",
            "_model_module_version": "1.5.0",
            "_model_name": "HTMLModel",
            "_view_count": null,
            "_view_module": "@jupyter-widgets/controls",
            "_view_module_version": "1.5.0",
            "_view_name": "HTMLView",
            "description": "",
            "description_tooltip": null,
            "layout": "IPY_MODEL_e881b9d01fe048998118ff5d775f47e3",
            "placeholder": "​",
            "style": "IPY_MODEL_a73da6fc95b44c1cb615df63f73f9afa",
            "value": "Downloading: 100%"
          }
        },
        "57e5c3132d034fc9b0917c684ef8da0c": {
          "model_module": "@jupyter-widgets/controls",
          "model_name": "FloatProgressModel",
          "model_module_version": "1.5.0",
          "state": {
            "_dom_classes": [],
            "_model_module": "@jupyter-widgets/controls",
            "_model_module_version": "1.5.0",
            "_model_name": "FloatProgressModel",
            "_view_count": null,
            "_view_module": "@jupyter-widgets/controls",
            "_view_module_version": "1.5.0",
            "_view_name": "ProgressView",
            "bar_style": "success",
            "description": "",
            "description_tooltip": null,
            "layout": "IPY_MODEL_9f06c9321cee4baaba41d64fe7e2db8c",
            "max": 5069051,
            "min": 0,
            "orientation": "horizontal",
            "style": "IPY_MODEL_cba28ea031bb412197f91e04418b51f7",
            "value": 5069051
          }
        },
        "d68ae32aa73e4030bb61e68f02dbf568": {
          "model_module": "@jupyter-widgets/controls",
          "model_name": "HTMLModel",
          "model_module_version": "1.5.0",
          "state": {
            "_dom_classes": [],
            "_model_module": "@jupyter-widgets/controls",
            "_model_module_version": "1.5.0",
            "_model_name": "HTMLModel",
            "_view_count": null,
            "_view_module": "@jupyter-widgets/controls",
            "_view_module_version": "1.5.0",
            "_view_name": "HTMLView",
            "description": "",
            "description_tooltip": null,
            "layout": "IPY_MODEL_3c677a0621654de2a61a665b327d2917",
            "placeholder": "​",
            "style": "IPY_MODEL_c7905a00fb984c11a419b92601d6e2a1",
            "value": " 5.07M/5.07M [00:00&lt;00:00, 5.49MB/s]"
          }
        },
        "8d8f220e1e8d42ec92e1f85bab9d2b02": {
          "model_module": "@jupyter-widgets/base",
          "model_name": "LayoutModel",
          "model_module_version": "1.2.0",
          "state": {
            "_model_module": "@jupyter-widgets/base",
            "_model_module_version": "1.2.0",
            "_model_name": "LayoutModel",
            "_view_count": null,
            "_view_module": "@jupyter-widgets/base",
            "_view_module_version": "1.2.0",
            "_view_name": "LayoutView",
            "align_content": null,
            "align_items": null,
            "align_self": null,
            "border": null,
            "bottom": null,
            "display": null,
            "flex": null,
            "flex_flow": null,
            "grid_area": null,
            "grid_auto_columns": null,
            "grid_auto_flow": null,
            "grid_auto_rows": null,
            "grid_column": null,
            "grid_gap": null,
            "grid_row": null,
            "grid_template_areas": null,
            "grid_template_columns": null,
            "grid_template_rows": null,
            "height": null,
            "justify_content": null,
            "justify_items": null,
            "left": null,
            "margin": null,
            "max_height": null,
            "max_width": null,
            "min_height": null,
            "min_width": null,
            "object_fit": null,
            "object_position": null,
            "order": null,
            "overflow": null,
            "overflow_x": null,
            "overflow_y": null,
            "padding": null,
            "right": null,
            "top": null,
            "visibility": null,
            "width": null
          }
        },
        "e881b9d01fe048998118ff5d775f47e3": {
          "model_module": "@jupyter-widgets/base",
          "model_name": "LayoutModel",
          "model_module_version": "1.2.0",
          "state": {
            "_model_module": "@jupyter-widgets/base",
            "_model_module_version": "1.2.0",
            "_model_name": "LayoutModel",
            "_view_count": null,
            "_view_module": "@jupyter-widgets/base",
            "_view_module_version": "1.2.0",
            "_view_name": "LayoutView",
            "align_content": null,
            "align_items": null,
            "align_self": null,
            "border": null,
            "bottom": null,
            "display": null,
            "flex": null,
            "flex_flow": null,
            "grid_area": null,
            "grid_auto_columns": null,
            "grid_auto_flow": null,
            "grid_auto_rows": null,
            "grid_column": null,
            "grid_gap": null,
            "grid_row": null,
            "grid_template_areas": null,
            "grid_template_columns": null,
            "grid_template_rows": null,
            "height": null,
            "justify_content": null,
            "justify_items": null,
            "left": null,
            "margin": null,
            "max_height": null,
            "max_width": null,
            "min_height": null,
            "min_width": null,
            "object_fit": null,
            "object_position": null,
            "order": null,
            "overflow": null,
            "overflow_x": null,
            "overflow_y": null,
            "padding": null,
            "right": null,
            "top": null,
            "visibility": null,
            "width": null
          }
        },
        "a73da6fc95b44c1cb615df63f73f9afa": {
          "model_module": "@jupyter-widgets/controls",
          "model_name": "DescriptionStyleModel",
          "model_module_version": "1.5.0",
          "state": {
            "_model_module": "@jupyter-widgets/controls",
            "_model_module_version": "1.5.0",
            "_model_name": "DescriptionStyleModel",
            "_view_count": null,
            "_view_module": "@jupyter-widgets/base",
            "_view_module_version": "1.2.0",
            "_view_name": "StyleView",
            "description_width": ""
          }
        },
        "9f06c9321cee4baaba41d64fe7e2db8c": {
          "model_module": "@jupyter-widgets/base",
          "model_name": "LayoutModel",
          "model_module_version": "1.2.0",
          "state": {
            "_model_module": "@jupyter-widgets/base",
            "_model_module_version": "1.2.0",
            "_model_name": "LayoutModel",
            "_view_count": null,
            "_view_module": "@jupyter-widgets/base",
            "_view_module_version": "1.2.0",
            "_view_name": "LayoutView",
            "align_content": null,
            "align_items": null,
            "align_self": null,
            "border": null,
            "bottom": null,
            "display": null,
            "flex": null,
            "flex_flow": null,
            "grid_area": null,
            "grid_auto_columns": null,
            "grid_auto_flow": null,
            "grid_auto_rows": null,
            "grid_column": null,
            "grid_gap": null,
            "grid_row": null,
            "grid_template_areas": null,
            "grid_template_columns": null,
            "grid_template_rows": null,
            "height": null,
            "justify_content": null,
            "justify_items": null,
            "left": null,
            "margin": null,
            "max_height": null,
            "max_width": null,
            "min_height": null,
            "min_width": null,
            "object_fit": null,
            "object_position": null,
            "order": null,
            "overflow": null,
            "overflow_x": null,
            "overflow_y": null,
            "padding": null,
            "right": null,
            "top": null,
            "visibility": null,
            "width": null
          }
        },
        "cba28ea031bb412197f91e04418b51f7": {
          "model_module": "@jupyter-widgets/controls",
          "model_name": "ProgressStyleModel",
          "model_module_version": "1.5.0",
          "state": {
            "_model_module": "@jupyter-widgets/controls",
            "_model_module_version": "1.5.0",
            "_model_name": "ProgressStyleModel",
            "_view_count": null,
            "_view_module": "@jupyter-widgets/base",
            "_view_module_version": "1.2.0",
            "_view_name": "StyleView",
            "bar_color": null,
            "description_width": ""
          }
        },
        "3c677a0621654de2a61a665b327d2917": {
          "model_module": "@jupyter-widgets/base",
          "model_name": "LayoutModel",
          "model_module_version": "1.2.0",
          "state": {
            "_model_module": "@jupyter-widgets/base",
            "_model_module_version": "1.2.0",
            "_model_name": "LayoutModel",
            "_view_count": null,
            "_view_module": "@jupyter-widgets/base",
            "_view_module_version": "1.2.0",
            "_view_name": "LayoutView",
            "align_content": null,
            "align_items": null,
            "align_self": null,
            "border": null,
            "bottom": null,
            "display": null,
            "flex": null,
            "flex_flow": null,
            "grid_area": null,
            "grid_auto_columns": null,
            "grid_auto_flow": null,
            "grid_auto_rows": null,
            "grid_column": null,
            "grid_gap": null,
            "grid_row": null,
            "grid_template_areas": null,
            "grid_template_columns": null,
            "grid_template_rows": null,
            "height": null,
            "justify_content": null,
            "justify_items": null,
            "left": null,
            "margin": null,
            "max_height": null,
            "max_width": null,
            "min_height": null,
            "min_width": null,
            "object_fit": null,
            "object_position": null,
            "order": null,
            "overflow": null,
            "overflow_x": null,
            "overflow_y": null,
            "padding": null,
            "right": null,
            "top": null,
            "visibility": null,
            "width": null
          }
        },
        "c7905a00fb984c11a419b92601d6e2a1": {
          "model_module": "@jupyter-widgets/controls",
          "model_name": "DescriptionStyleModel",
          "model_module_version": "1.5.0",
          "state": {
            "_model_module": "@jupyter-widgets/controls",
            "_model_module_version": "1.5.0",
            "_model_name": "DescriptionStyleModel",
            "_view_count": null,
            "_view_module": "@jupyter-widgets/base",
            "_view_module_version": "1.2.0",
            "_view_name": "StyleView",
            "description_width": ""
          }
        },
        "844cd3d0400e46ccab0365ff083b8e32": {
          "model_module": "@jupyter-widgets/controls",
          "model_name": "HBoxModel",
          "model_module_version": "1.5.0",
          "state": {
            "_dom_classes": [],
            "_model_module": "@jupyter-widgets/controls",
            "_model_module_version": "1.5.0",
            "_model_name": "HBoxModel",
            "_view_count": null,
            "_view_module": "@jupyter-widgets/controls",
            "_view_module_version": "1.5.0",
            "_view_name": "HBoxView",
            "box_style": "",
            "children": [
              "IPY_MODEL_f70fd75c946540b89a318888c6cdba51",
              "IPY_MODEL_dc340d38fca94db191d5dadcb8ea0e6f",
              "IPY_MODEL_e8e4eccc2a4749c59973026209353245"
            ],
            "layout": "IPY_MODEL_4e05be54b9ac4f1f85e83ffe4c45e2c0"
          }
        },
        "f70fd75c946540b89a318888c6cdba51": {
          "model_module": "@jupyter-widgets/controls",
          "model_name": "HTMLModel",
          "model_module_version": "1.5.0",
          "state": {
            "_dom_classes": [],
            "_model_module": "@jupyter-widgets/controls",
            "_model_module_version": "1.5.0",
            "_model_name": "HTMLModel",
            "_view_count": null,
            "_view_module": "@jupyter-widgets/controls",
            "_view_module_version": "1.5.0",
            "_view_name": "HTMLView",
            "description": "",
            "description_tooltip": null,
            "layout": "IPY_MODEL_3df2dda2af934ce2885bf1093d2f3a62",
            "placeholder": "​",
            "style": "IPY_MODEL_c5063d8cb1b543d5bc6e6a7c5d38db62",
            "value": "Downloading: 100%"
          }
        },
        "dc340d38fca94db191d5dadcb8ea0e6f": {
          "model_module": "@jupyter-widgets/controls",
          "model_name": "FloatProgressModel",
          "model_module_version": "1.5.0",
          "state": {
            "_dom_classes": [],
            "_model_module": "@jupyter-widgets/controls",
            "_model_module_version": "1.5.0",
            "_model_name": "FloatProgressModel",
            "_view_count": null,
            "_view_module": "@jupyter-widgets/controls",
            "_view_module_version": "1.5.0",
            "_view_name": "ProgressView",
            "bar_style": "success",
            "description": "",
            "description_tooltip": null,
            "layout": "IPY_MODEL_c5bd7c882c314822817fcce60ff25df4",
            "max": 9096718,
            "min": 0,
            "orientation": "horizontal",
            "style": "IPY_MODEL_0e6ff52b4be4487fb4200a1dd037579b",
            "value": 9096718
          }
        },
        "e8e4eccc2a4749c59973026209353245": {
          "model_module": "@jupyter-widgets/controls",
          "model_name": "HTMLModel",
          "model_module_version": "1.5.0",
          "state": {
            "_dom_classes": [],
            "_model_module": "@jupyter-widgets/controls",
            "_model_module_version": "1.5.0",
            "_model_name": "HTMLModel",
            "_view_count": null,
            "_view_module": "@jupyter-widgets/controls",
            "_view_module_version": "1.5.0",
            "_view_name": "HTMLView",
            "description": "",
            "description_tooltip": null,
            "layout": "IPY_MODEL_8c401833c7a7493ab00131941858cdc5",
            "placeholder": "​",
            "style": "IPY_MODEL_a8ac3faca5874cae92727feafa2f97c8",
            "value": " 9.10M/9.10M [00:00&lt;00:00, 20.2MB/s]"
          }
        },
        "4e05be54b9ac4f1f85e83ffe4c45e2c0": {
          "model_module": "@jupyter-widgets/base",
          "model_name": "LayoutModel",
          "model_module_version": "1.2.0",
          "state": {
            "_model_module": "@jupyter-widgets/base",
            "_model_module_version": "1.2.0",
            "_model_name": "LayoutModel",
            "_view_count": null,
            "_view_module": "@jupyter-widgets/base",
            "_view_module_version": "1.2.0",
            "_view_name": "LayoutView",
            "align_content": null,
            "align_items": null,
            "align_self": null,
            "border": null,
            "bottom": null,
            "display": null,
            "flex": null,
            "flex_flow": null,
            "grid_area": null,
            "grid_auto_columns": null,
            "grid_auto_flow": null,
            "grid_auto_rows": null,
            "grid_column": null,
            "grid_gap": null,
            "grid_row": null,
            "grid_template_areas": null,
            "grid_template_columns": null,
            "grid_template_rows": null,
            "height": null,
            "justify_content": null,
            "justify_items": null,
            "left": null,
            "margin": null,
            "max_height": null,
            "max_width": null,
            "min_height": null,
            "min_width": null,
            "object_fit": null,
            "object_position": null,
            "order": null,
            "overflow": null,
            "overflow_x": null,
            "overflow_y": null,
            "padding": null,
            "right": null,
            "top": null,
            "visibility": null,
            "width": null
          }
        },
        "3df2dda2af934ce2885bf1093d2f3a62": {
          "model_module": "@jupyter-widgets/base",
          "model_name": "LayoutModel",
          "model_module_version": "1.2.0",
          "state": {
            "_model_module": "@jupyter-widgets/base",
            "_model_module_version": "1.2.0",
            "_model_name": "LayoutModel",
            "_view_count": null,
            "_view_module": "@jupyter-widgets/base",
            "_view_module_version": "1.2.0",
            "_view_name": "LayoutView",
            "align_content": null,
            "align_items": null,
            "align_self": null,
            "border": null,
            "bottom": null,
            "display": null,
            "flex": null,
            "flex_flow": null,
            "grid_area": null,
            "grid_auto_columns": null,
            "grid_auto_flow": null,
            "grid_auto_rows": null,
            "grid_column": null,
            "grid_gap": null,
            "grid_row": null,
            "grid_template_areas": null,
            "grid_template_columns": null,
            "grid_template_rows": null,
            "height": null,
            "justify_content": null,
            "justify_items": null,
            "left": null,
            "margin": null,
            "max_height": null,
            "max_width": null,
            "min_height": null,
            "min_width": null,
            "object_fit": null,
            "object_position": null,
            "order": null,
            "overflow": null,
            "overflow_x": null,
            "overflow_y": null,
            "padding": null,
            "right": null,
            "top": null,
            "visibility": null,
            "width": null
          }
        },
        "c5063d8cb1b543d5bc6e6a7c5d38db62": {
          "model_module": "@jupyter-widgets/controls",
          "model_name": "DescriptionStyleModel",
          "model_module_version": "1.5.0",
          "state": {
            "_model_module": "@jupyter-widgets/controls",
            "_model_module_version": "1.5.0",
            "_model_name": "DescriptionStyleModel",
            "_view_count": null,
            "_view_module": "@jupyter-widgets/base",
            "_view_module_version": "1.2.0",
            "_view_name": "StyleView",
            "description_width": ""
          }
        },
        "c5bd7c882c314822817fcce60ff25df4": {
          "model_module": "@jupyter-widgets/base",
          "model_name": "LayoutModel",
          "model_module_version": "1.2.0",
          "state": {
            "_model_module": "@jupyter-widgets/base",
            "_model_module_version": "1.2.0",
            "_model_name": "LayoutModel",
            "_view_count": null,
            "_view_module": "@jupyter-widgets/base",
            "_view_module_version": "1.2.0",
            "_view_name": "LayoutView",
            "align_content": null,
            "align_items": null,
            "align_self": null,
            "border": null,
            "bottom": null,
            "display": null,
            "flex": null,
            "flex_flow": null,
            "grid_area": null,
            "grid_auto_columns": null,
            "grid_auto_flow": null,
            "grid_auto_rows": null,
            "grid_column": null,
            "grid_gap": null,
            "grid_row": null,
            "grid_template_areas": null,
            "grid_template_columns": null,
            "grid_template_rows": null,
            "height": null,
            "justify_content": null,
            "justify_items": null,
            "left": null,
            "margin": null,
            "max_height": null,
            "max_width": null,
            "min_height": null,
            "min_width": null,
            "object_fit": null,
            "object_position": null,
            "order": null,
            "overflow": null,
            "overflow_x": null,
            "overflow_y": null,
            "padding": null,
            "right": null,
            "top": null,
            "visibility": null,
            "width": null
          }
        },
        "0e6ff52b4be4487fb4200a1dd037579b": {
          "model_module": "@jupyter-widgets/controls",
          "model_name": "ProgressStyleModel",
          "model_module_version": "1.5.0",
          "state": {
            "_model_module": "@jupyter-widgets/controls",
            "_model_module_version": "1.5.0",
            "_model_name": "ProgressStyleModel",
            "_view_count": null,
            "_view_module": "@jupyter-widgets/base",
            "_view_module_version": "1.2.0",
            "_view_name": "StyleView",
            "bar_color": null,
            "description_width": ""
          }
        },
        "8c401833c7a7493ab00131941858cdc5": {
          "model_module": "@jupyter-widgets/base",
          "model_name": "LayoutModel",
          "model_module_version": "1.2.0",
          "state": {
            "_model_module": "@jupyter-widgets/base",
            "_model_module_version": "1.2.0",
            "_model_name": "LayoutModel",
            "_view_count": null,
            "_view_module": "@jupyter-widgets/base",
            "_view_module_version": "1.2.0",
            "_view_name": "LayoutView",
            "align_content": null,
            "align_items": null,
            "align_self": null,
            "border": null,
            "bottom": null,
            "display": null,
            "flex": null,
            "flex_flow": null,
            "grid_area": null,
            "grid_auto_columns": null,
            "grid_auto_flow": null,
            "grid_auto_rows": null,
            "grid_column": null,
            "grid_gap": null,
            "grid_row": null,
            "grid_template_areas": null,
            "grid_template_columns": null,
            "grid_template_rows": null,
            "height": null,
            "justify_content": null,
            "justify_items": null,
            "left": null,
            "margin": null,
            "max_height": null,
            "max_width": null,
            "min_height": null,
            "min_width": null,
            "object_fit": null,
            "object_position": null,
            "order": null,
            "overflow": null,
            "overflow_x": null,
            "overflow_y": null,
            "padding": null,
            "right": null,
            "top": null,
            "visibility": null,
            "width": null
          }
        },
        "a8ac3faca5874cae92727feafa2f97c8": {
          "model_module": "@jupyter-widgets/controls",
          "model_name": "DescriptionStyleModel",
          "model_module_version": "1.5.0",
          "state": {
            "_model_module": "@jupyter-widgets/controls",
            "_model_module_version": "1.5.0",
            "_model_name": "DescriptionStyleModel",
            "_view_count": null,
            "_view_module": "@jupyter-widgets/base",
            "_view_module_version": "1.2.0",
            "_view_name": "StyleView",
            "description_width": ""
          }
        },
        "18bb5b8417b44affbd01e79e725de16b": {
          "model_module": "@jupyter-widgets/controls",
          "model_name": "HBoxModel",
          "model_module_version": "1.5.0",
          "state": {
            "_dom_classes": [],
            "_model_module": "@jupyter-widgets/controls",
            "_model_module_version": "1.5.0",
            "_model_name": "HBoxModel",
            "_view_count": null,
            "_view_module": "@jupyter-widgets/controls",
            "_view_module_version": "1.5.0",
            "_view_name": "HBoxView",
            "box_style": "",
            "children": [
              "IPY_MODEL_37a4d6e1e4d64ba2877d9b978570c8e8",
              "IPY_MODEL_d49cbca86d214c17afb45d24680cc6b1",
              "IPY_MODEL_2b9518db49d148c6a20337481ad973ef"
            ],
            "layout": "IPY_MODEL_f8445db0122240ada30fd53b3b79577b"
          }
        },
        "37a4d6e1e4d64ba2877d9b978570c8e8": {
          "model_module": "@jupyter-widgets/controls",
          "model_name": "HTMLModel",
          "model_module_version": "1.5.0",
          "state": {
            "_dom_classes": [],
            "_model_module": "@jupyter-widgets/controls",
            "_model_module_version": "1.5.0",
            "_model_name": "HTMLModel",
            "_view_count": null,
            "_view_module": "@jupyter-widgets/controls",
            "_view_module_version": "1.5.0",
            "_view_name": "HTMLView",
            "description": "",
            "description_tooltip": null,
            "layout": "IPY_MODEL_0810913ede5a4b109f1f372b9fe8f157",
            "placeholder": "​",
            "style": "IPY_MODEL_a0cf57c7770d487ab86246e434afe579",
            "value": "Downloading: 100%"
          }
        },
        "d49cbca86d214c17afb45d24680cc6b1": {
          "model_module": "@jupyter-widgets/controls",
          "model_name": "FloatProgressModel",
          "model_module_version": "1.5.0",
          "state": {
            "_dom_classes": [],
            "_model_module": "@jupyter-widgets/controls",
            "_model_module_version": "1.5.0",
            "_model_name": "FloatProgressModel",
            "_view_count": null,
            "_view_module": "@jupyter-widgets/controls",
            "_view_module_version": "1.5.0",
            "_view_name": "ProgressView",
            "bar_style": "success",
            "description": "",
            "description_tooltip": null,
            "layout": "IPY_MODEL_17b75ea8086a4410a22e8c2fa71cd4f8",
            "max": 1115590446,
            "min": 0,
            "orientation": "horizontal",
            "style": "IPY_MODEL_5d74b0539ef440d794216f321c02eb75",
            "value": 1115590446
          }
        },
        "2b9518db49d148c6a20337481ad973ef": {
          "model_module": "@jupyter-widgets/controls",
          "model_name": "HTMLModel",
          "model_module_version": "1.5.0",
          "state": {
            "_dom_classes": [],
            "_model_module": "@jupyter-widgets/controls",
            "_model_module_version": "1.5.0",
            "_model_name": "HTMLModel",
            "_view_count": null,
            "_view_module": "@jupyter-widgets/controls",
            "_view_module_version": "1.5.0",
            "_view_name": "HTMLView",
            "description": "",
            "description_tooltip": null,
            "layout": "IPY_MODEL_9aadb92277c84ebb81bc4123660aab4f",
            "placeholder": "​",
            "style": "IPY_MODEL_dd5c1129cf094148af15946f742994fd",
            "value": " 1.12G/1.12G [00:33&lt;00:00, 45.8MB/s]"
          }
        },
        "f8445db0122240ada30fd53b3b79577b": {
          "model_module": "@jupyter-widgets/base",
          "model_name": "LayoutModel",
          "model_module_version": "1.2.0",
          "state": {
            "_model_module": "@jupyter-widgets/base",
            "_model_module_version": "1.2.0",
            "_model_name": "LayoutModel",
            "_view_count": null,
            "_view_module": "@jupyter-widgets/base",
            "_view_module_version": "1.2.0",
            "_view_name": "LayoutView",
            "align_content": null,
            "align_items": null,
            "align_self": null,
            "border": null,
            "bottom": null,
            "display": null,
            "flex": null,
            "flex_flow": null,
            "grid_area": null,
            "grid_auto_columns": null,
            "grid_auto_flow": null,
            "grid_auto_rows": null,
            "grid_column": null,
            "grid_gap": null,
            "grid_row": null,
            "grid_template_areas": null,
            "grid_template_columns": null,
            "grid_template_rows": null,
            "height": null,
            "justify_content": null,
            "justify_items": null,
            "left": null,
            "margin": null,
            "max_height": null,
            "max_width": null,
            "min_height": null,
            "min_width": null,
            "object_fit": null,
            "object_position": null,
            "order": null,
            "overflow": null,
            "overflow_x": null,
            "overflow_y": null,
            "padding": null,
            "right": null,
            "top": null,
            "visibility": null,
            "width": null
          }
        },
        "0810913ede5a4b109f1f372b9fe8f157": {
          "model_module": "@jupyter-widgets/base",
          "model_name": "LayoutModel",
          "model_module_version": "1.2.0",
          "state": {
            "_model_module": "@jupyter-widgets/base",
            "_model_module_version": "1.2.0",
            "_model_name": "LayoutModel",
            "_view_count": null,
            "_view_module": "@jupyter-widgets/base",
            "_view_module_version": "1.2.0",
            "_view_name": "LayoutView",
            "align_content": null,
            "align_items": null,
            "align_self": null,
            "border": null,
            "bottom": null,
            "display": null,
            "flex": null,
            "flex_flow": null,
            "grid_area": null,
            "grid_auto_columns": null,
            "grid_auto_flow": null,
            "grid_auto_rows": null,
            "grid_column": null,
            "grid_gap": null,
            "grid_row": null,
            "grid_template_areas": null,
            "grid_template_columns": null,
            "grid_template_rows": null,
            "height": null,
            "justify_content": null,
            "justify_items": null,
            "left": null,
            "margin": null,
            "max_height": null,
            "max_width": null,
            "min_height": null,
            "min_width": null,
            "object_fit": null,
            "object_position": null,
            "order": null,
            "overflow": null,
            "overflow_x": null,
            "overflow_y": null,
            "padding": null,
            "right": null,
            "top": null,
            "visibility": null,
            "width": null
          }
        },
        "a0cf57c7770d487ab86246e434afe579": {
          "model_module": "@jupyter-widgets/controls",
          "model_name": "DescriptionStyleModel",
          "model_module_version": "1.5.0",
          "state": {
            "_model_module": "@jupyter-widgets/controls",
            "_model_module_version": "1.5.0",
            "_model_name": "DescriptionStyleModel",
            "_view_count": null,
            "_view_module": "@jupyter-widgets/base",
            "_view_module_version": "1.2.0",
            "_view_name": "StyleView",
            "description_width": ""
          }
        },
        "17b75ea8086a4410a22e8c2fa71cd4f8": {
          "model_module": "@jupyter-widgets/base",
          "model_name": "LayoutModel",
          "model_module_version": "1.2.0",
          "state": {
            "_model_module": "@jupyter-widgets/base",
            "_model_module_version": "1.2.0",
            "_model_name": "LayoutModel",
            "_view_count": null,
            "_view_module": "@jupyter-widgets/base",
            "_view_module_version": "1.2.0",
            "_view_name": "LayoutView",
            "align_content": null,
            "align_items": null,
            "align_self": null,
            "border": null,
            "bottom": null,
            "display": null,
            "flex": null,
            "flex_flow": null,
            "grid_area": null,
            "grid_auto_columns": null,
            "grid_auto_flow": null,
            "grid_auto_rows": null,
            "grid_column": null,
            "grid_gap": null,
            "grid_row": null,
            "grid_template_areas": null,
            "grid_template_columns": null,
            "grid_template_rows": null,
            "height": null,
            "justify_content": null,
            "justify_items": null,
            "left": null,
            "margin": null,
            "max_height": null,
            "max_width": null,
            "min_height": null,
            "min_width": null,
            "object_fit": null,
            "object_position": null,
            "order": null,
            "overflow": null,
            "overflow_x": null,
            "overflow_y": null,
            "padding": null,
            "right": null,
            "top": null,
            "visibility": null,
            "width": null
          }
        },
        "5d74b0539ef440d794216f321c02eb75": {
          "model_module": "@jupyter-widgets/controls",
          "model_name": "ProgressStyleModel",
          "model_module_version": "1.5.0",
          "state": {
            "_model_module": "@jupyter-widgets/controls",
            "_model_module_version": "1.5.0",
            "_model_name": "ProgressStyleModel",
            "_view_count": null,
            "_view_module": "@jupyter-widgets/base",
            "_view_module_version": "1.2.0",
            "_view_name": "StyleView",
            "bar_color": null,
            "description_width": ""
          }
        },
        "9aadb92277c84ebb81bc4123660aab4f": {
          "model_module": "@jupyter-widgets/base",
          "model_name": "LayoutModel",
          "model_module_version": "1.2.0",
          "state": {
            "_model_module": "@jupyter-widgets/base",
            "_model_module_version": "1.2.0",
            "_model_name": "LayoutModel",
            "_view_count": null,
            "_view_module": "@jupyter-widgets/base",
            "_view_module_version": "1.2.0",
            "_view_name": "LayoutView",
            "align_content": null,
            "align_items": null,
            "align_self": null,
            "border": null,
            "bottom": null,
            "display": null,
            "flex": null,
            "flex_flow": null,
            "grid_area": null,
            "grid_auto_columns": null,
            "grid_auto_flow": null,
            "grid_auto_rows": null,
            "grid_column": null,
            "grid_gap": null,
            "grid_row": null,
            "grid_template_areas": null,
            "grid_template_columns": null,
            "grid_template_rows": null,
            "height": null,
            "justify_content": null,
            "justify_items": null,
            "left": null,
            "margin": null,
            "max_height": null,
            "max_width": null,
            "min_height": null,
            "min_width": null,
            "object_fit": null,
            "object_position": null,
            "order": null,
            "overflow": null,
            "overflow_x": null,
            "overflow_y": null,
            "padding": null,
            "right": null,
            "top": null,
            "visibility": null,
            "width": null
          }
        },
        "dd5c1129cf094148af15946f742994fd": {
          "model_module": "@jupyter-widgets/controls",
          "model_name": "DescriptionStyleModel",
          "model_module_version": "1.5.0",
          "state": {
            "_model_module": "@jupyter-widgets/controls",
            "_model_module_version": "1.5.0",
            "_model_name": "DescriptionStyleModel",
            "_view_count": null,
            "_view_module": "@jupyter-widgets/base",
            "_view_module_version": "1.2.0",
            "_view_name": "StyleView",
            "description_width": ""
          }
        }
      }
    }
  },
  "cells": [
    {
      "cell_type": "code",
      "execution_count": 1,
      "metadata": {
        "colab": {
          "base_uri": "https://localhost:8080/"
        },
        "id": "wLkhfaiG7L6v",
        "outputId": "e64bbcd1-c24a-40fc-f713-494c704bf9db"
      },
      "outputs": [
        {
          "output_type": "stream",
          "name": "stdout",
          "text": [
            "\u001b[K     |████████████████████████████████| 4.9 MB 7.4 MB/s \n",
            "\u001b[K     |████████████████████████████████| 120 kB 62.8 MB/s \n",
            "\u001b[K     |████████████████████████████████| 6.6 MB 52.1 MB/s \n",
            "\u001b[K     |████████████████████████████████| 578.0 MB 17 kB/s \n",
            "\u001b[K     |████████████████████████████████| 5.9 MB 46.7 MB/s \n",
            "\u001b[K     |████████████████████████████████| 1.7 MB 54.2 MB/s \n",
            "\u001b[K     |████████████████████████████████| 438 kB 60.5 MB/s \n",
            "\u001b[K     |████████████████████████████████| 5.9 MB 46.6 MB/s \n",
            "\u001b[?25h  Building wheel for keras-nlp (setup.py) ... \u001b[?25l\u001b[?25hdone\n"
          ]
        }
      ],
      "source": [
        "!pip install transformers --quiet\n",
        "!pip install git+https://github.com/abheesht17/keras-nlp.git@xlm-r tensorflow tensorflow-text --upgrade --quiet"
      ]
    },
    {
      "cell_type": "code",
      "source": [
        "import json\n",
        "import os\n",
        "\n",
        "import keras_nlp\n",
        "import numpy as np\n",
        "\n",
        "import tensorflow as tf\n",
        "from tensorflow import keras\n",
        "\n",
        "import torch\n",
        "\n",
        "from keras_nlp.models.xlm_roberta import XLMRobertaPreprocessor\n",
        "from transformers import AutoTokenizer, AutoModel\n",
        "\n",
        "tf.__version__"
      ],
      "metadata": {
        "colab": {
          "base_uri": "https://localhost:8080/",
          "height": 105,
          "referenced_widgets": [
            "b9b80fac99ce421c9d3b674e4ef2283a",
            "4fafcf56fe264121b7ff5ee26d3898d7",
            "7f345f23004342be9afcf13b8bde19dd",
            "9d204b8fe175437e9100a86dcd225959",
            "021bffa80d4c43eca54de47520b44830",
            "d170be860a2e4b2caec95963d3da6861",
            "9c0042617289496698402a26fe3f60ee",
            "67e075ed0b56436384527028da674235",
            "d2d405e15d824a12a5e100ad7e740aff",
            "4da8625cbff34304848c72a1021dc5d7",
            "4f45970329e24f16b3122393ea42ae61"
          ]
        },
        "id": "9HVKyxun8lou",
        "outputId": "885f6201-5250-4771-ec8d-239549b17a2f"
      },
      "execution_count": 2,
      "outputs": [
        {
          "output_type": "execute_result",
          "data": {
            "text/plain": [
              "'2.10.0'"
            ],
            "application/vnd.google.colaboratory.intrinsic+json": {
              "type": "string"
            }
          },
          "metadata": {},
          "execution_count": 2
        }
      ]
    },
    {
      "cell_type": "code",
      "source": [
        "MODEL_SIZE = \"base\""
      ],
      "metadata": {
        "id": "ISQu2ycTyDHu"
      },
      "execution_count": 3,
      "outputs": []
    },
    {
      "cell_type": "code",
      "source": [
        "# Get the official checkpoints from fairseq.\n",
        "!wget \"https://dl.fbaipublicfiles.com/fairseq/models/xlmr.{MODEL_SIZE}.tar.gz\"\n",
        "!tar -xvf \"xlmr.{MODEL_SIZE}.tar.gz\""
      ],
      "metadata": {
        "colab": {
          "base_uri": "https://localhost:8080/"
        },
        "id": "ZDSNadi8edDk",
        "outputId": "ed4ac14a-7908-4cdb-bb96-7c9164d34584"
      },
      "execution_count": 4,
      "outputs": [
        {
          "output_type": "stream",
          "name": "stdout",
          "text": [
            "--2022-09-22 20:26:33--  https://dl.fbaipublicfiles.com/fairseq/models/xlmr.base.tar.gz\n",
            "Resolving dl.fbaipublicfiles.com (dl.fbaipublicfiles.com)... 172.67.9.4, 104.22.74.142, 104.22.75.142, ...\n",
            "Connecting to dl.fbaipublicfiles.com (dl.fbaipublicfiles.com)|172.67.9.4|:443... connected.\n",
            "HTTP request sent, awaiting response... 200 OK\n",
            "Length: 512274718 (489M) [application/gzip]\n",
            "Saving to: ‘xlmr.base.tar.gz’\n",
            "\n",
            "xlmr.base.tar.gz    100%[===================>] 488.54M  48.1MB/s    in 12s     \n",
            "\n",
            "2022-09-22 20:26:46 (40.3 MB/s) - ‘xlmr.base.tar.gz’ saved [512274718/512274718]\n",
            "\n",
            "xlmr.base/\n",
            "xlmr.base/dict.txt\n",
            "xlmr.base/sentencepiece.bpe.model\n",
            "xlmr.base/model.pt\n"
          ]
        }
      ]
    },
    {
      "cell_type": "code",
      "source": [
        "# XLM-R paths.\n",
        "extract_dir = f\"/content/xlmr.{MODEL_SIZE}\"\n",
        "spm_path = os.path.join(extract_dir, \"sentencepiece.bpe.model\")\n",
        "checkpoint_path = os.path.join(extract_dir, \"model.pt\")"
      ],
      "metadata": {
        "id": "PQjB9xYyLkT7"
      },
      "execution_count": 5,
      "outputs": []
    },
    {
      "cell_type": "code",
      "source": [
        "# Load PyTorch XLM-R checkpoint.\n",
        "pt_ckpt = torch.load(checkpoint_path, map_location=torch.device('cpu'))\n",
        "pt_cfg = pt_ckpt[\"args\"]\n",
        "pt_model = pt_ckpt['model']"
      ],
      "metadata": {
        "id": "UWfDRzaiL77h"
      },
      "execution_count": 6,
      "outputs": []
    },
    {
      "cell_type": "code",
      "source": [
        "pt_cfg"
      ],
      "metadata": {
        "colab": {
          "base_uri": "https://localhost:8080/"
        },
        "id": "W7D3ueVynr6t",
        "outputId": "915fc229-550b-4ad6-ed2a-08f0c0f72879"
      },
      "execution_count": 7,
      "outputs": [
        {
          "output_type": "execute_result",
          "data": {
            "text/plain": [
              "Namespace(activation_dropout=0.0, activation_fn='gelu', adam_betas='(0.9, 0.98)', adam_eps=1e-06, arch='roberta_base', attention_dropout=0.1, best_checkpoint_metric='loss', bpe=None, bucket_cap_mb=25, clip_norm=1.0, cpu=False, criterion='masked_lm', curriculum=0, dataset_impl=None, ddp_backend='c10d', device_id=0, disable_validation=False, distributed_backend='nccl', distributed_no_spawn=False, distributed_port=55498, distributed_rank=0, distributed_world_size=256, dropout=0.1, encoder_attention_heads=12, encoder_embed_dim=768, encoder_ffn_embed_dim=3072, encoder_layers=12, end_learning_rate=0.0, fast_stat_sync=True, find_unused_parameters=False, fix_batches_to_gpus=False, force_anneal=None, fp16=True, fp16_init_scale=128, fp16_scale_tolerance=0.0, fp16_scale_window=None, keep_interval_updates=-1, keep_last_epochs=-1, leave_unmasked_prob=0.1, log_format='json', log_interval=100, lr=[0.0006], lr_scheduler='polynomial_decay', mask_prob=0.15, max_epoch=0, max_positions=512, max_sentences=16, max_sentences_valid=16, max_tokens=8192, max_tokens_valid=8192, max_update=1500000, maximize_best_checkpoint_metric=False, memory_efficient_fp16=True, min_loss_scale=0.0001, min_lr=-1, multilang_sampling_alpha=0.7, no_epoch_checkpoints=True, no_last_checkpoints=False, no_progress_bar=False, no_save=False, no_save_optimizer_state=False, num_workers=2, optimizer='adam', optimizer_overrides='{}', pooler_activation_fn='tanh', pooler_dropout=0.0, power=1.0, random_token_prob=0.1, required_batch_size_multiple=8, reset_dataloader=False, reset_lr_scheduler=False, reset_meters=False, reset_optimizer=False, restore_file='checkpoint_last.pt', sample_break_mode='complete', save_interval=1, save_interval_updates=5000, seed=1, sentence_avg=False, skip_invalid_size_inputs_valid_test=True, task='multilingual_masked_lm', tbmf_wrapper=False, threshold_loss_scale=None, tokenizer=None, tokens_per_sample=512, total_num_update=1500000, train_subset='train', update_freq=[2], use_bmuf=False, user_dir=None, valid_subset='valid,valid_af_ZA,valid_am_ET,valid_ar_AR,valid_as_IN,valid_az_AZ,valid_be_BY,valid_bg_BG,valid_bn_IN,valid_bn_IN_rom,valid_br_FR,valid_bs_BA,valid_ca_ES,valid_cs_CZ,valid_cy_GB,valid_da_DK,valid_de_DE,valid_el_GR,valid_en_XX,valid_eo_EO,valid_es_XX,valid_et_EE,valid_eu_ES,valid_fa_IR,valid_fi_FI,valid_fr_XX,valid_fy_NL,valid_ga_IE,valid_gd_GB,valid_gl_ES,valid_gu_IN,valid_ha_NG,valid_he_IL,valid_hi_IN,valid_hi_IN_rom,valid_hr_HR,valid_hu_HU,valid_hy_AM,valid_id_ID,valid_is_IS,valid_it_IT,valid_ja_XX,valid_jv_ID,valid_ka_GE,valid_kk_KZ,valid_km_KH,valid_kn_IN,valid_ko_KR,valid_ku_TR,valid_ky_KG,valid_la_VA,valid_lo_LA,valid_lt_LT,valid_lv_LV,valid_mg_MG,valid_mk_MK,valid_ml_IN,valid_mn_MN,valid_mr_IN,valid_ms_MY,valid_my_MM,valid_my_MM_zaw,valid_ne_NP,valid_nl_XX,valid_no_XX,valid_om_KE,valid_or_IN,valid_pa_IN,valid_pl_PL,valid_ps_AF,valid_pt_XX,valid_ro_RO,valid_ru_RU,valid_sa_IN,valid_sd_PK,valid_si_LK,valid_sk_SK,valid_sl_SI,valid_so_SO,valid_sq_AL,valid_sr_RS,valid_su_ID,valid_sv_SE,valid_sw_KE,valid_ta_IN,valid_ta_IN_rom,valid_te_IN,valid_te_IN_rom,valid_th_TH,valid_tl_XX,valid_tr_TR,valid_ug_CN,valid_uk_UA,valid_ur_PK,valid_ur_PK_rom,valid_uz_UZ,valid_vi_VN,valid_xh_ZA,valid_yi_DE,valid_zh_CN,valid_zh_TW', validate_interval=5000, warmup_updates=15000, weight_decay=0.01)"
            ]
          },
          "metadata": {},
          "execution_count": 7
        }
      ]
    },
    {
      "cell_type": "code",
      "source": [
        "# Verify whether our preprocessor works okay.\n",
        "\n",
        "sample_input = \"cricket is awesome!\"\n",
        "\n",
        "xlm_roberta_preprocessor = XLMRobertaPreprocessor(\n",
        "    proto=spm_path,\n",
        "    sequence_length=pt_cfg.max_positions\n",
        ")\n",
        "\n",
        "hf_tokenizer = AutoTokenizer.from_pretrained(f\"xlm-roberta-{MODEL_SIZE}\")\n",
        "\n",
        "# The vocab size returned by our tokenizer is 250000. The vocab size\n",
        "# of the PT model is 250002. This makes sense if we consider `<pad>`\n",
        "# and shifting all indices by one.\n",
        "print(xlm_roberta_preprocessor.vocabulary_size())\n",
        "\n",
        "tok_sample = xlm_roberta_preprocessor(sample_input)\n",
        "hf_tok_sample = hf_tokenizer(sample_input, padding=\"max_length\")\n",
        "\n",
        "(\n",
        "    tok_sample[\"token_ids\"][:15],\n",
        "    hf_tok_sample[\"input_ids\"][:15],\n",
        "    tok_sample[\"padding_mask\"][:15],\n",
        "    hf_tok_sample[\"attention_mask\"][:15]\n",
        ")"
      ],
      "metadata": {
        "colab": {
          "base_uri": "https://localhost:8080/",
          "height": 279,
          "referenced_widgets": [
            "00f5eb33d71644e3a2f850bff7a3103b",
            "13f0651285604294b77f5950bf8eb35b",
            "16e9a78bf3884024ac1963d7478c060e",
            "42f32d36c5b94cd5a7ab8c8ae397cecf",
            "88de732e5f9b4e99a5ad13be33eb79a3",
            "3b8dd8595a774ce8a3d36d2df5d41b18",
            "f40bd005a80447bb9de4c842d58168fc",
            "d14ce61316354bd1a1dff82ad08506db",
            "f5c7d665aad34081aa99d686f0bafff4",
            "ca7ce7ba631c4d978af051aa084d4df0",
            "67e0c40e66354286ad4cdfc84fe5ca62",
            "329988b4ccda47e8ba4992422a2d56a5",
            "235c74b719754218be274f931183e1a2",
            "57e5c3132d034fc9b0917c684ef8da0c",
            "d68ae32aa73e4030bb61e68f02dbf568",
            "8d8f220e1e8d42ec92e1f85bab9d2b02",
            "e881b9d01fe048998118ff5d775f47e3",
            "a73da6fc95b44c1cb615df63f73f9afa",
            "9f06c9321cee4baaba41d64fe7e2db8c",
            "cba28ea031bb412197f91e04418b51f7",
            "3c677a0621654de2a61a665b327d2917",
            "c7905a00fb984c11a419b92601d6e2a1",
            "844cd3d0400e46ccab0365ff083b8e32",
            "f70fd75c946540b89a318888c6cdba51",
            "dc340d38fca94db191d5dadcb8ea0e6f",
            "e8e4eccc2a4749c59973026209353245",
            "4e05be54b9ac4f1f85e83ffe4c45e2c0",
            "3df2dda2af934ce2885bf1093d2f3a62",
            "c5063d8cb1b543d5bc6e6a7c5d38db62",
            "c5bd7c882c314822817fcce60ff25df4",
            "0e6ff52b4be4487fb4200a1dd037579b",
            "8c401833c7a7493ab00131941858cdc5",
            "a8ac3faca5874cae92727feafa2f97c8"
          ]
        },
        "id": "Ff2ymMrLK45B",
        "outputId": "5f0d84f2-dfed-419d-8b65-ccc934b078e5"
      },
      "execution_count": 8,
      "outputs": [
        {
          "output_type": "display_data",
          "data": {
            "text/plain": [
              "Downloading:   0%|          | 0.00/615 [00:00<?, ?B/s]"
            ],
            "application/vnd.jupyter.widget-view+json": {
              "version_major": 2,
              "version_minor": 0,
              "model_id": "00f5eb33d71644e3a2f850bff7a3103b"
            }
          },
          "metadata": {}
        },
        {
          "output_type": "display_data",
          "data": {
            "text/plain": [
              "Downloading:   0%|          | 0.00/5.07M [00:00<?, ?B/s]"
            ],
            "application/vnd.jupyter.widget-view+json": {
              "version_major": 2,
              "version_minor": 0,
              "model_id": "329988b4ccda47e8ba4992422a2d56a5"
            }
          },
          "metadata": {}
        },
        {
          "output_type": "display_data",
          "data": {
            "text/plain": [
              "Downloading:   0%|          | 0.00/9.10M [00:00<?, ?B/s]"
            ],
            "application/vnd.jupyter.widget-view+json": {
              "version_major": 2,
              "version_minor": 0,
              "model_id": "844cd3d0400e46ccab0365ff083b8e32"
            }
          },
          "metadata": {}
        },
        {
          "output_type": "stream",
          "name": "stdout",
          "text": [
            "250000\n"
          ]
        },
        {
          "output_type": "execute_result",
          "data": {
            "text/plain": [
              "(<tf.Tensor: shape=(15,), dtype=int32, numpy=\n",
              " array([    0, 13625, 27853,    83, 79929,    38,     2,     1,     1,\n",
              "            1,     1,     1,     1,     1,     1], dtype=int32)>,\n",
              " [0, 13625, 27853, 83, 79929, 38, 2, 1, 1, 1, 1, 1, 1, 1, 1],\n",
              " <tf.Tensor: shape=(15,), dtype=bool, numpy=\n",
              " array([ True,  True,  True,  True,  True,  True,  True, False, False,\n",
              "        False, False, False, False, False, False])>,\n",
              " [1, 1, 1, 1, 1, 1, 1, 0, 0, 0, 0, 0, 0, 0, 0])"
            ]
          },
          "metadata": {},
          "execution_count": 8
        }
      ]
    },
    {
      "cell_type": "code",
      "source": [
        "# Check multi-segment inputs.\n",
        "\n",
        "sample_input_1 = \"best in the world.\"\n",
        "\n",
        "tok_sample = xlm_roberta_preprocessor((sample_input, sample_input_1))\n",
        "\n",
        "hf_tok_sample = hf_tokenizer(sample_input, text_pair=sample_input_1, padding=\"max_length\")\n",
        "\n",
        "(\n",
        "    tok_sample[\"token_ids\"][:15],\n",
        "    hf_tok_sample[\"input_ids\"][:15],\n",
        "    tok_sample[\"padding_mask\"][:15],\n",
        "    hf_tok_sample[\"attention_mask\"][:15]\n",
        ")"
      ],
      "metadata": {
        "colab": {
          "base_uri": "https://localhost:8080/"
        },
        "id": "SRTQje8F2y5u",
        "outputId": "3416b487-9155-4a67-9fb9-b00050694b41"
      },
      "execution_count": 9,
      "outputs": [
        {
          "output_type": "execute_result",
          "data": {
            "text/plain": [
              "(<tf.Tensor: shape=(15,), dtype=int32, numpy=\n",
              " array([    0, 13625, 27853,    83, 79929,    38,     2,     2,  2965,\n",
              "           23,    70,  8999,     5,     2,     1], dtype=int32)>,\n",
              " [0, 13625, 27853, 83, 79929, 38, 2, 2, 2965, 23, 70, 8999, 5, 2, 1],\n",
              " <tf.Tensor: shape=(15,), dtype=bool, numpy=\n",
              " array([ True,  True,  True,  True,  True,  True,  True,  True,  True,\n",
              "         True,  True,  True,  True,  True, False])>,\n",
              " [1, 1, 1, 1, 1, 1, 1, 1, 1, 1, 1, 1, 1, 1, 0])"
            ]
          },
          "metadata": {},
          "execution_count": 9
        }
      ]
    },
    {
      "cell_type": "code",
      "source": [
        "cfg = {}\n",
        "\n",
        "cfg[\"num_layers\"] = pt_cfg.encoder_layers\n",
        "cfg[\"num_heads\"] = pt_cfg.encoder_attention_heads\n",
        "cfg[\"hidden_dim\"] = pt_cfg.encoder_embed_dim\n",
        "cfg[\"intermediate_dim\"] = pt_cfg.encoder_ffn_embed_dim\n",
        "cfg[\"dropout\"] = pt_cfg.dropout\n",
        "cfg[\"max_sequence_length\"] = pt_cfg.max_positions\n",
        "cfg[\"vocab_size\"] = pt_model[\"decoder.sentence_encoder.embed_tokens.weight\"].numpy().shape[0]\n",
        "\n",
        "cfg"
      ],
      "metadata": {
        "colab": {
          "base_uri": "https://localhost:8080/"
        },
        "id": "B9j7yl0eMM1w",
        "outputId": "c508b556-2bef-4c96-86bf-443aeacf489b"
      },
      "execution_count": 10,
      "outputs": [
        {
          "output_type": "execute_result",
          "data": {
            "text/plain": [
              "{'num_layers': 12,\n",
              " 'num_heads': 12,\n",
              " 'hidden_dim': 768,\n",
              " 'intermediate_dim': 3072,\n",
              " 'dropout': 0.1,\n",
              " 'max_sequence_length': 512,\n",
              " 'vocab_size': 250002}"
            ]
          },
          "metadata": {},
          "execution_count": 10
        }
      ]
    },
    {
      "cell_type": "code",
      "source": [
        "model = keras_nlp.models.XLMRobertaBase(weights=None, vocabulary_size=cfg[\"vocab_size\"])"
      ],
      "metadata": {
        "colab": {
          "base_uri": "https://localhost:8080/"
        },
        "id": "F8rEvbm68tUK",
        "outputId": "ef9843e4-ccac-4545-e524-38399a541811"
      },
      "execution_count": 11,
      "outputs": []
    },
    {
      "cell_type": "code",
      "source": [
        "model.summary()"
      ],
      "metadata": {
        "colab": {
          "base_uri": "https://localhost:8080/"
        },
        "id": "HeIOF53deaCf",
        "outputId": "0dc3c377-a71d-4bb3-f69e-4c8b18d6f854"
      },
      "execution_count": 12,
      "outputs": [
        {
          "output_type": "stream",
          "name": "stdout",
          "text": [
            "Model: \"xlm_roberta_custom\"\n",
            "__________________________________________________________________________________________________\n",
            " Layer (type)                   Output Shape         Param #     Connected to                     \n",
            "==================================================================================================\n",
            " token_ids (InputLayer)         [(None, None)]       0           []                               \n",
            "                                                                                                  \n",
            " embeddings (TokenAndPositionEm  (None, None, 768)   192394752   ['token_ids[0][0]']              \n",
            " bedding)                                                                                         \n",
            "                                                                                                  \n",
            " embeddings_layer_norm (LayerNo  (None, None, 768)   1536        ['embeddings[0][0]']             \n",
            " rmalization)                                                                                     \n",
            "                                                                                                  \n",
            " embeddings_dropout (Dropout)   (None, None, 768)    0           ['embeddings_layer_norm[0][0]']  \n",
            "                                                                                                  \n",
            " padding_mask (InputLayer)      [(None, None)]       0           []                               \n",
            "                                                                                                  \n",
            " transformer_layer_0 (Transform  (None, None, 768)   7087872     ['embeddings_dropout[0][0]',     \n",
            " erEncoder)                                                       'padding_mask[0][0]']           \n",
            "                                                                                                  \n",
            " transformer_layer_1 (Transform  (None, None, 768)   7087872     ['transformer_layer_0[0][0]',    \n",
            " erEncoder)                                                       'padding_mask[0][0]']           \n",
            "                                                                                                  \n",
            " transformer_layer_2 (Transform  (None, None, 768)   7087872     ['transformer_layer_1[0][0]',    \n",
            " erEncoder)                                                       'padding_mask[0][0]']           \n",
            "                                                                                                  \n",
            " transformer_layer_3 (Transform  (None, None, 768)   7087872     ['transformer_layer_2[0][0]',    \n",
            " erEncoder)                                                       'padding_mask[0][0]']           \n",
            "                                                                                                  \n",
            " transformer_layer_4 (Transform  (None, None, 768)   7087872     ['transformer_layer_3[0][0]',    \n",
            " erEncoder)                                                       'padding_mask[0][0]']           \n",
            "                                                                                                  \n",
            " transformer_layer_5 (Transform  (None, None, 768)   7087872     ['transformer_layer_4[0][0]',    \n",
            " erEncoder)                                                       'padding_mask[0][0]']           \n",
            "                                                                                                  \n",
            " transformer_layer_6 (Transform  (None, None, 768)   7087872     ['transformer_layer_5[0][0]',    \n",
            " erEncoder)                                                       'padding_mask[0][0]']           \n",
            "                                                                                                  \n",
            " transformer_layer_7 (Transform  (None, None, 768)   7087872     ['transformer_layer_6[0][0]',    \n",
            " erEncoder)                                                       'padding_mask[0][0]']           \n",
            "                                                                                                  \n",
            " transformer_layer_8 (Transform  (None, None, 768)   7087872     ['transformer_layer_7[0][0]',    \n",
            " erEncoder)                                                       'padding_mask[0][0]']           \n",
            "                                                                                                  \n",
            " transformer_layer_9 (Transform  (None, None, 768)   7087872     ['transformer_layer_8[0][0]',    \n",
            " erEncoder)                                                       'padding_mask[0][0]']           \n",
            "                                                                                                  \n",
            " transformer_layer_10 (Transfor  (None, None, 768)   7087872     ['transformer_layer_9[0][0]',    \n",
            " merEncoder)                                                      'padding_mask[0][0]']           \n",
            "                                                                                                  \n",
            " transformer_layer_11 (Transfor  (None, None, 768)   7087872     ['transformer_layer_10[0][0]',   \n",
            " merEncoder)                                                      'padding_mask[0][0]']           \n",
            "                                                                                                  \n",
            "==================================================================================================\n",
            "Total params: 277,450,752\n",
            "Trainable params: 277,450,752\n",
            "Non-trainable params: 0\n",
            "__________________________________________________________________________________________________\n"
          ]
        }
      ]
    },
    {
      "cell_type": "code",
      "source": [
        "# Embedding Layer.\n",
        "model.get_layer(\"embeddings\").token_embedding.embeddings.assign(\n",
        "    pt_model[\"decoder.sentence_encoder.embed_tokens.weight\"].numpy()\n",
        ")\n",
        "model.get_layer(\"embeddings\").position_embedding.position_embeddings.assign(\n",
        "    pt_model[\"decoder.sentence_encoder.embed_positions.weight\"].numpy()[2:, :]\n",
        ")\n",
        "\n",
        "# Embedding LayerNorm.\n",
        "model.get_layer(\"embeddings_layer_norm\").gamma.assign(\n",
        "    pt_model['decoder.sentence_encoder.emb_layer_norm.weight'].numpy()\n",
        ")\n",
        "model.get_layer(\"embeddings_layer_norm\").beta.assign(\n",
        "    pt_model['decoder.sentence_encoder.emb_layer_norm.bias'].numpy()\n",
        ")\n",
        "\n",
        "\n",
        "range_1 = (0, cfg[\"hidden_dim\"])\n",
        "range_2 = (cfg[\"hidden_dim\"], 2 * cfg[\"hidden_dim\"]) \n",
        "range_3 = (2 * cfg[\"hidden_dim\"], 3 * cfg[\"hidden_dim\"])\n",
        "\n",
        "# Transformer layers.\n",
        "for i in range(model.num_layers):\n",
        "    q_k_v_wts =  (\n",
        "        pt_model[f\"decoder.sentence_encoder.layers.{i}.self_attn.in_proj_weight\"].numpy().T\n",
        "    )\n",
        "    q_k_v_bias = (\n",
        "        pt_model[f\"decoder.sentence_encoder.layers.{i}.self_attn.in_proj_bias\"].numpy().T\n",
        "    )\n",
        "\n",
        "    # Query\n",
        "    model.get_layer(f\"transformer_layer_{i}\")._self_attention_layer._query_dense.kernel.assign(\n",
        "        q_k_v_wts[:, range_1[0]: range_1[1]].reshape((cfg[\"hidden_dim\"], cfg[\"num_heads\"], -1))\n",
        "    )\n",
        "    model.get_layer(f\"transformer_layer_{i}\")._self_attention_layer._query_dense.bias.assign(\n",
        "        q_k_v_bias[range_1[0]: range_1[1]].reshape((cfg[\"num_heads\"], -1))\n",
        "    )\n",
        "\n",
        "    # Key\n",
        "    model.get_layer(f\"transformer_layer_{i}\")._self_attention_layer._key_dense.kernel.assign(\n",
        "        q_k_v_wts[:, range_2[0]: range_2[1]].reshape((cfg[\"hidden_dim\"], cfg[\"num_heads\"], -1))\n",
        "    )\n",
        "    model.get_layer(f\"transformer_layer_{i}\")._self_attention_layer._key_dense.bias.assign(\n",
        "        q_k_v_bias[range_2[0]: range_2[1]].reshape((cfg[\"num_heads\"], -1))\n",
        "    )\n",
        "\n",
        "    # Value\n",
        "    model.get_layer(f\"transformer_layer_{i}\")._self_attention_layer._value_dense.kernel.assign(\n",
        "        q_k_v_wts[:, range_3[0]: range_3[1]].reshape((cfg[\"hidden_dim\"], cfg[\"num_heads\"], -1))\n",
        "    )\n",
        "    model.get_layer(f\"transformer_layer_{i}\")._self_attention_layer._value_dense.bias.assign(\n",
        "        q_k_v_bias[range_3[0]: range_3[1]].reshape((cfg[\"num_heads\"], -1))\n",
        "    )\n",
        "\n",
        "    # Attention output\n",
        "    attn_output_wts = (\n",
        "        pt_model[f'decoder.sentence_encoder.layers.{i}.self_attn.out_proj.weight'].numpy().T\n",
        "    )\n",
        "    model.get_layer(f\"transformer_layer_{i}\")._self_attention_layer._output_dense.kernel.assign(\n",
        "        attn_output_wts.reshape((cfg[\"num_heads\"], -1, cfg[\"hidden_dim\"]))\n",
        "    )\n",
        "    model.get_layer(f\"transformer_layer_{i}\")._self_attention_layer._output_dense.bias.assign(\n",
        "        pt_model[f'decoder.sentence_encoder.layers.{i}.self_attn.out_proj.bias'].numpy()\n",
        "    )\n",
        "\n",
        "    # Attention LayerNorm\n",
        "    model.get_layer(f\"transformer_layer_{i}\")._self_attention_layernorm.gamma.assign(\n",
        "        pt_model[f'decoder.sentence_encoder.layers.{i}.self_attn_layer_norm.weight'].numpy()\n",
        "    )\n",
        "    model.get_layer(f\"transformer_layer_{i}\")._self_attention_layernorm.beta.assign(\n",
        "        pt_model[f'decoder.sentence_encoder.layers.{i}.self_attn_layer_norm.bias'].numpy()\n",
        "    )\n",
        "\n",
        "    # Intermediate FF layer\n",
        "    model.get_layer(f\"transformer_layer_{i}\")._feedforward_intermediate_dense.kernel.assign(\n",
        "        pt_model[f'decoder.sentence_encoder.layers.{i}.fc1.weight'].numpy().T\n",
        "    )\n",
        "    model.get_layer(f\"transformer_layer_{i}\")._feedforward_intermediate_dense.bias.assign(\n",
        "        pt_model[f'decoder.sentence_encoder.layers.{i}.fc1.bias'].numpy()\n",
        "    )\n",
        "\n",
        "    # Output dense layer\n",
        "    model.get_layer(f\"transformer_layer_{i}\")._feedforward_output_dense.kernel.assign(\n",
        "        pt_model[f'decoder.sentence_encoder.layers.{i}.fc2.weight'].numpy().T\n",
        "    )\n",
        "    model.get_layer(f\"transformer_layer_{i}\")._feedforward_output_dense.bias.assign(\n",
        "        pt_model[f'decoder.sentence_encoder.layers.{i}.fc2.bias'].numpy()\n",
        "    )\n",
        "\n",
        "    # FF LayerNorm\n",
        "    model.get_layer(f\"transformer_layer_{i}\")._feedforward_layernorm.gamma.assign(\n",
        "        pt_model[f'decoder.sentence_encoder.layers.{i}.final_layer_norm.weight'].numpy()\n",
        "    )\n",
        "    model.get_layer(f\"transformer_layer_{i}\")._feedforward_layernorm.beta.assign(\n",
        "        pt_model[f'decoder.sentence_encoder.layers.{i}.final_layer_norm.bias'].numpy()\n",
        "    )\n"
      ],
      "metadata": {
        "id": "5EJaTSTXflyB"
      },
      "execution_count": 13,
      "outputs": []
    },
    {
      "cell_type": "code",
      "source": [
        "# Instantiate the HF model.\n",
        "\n",
        "hf_model = AutoModel.from_pretrained(f\"xlm-roberta-{MODEL_SIZE}\")\n",
        "hf_model.eval()\n",
        "pass"
      ],
      "metadata": {
        "colab": {
          "base_uri": "https://localhost:8080/",
          "height": 104,
          "referenced_widgets": [
            "18bb5b8417b44affbd01e79e725de16b",
            "37a4d6e1e4d64ba2877d9b978570c8e8",
            "d49cbca86d214c17afb45d24680cc6b1",
            "2b9518db49d148c6a20337481ad973ef",
            "f8445db0122240ada30fd53b3b79577b",
            "0810913ede5a4b109f1f372b9fe8f157",
            "a0cf57c7770d487ab86246e434afe579",
            "17b75ea8086a4410a22e8c2fa71cd4f8",
            "5d74b0539ef440d794216f321c02eb75",
            "9aadb92277c84ebb81bc4123660aab4f",
            "dd5c1129cf094148af15946f742994fd"
          ]
        },
        "id": "kYsGnEK54k8L",
        "outputId": "8ed2f5fe-9b2f-4d2f-a27a-fc505553cb2c"
      },
      "execution_count": 14,
      "outputs": [
        {
          "output_type": "display_data",
          "data": {
            "text/plain": [
              "Downloading:   0%|          | 0.00/1.12G [00:00<?, ?B/s]"
            ],
            "application/vnd.jupyter.widget-view+json": {
              "version_major": 2,
              "version_minor": 0,
              "model_id": "18bb5b8417b44affbd01e79e725de16b"
            }
          },
          "metadata": {}
        },
        {
          "output_type": "stream",
          "name": "stderr",
          "text": [
            "Some weights of the model checkpoint at xlm-roberta-base were not used when initializing XLMRobertaModel: ['lm_head.decoder.weight', 'lm_head.dense.weight', 'lm_head.layer_norm.weight', 'lm_head.bias', 'lm_head.layer_norm.bias', 'lm_head.dense.bias']\n",
            "- This IS expected if you are initializing XLMRobertaModel from the checkpoint of a model trained on another task or with another architecture (e.g. initializing a BertForSequenceClassification model from a BertForPreTraining model).\n",
            "- This IS NOT expected if you are initializing XLMRobertaModel from the checkpoint of a model that you expect to be exactly identical (initializing a BertForSequenceClassification model from a BertForSequenceClassification model).\n"
          ]
        }
      ]
    },
    {
      "cell_type": "code",
      "source": [
        "# Do a forward pass on both models and check whether the outputs match.\n",
        "\n",
        "sample_input = \"cricket is awesome! sachin is the goat hands-down.\"\n",
        "\n",
        "inputs = xlm_roberta_preprocessor(tf.constant(sample_input)[tf.newaxis])\n",
        "hf_inputs = hf_tokenizer([sample_input], padding=\"max_length\", return_tensors=\"pt\")\n",
        "\n",
        "keras_nlp_output = model.predict(inputs)\n",
        "hf_output = hf_model(**hf_inputs).last_hidden_state"
      ],
      "metadata": {
        "id": "Tgq0lGbeqtjy",
        "colab": {
          "base_uri": "https://localhost:8080/"
        },
        "outputId": "52910f53-95f9-4023-8098-46db6d15cf74"
      },
      "execution_count": 15,
      "outputs": [
        {
          "output_type": "stream",
          "name": "stdout",
          "text": [
            "1/1 [==============================] - 4s 4s/step\n"
          ]
        }
      ]
    },
    {
      "cell_type": "code",
      "source": [
        "keras_nlp_output[0, 0, :10], hf_output[0, 0, :10]"
      ],
      "metadata": {
        "id": "xU579WVQPwph",
        "colab": {
          "base_uri": "https://localhost:8080/"
        },
        "outputId": "090b51e5-1319-4985-afef-38e9aeb40cec"
      },
      "execution_count": 16,
      "outputs": [
        {
          "output_type": "execute_result",
          "data": {
            "text/plain": [
              "(array([ 0.12744462,  0.08904259,  0.05758653,  0.00650121,  0.08354896,\n",
              "        -0.03188083,  0.05017043, -0.05571432,  0.10335617, -0.12708372],\n",
              "       dtype=float32),\n",
              " tensor([ 0.1274,  0.0890,  0.0576,  0.0065,  0.0835, -0.0319,  0.0502, -0.0557,\n",
              "          0.1034, -0.1271], grad_fn=<SliceBackward0>))"
            ]
          },
          "metadata": {},
          "execution_count": 16
        }
      ]
    },
    {
      "cell_type": "code",
      "source": [
        "np.mean(keras_nlp_output - hf_output.detach().numpy())"
      ],
      "metadata": {
        "colab": {
          "base_uri": "https://localhost:8080/"
        },
        "id": "rfDrkiBq4Lz6",
        "outputId": "562ddde5-c2c0-4922-b606-6b2c5d17e823"
      },
      "execution_count": 17,
      "outputs": [
        {
          "output_type": "execute_result",
          "data": {
            "text/plain": [
              "1.8176232e-05"
            ]
          },
          "metadata": {},
          "execution_count": 17
        }
      ]
    },
    {
      "cell_type": "code",
      "source": [
        "# Save XLM-RoBERTa checkpoint.\n",
        "model.save_weights(f\"xlm_roberta_{MODEL_SIZE}.h5\")"
      ],
      "metadata": {
        "id": "UD-awaeR5pNY"
      },
      "execution_count": 18,
      "outputs": []
    },
    {
      "cell_type": "code",
      "source": [
        "model2 = keras_nlp.models.XLMRobertaBase(weights=None, vocabulary_size=cfg['vocab_size'])\n",
        "model2.load_weights(f\"xlm_roberta_{MODEL_SIZE}.h5\")"
      ],
      "metadata": {
        "id": "ai-GvxEn5zef"
      },
      "execution_count": 19,
      "outputs": []
    },
    {
      "cell_type": "code",
      "source": [
        "inputs = xlm_roberta_preprocessor(tf.constant(sample_input)[tf.newaxis])\n",
        "keras_nlp_output2 = model2.predict(inputs)\n",
        "\n",
        "tf.reduce_mean(keras_nlp_output - keras_nlp_output2)"
      ],
      "metadata": {
        "colab": {
          "base_uri": "https://localhost:8080/"
        },
        "id": "4a7-hH-h568I",
        "outputId": "6516bccd-5102-4958-e4e3-829a2cac5f88"
      },
      "execution_count": 20,
      "outputs": [
        {
          "output_type": "stream",
          "name": "stdout",
          "text": [
            "1/1 [==============================] - 2s 2s/step\n"
          ]
        },
        {
          "output_type": "execute_result",
          "data": {
            "text/plain": [
              "<tf.Tensor: shape=(), dtype=float32, numpy=0.0>"
            ]
          },
          "metadata": {},
          "execution_count": 20
        }
      ]
    },
    {
      "cell_type": "code",
      "source": [
        "# Obtain all the necessary files.\n",
        "\n",
        "!cp $spm_path /content"
      ],
      "metadata": {
        "id": "1ZuzizS06N3A"
      },
      "execution_count": 21,
      "outputs": []
    },
    {
      "cell_type": "code",
      "source": [
        "!md5sum /content/sentencepiece.bpe.model\n",
        "!md5sum \"/content/xlm_roberta_{MODEL_SIZE}.h5\""
      ],
      "metadata": {
        "colab": {
          "base_uri": "https://localhost:8080/"
        },
        "id": "3j8nYOMg6grw",
        "outputId": "1c7c2248-6534-4667-a874-f9d409a54b9a"
      },
      "execution_count": null,
      "outputs": [
        {
          "output_type": "stream",
          "name": "stdout",
          "text": [
            "bf25eb5120ad92ef5c7d8596b5dc4046  /content/sentencepiece.bpe.model\n",
            "2eb6fcda5a42f0a88056213ba3d93906  /content/xlm_roberta_base.h5\n"
          ]
        }
      ]
    },
    {
      "cell_type": "code",
      "source": [
        "sample_input = \"cricket is awesome! sachin is the goat hands-down.\"\n",
        "\n",
        "xlm_roberta_preprocessor_cloud = XLMRobertaPreprocessor(\n",
        "    proto=\"common_crawl\",\n",
        "    sequence_length=pt_cfg.max_positions\n",
        ")\n",
        "\n",
        "inputs = xlm_roberta_preprocessor_cloud(tf.constant(sample_input)[tf.newaxis])"
      ],
      "metadata": {
        "colab": {
          "base_uri": "https://localhost:8080/"
        },
        "id": "KHJdMX4d46gf",
        "outputId": "c8d2262b-96b7-4e1e-ddb4-53fcc166628a"
      },
      "execution_count": 22,
      "outputs": [
        {
          "output_type": "stream",
          "name": "stdout",
          "text": [
            "Downloading data from https://storage.googleapis.com/keras-nlp/models/xlm_roberta_base/vocab.spm\n",
            "5069051/5069051 [==============================] - 0s 0us/step\n"
          ]
        }
      ]
    },
    {
      "cell_type": "code",
      "execution_count": 24,
      "metadata": {
        "colab": {
          "base_uri": "https://localhost:8080/"
        },
        "id": "wTd-5vUyVG0Q",
        "outputId": "a974c97c-473e-43cd-a185-bc7795f06397"
      },
      "outputs": [
        {
          "output_type": "stream",
          "name": "stdout",
          "text": [
            "Downloading data from https://storage.googleapis.com/keras-nlp/models/xlm_roberta_base/model.h5\n",
            "1110028408/1110028408 [==============================] - 16s 0us/step\n"
          ]
        }
      ],
      "source": [
        "# Check uploaded model once added to repo\n",
        "model_cloud = keras_nlp.models.XLMRobertaBase(weights=\"xlm_roberta_base\")"
      ]
    },
    {
      "cell_type": "code",
      "execution_count": 25,
      "metadata": {
        "colab": {
          "base_uri": "https://localhost:8080/"
        },
        "id": "zs5x_f6GVdNY",
        "outputId": "2bce7292-0462-4641-a28d-24617f219e1d"
      },
      "outputs": [
        {
          "output_type": "stream",
          "name": "stdout",
          "text": [
            "1/1 [==============================] - 2s 2s/step\n"
          ]
        },
        {
          "output_type": "execute_result",
          "data": {
            "text/plain": [
              "<tf.Tensor: shape=(), dtype=float32, numpy=0.0>"
            ]
          },
          "metadata": {},
          "execution_count": 25
        }
      ],
      "source": [
        "# Same output from cloud model\n",
        "keras_nlp_output_cloud = model_cloud.predict(inputs)\n",
        "tf.reduce_mean(keras_nlp_output - keras_nlp_output_cloud)"
      ]
    },
    {
      "cell_type": "code",
      "execution_count": 26,
      "metadata": {
        "colab": {
          "base_uri": "https://localhost:8080/"
        },
        "id": "RAwrhAcSzHWa",
        "outputId": "d79345dd-df92-4140-80cc-3686aef0ea48"
      },
      "outputs": [
        {
          "output_type": "execute_result",
          "data": {
            "text/plain": [
              "array([ 0.12744462,  0.08904259,  0.05758653,  0.00650121,  0.08354896,\n",
              "       -0.03188083,  0.05017043, -0.05571432,  0.10335617, -0.12708372],\n",
              "      dtype=float32)"
            ]
          },
          "metadata": {},
          "execution_count": 26
        }
      ],
      "source": [
        "keras_nlp_output_cloud[0, 0, :10]"
      ]
    },
    {
      "cell_type": "code",
      "source": [],
      "metadata": {
        "id": "qMz3ShRY5Rul"
      },
      "execution_count": null,
      "outputs": []
    }
  ]
}